{
 "cells": [
  {
   "cell_type": "markdown",
   "id": "c2a41295",
   "metadata": {},
   "source": [
    "---"
   ]
  },
  {
   "cell_type": "markdown",
   "id": "0ddf280b",
   "metadata": {},
   "source": [
    "## Modelo de Regressão Random Forest"
   ]
  },
  {
   "cell_type": "markdown",
   "id": "36123965",
   "metadata": {},
   "source": [
    "---"
   ]
  },
  {
   "cell_type": "code",
   "execution_count": 22,
   "id": "97c66ab2",
   "metadata": {},
   "outputs": [],
   "source": [
    "import pandas as pd\n",
    "import numpy as np\n",
    "from sklearn.model_selection import train_test_split\n",
    "from sklearn.ensemble import RandomForestRegressor\n",
    "from sklearn.metrics import r2_score, mean_squared_error, mean_absolute_error"
   ]
  },
  {
   "cell_type": "code",
   "execution_count": null,
   "id": "cbfca6ab",
   "metadata": {},
   "outputs": [
    {
     "name": "stdout",
     "output_type": "stream",
     "text": [
      "\n",
      "--- Resultado Final ---\n",
      "R²: 0.8634\n",
      "MSE:  0.7000\n",
      "RMSE: 0.8367\n",
      "MAE:  0.5278\n"
     ]
    }
   ],
   "source": [
    "df = pd.read_csv('filmes_tratado_novas_features.csv')\n",
    "\n",
    "target_column = 'vote_average'\n",
    "features = [col for col in df.columns if col != target_column]\n",
    "X = df[features]\n",
    "y = df[target_column]\n",
    "\n",
    "X_train, X_test, y_train, y_test = train_test_split(X, y, test_size=0.2, random_state=42)\n",
    "rf_model = RandomForestRegressor(n_estimators=200, random_state=42, n_jobs=-1,\n",
    "                                 max_depth=15, min_samples_leaf=5, min_samples_split=10)\n",
    "rf_model.fit(X_train, y_train)\n",
    "y_pred = rf_model.predict(X_test)\n",
    "\n",
    "r2 = r2_score(y_test, y_pred)\n",
    "mse = mean_squared_error(y_test, y_pred)\n",
    "rmse = np.sqrt(mse)\n",
    "mae = mean_absolute_error(y_test, y_pred)\n",
    "\n",
    "print(f\"\\n--- Resultado Final ---\")\n",
    "print(f\"R²: {r2:.4f}\")\n",
    "print(f\"MSE:  {mse:.4f}\")\n",
    "print(f\"RMSE: {rmse:.4f}\")\n",
    "print(f\"MAE:  {mae:.4f}\")"
   ]
  },
  {
   "cell_type": "markdown",
   "id": "0ff352d7",
   "metadata": {},
   "source": [
    "---"
   ]
  },
  {
   "cell_type": "markdown",
   "id": "01086aad",
   "metadata": {},
   "source": [
    "## Modelo de Regressão XGBoost"
   ]
  },
  {
   "cell_type": "markdown",
   "id": "a9d81696",
   "metadata": {},
   "source": [
    "---"
   ]
  },
  {
   "cell_type": "code",
   "execution_count": null,
   "id": "a1cf09e5",
   "metadata": {},
   "outputs": [],
   "source": [
    "import pandas as pd\n",
    "import numpy as np\n",
    "import xgboost as xgb\n",
    "from sklearn.model_selection import train_test_split\n",
    "from sklearn.metrics import mean_squared_error, mean_absolute_error, r2_score"
   ]
  },
  {
   "cell_type": "code",
   "execution_count": 24,
   "id": "f919b614",
   "metadata": {},
   "outputs": [
    {
     "name": "stdout",
     "output_type": "stream",
     "text": [
      "\n",
      "Iniciando o treinamento do modelo XGBoost...\n",
      "Treinamento concluído!\n",
      "\n",
      "--- Resultado Final ---\n",
      "R²: 0.8688\n",
      "MSE:  3.2478\n",
      "RMSE: 0.8201\n",
      "MAE:  0.5307\n",
      "\n",
      "As 15 features mais importantes para o modelo:\n",
      "              feature  importance\n",
      "15         vote_count    0.461525\n",
      "19      genre_Western    0.043544\n",
      "4          popularity    0.040841\n",
      "13        genre_Drama    0.037443\n",
      "14    genre_Animation    0.036294\n",
      "27       genre_Action    0.033577\n",
      "7         has_tagline    0.025037\n",
      "12       genre_Horror    0.024290\n",
      "10            runtime    0.024080\n",
      "21       release_year    0.023557\n",
      "23          genre_War    0.020981\n",
      "26        genre_Music    0.020217\n",
      "3   genre_Documentary    0.020040\n",
      "1              budget    0.019022\n",
      "20      genre_History    0.016611\n"
     ]
    }
   ],
   "source": [
    "df = pd.read_csv('filmes_tratado_novas_features.csv')\n",
    "\n",
    "X = df.drop('vote_average', axis=1)\n",
    "y = df['vote_average']\n",
    "X = X.loc[:,~X.columns.duplicated()]\n",
    "X_train, X_test, y_train, y_test = train_test_split(X, y, test_size=0.2, random_state=42)\n",
    "\n",
    "xgbr = xgb.XGBRegressor(\n",
    "    objective='reg:squarederror',\n",
    "    n_estimators=1000,\n",
    "    learning_rate=0.05,\n",
    "    max_depth=6,\n",
    "    subsample=0.8,\n",
    "    colsample_bytree=0.8,\n",
    "    random_state=42,\n",
    "    n_jobs=-1,\n",
    "    early_stopping_rounds=50 \n",
    ")\n",
    "\n",
    "print(\"\\nIniciando o treinamento do modelo XGBoost...\")\n",
    "xgbr.fit(X_train, y_train,\n",
    "         eval_set=[(X_test, y_test)],\n",
    "         verbose=False)\n",
    "print(\"Treinamento concluído!\")\n",
    "\n",
    "# Predição e Avaliação\n",
    "y_pred = xgbr.predict(X_test)\n",
    "\n",
    "mae = mean_absolute_error(y_test, y_pred)\n",
    "rmse = np.sqrt(mean_squared_error(y_test, y_pred))\n",
    "r2 = r2_score(y_test, y_pred)\n",
    "\n",
    "print(f\"\\n--- Resultado Final ---\")\n",
    "print(f\"R²: {r2:.4f}\")\n",
    "print(f\"MSE:  {mse:.4f}\")\n",
    "print(f\"RMSE: {rmse:.4f}\")\n",
    "print(f\"MAE:  {mae:.4f}\")\n",
    "\n",
    "# Análise das Features\n",
    "feature_importances = pd.DataFrame({\n",
    "    'feature': X.columns,\n",
    "    'importance': xgbr.feature_importances_\n",
    "}).sort_values('importance', ascending=False)\n",
    "\n",
    "print(\"\\nAs 15 features mais importantes para o modelo:\")\n",
    "print(feature_importances.head(15))"
   ]
  }
 ],
 "metadata": {
  "kernelspec": {
   "display_name": ".venv",
   "language": "python",
   "name": "python3"
  },
  "language_info": {
   "codemirror_mode": {
    "name": "ipython",
    "version": 3
   },
   "file_extension": ".py",
   "mimetype": "text/x-python",
   "name": "python",
   "nbconvert_exporter": "python",
   "pygments_lexer": "ipython3",
   "version": "3.13.0"
  }
 },
 "nbformat": 4,
 "nbformat_minor": 5
}
