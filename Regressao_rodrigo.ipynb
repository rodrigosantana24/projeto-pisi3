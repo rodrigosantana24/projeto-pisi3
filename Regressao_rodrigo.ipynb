{
 "cells": [
  {
   "cell_type": "code",
   "execution_count": 1,
   "id": "70bb3ba4",
   "metadata": {},
   "outputs": [
    {
     "name": "stdout",
     "output_type": "stream",
     "text": [
      "R²: 0.5069\n",
      "MSE: 0.3986\n",
      "RMSE: 0.6313\n",
      "MAE: 0.4868\n"
     ]
    }
   ],
   "source": [
    "import pandas as pd\n",
    "import numpy as np\n",
    "from sklearn.model_selection import train_test_split\n",
    "from sklearn.metrics import r2_score, mean_squared_error, mean_absolute_error\n",
    "from xgboost import XGBRegressor\n",
    "\n",
    "df = pd.read_csv('filmes_gabriel.csv')\n",
    "\n",
    "\n",
    "df['log_budget'] = np.log1p(df['budget'])\n",
    "df['log_popularity'] = np.log1p(df['popularity'])\n",
    "\n",
    "# Interação entre budget e popularidade (ambos log)\n",
    "df['log_budget_popularity'] = df['log_budget'] * df['log_popularity']\n",
    "\n",
    "# Contagens existentes\n",
    "df['genre_count'] = df[['Action','Adventure','Animation','Comedy','Crime',\n",
    "                       'Documentary','Drama','Family','Fantasy','History',\n",
    "                       'Horror','Music','Mystery','Romance','Science Fiction',\n",
    "                       'TV Movie','Thriller','War','Western']].sum(axis=1)\n",
    "\n",
    "df['company_count'] = df[['20th Century Fox','Canal+','Columbia Pictures',\n",
    "                         'Goldwyn','Mayer','Metro','New Line Cinema',\n",
    "                         'Outros','Paramount','Universal Pictures',\n",
    "                         'Warner Bros. Pictures']].sum(axis=1)\n",
    "\n",
    "# Cíclicas para mês e estação\n",
    "df['season'] = df['release_month'] % 12 // 3 + 1\n",
    "df['month_sin'] = np.sin(2 * np.pi * df['release_month']/12)\n",
    "df['month_cos'] = np.cos(2 * np.pi * df['release_month']/12)\n",
    "\n",
    "# Estatísticas agregadas: média de vote_average por idioma e por estação\n",
    "lang_mean = df.groupby('original_language')['vote_average'].mean()\n",
    "season_mean = df.groupby('season')['vote_average'].mean()\n",
    "df['lang_mean_vote'] = df['original_language'].map(lang_mean)\n",
    "df['season_mean_vote'] = df['season'].map(season_mean)\n",
    "\n",
    "# Frequência de idioma\n",
    "lang_freq = df['original_language'].value_counts(normalize=True)\n",
    "df['lang_freq'] = df['original_language'].map(lang_freq)\n",
    "\n",
    "base_features = [\n",
    "    'log_budget', 'log_popularity', 'log_budget_popularity',\n",
    "    'runtime', 'release_year', 'season', 'month_sin', 'month_cos',\n",
    "    'genre_count', 'company_count', 'lang_freq',\n",
    "    'lang_mean_vote', 'season_mean_vote'\n",
    "]\n",
    "genre_cols = ['Action','Adventure','Animation','Comedy','Crime',\n",
    "              'Documentary','Drama','Family','Fantasy','History',\n",
    "              'Horror','Music','Mystery','Romance','Science Fiction',\n",
    "              'TV Movie','Thriller','War','Western']\n",
    "feature_cols = base_features + genre_cols\n",
    "\n",
    "X = df[feature_cols].fillna(0)\n",
    "y = df['vote_average']\n",
    "X_train, X_test, y_train, y_test = train_test_split(X, y, test_size=0.2, random_state=42)\n",
    "\n",
    "model = XGBRegressor(n_estimators=300, learning_rate=0.05, max_depth=6, subsample=0.8, colsample_bytree=0.8, random_state=42)\n",
    "model.fit(X_train, y_train)\n",
    "\n",
    "y_pred = model.predict(X_test)\n",
    "r2 = r2_score(y_test, y_pred)\n",
    "mse = mean_squared_error(y_test, y_pred)\n",
    "rmse = np.sqrt(mse)\n",
    "mae = mean_absolute_error(y_test, y_pred)\n",
    "print(f\"R²: {r2:.4f}\")\n",
    "print(f\"MSE: {mse:.4f}\")\n",
    "print(f\"RMSE: {rmse:.4f}\")\n",
    "print(f\"MAE: {mae:.4f}\")\n",
    "\n"
   ]
  },
  {
   "cell_type": "code",
   "execution_count": null,
   "id": "cbfca6ab",
   "metadata": {},
   "outputs": [
    {
     "name": "stdout",
     "output_type": "stream",
     "text": [
      "Treinando o modelo RandomForest com os dados tratados...\n",
      "\n",
      "--- Resultado Final ---\n",
      "R²: 0.8672\n",
      "MSE:  0.6808\n",
      "RMSE: 0.8251\n",
      "MAE:  0.5231\n"
     ]
    }
   ],
   "source": [
    "from sklearn.model_selection import train_test_split\n",
    "from sklearn.ensemble import RandomForestRegressor\n",
    "from sklearn.metrics import r2_score, mean_squared_error, mean_absolute_error\n",
    "\n",
    "df = pd.read_csv('filmes_tratado.csv')\n",
    "\n",
    "target_column = 'vote_average'\n",
    "features = [col for col in df.columns if col != target_column]\n",
    "X = df[features]\n",
    "y = df[target_column]\n",
    "\n",
    "\n",
    "# Treinamento e Avaliação do Modelo\n",
    "X_train, X_test, y_train, y_test = train_test_split(X, y, test_size=0.2, random_state=42)\n",
    "rf_model = RandomForestRegressor(n_estimators=200, random_state=42, n_jobs=-1,\n",
    "                                 max_depth=15, min_samples_leaf=5, min_samples_split=10)\n",
    "\n",
    "rf_model.fit(X_train, y_train)\n",
    "y_pred = rf_model.predict(X_test)\n",
    "\n",
    "\n",
    "r2 = r2_score(y_test, y_pred)\n",
    "mse = mean_squared_error(y_test, y_pred)\n",
    "rmse = np.sqrt(mse)\n",
    "mae = mean_absolute_error(y_test, y_pred)\n",
    "\n",
    "print(f\"\\n--- Resultado Final ---\")\n",
    "print(f\"R²: {r2:.4f}\")\n",
    "print(f\"MSE:  {mse:.4f}\")\n",
    "print(f\"RMSE: {rmse:.4f}\")\n",
    "print(f\"MAE:  {mae:.4f}\")"
   ]
  }
 ],
 "metadata": {
  "kernelspec": {
   "display_name": ".venv",
   "language": "python",
   "name": "python3"
  },
  "language_info": {
   "codemirror_mode": {
    "name": "ipython",
    "version": 3
   },
   "file_extension": ".py",
   "mimetype": "text/x-python",
   "name": "python",
   "nbconvert_exporter": "python",
   "pygments_lexer": "ipython3",
   "version": "3.13.0"
  }
 },
 "nbformat": 4,
 "nbformat_minor": 5
}
