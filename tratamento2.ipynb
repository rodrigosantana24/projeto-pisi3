{
 "cells": [
  {
   "cell_type": "markdown",
   "id": "42460047",
   "metadata": {},
   "source": [
    "## Importações "
   ]
  },
  {
   "cell_type": "code",
   "execution_count": 2,
   "id": "18baa7d6",
   "metadata": {},
   "outputs": [],
   "source": [
    "#pip install pandas matplotlib scikit-learn"
   ]
  },
  {
   "cell_type": "code",
   "execution_count": 3,
   "id": "042014d8",
   "metadata": {},
   "outputs": [],
   "source": [
    "import pandas as pd\n",
    "from sklearn.preprocessing import MultiLabelBinarizer"
   ]
  },
  {
   "cell_type": "code",
   "execution_count": 4,
   "id": "a6179909",
   "metadata": {},
   "outputs": [],
   "source": [
    "df =  pd.read_csv(\"movies.csv\")"
   ]
  },
  {
   "cell_type": "markdown",
   "id": "2d846c8c",
   "metadata": {},
   "source": [
    "## Filtros"
   ]
  },
  {
   "cell_type": "markdown",
   "id": "1337f851",
   "metadata": {},
   "source": [
    "### Filmes ja lançados (status = Released)\n",
    "Filmes que ainda não foram lançados não possuem dados importantes para a análise"
   ]
  },
  {
   "cell_type": "code",
   "execution_count": 5,
   "id": "0d6ed15f",
   "metadata": {},
   "outputs": [
    {
     "name": "stdout",
     "output_type": "stream",
     "text": [
      "Registros perdidos com o filtro: 5223\n"
     ]
    }
   ],
   "source": [
    "registros_antes = len(df)\n",
    "df = df[df['status'] == 'Released']\n",
    "registros_depois = len(df)\n",
    "print(f\"Registros perdidos com o filtro: {registros_antes - registros_depois}\")"
   ]
  },
  {
   "cell_type": "markdown",
   "id": "6de6927d",
   "metadata": {},
   "source": [
    "### Registros duplicados\n",
    "Não faz sentido ter o mesmo filme mais de uma vez"
   ]
  },
  {
   "cell_type": "code",
   "execution_count": 6,
   "id": "c07e97bd",
   "metadata": {},
   "outputs": [
    {
     "name": "stdout",
     "output_type": "stream",
     "text": [
      "Registros perdidos com o filtro: 0\n"
     ]
    }
   ],
   "source": [
    "registros_antes = len(df)\n",
    "df = df.drop_duplicates()\n",
    "registros_depois = len(df)\n",
    "print(f\"Registros perdidos com o filtro: {registros_antes - registros_depois}\")"
   ]
  },
  {
   "cell_type": "markdown",
   "id": "ee41b493",
   "metadata": {},
   "source": [
    "#### Duplicados por titulo e data de lançamento"
   ]
  },
  {
   "cell_type": "code",
   "execution_count": 7,
   "id": "c20b4c30",
   "metadata": {
    "vscode": {
     "languageId": "ruby"
    }
   },
   "outputs": [
    {
     "data": {
      "text/html": [
       "<div>\n",
       "<style scoped>\n",
       "    .dataframe tbody tr th:only-of-type {\n",
       "        vertical-align: middle;\n",
       "    }\n",
       "\n",
       "    .dataframe tbody tr th {\n",
       "        vertical-align: top;\n",
       "    }\n",
       "\n",
       "    .dataframe thead th {\n",
       "        text-align: right;\n",
       "    }\n",
       "</style>\n",
       "<table border=\"1\" class=\"dataframe\">\n",
       "  <thead>\n",
       "    <tr style=\"text-align: right;\">\n",
       "      <th></th>\n",
       "      <th>id</th>\n",
       "      <th>title</th>\n",
       "      <th>genres</th>\n",
       "      <th>original_language</th>\n",
       "      <th>overview</th>\n",
       "      <th>popularity</th>\n",
       "      <th>production_companies</th>\n",
       "      <th>release_date</th>\n",
       "      <th>budget</th>\n",
       "      <th>revenue</th>\n",
       "      <th>runtime</th>\n",
       "      <th>status</th>\n",
       "      <th>tagline</th>\n",
       "      <th>vote_average</th>\n",
       "      <th>vote_count</th>\n",
       "      <th>credits</th>\n",
       "      <th>keywords</th>\n",
       "      <th>poster_path</th>\n",
       "      <th>backdrop_path</th>\n",
       "      <th>recommendations</th>\n",
       "    </tr>\n",
       "  </thead>\n",
       "  <tbody>\n",
       "    <tr>\n",
       "      <th>126</th>\n",
       "      <td>785521</td>\n",
       "      <td>Battle: Freestyle</td>\n",
       "      <td>Romance-Drama</td>\n",
       "      <td>no</td>\n",
       "      <td>Amalie and Mikael lead their street dance team...</td>\n",
       "      <td>333.723</td>\n",
       "      <td>Friland Produksjon AS</td>\n",
       "      <td>2022-04-01</td>\n",
       "      <td>0.0</td>\n",
       "      <td>0.0</td>\n",
       "      <td>88.0</td>\n",
       "      <td>Released</td>\n",
       "      <td>NaN</td>\n",
       "      <td>5.1</td>\n",
       "      <td>28.0</td>\n",
       "      <td>Lisa Teige-Fabian Svegaard Tapia-Ellen Dorrit ...</td>\n",
       "      <td>paris france-based on novel or book-norway-dan...</td>\n",
       "      <td>/6D6QumiHEhnpZG12Ibjy2BxA6n4.jpg</td>\n",
       "      <td>/8WpRRiz3qQqzBiifCTm1dW0b6bs.jpg</td>\n",
       "      <td>818750-790525-800407-739993-946726-682344-9532...</td>\n",
       "    </tr>\n",
       "    <tr>\n",
       "      <th>198</th>\n",
       "      <td>785521</td>\n",
       "      <td>Battle: Freestyle</td>\n",
       "      <td>Romance-Drama</td>\n",
       "      <td>no</td>\n",
       "      <td>Amalie and Mikael lead their street dance team...</td>\n",
       "      <td>238.540</td>\n",
       "      <td>Friland Produksjon AS</td>\n",
       "      <td>2022-04-01</td>\n",
       "      <td>0.0</td>\n",
       "      <td>0.0</td>\n",
       "      <td>88.0</td>\n",
       "      <td>Released</td>\n",
       "      <td>NaN</td>\n",
       "      <td>5.1</td>\n",
       "      <td>30.0</td>\n",
       "      <td>Lisa Teige-Fabian Svegaard Tapia-Ellen Dorrit ...</td>\n",
       "      <td>paris france-based on novel or book-norway-dan...</td>\n",
       "      <td>/6D6QumiHEhnpZG12Ibjy2BxA6n4.jpg</td>\n",
       "      <td>/8WpRRiz3qQqzBiifCTm1dW0b6bs.jpg</td>\n",
       "      <td>818750-790525-800407-739993-946726-682344-9532...</td>\n",
       "    </tr>\n",
       "    <tr>\n",
       "      <th>234</th>\n",
       "      <td>785521</td>\n",
       "      <td>Battle: Freestyle</td>\n",
       "      <td>Romance-Drama</td>\n",
       "      <td>no</td>\n",
       "      <td>Amalie and Mikael lead their street dance team...</td>\n",
       "      <td>210.928</td>\n",
       "      <td>Friland Produksjon AS</td>\n",
       "      <td>2022-04-01</td>\n",
       "      <td>0.0</td>\n",
       "      <td>0.0</td>\n",
       "      <td>88.0</td>\n",
       "      <td>Released</td>\n",
       "      <td>NaN</td>\n",
       "      <td>5.1</td>\n",
       "      <td>30.0</td>\n",
       "      <td>Lisa Teige-Fabian Svegaard Tapia-Ellen Dorrit ...</td>\n",
       "      <td>paris france-based on novel or book-norway-dan...</td>\n",
       "      <td>/6D6QumiHEhnpZG12Ibjy2BxA6n4.jpg</td>\n",
       "      <td>/8WpRRiz3qQqzBiifCTm1dW0b6bs.jpg</td>\n",
       "      <td>818750-790525-800407-739993-946726-682344-9532...</td>\n",
       "    </tr>\n",
       "    <tr>\n",
       "      <th>13</th>\n",
       "      <td>956101</td>\n",
       "      <td>The Eighth Clause</td>\n",
       "      <td>Thriller</td>\n",
       "      <td>la</td>\n",
       "      <td>Kat and Borja appear to be a perfect couple bu...</td>\n",
       "      <td>2259.303</td>\n",
       "      <td>SDB Films-El Hombre Orquesta</td>\n",
       "      <td>2022-04-29</td>\n",
       "      <td>0.0</td>\n",
       "      <td>0.0</td>\n",
       "      <td>0.0</td>\n",
       "      <td>Released</td>\n",
       "      <td>NaN</td>\n",
       "      <td>4.6</td>\n",
       "      <td>10.0</td>\n",
       "      <td>Maite Perroni-Manuel Vega-Óscar Jaenada-Jessic...</td>\n",
       "      <td>NaN</td>\n",
       "      <td>/8tc8eMFAX2SDC1TRu987qFQy8Cl.jpg</td>\n",
       "      <td>/kLnqNE9Af5QHyvUxw8cDGhF1ilv.jpg</td>\n",
       "      <td>NaN</td>\n",
       "    </tr>\n",
       "    <tr>\n",
       "      <th>15815</th>\n",
       "      <td>841524</td>\n",
       "      <td>The Eighth Clause</td>\n",
       "      <td>Drama-Thriller</td>\n",
       "      <td>es</td>\n",
       "      <td>Kat and Borja appear to be a perfect couple bu...</td>\n",
       "      <td>10.293</td>\n",
       "      <td>SDB Films-El Hombre Orquesta-Expansión Films E...</td>\n",
       "      <td>2022-04-29</td>\n",
       "      <td>0.0</td>\n",
       "      <td>0.0</td>\n",
       "      <td>80.0</td>\n",
       "      <td>Released</td>\n",
       "      <td>NaN</td>\n",
       "      <td>4.2</td>\n",
       "      <td>6.0</td>\n",
       "      <td>Maite Perroni-Manuel Vega-Óscar Jaenada-Jessic...</td>\n",
       "      <td>NaN</td>\n",
       "      <td>/5CbVMeLvaGn87gx05waiIJ0JySr.jpg</td>\n",
       "      <td>/uA0nUh1JerC4TkNiTzwS4B5kjTN.jpg</td>\n",
       "      <td>769636-346651-324542-343674-227970</td>\n",
       "    </tr>\n",
       "  </tbody>\n",
       "</table>\n",
       "</div>"
      ],
      "text/plain": [
       "           id              title          genres original_language  \\\n",
       "126    785521  Battle: Freestyle   Romance-Drama                no   \n",
       "198    785521  Battle: Freestyle   Romance-Drama                no   \n",
       "234    785521  Battle: Freestyle   Romance-Drama                no   \n",
       "13     956101  The Eighth Clause        Thriller                la   \n",
       "15815  841524  The Eighth Clause  Drama-Thriller                es   \n",
       "\n",
       "                                                overview  popularity  \\\n",
       "126    Amalie and Mikael lead their street dance team...     333.723   \n",
       "198    Amalie and Mikael lead their street dance team...     238.540   \n",
       "234    Amalie and Mikael lead their street dance team...     210.928   \n",
       "13     Kat and Borja appear to be a perfect couple bu...    2259.303   \n",
       "15815  Kat and Borja appear to be a perfect couple bu...      10.293   \n",
       "\n",
       "                                    production_companies release_date  budget  \\\n",
       "126                                Friland Produksjon AS   2022-04-01     0.0   \n",
       "198                                Friland Produksjon AS   2022-04-01     0.0   \n",
       "234                                Friland Produksjon AS   2022-04-01     0.0   \n",
       "13                          SDB Films-El Hombre Orquesta   2022-04-29     0.0   \n",
       "15815  SDB Films-El Hombre Orquesta-Expansión Films E...   2022-04-29     0.0   \n",
       "\n",
       "       revenue  runtime    status tagline  vote_average  vote_count  \\\n",
       "126        0.0     88.0  Released     NaN           5.1        28.0   \n",
       "198        0.0     88.0  Released     NaN           5.1        30.0   \n",
       "234        0.0     88.0  Released     NaN           5.1        30.0   \n",
       "13         0.0      0.0  Released     NaN           4.6        10.0   \n",
       "15815      0.0     80.0  Released     NaN           4.2         6.0   \n",
       "\n",
       "                                                 credits  \\\n",
       "126    Lisa Teige-Fabian Svegaard Tapia-Ellen Dorrit ...   \n",
       "198    Lisa Teige-Fabian Svegaard Tapia-Ellen Dorrit ...   \n",
       "234    Lisa Teige-Fabian Svegaard Tapia-Ellen Dorrit ...   \n",
       "13     Maite Perroni-Manuel Vega-Óscar Jaenada-Jessic...   \n",
       "15815  Maite Perroni-Manuel Vega-Óscar Jaenada-Jessic...   \n",
       "\n",
       "                                                keywords  \\\n",
       "126    paris france-based on novel or book-norway-dan...   \n",
       "198    paris france-based on novel or book-norway-dan...   \n",
       "234    paris france-based on novel or book-norway-dan...   \n",
       "13                                                   NaN   \n",
       "15815                                                NaN   \n",
       "\n",
       "                            poster_path                     backdrop_path  \\\n",
       "126    /6D6QumiHEhnpZG12Ibjy2BxA6n4.jpg  /8WpRRiz3qQqzBiifCTm1dW0b6bs.jpg   \n",
       "198    /6D6QumiHEhnpZG12Ibjy2BxA6n4.jpg  /8WpRRiz3qQqzBiifCTm1dW0b6bs.jpg   \n",
       "234    /6D6QumiHEhnpZG12Ibjy2BxA6n4.jpg  /8WpRRiz3qQqzBiifCTm1dW0b6bs.jpg   \n",
       "13     /8tc8eMFAX2SDC1TRu987qFQy8Cl.jpg  /kLnqNE9Af5QHyvUxw8cDGhF1ilv.jpg   \n",
       "15815  /5CbVMeLvaGn87gx05waiIJ0JySr.jpg  /uA0nUh1JerC4TkNiTzwS4B5kjTN.jpg   \n",
       "\n",
       "                                         recommendations  \n",
       "126    818750-790525-800407-739993-946726-682344-9532...  \n",
       "198    818750-790525-800407-739993-946726-682344-9532...  \n",
       "234    818750-790525-800407-739993-946726-682344-9532...  \n",
       "13                                                   NaN  \n",
       "15815                 769636-346651-324542-343674-227970  "
      ]
     },
     "execution_count": 7,
     "metadata": {},
     "output_type": "execute_result"
    }
   ],
   "source": [
    "duplicados = df[df.duplicated(subset=['title', 'release_date'], keep=False)]\n",
    "exemplo = df[df['title'].isin(['The Eighth Clause', 'Battle: Freestyle'])].sort_values(by='title')\n",
    "exemplo.head(10)"
   ]
  },
  {
   "cell_type": "code",
   "execution_count": 8,
   "id": "206514bb",
   "metadata": {},
   "outputs": [
    {
     "name": "stdout",
     "output_type": "stream",
     "text": [
      "Registros perdidos com o filtro: 61422\n"
     ]
    }
   ],
   "source": [
    "registros_antes = len(df)\n",
    "df = df.drop_duplicates(subset=['title', 'release_date'])\n",
    "registros_depois = len(df)\n",
    "print(f\"Registros perdidos com o filtro: {registros_antes - registros_depois}\")"
   ]
  },
  {
   "cell_type": "code",
   "execution_count": 9,
   "id": "d5159607",
   "metadata": {},
   "outputs": [
    {
     "data": {
      "text/html": [
       "<div>\n",
       "<style scoped>\n",
       "    .dataframe tbody tr th:only-of-type {\n",
       "        vertical-align: middle;\n",
       "    }\n",
       "\n",
       "    .dataframe tbody tr th {\n",
       "        vertical-align: top;\n",
       "    }\n",
       "\n",
       "    .dataframe thead th {\n",
       "        text-align: right;\n",
       "    }\n",
       "</style>\n",
       "<table border=\"1\" class=\"dataframe\">\n",
       "  <thead>\n",
       "    <tr style=\"text-align: right;\">\n",
       "      <th></th>\n",
       "      <th>id</th>\n",
       "      <th>title</th>\n",
       "      <th>genres</th>\n",
       "      <th>original_language</th>\n",
       "      <th>overview</th>\n",
       "      <th>popularity</th>\n",
       "      <th>production_companies</th>\n",
       "      <th>release_date</th>\n",
       "      <th>budget</th>\n",
       "      <th>revenue</th>\n",
       "      <th>runtime</th>\n",
       "      <th>status</th>\n",
       "      <th>tagline</th>\n",
       "      <th>vote_average</th>\n",
       "      <th>vote_count</th>\n",
       "      <th>credits</th>\n",
       "      <th>keywords</th>\n",
       "      <th>poster_path</th>\n",
       "      <th>backdrop_path</th>\n",
       "      <th>recommendations</th>\n",
       "    </tr>\n",
       "  </thead>\n",
       "  <tbody>\n",
       "    <tr>\n",
       "      <th>126</th>\n",
       "      <td>785521</td>\n",
       "      <td>Battle: Freestyle</td>\n",
       "      <td>Romance-Drama</td>\n",
       "      <td>no</td>\n",
       "      <td>Amalie and Mikael lead their street dance team...</td>\n",
       "      <td>333.723</td>\n",
       "      <td>Friland Produksjon AS</td>\n",
       "      <td>2022-04-01</td>\n",
       "      <td>0.0</td>\n",
       "      <td>0.0</td>\n",
       "      <td>88.0</td>\n",
       "      <td>Released</td>\n",
       "      <td>NaN</td>\n",
       "      <td>5.1</td>\n",
       "      <td>28.0</td>\n",
       "      <td>Lisa Teige-Fabian Svegaard Tapia-Ellen Dorrit ...</td>\n",
       "      <td>paris france-based on novel or book-norway-dan...</td>\n",
       "      <td>/6D6QumiHEhnpZG12Ibjy2BxA6n4.jpg</td>\n",
       "      <td>/8WpRRiz3qQqzBiifCTm1dW0b6bs.jpg</td>\n",
       "      <td>818750-790525-800407-739993-946726-682344-9532...</td>\n",
       "    </tr>\n",
       "    <tr>\n",
       "      <th>13</th>\n",
       "      <td>956101</td>\n",
       "      <td>The Eighth Clause</td>\n",
       "      <td>Thriller</td>\n",
       "      <td>la</td>\n",
       "      <td>Kat and Borja appear to be a perfect couple bu...</td>\n",
       "      <td>2259.303</td>\n",
       "      <td>SDB Films-El Hombre Orquesta</td>\n",
       "      <td>2022-04-29</td>\n",
       "      <td>0.0</td>\n",
       "      <td>0.0</td>\n",
       "      <td>0.0</td>\n",
       "      <td>Released</td>\n",
       "      <td>NaN</td>\n",
       "      <td>4.6</td>\n",
       "      <td>10.0</td>\n",
       "      <td>Maite Perroni-Manuel Vega-Óscar Jaenada-Jessic...</td>\n",
       "      <td>NaN</td>\n",
       "      <td>/8tc8eMFAX2SDC1TRu987qFQy8Cl.jpg</td>\n",
       "      <td>/kLnqNE9Af5QHyvUxw8cDGhF1ilv.jpg</td>\n",
       "      <td>NaN</td>\n",
       "    </tr>\n",
       "  </tbody>\n",
       "</table>\n",
       "</div>"
      ],
      "text/plain": [
       "         id              title         genres original_language  \\\n",
       "126  785521  Battle: Freestyle  Romance-Drama                no   \n",
       "13   956101  The Eighth Clause       Thriller                la   \n",
       "\n",
       "                                              overview  popularity  \\\n",
       "126  Amalie and Mikael lead their street dance team...     333.723   \n",
       "13   Kat and Borja appear to be a perfect couple bu...    2259.303   \n",
       "\n",
       "             production_companies release_date  budget  revenue  runtime  \\\n",
       "126         Friland Produksjon AS   2022-04-01     0.0      0.0     88.0   \n",
       "13   SDB Films-El Hombre Orquesta   2022-04-29     0.0      0.0      0.0   \n",
       "\n",
       "       status tagline  vote_average  vote_count  \\\n",
       "126  Released     NaN           5.1        28.0   \n",
       "13   Released     NaN           4.6        10.0   \n",
       "\n",
       "                                               credits  \\\n",
       "126  Lisa Teige-Fabian Svegaard Tapia-Ellen Dorrit ...   \n",
       "13   Maite Perroni-Manuel Vega-Óscar Jaenada-Jessic...   \n",
       "\n",
       "                                              keywords  \\\n",
       "126  paris france-based on novel or book-norway-dan...   \n",
       "13                                                 NaN   \n",
       "\n",
       "                          poster_path                     backdrop_path  \\\n",
       "126  /6D6QumiHEhnpZG12Ibjy2BxA6n4.jpg  /8WpRRiz3qQqzBiifCTm1dW0b6bs.jpg   \n",
       "13   /8tc8eMFAX2SDC1TRu987qFQy8Cl.jpg  /kLnqNE9Af5QHyvUxw8cDGhF1ilv.jpg   \n",
       "\n",
       "                                       recommendations  \n",
       "126  818750-790525-800407-739993-946726-682344-9532...  \n",
       "13                                                 NaN  "
      ]
     },
     "execution_count": 9,
     "metadata": {},
     "output_type": "execute_result"
    }
   ],
   "source": [
    "exemplo = df[df['title'].isin(['The Eighth Clause', 'Battle: Freestyle'])].sort_values(by='title')\n",
    "exemplo.head(10)"
   ]
  },
  {
   "cell_type": "markdown",
   "id": "6f0fa7da",
   "metadata": {},
   "source": [
    "### Budget > 0\n",
    "Filmes com budget igual a 0 ou negativo, representam inconssitência com as informações, trazendo erros para a analise"
   ]
  },
  {
   "cell_type": "code",
   "execution_count": 10,
   "id": "06e89e52",
   "metadata": {},
   "outputs": [
    {
     "name": "stdout",
     "output_type": "stream",
     "text": [
      "Registros perdidos com o filtro: 622512\n"
     ]
    }
   ],
   "source": [
    "registros_antes = len(df)\n",
    "df = df[df['budget'] > 0]\n",
    "registros_depois = len(df)\n",
    "print(f\"Registros perdidos com o filtro: {registros_antes - registros_depois}\")\n"
   ]
  },
  {
   "cell_type": "code",
   "execution_count": 11,
   "id": "391433b6",
   "metadata": {},
   "outputs": [
    {
     "data": {
      "text/html": [
       "<div>\n",
       "<style scoped>\n",
       "    .dataframe tbody tr th:only-of-type {\n",
       "        vertical-align: middle;\n",
       "    }\n",
       "\n",
       "    .dataframe tbody tr th {\n",
       "        vertical-align: top;\n",
       "    }\n",
       "\n",
       "    .dataframe thead th {\n",
       "        text-align: right;\n",
       "    }\n",
       "</style>\n",
       "<table border=\"1\" class=\"dataframe\">\n",
       "  <thead>\n",
       "    <tr style=\"text-align: right;\">\n",
       "      <th></th>\n",
       "      <th>title</th>\n",
       "      <th>budget</th>\n",
       "    </tr>\n",
       "  </thead>\n",
       "  <tbody>\n",
       "    <tr>\n",
       "      <th>1484</th>\n",
       "      <td>Onsen porno chitai</td>\n",
       "      <td>1.0</td>\n",
       "    </tr>\n",
       "    <tr>\n",
       "      <th>2288</th>\n",
       "      <td>Down</td>\n",
       "      <td>1.0</td>\n",
       "    </tr>\n",
       "    <tr>\n",
       "      <th>4072</th>\n",
       "      <td>All About Lily Chou-Chou</td>\n",
       "      <td>1.0</td>\n",
       "    </tr>\n",
       "    <tr>\n",
       "      <th>11110</th>\n",
       "      <td>Punga</td>\n",
       "      <td>1.0</td>\n",
       "    </tr>\n",
       "    <tr>\n",
       "      <th>12715</th>\n",
       "      <td>One Dollar</td>\n",
       "      <td>1.0</td>\n",
       "    </tr>\n",
       "    <tr>\n",
       "      <th>14876</th>\n",
       "      <td>PSYCHOTROPIA</td>\n",
       "      <td>1.0</td>\n",
       "    </tr>\n",
       "    <tr>\n",
       "      <th>23820</th>\n",
       "      <td>Subject</td>\n",
       "      <td>1.0</td>\n",
       "    </tr>\n",
       "    <tr>\n",
       "      <th>28413</th>\n",
       "      <td>Hush</td>\n",
       "      <td>1.0</td>\n",
       "    </tr>\n",
       "    <tr>\n",
       "      <th>31892</th>\n",
       "      <td>The Guv'nor</td>\n",
       "      <td>1.0</td>\n",
       "    </tr>\n",
       "    <tr>\n",
       "      <th>37160</th>\n",
       "      <td>The Haunting of Alcatraz</td>\n",
       "      <td>1.0</td>\n",
       "    </tr>\n",
       "  </tbody>\n",
       "</table>\n",
       "</div>"
      ],
      "text/plain": [
       "                          title  budget\n",
       "1484         Onsen porno chitai     1.0\n",
       "2288                       Down     1.0\n",
       "4072   All About Lily Chou-Chou     1.0\n",
       "11110                     Punga     1.0\n",
       "12715                One Dollar     1.0\n",
       "14876              PSYCHOTROPIA     1.0\n",
       "23820                   Subject     1.0\n",
       "28413                      Hush     1.0\n",
       "31892               The Guv'nor     1.0\n",
       "37160  The Haunting of Alcatraz     1.0"
      ]
     },
     "execution_count": 11,
     "metadata": {},
     "output_type": "execute_result"
    }
   ],
   "source": [
    "df.nsmallest(10, 'budget')[['title', 'budget']]"
   ]
  },
  {
   "cell_type": "markdown",
   "id": "a7e9a5b3",
   "metadata": {},
   "source": [
    "Subject \n",
    "The Haunting of Alcatraz "
   ]
  },
  {
   "cell_type": "code",
   "execution_count": 12,
   "id": "1dbf3d89",
   "metadata": {},
   "outputs": [
    {
     "name": "stdout",
     "output_type": "stream",
     "text": [
      "<class 'pandas.core.frame.DataFrame'>\n",
      "Index: 33160 entries, 0 to 722273\n",
      "Data columns (total 20 columns):\n",
      " #   Column                Non-Null Count  Dtype  \n",
      "---  ------                --------------  -----  \n",
      " 0   id                    33160 non-null  int64  \n",
      " 1   title                 33160 non-null  object \n",
      " 2   genres                30067 non-null  object \n",
      " 3   original_language     33160 non-null  object \n",
      " 4   overview              31483 non-null  object \n",
      " 5   popularity            33160 non-null  float64\n",
      " 6   production_companies  23881 non-null  object \n",
      " 7   release_date          31001 non-null  object \n",
      " 8   budget                33160 non-null  float64\n",
      " 9   revenue               33160 non-null  float64\n",
      " 10  runtime               32803 non-null  float64\n",
      " 11  status                33160 non-null  object \n",
      " 12  tagline               18200 non-null  object \n",
      " 13  vote_average          33160 non-null  float64\n",
      " 14  vote_count            33160 non-null  float64\n",
      " 15  credits               30402 non-null  object \n",
      " 16  keywords              20624 non-null  object \n",
      " 17  poster_path           29555 non-null  object \n",
      " 18  backdrop_path         19639 non-null  object \n",
      " 19  recommendations       9734 non-null   object \n",
      "dtypes: float64(6), int64(1), object(13)\n",
      "memory usage: 5.3+ MB\n"
     ]
    }
   ],
   "source": [
    "df.info()"
   ]
  },
  {
   "cell_type": "code",
   "execution_count": 13,
   "id": "85de71d8",
   "metadata": {},
   "outputs": [
    {
     "name": "stdout",
     "output_type": "stream",
     "text": [
      "Registros perdidos com o filtro: 20797\n"
     ]
    }
   ],
   "source": [
    "registros_antes = len(df)\n",
    "df = df[df['budget'] > 1000000]\n",
    "registros_depois = len(df)\n",
    "print(f\"Registros perdidos com o filtro: {registros_antes - registros_depois}\")"
   ]
  },
  {
   "cell_type": "code",
   "execution_count": 14,
   "id": "20503c5a",
   "metadata": {},
   "outputs": [
    {
     "data": {
      "text/html": [
       "<div>\n",
       "<style scoped>\n",
       "    .dataframe tbody tr th:only-of-type {\n",
       "        vertical-align: middle;\n",
       "    }\n",
       "\n",
       "    .dataframe tbody tr th {\n",
       "        vertical-align: top;\n",
       "    }\n",
       "\n",
       "    .dataframe thead th {\n",
       "        text-align: right;\n",
       "    }\n",
       "</style>\n",
       "<table border=\"1\" class=\"dataframe\">\n",
       "  <thead>\n",
       "    <tr style=\"text-align: right;\">\n",
       "      <th></th>\n",
       "      <th>title</th>\n",
       "      <th>budget</th>\n",
       "    </tr>\n",
       "  </thead>\n",
       "  <tbody>\n",
       "    <tr>\n",
       "      <th>634717</th>\n",
       "      <td>TestMovie</td>\n",
       "      <td>1000300.0</td>\n",
       "    </tr>\n",
       "    <tr>\n",
       "      <th>113467</th>\n",
       "      <td>Love Laughs at Andy Hardy</td>\n",
       "      <td>1001000.0</td>\n",
       "    </tr>\n",
       "    <tr>\n",
       "      <th>31553</th>\n",
       "      <td>Roadie</td>\n",
       "      <td>1002263.0</td>\n",
       "    </tr>\n",
       "    <tr>\n",
       "      <th>27673</th>\n",
       "      <td>Edward II</td>\n",
       "      <td>1003575.0</td>\n",
       "    </tr>\n",
       "    <tr>\n",
       "      <th>33440</th>\n",
       "      <td>Noah's Ark</td>\n",
       "      <td>1005000.0</td>\n",
       "    </tr>\n",
       "    <tr>\n",
       "      <th>281518</th>\n",
       "      <td>Forebodings</td>\n",
       "      <td>1007400.0</td>\n",
       "    </tr>\n",
       "    <tr>\n",
       "      <th>671716</th>\n",
       "      <td>The Killer of Montmartre</td>\n",
       "      <td>1007640.0</td>\n",
       "    </tr>\n",
       "    <tr>\n",
       "      <th>70279</th>\n",
       "      <td>Paper Champions</td>\n",
       "      <td>1007750.0</td>\n",
       "    </tr>\n",
       "    <tr>\n",
       "      <th>172808</th>\n",
       "      <td>Letters to Angel</td>\n",
       "      <td>1008772.0</td>\n",
       "    </tr>\n",
       "    <tr>\n",
       "      <th>261532</th>\n",
       "      <td>The Sailor Takes a Wife</td>\n",
       "      <td>1012000.0</td>\n",
       "    </tr>\n",
       "  </tbody>\n",
       "</table>\n",
       "</div>"
      ],
      "text/plain": [
       "                            title     budget\n",
       "634717                  TestMovie  1000300.0\n",
       "113467  Love Laughs at Andy Hardy  1001000.0\n",
       "31553                      Roadie  1002263.0\n",
       "27673                   Edward II  1003575.0\n",
       "33440                  Noah's Ark  1005000.0\n",
       "281518                Forebodings  1007400.0\n",
       "671716   The Killer of Montmartre  1007640.0\n",
       "70279             Paper Champions  1007750.0\n",
       "172808           Letters to Angel  1008772.0\n",
       "261532    The Sailor Takes a Wife  1012000.0"
      ]
     },
     "execution_count": 14,
     "metadata": {},
     "output_type": "execute_result"
    }
   ],
   "source": [
    "df.nsmallest(10, 'budget')[['title', 'budget']]"
   ]
  },
  {
   "cell_type": "code",
   "execution_count": 15,
   "id": "4d28d811",
   "metadata": {},
   "outputs": [
    {
     "name": "stdout",
     "output_type": "stream",
     "text": [
      "<class 'pandas.core.frame.DataFrame'>\n",
      "Index: 12363 entries, 0 to 722273\n",
      "Data columns (total 20 columns):\n",
      " #   Column                Non-Null Count  Dtype  \n",
      "---  ------                --------------  -----  \n",
      " 0   id                    12363 non-null  int64  \n",
      " 1   title                 12363 non-null  object \n",
      " 2   genres                12260 non-null  object \n",
      " 3   original_language     12363 non-null  object \n",
      " 4   overview              12249 non-null  object \n",
      " 5   popularity            12363 non-null  float64\n",
      " 6   production_companies  11687 non-null  object \n",
      " 7   release_date          12294 non-null  object \n",
      " 8   budget                12363 non-null  float64\n",
      " 9   revenue               12363 non-null  float64\n",
      " 10  runtime               12346 non-null  float64\n",
      " 11  status                12363 non-null  object \n",
      " 12  tagline               9076 non-null   object \n",
      " 13  vote_average          12363 non-null  float64\n",
      " 14  vote_count            12363 non-null  float64\n",
      " 15  credits               12270 non-null  object \n",
      " 16  keywords              10436 non-null  object \n",
      " 17  poster_path           12223 non-null  object \n",
      " 18  backdrop_path         11432 non-null  object \n",
      " 19  recommendations       8325 non-null   object \n",
      "dtypes: float64(6), int64(1), object(13)\n",
      "memory usage: 2.0+ MB\n"
     ]
    }
   ],
   "source": [
    "df.info()"
   ]
  },
  {
   "cell_type": "markdown",
   "id": "38818380",
   "metadata": {},
   "source": [
    "### Runtime > 0\n",
    "Filmes com runtime igual a 0 ou negativo, representam inconssitência com as informações, trazendo erros para a analise"
   ]
  },
  {
   "cell_type": "code",
   "execution_count": 16,
   "id": "d39f1947",
   "metadata": {},
   "outputs": [
    {
     "name": "stdout",
     "output_type": "stream",
     "text": [
      "Registros perdidos com o filtro: 272\n"
     ]
    }
   ],
   "source": [
    "registros_antes = len(df)\n",
    "df = df[df['runtime'] > 60]\n",
    "registros_depois = len(df)\n",
    "print(f\"Registros perdidos com o filtro: {registros_antes - registros_depois}\")"
   ]
  },
  {
   "cell_type": "markdown",
   "id": "edd51c3c",
   "metadata": {},
   "source": [
    "### Vote_count > 0\n",
    "Filmes com vote_count igual a 0 ou negativo, representam inconssitência com as informações, trazendo erros para a analise, principalmente por se tratar de uma variável altamente ligada ao target \"vote_average\""
   ]
  },
  {
   "cell_type": "code",
   "execution_count": null,
   "id": "2503f71c",
   "metadata": {},
   "outputs": [
    {
     "name": "stdout",
     "output_type": "stream",
     "text": [
      "Registros perdidos com o filtro: 286\n"
     ]
    }
   ],
   "source": [
    "registros_antes = len(df)\n",
    "df = df[df['vote_count'] > 30]\n",
    "registros_depois = len(df)\n",
    "print(f\"Registros perdidos com o filtro: {registros_antes - registros_depois}\")"
   ]
  },
  {
   "cell_type": "markdown",
   "id": "e76030fd",
   "metadata": {},
   "source": [
    "### Removendo colunas que não serão utilizadas na análise\n",
    "- Title -> Tem algum uso? processamento textual?\n",
    "- Overview -> não usaremos processamento textual\n",
    "- Production Companies -> da para usar com um One Hot Encoding? ou é so processamento textual?\n",
    "- Revenue -> Vazamento de dados?\n",
    "- Status -> registro unico agr, ent inutil\n",
    "- Tagline -> não usaremos processamento textual e 85% dos registros são NaN\n",
    "- vote_avarege -> TARGET \n",
    "- vote_count -> vazamento de dados? \n",
    "- Credits -> da para separar e utilizar com um One Hot Encoding? ou é so processamento textual?\n",
    "- Keywords -> não usaremos processamento textual e 71% dos registros são NaN\n",
    "- Poster_path e Backdrop_path -> não faz sentido para a análise\n",
    "- Recommendations -> não faz sentido para a análise, 95% dos valores são NaN, vazamento de dados"
   ]
  },
  {
   "cell_type": "code",
   "execution_count": 18,
   "id": "da649e1a",
   "metadata": {},
   "outputs": [
    {
     "name": "stdout",
     "output_type": "stream",
     "text": [
      "Colunas que serão utilizadas na análise:\n",
      "Index(['genres', 'original_language', 'popularity', 'production_companies',\n",
      "       'release_date', 'budget', 'runtime', 'vote_average', 'credits'],\n",
      "      dtype='object')\n"
     ]
    }
   ],
   "source": [
    "df = df.drop(columns=[\n",
    "    'id','title', 'overview', 'revenue', 'status', 'tagline', \n",
    "    'vote_count', 'poster_path', 'backdrop_path', 'recommendations', 'keywords'\n",
    "])\n",
    "\n",
    "# Colunas que serão utilizadas na análise\n",
    "print(\"Colunas que serão utilizadas na análise:\")\n",
    "print(df.columns)"
   ]
  },
  {
   "cell_type": "markdown",
   "id": "b73e9a31",
   "metadata": {},
   "source": [
    "### Limpando todos os valores nulos"
   ]
  },
  {
   "cell_type": "code",
   "execution_count": 19,
   "id": "d635e834",
   "metadata": {},
   "outputs": [
    {
     "data": {
      "text/plain": [
       "genres                   34\n",
       "original_language         0\n",
       "popularity                0\n",
       "production_companies    504\n",
       "release_date              6\n",
       "budget                    0\n",
       "runtime                   0\n",
       "vote_average              0\n",
       "credits                  17\n",
       "dtype: int64"
      ]
     },
     "execution_count": 19,
     "metadata": {},
     "output_type": "execute_result"
    }
   ],
   "source": [
    "df.isnull().sum()"
   ]
  },
  {
   "cell_type": "code",
   "execution_count": 20,
   "id": "5fe2fb18",
   "metadata": {},
   "outputs": [
    {
     "name": "stdout",
     "output_type": "stream",
     "text": [
      "Registros perdidos com o filtro: 526\n"
     ]
    }
   ],
   "source": [
    "registros_antes = len(df)\n",
    "df = df.dropna()\n",
    "registros_depois = len(df)\n",
    "print(f\"Registros perdidos com o filtro: {registros_antes - registros_depois}\")"
   ]
  },
  {
   "cell_type": "code",
   "execution_count": 21,
   "id": "736e0b06",
   "metadata": {},
   "outputs": [
    {
     "name": "stdout",
     "output_type": "stream",
     "text": [
      "<class 'pandas.core.frame.DataFrame'>\n",
      "Index: 11279 entries, 0 to 700888\n",
      "Data columns (total 9 columns):\n",
      " #   Column                Non-Null Count  Dtype  \n",
      "---  ------                --------------  -----  \n",
      " 0   genres                11279 non-null  object \n",
      " 1   original_language     11279 non-null  object \n",
      " 2   popularity            11279 non-null  float64\n",
      " 3   production_companies  11279 non-null  object \n",
      " 4   release_date          11279 non-null  object \n",
      " 5   budget                11279 non-null  float64\n",
      " 6   runtime               11279 non-null  float64\n",
      " 7   vote_average          11279 non-null  float64\n",
      " 8   credits               11279 non-null  object \n",
      "dtypes: float64(4), object(5)\n",
      "memory usage: 881.2+ KB\n"
     ]
    }
   ],
   "source": [
    "df.info()"
   ]
  },
  {
   "cell_type": "code",
   "execution_count": 22,
   "id": "54cb7da2",
   "metadata": {},
   "outputs": [
    {
     "data": {
      "text/html": [
       "<div>\n",
       "<style scoped>\n",
       "    .dataframe tbody tr th:only-of-type {\n",
       "        vertical-align: middle;\n",
       "    }\n",
       "\n",
       "    .dataframe tbody tr th {\n",
       "        vertical-align: top;\n",
       "    }\n",
       "\n",
       "    .dataframe thead th {\n",
       "        text-align: right;\n",
       "    }\n",
       "</style>\n",
       "<table border=\"1\" class=\"dataframe\">\n",
       "  <thead>\n",
       "    <tr style=\"text-align: right;\">\n",
       "      <th></th>\n",
       "      <th>popularity</th>\n",
       "      <th>budget</th>\n",
       "      <th>runtime</th>\n",
       "      <th>vote_average</th>\n",
       "    </tr>\n",
       "  </thead>\n",
       "  <tbody>\n",
       "    <tr>\n",
       "      <th>count</th>\n",
       "      <td>11279.000000</td>\n",
       "      <td>1.127900e+04</td>\n",
       "      <td>11279.000000</td>\n",
       "      <td>11279.000000</td>\n",
       "    </tr>\n",
       "    <tr>\n",
       "      <th>mean</th>\n",
       "      <td>28.409766</td>\n",
       "      <td>2.341542e+07</td>\n",
       "      <td>108.940864</td>\n",
       "      <td>6.234197</td>\n",
       "    </tr>\n",
       "    <tr>\n",
       "      <th>std</th>\n",
       "      <td>175.777942</td>\n",
       "      <td>3.631785e+07</td>\n",
       "      <td>22.282146</td>\n",
       "      <td>1.022415</td>\n",
       "    </tr>\n",
       "    <tr>\n",
       "      <th>min</th>\n",
       "      <td>0.600000</td>\n",
       "      <td>1.001000e+06</td>\n",
       "      <td>61.000000</td>\n",
       "      <td>0.500000</td>\n",
       "    </tr>\n",
       "    <tr>\n",
       "      <th>25%</th>\n",
       "      <td>6.250000</td>\n",
       "      <td>3.733050e+06</td>\n",
       "      <td>94.000000</td>\n",
       "      <td>5.700000</td>\n",
       "    </tr>\n",
       "    <tr>\n",
       "      <th>50%</th>\n",
       "      <td>11.638000</td>\n",
       "      <td>1.000000e+07</td>\n",
       "      <td>104.000000</td>\n",
       "      <td>6.300000</td>\n",
       "    </tr>\n",
       "    <tr>\n",
       "      <th>75%</th>\n",
       "      <td>20.984500</td>\n",
       "      <td>2.500000e+07</td>\n",
       "      <td>119.000000</td>\n",
       "      <td>6.900000</td>\n",
       "    </tr>\n",
       "    <tr>\n",
       "      <th>max</th>\n",
       "      <td>8763.998000</td>\n",
       "      <td>4.600000e+08</td>\n",
       "      <td>437.000000</td>\n",
       "      <td>10.000000</td>\n",
       "    </tr>\n",
       "  </tbody>\n",
       "</table>\n",
       "</div>"
      ],
      "text/plain": [
       "         popularity        budget       runtime  vote_average\n",
       "count  11279.000000  1.127900e+04  11279.000000  11279.000000\n",
       "mean      28.409766  2.341542e+07    108.940864      6.234197\n",
       "std      175.777942  3.631785e+07     22.282146      1.022415\n",
       "min        0.600000  1.001000e+06     61.000000      0.500000\n",
       "25%        6.250000  3.733050e+06     94.000000      5.700000\n",
       "50%       11.638000  1.000000e+07    104.000000      6.300000\n",
       "75%       20.984500  2.500000e+07    119.000000      6.900000\n",
       "max     8763.998000  4.600000e+08    437.000000     10.000000"
      ]
     },
     "execution_count": 22,
     "metadata": {},
     "output_type": "execute_result"
    }
   ],
   "source": [
    "# Exibe estatísticas descritivas das colunas numéricas do DataFrame df\n",
    "df.describe()"
   ]
  },
  {
   "cell_type": "markdown",
   "id": "3e1ffa05",
   "metadata": {},
   "source": [
    "## Ajustando colunas "
   ]
  },
  {
   "cell_type": "code",
   "execution_count": 23,
   "id": "4198cbae",
   "metadata": {},
   "outputs": [],
   "source": [
    "def multi_hot_top_n(df, col, sep='-', top_n=20):\n",
    "    # separa por hífen e explode\n",
    "    exploded = df[col].str.split(sep).explode().str.strip()\n",
    "    \n",
    "    # conta as mais comuns\n",
    "    top = exploded.value_counts().nlargest(top_n).index\n",
    "\n",
    "    # cria listas só com os top ou \"Outros\"\n",
    "    def filter_top(vals):\n",
    "        return [v.strip() if v.strip() in top else 'Outros' for v in vals.split(sep)]\n",
    "    \n",
    "    filtered = df[col].apply(filter_top)\n",
    "    \n",
    "    mlb = MultiLabelBinarizer()\n",
    "    result = pd.DataFrame(mlb.fit_transform(filtered), columns=mlb.classes_, index=df.index)\n",
    "    return result\n"
   ]
  },
  {
   "cell_type": "markdown",
   "id": "8850f4d3",
   "metadata": {},
   "source": [
    "### Data de lançamento\n",
    "- Transformando em duas colunas, uma responsável pelo ano de lançamento e outra pelo mês de lançamento"
   ]
  },
  {
   "cell_type": "code",
   "execution_count": 24,
   "id": "74e78d19",
   "metadata": {},
   "outputs": [],
   "source": [
    "# Tratando a data\n",
    "df['release_date'] = pd.to_datetime(df['release_date'], errors='coerce')\n",
    "df['release_year'] = df['release_date'].dt.year\n",
    "df['release_month'] = df['release_date'].dt.month\n",
    "df.drop(columns=['release_date'], inplace=True)"
   ]
  },
  {
   "cell_type": "markdown",
   "id": "3d1d552c",
   "metadata": {},
   "source": [
    "### Generos cinematograficos "
   ]
  },
  {
   "cell_type": "code",
   "execution_count": 25,
   "id": "9fc8c93d",
   "metadata": {},
   "outputs": [
    {
     "name": "stdout",
     "output_type": "stream",
     "text": [
      "genres\n",
      "Drama              5234\n",
      "Comedy             3805\n",
      "Action             2938\n",
      "Thriller           2910\n",
      "Romance            1910\n",
      "Adventure          1851\n",
      "Crime              1640\n",
      "Horror             1377\n",
      "Science Fiction    1188\n",
      "Family             1130\n",
      "Fantasy            1068\n",
      "Mystery             883\n",
      "History             673\n",
      "Animation           602\n",
      "War                 469\n",
      "Music               367\n",
      "Western             191\n",
      "TV Movie            146\n",
      "Documentary         112\n",
      "Name: count, dtype: int64\n",
      "19\n"
     ]
    }
   ],
   "source": [
    "teste = df['genres'].apply(lambda x: x.split('-')).copy()\n",
    "teste = teste.explode().reset_index(drop=True)\n",
    "genre_counts = teste.value_counts() # Apply value_counts directly to the Series\n",
    "print(genre_counts)\n",
    "print(len(genre_counts))\n",
    "\n",
    "# SMOTE \n",
    "# SMOTE-EEN"
   ]
  },
  {
   "cell_type": "code",
   "execution_count": 26,
   "id": "3545ff4d",
   "metadata": {},
   "outputs": [],
   "source": [
    "genres_encoded = multi_hot_top_n(df, 'genres', top_n=19)"
   ]
  },
  {
   "cell_type": "code",
   "execution_count": 27,
   "id": "d914670b",
   "metadata": {},
   "outputs": [],
   "source": [
    "df= pd.concat([df.drop(['genres'], axis=1),\n",
    "                genres_encoded], axis=1)"
   ]
  },
  {
   "cell_type": "markdown",
   "id": "f78c660c",
   "metadata": {},
   "source": [
    "### Ajustando coluna da production_companies"
   ]
  },
  {
   "cell_type": "code",
   "execution_count": 28,
   "id": "a2df33e8",
   "metadata": {},
   "outputs": [
    {
     "name": "stdout",
     "output_type": "stream",
     "text": [
      "production_companies\n",
      "Warner Bros. Pictures        634\n",
      "Universal Pictures           607\n",
      "20th Century Fox             483\n",
      "Columbia Pictures            460\n",
      "Paramount                    443\n",
      "Goldwyn                      342\n",
      "Metro                        339\n",
      "Mayer                        330\n",
      "New Line Cinema              248\n",
      "Canal+                       239\n",
      "Walt Disney Pictures         206\n",
      "Lionsgate                    165\n",
      "Touchstone Pictures          164\n",
      "Miramax                      163\n",
      "United Artists               156\n",
      "StudioCanal                  143\n",
      "Relativity Media             126\n",
      "TriStar Pictures             126\n",
      "DreamWorks Pictures          120\n",
      "Village Roadshow Pictures    104\n",
      "Name: count, dtype: int64\n",
      "12333\n"
     ]
    }
   ],
   "source": [
    "teste = df['production_companies'].apply(lambda x: x.split('-')).copy()\n",
    "teste = teste.explode().reset_index(drop=True)\n",
    "production_companies_counts = teste.value_counts() # Apply value_counts directly to the Series\n",
    "print(production_companies_counts.head(20))\n",
    "print(len(production_companies_counts))"
   ]
  },
  {
   "cell_type": "code",
   "execution_count": 29,
   "id": "5a9026a0",
   "metadata": {},
   "outputs": [],
   "source": [
    "companies_encoded = multi_hot_top_n(df, 'production_companies', top_n=20)"
   ]
  },
  {
   "cell_type": "code",
   "execution_count": 30,
   "id": "d58e55fb",
   "metadata": {},
   "outputs": [],
   "source": [
    "df= pd.concat([df.drop(['production_companies'], axis=1),\n",
    "                companies_encoded], axis=1)"
   ]
  },
  {
   "cell_type": "markdown",
   "id": "4c815f89",
   "metadata": {},
   "source": [
    "### Ajustando coluna da credits????"
   ]
  },
  {
   "cell_type": "markdown",
   "id": "cfcbcd02",
   "metadata": {},
   "source": [
    "### Identificando e tratando outliers em variáveis numéricas do df"
   ]
  },
  {
   "cell_type": "code",
   "execution_count": 31,
   "id": "b60915bb",
   "metadata": {},
   "outputs": [
    {
     "data": {
      "image/png": "[encoded data removed]",
      "text/plain": [
       "<Figure size 800x100 with 1 Axes>"
      ]
     },
     "metadata": {},
     "output_type": "display_data"
    },
    {
     "data": {
      "image/png": "[encoded data removed]",
      "text/plain": [
       "<Figure size 800x100 with 1 Axes>"
      ]
     },
     "metadata": {},
     "output_type": "display_data"
    },
    {
     "data": {
      "image/png": "[encoded data removed]",
      "text/plain": [
       "<Figure size 800x100 with 1 Axes>"
      ]
     },
     "metadata": {},
     "output_type": "display_data"
    }
   ],
   "source": [
    "import matplotlib.pyplot as plt\n",
    "\n",
    "numeric_cols = df[['popularity', 'budget', 'runtime']].columns\n",
    "\n",
    "for col in numeric_cols:\n",
    "    plt.figure(figsize=(8, 1))\n",
    "    plt.boxplot(df[col], vert=False)\n",
    "    plt.title(f'Boxplot de {col}')\n",
    "    plt.show()"
   ]
  },
  {
   "cell_type": "markdown",
   "id": "e0e7d51c",
   "metadata": {},
   "source": [
    "## Tratamento com Cap nos outliers\n",
    " - Função para aplicar o \"cap\" nos outliers usando o método do IQR (Interquartile Range).\n",
    " - O cap limita os valores extremos (outliers) ao valor máximo permitido pelo intervalo interquartil,\n",
    " - reduzindo o impacto desses valores sem removê-los do dataset."
   ]
  },
  {
   "cell_type": "code",
   "execution_count": 32,
   "id": "5b1732f6",
   "metadata": {},
   "outputs": [
    {
     "data": {
      "image/png": "[encoded data removed]",
      "text/plain": [
       "<Figure size 800x100 with 1 Axes>"
      ]
     },
     "metadata": {},
     "output_type": "display_data"
    },
    {
     "data": {
      "image/png": "[encoded data removed]",
      "text/plain": [
       "<Figure size 800x100 with 1 Axes>"
      ]
     },
     "metadata": {},
     "output_type": "display_data"
    },
    {
     "data": {
      "image/png": "[encoded data removed]",
      "text/plain": [
       "<Figure size 800x100 with 1 Axes>"
      ]
     },
     "metadata": {},
     "output_type": "display_data"
    }
   ],
   "source": [
    "import numpy as np\n",
    "\n",
    "def log_transform(df, columns):\n",
    "    for col in columns:\n",
    "        # Adiciona 1 para evitar log(0)\n",
    "        df[col] = np.log1p(df[col])\n",
    "    return df\n",
    "\n",
    "def cap_outliers_iqr(df, columns):\n",
    "    for col in columns:\n",
    "        Q1 = df[col].quantile(0.25)\n",
    "        Q3 = df[col].quantile(0.75)\n",
    "        IQR = Q3 - Q1\n",
    "        lower = Q1 - 1.5 * IQR\n",
    "        upper = Q3 + 1.5 * IQR\n",
    "        df[col] = df[col].clip(lower, upper)\n",
    "    return df\n",
    "\n",
    "df = log_transform(df, numeric_cols)\n",
    "df = cap_outliers_iqr(df, numeric_cols)\n",
    "\n",
    "for col in numeric_cols:\n",
    "    plt.figure(figsize=(8, 1))\n",
    "    plt.boxplot(df[col], vert=False)\n",
    "    plt.title(f'Boxplot de {col} (log + cap_outliers_iqr)')\n",
    "    plt.show()\n"
   ]
  },
  {
   "cell_type": "markdown",
   "id": "1b88015f",
   "metadata": {},
   "source": [
    "## To CSV"
   ]
  },
  {
   "cell_type": "code",
   "execution_count": 33,
   "id": "5405c386",
   "metadata": {},
   "outputs": [],
   "source": [
    "#df.to_csv('novo_tratamento.csv', index=False)"
   ]
  }
 ],
 "metadata": {
  "kernelspec": {
   "display_name": ".venv",
   "language": "python",
   "name": "python3"
  },
  "language_info": {
   "codemirror_mode": {
    "name": "ipython",
    "version": 3
   },
   "file_extension": ".py",
   "mimetype": "text/x-python",
   "name": "python",
   "nbconvert_exporter": "python",
   "pygments_lexer": "ipython3",
   "version": "3.13.3"
  }
 },
 "nbformat": 4,
 "nbformat_minor": 5
}
