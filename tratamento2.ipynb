{
 "cells": [
  {
   "cell_type": "markdown",
   "id": "42460047",
   "metadata": {},
   "source": [
    "## Importações "
   ]
  },
  {
   "cell_type": "code",
   "execution_count": 3,
   "id": "18baa7d6",
   "metadata": {},
   "outputs": [],
   "source": [
    "#pip install pandas matplotlib scikit-learn"
   ]
  },
  {
   "cell_type": "code",
   "execution_count": 4,
   "id": "042014d8",
   "metadata": {},
   "outputs": [],
   "source": [
    "import pandas as pd\n",
    "from sklearn.preprocessing import MultiLabelBinarizer"
   ]
  },
  {
   "cell_type": "code",
   "execution_count": 5,
   "id": "a6179909",
   "metadata": {},
   "outputs": [],
   "source": [
    "df =  pd.read_csv(\"movies.csv\")"
   ]
  },
  {
   "cell_type": "markdown",
   "id": "482bcea3",
   "metadata": {},
   "source": [
    "## Filtros"
   ]
  },
  {
   "cell_type": "markdown",
   "id": "569a9c8d",
   "metadata": {},
   "source": [
    "### Filmes ja lançados (status = Released)\n",
    "Filmes que ainda não foram lançados não possuem dados importantes para a análise"
   ]
  },
  {
   "cell_type": "code",
   "execution_count": 6,
   "id": "9d1674cb",
   "metadata": {},
   "outputs": [
    {
     "name": "stdout",
     "output_type": "stream",
     "text": [
      "Registros perdidos com o filtro: 5223\n"
     ]
    }
   ],
   "source": [
    "registros_antes = len(df)\n",
    "df = df[df['status'] == 'Released']\n",
    "registros_depois = len(df)\n",
    "print(f\"Registros perdidos com o filtro: {registros_antes - registros_depois}\")"
   ]
  }
 ],
 "metadata": {
  "kernelspec": {
   "display_name": "Python 3",
   "language": "python",
   "name": "python3"
  },
  "language_info": {
   "codemirror_mode": {
    "name": "ipython",
    "version": 3
   },
   "file_extension": ".py",
   "mimetype": "text/x-python",
   "name": "python",
   "nbconvert_exporter": "python",
   "pygments_lexer": "ipython3",
   "version": "3.13.3"
  }
 },
 "nbformat": 4,
 "nbformat_minor": 5
}
