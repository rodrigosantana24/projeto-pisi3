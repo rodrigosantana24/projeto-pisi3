{
 "cells": [
  {
   "cell_type": "markdown",
   "id": "42460047",
   "metadata": {},
   "source": [
    "# Importações "
   ]
  },
  {
   "cell_type": "code",
   "execution_count": 101,
   "id": "18baa7d6",
   "metadata": {},
   "outputs": [],
   "source": [
    "#pip install pandas matplotlib scikit-learn"
   ]
  },
  {
   "cell_type": "code",
   "execution_count": 102,
   "id": "042014d8",
   "metadata": {},
   "outputs": [],
   "source": [
    "import pandas as pd\n",
    "import numpy as np\n",
    "import matplotlib.pyplot as plt\n",
    "import seaborn as sns\n",
    "from sklearn.preprocessing import MultiLabelBinarizer"
   ]
  },
  {
   "cell_type": "code",
   "execution_count": 103,
   "id": "a6179909",
   "metadata": {},
   "outputs": [],
   "source": [
    "df =  pd.read_csv(\"movies.csv\")"
   ]
  },
  {
   "cell_type": "markdown",
   "id": "482bcea3",
   "metadata": {},
   "source": [
    "# Filtros"
   ]
  },
  {
   "cell_type": "markdown",
   "id": "569a9c8d",
   "metadata": {},
   "source": [
    "## Filmes ja lançados (status = Released)\n",
    "Filmes que ainda não foram lançados não possuem dados importantes para a análise"
   ]
  },
  {
   "cell_type": "code",
   "execution_count": 104,
   "id": "9d1674cb",
   "metadata": {},
   "outputs": [
    {
     "name": "stdout",
     "output_type": "stream",
     "text": [
      "Registros perdidos com o filtro (status): 5223\n"
     ]
    }
   ],
   "source": [
    "registros_antes = len(df)\n",
    "df = df[df['status'] == 'Released']\n",
    "registros_depois = len(df)\n",
    "print(f\"Registros perdidos com o filtro (status): {registros_antes - registros_depois}\")"
   ]
  },
  {
   "cell_type": "markdown",
   "id": "effc53df",
   "metadata": {},
   "source": [
    "## Registros duplicados\n",
    "Não faz sentido ter o mesmo filme mais de uma vez"
   ]
  },
  {
   "cell_type": "code",
   "execution_count": 105,
   "id": "983a537f",
   "metadata": {},
   "outputs": [
    {
     "name": "stdout",
     "output_type": "stream",
     "text": [
      "Registros perdidos com o filtro (duplicados gerais): 0\n"
     ]
    }
   ],
   "source": [
    "registros_antes = len(df)\n",
    "df = df.drop_duplicates()\n",
    "registros_depois = len(df)\n",
    "print(f\"Registros perdidos com o filtro (duplicados gerais): {registros_antes - registros_depois}\")"
   ]
  },
  {
   "cell_type": "markdown",
   "id": "f9153898",
   "metadata": {},
   "source": [
    "### Duplicados por titulo e data de lançamento"
   ]
  },
  {
   "cell_type": "code",
   "execution_count": 106,
   "id": "ef760b1d",
   "metadata": {},
   "outputs": [
    {
     "name": "stdout",
     "output_type": "stream",
     "text": [
      "Registros perdidos com o filtro (titulo + data): 61422\n"
     ]
    }
   ],
   "source": [
    "registros_antes = len(df)\n",
    "df = df.drop_duplicates(subset=['title', 'release_date'])\n",
    "registros_depois = len(df)\n",
    "print(f\"Registros perdidos com o filtro (titulo + data): {registros_antes - registros_depois}\")"
   ]
  },
  {
   "cell_type": "code",
   "execution_count": 107,
   "id": "e49b1e89",
   "metadata": {},
   "outputs": [
    {
     "name": "stdout",
     "output_type": "stream",
     "text": [
      "Registros perdidos com o filtro: 0\n"
     ]
    }
   ],
   "source": [
    "registros_antes = len(df)\n",
    "df = df.drop_duplicates(subset=['title', 'release_date'])\n",
    "registros_depois = len(df)\n",
    "print(f\"Registros perdidos com o filtro: {registros_antes - registros_depois}\")"
   ]
  },
  {
   "cell_type": "code",
   "execution_count": 108,
   "id": "95084153",
   "metadata": {},
   "outputs": [
    {
     "data": {
      "text/html": [
       "<div>\n",
       "<style scoped>\n",
       "    .dataframe tbody tr th:only-of-type {\n",
       "        vertical-align: middle;\n",
       "    }\n",
       "\n",
       "    .dataframe tbody tr th {\n",
       "        vertical-align: top;\n",
       "    }\n",
       "\n",
       "    .dataframe thead th {\n",
       "        text-align: right;\n",
       "    }\n",
       "</style>\n",
       "<table border=\"1\" class=\"dataframe\">\n",
       "  <thead>\n",
       "    <tr style=\"text-align: right;\">\n",
       "      <th></th>\n",
       "      <th>id</th>\n",
       "      <th>title</th>\n",
       "      <th>genres</th>\n",
       "      <th>original_language</th>\n",
       "      <th>overview</th>\n",
       "      <th>popularity</th>\n",
       "      <th>production_companies</th>\n",
       "      <th>release_date</th>\n",
       "      <th>budget</th>\n",
       "      <th>revenue</th>\n",
       "      <th>runtime</th>\n",
       "      <th>status</th>\n",
       "      <th>tagline</th>\n",
       "      <th>vote_average</th>\n",
       "      <th>vote_count</th>\n",
       "      <th>credits</th>\n",
       "      <th>keywords</th>\n",
       "      <th>poster_path</th>\n",
       "      <th>backdrop_path</th>\n",
       "      <th>recommendations</th>\n",
       "    </tr>\n",
       "  </thead>\n",
       "  <tbody>\n",
       "    <tr>\n",
       "      <th>126</th>\n",
       "      <td>785521</td>\n",
       "      <td>Battle: Freestyle</td>\n",
       "      <td>Romance-Drama</td>\n",
       "      <td>no</td>\n",
       "      <td>Amalie and Mikael lead their street dance team...</td>\n",
       "      <td>333.723</td>\n",
       "      <td>Friland Produksjon AS</td>\n",
       "      <td>2022-04-01</td>\n",
       "      <td>0.0</td>\n",
       "      <td>0.0</td>\n",
       "      <td>88.0</td>\n",
       "      <td>Released</td>\n",
       "      <td>NaN</td>\n",
       "      <td>5.1</td>\n",
       "      <td>28.0</td>\n",
       "      <td>Lisa Teige-Fabian Svegaard Tapia-Ellen Dorrit ...</td>\n",
       "      <td>paris france-based on novel or book-norway-dan...</td>\n",
       "      <td>/6D6QumiHEhnpZG12Ibjy2BxA6n4.jpg</td>\n",
       "      <td>/8WpRRiz3qQqzBiifCTm1dW0b6bs.jpg</td>\n",
       "      <td>818750-790525-800407-739993-946726-682344-9532...</td>\n",
       "    </tr>\n",
       "    <tr>\n",
       "      <th>13</th>\n",
       "      <td>956101</td>\n",
       "      <td>The Eighth Clause</td>\n",
       "      <td>Thriller</td>\n",
       "      <td>la</td>\n",
       "      <td>Kat and Borja appear to be a perfect couple bu...</td>\n",
       "      <td>2259.303</td>\n",
       "      <td>SDB Films-El Hombre Orquesta</td>\n",
       "      <td>2022-04-29</td>\n",
       "      <td>0.0</td>\n",
       "      <td>0.0</td>\n",
       "      <td>0.0</td>\n",
       "      <td>Released</td>\n",
       "      <td>NaN</td>\n",
       "      <td>4.6</td>\n",
       "      <td>10.0</td>\n",
       "      <td>Maite Perroni-Manuel Vega-Óscar Jaenada-Jessic...</td>\n",
       "      <td>NaN</td>\n",
       "      <td>/8tc8eMFAX2SDC1TRu987qFQy8Cl.jpg</td>\n",
       "      <td>/kLnqNE9Af5QHyvUxw8cDGhF1ilv.jpg</td>\n",
       "      <td>NaN</td>\n",
       "    </tr>\n",
       "  </tbody>\n",
       "</table>\n",
       "</div>"
      ],
      "text/plain": [
       "         id              title         genres original_language  \\\n",
       "126  785521  Battle: Freestyle  Romance-Drama                no   \n",
       "13   956101  The Eighth Clause       Thriller                la   \n",
       "\n",
       "                                              overview  popularity  \\\n",
       "126  Amalie and Mikael lead their street dance team...     333.723   \n",
       "13   Kat and Borja appear to be a perfect couple bu...    2259.303   \n",
       "\n",
       "             production_companies release_date  budget  revenue  runtime  \\\n",
       "126         Friland Produksjon AS   2022-04-01     0.0      0.0     88.0   \n",
       "13   SDB Films-El Hombre Orquesta   2022-04-29     0.0      0.0      0.0   \n",
       "\n",
       "       status tagline  vote_average  vote_count  \\\n",
       "126  Released     NaN           5.1        28.0   \n",
       "13   Released     NaN           4.6        10.0   \n",
       "\n",
       "                                               credits  \\\n",
       "126  Lisa Teige-Fabian Svegaard Tapia-Ellen Dorrit ...   \n",
       "13   Maite Perroni-Manuel Vega-Óscar Jaenada-Jessic...   \n",
       "\n",
       "                                              keywords  \\\n",
       "126  paris france-based on novel or book-norway-dan...   \n",
       "13                                                 NaN   \n",
       "\n",
       "                          poster_path                     backdrop_path  \\\n",
       "126  /6D6QumiHEhnpZG12Ibjy2BxA6n4.jpg  /8WpRRiz3qQqzBiifCTm1dW0b6bs.jpg   \n",
       "13   /8tc8eMFAX2SDC1TRu987qFQy8Cl.jpg  /kLnqNE9Af5QHyvUxw8cDGhF1ilv.jpg   \n",
       "\n",
       "                                       recommendations  \n",
       "126  818750-790525-800407-739993-946726-682344-9532...  \n",
       "13                                                 NaN  "
      ]
     },
     "execution_count": 108,
     "metadata": {},
     "output_type": "execute_result"
    }
   ],
   "source": [
    "exemplo = df[df['title'].isin(['The Eighth Clause', 'Battle: Freestyle'])].sort_values(by='title')\n",
    "exemplo.head()"
   ]
  },
  {
   "cell_type": "markdown",
   "id": "648c9126",
   "metadata": {},
   "source": [
    "## Budget > 0\n",
    "Filmes com budget igual a 0 ou negativo, representam inconssitência com as informações, trazendo erros para a analise"
   ]
  },
  {
   "cell_type": "code",
   "execution_count": 109,
   "id": "8e6b4bf8",
   "metadata": {},
   "outputs": [
    {
     "name": "stdout",
     "output_type": "stream",
     "text": [
      "Registros perdidos com o filtro (budget > 0): 622512\n"
     ]
    }
   ],
   "source": [
    "registros_antes = len(df)\n",
    "df = df[df['budget'] > 0]\n",
    "registros_depois = len(df)\n",
    "print(f\"Registros perdidos com o filtro (budget > 0): {registros_antes - registros_depois}\")"
   ]
  },
  {
   "cell_type": "markdown",
   "id": "d3c05d65",
   "metadata": {},
   "source": [
    "## Runtime > 70\n",
    "Filmes com runtime menores que 70 não são considerados longa-metragem, que é nosso foco"
   ]
  },
  {
   "cell_type": "code",
   "execution_count": 110,
   "id": "b3beb595",
   "metadata": {},
   "outputs": [
    {
     "name": "stdout",
     "output_type": "stream",
     "text": [
      "Registros perdidos com o filtro (runtime > 70): 12383\n"
     ]
    }
   ],
   "source": [
    "registros_antes = len(df)\n",
    "df = df[df['runtime'] > 70]\n",
    "registros_depois = len(df)\n",
    "print(f\"Registros perdidos com o filtro (runtime > 70): {registros_antes - registros_depois}\")"
   ]
  },
  {
   "cell_type": "markdown",
   "id": "c4f3e852",
   "metadata": {},
   "source": [
    "## Removendo colunas que não serão utilizadas na análise\n",
    "- Title -> não usaremos processamento textual\n",
    "- Overview -> não usaremos processamento textual\n",
    "- Production Companies -> Vale com o One Hot Encoding? \n",
    "- Revenue -> Vazamento de dados.\n",
    "- Status -> registro unico agr, ent inutil\n",
    "- Tagline -> não usaremos processamento textual e 85% dos registros são NaN\n",
    "- vote_avarege -> TARGET \n",
    "- vote_count -> vazamento de dados.\n",
    "- Credits -> Vale com o One Hot Encoding?\n",
    "- Keywords -> não usaremos processamento textual e 71% dos registros são NaN\n",
    "- Poster_path e Backdrop_path -> não faz sentido para a análise\n",
    "- Recommendations -> não faz sentido para a análise, 95% dos valores são NaN, vazamento de dados"
   ]
  },
  {
   "cell_type": "code",
   "execution_count": 111,
   "id": "b1778c42",
   "metadata": {},
   "outputs": [
    {
     "name": "stdout",
     "output_type": "stream",
     "text": [
      "Colunas que serão utilizadas na análise:\n",
      "Index(['genres', 'original_language', 'popularity', 'production_companies',\n",
      "       'release_date', 'budget', 'runtime', 'vote_average'],\n",
      "      dtype='object')\n"
     ]
    }
   ],
   "source": [
    "df = df.drop(columns=[\n",
    "    'id','title', 'overview', 'revenue', 'status', 'tagline', \n",
    "    'vote_count', 'poster_path', 'backdrop_path', 'recommendations', 'keywords',\n",
    "    'credits'\n",
    "])\n",
    "\n",
    "# Colunas que serão utilizadas na análise\n",
    "print(\"Colunas que serão utilizadas na análise:\")\n",
    "print(df.columns)"
   ]
  },
  {
   "cell_type": "markdown",
   "id": "30bc7ad6",
   "metadata": {},
   "source": [
    "## Limpando todos os valores nulos"
   ]
  },
  {
   "cell_type": "code",
   "execution_count": 112,
   "id": "dfe5abce",
   "metadata": {},
   "outputs": [
    {
     "name": "stdout",
     "output_type": "stream",
     "text": [
      "Registros perdidos com o filtro: 3447\n"
     ]
    }
   ],
   "source": [
    "registros_antes = len(df)\n",
    "df = df.dropna()\n",
    "registros_depois = len(df)\n",
    "print(f\"Registros perdidos com o filtro: {registros_antes - registros_depois}\")"
   ]
  },
  {
   "cell_type": "markdown",
   "id": "0e141adc",
   "metadata": {},
   "source": [
    "# Multi-hot encoding para colunas multivaloradas"
   ]
  },
  {
   "cell_type": "code",
   "execution_count": 113,
   "id": "d53a61a2",
   "metadata": {},
   "outputs": [],
   "source": [
    "def multi_hot_top_n(df, col, sep='-', top_n=20):\n",
    "    exploded = df[col].str.split(sep).explode().str.strip()\n",
    "    top = exploded.value_counts().nlargest(top_n).index\n",
    "\n",
    "    def filter_top(vals):\n",
    "        return [v.strip() if v.strip() in top else 'Outros' for v in vals.split(sep)]\n",
    "    \n",
    "    filtered = df[col].apply(filter_top)\n",
    "    \n",
    "    mlb = MultiLabelBinarizer()\n",
    "    result = pd.DataFrame(mlb.fit_transform(filtered), columns=mlb.classes_, index=df.index)\n",
    "    return result"
   ]
  },
  {
   "cell_type": "markdown",
   "id": "325262f0",
   "metadata": {},
   "source": [
    "## Data de lançamento\n",
    "- Transformando em duas colunas, uma responsável pelo ano de lançamento e outra pelo mês de lançamento"
   ]
  },
  {
   "cell_type": "code",
   "execution_count": 114,
   "id": "6ce494f1",
   "metadata": {},
   "outputs": [],
   "source": [
    "df['release_date'] = pd.to_datetime(df['release_date'], errors='coerce')\n",
    "df['release_year'] = df['release_date'].dt.year\n",
    "df['release_month'] = df['release_date'].dt.month\n",
    "df['release_decade'] = (df['release_year'] // 10) * 10\n",
    "df['is_holiday_release'] = df['release_month'].isin([6, 11, 12]).astype(int)\n",
    "df.drop(columns=['release_date'], inplace=True)"
   ]
  },
  {
   "cell_type": "markdown",
   "id": "d43be3cd",
   "metadata": {},
   "source": [
    "## Ajustando coluna da production_companies"
   ]
  },
  {
   "cell_type": "code",
   "execution_count": 115,
   "id": "72a051a7",
   "metadata": {},
   "outputs": [
    {
     "name": "stdout",
     "output_type": "stream",
     "text": [
      "production_companies\n",
      "Warner Bros. Pictures        686\n",
      "Universal Pictures           646\n",
      "20th Century Fox             504\n",
      "Columbia Pictures            482\n",
      "Paramount                    477\n",
      "Goldwyn                      412\n",
      "Metro                        410\n",
      "Mayer                        397\n",
      "New Line Cinema              253\n",
      "Canal+                       250\n",
      "Walt Disney Pictures         205\n",
      "United Artists               188\n",
      "Lionsgate                    173\n",
      "Miramax                      170\n",
      "Touchstone Pictures          164\n",
      "StudioCanal                  148\n",
      "TriStar Pictures             129\n",
      "Relativity Media             126\n",
      "DreamWorks Pictures          120\n",
      "Village Roadshow Pictures    105\n",
      "Name: count, dtype: int64\n",
      "18559\n"
     ]
    }
   ],
   "source": [
    "teste = df['production_companies'].apply(lambda x: x.split('-')).copy()\n",
    "teste = teste.explode().reset_index(drop=True)\n",
    "production_companies_counts = teste.value_counts() # Apply value_counts directly to the Series\n",
    "print(production_companies_counts.head(20))\n",
    "print(len(production_companies_counts))"
   ]
  },
  {
   "cell_type": "code",
   "execution_count": 116,
   "id": "8b65921f",
   "metadata": {},
   "outputs": [],
   "source": [
    "companies_encoded = multi_hot_top_n(df, 'production_companies', top_n=10)"
   ]
  },
  {
   "cell_type": "code",
   "execution_count": 117,
   "id": "ea2e7c04",
   "metadata": {},
   "outputs": [],
   "source": [
    "df= pd.concat([df.drop(['production_companies'], axis=1),\n",
    "                companies_encoded], axis=1)"
   ]
  },
  {
   "cell_type": "markdown",
   "id": "82563020",
   "metadata": {},
   "source": [
    "# Tratando genres"
   ]
  },
  {
   "cell_type": "code",
   "execution_count": 118,
   "id": "6cee95ed",
   "metadata": {},
   "outputs": [],
   "source": [
    "genres_encoded = multi_hot_top_n(df, 'genres', top_n=10)\n",
    "df = pd.concat([df.drop(['genres'], axis=1), genres_encoded], axis=1)"
   ]
  },
  {
   "cell_type": "markdown",
   "id": "89960387",
   "metadata": {},
   "source": [
    "# Log-transformação para colunas contínuas"
   ]
  },
  {
   "cell_type": "code",
   "execution_count": 119,
   "id": "770f625c",
   "metadata": {},
   "outputs": [],
   "source": [
    "df['budget_log'] = np.log1p(df['budget'])\n",
    "df['runtime_log'] = np.log1p(df['runtime'])\n",
    "\n",
    "df.drop(['budget', 'runtime'], axis=1, inplace=True)"
   ]
  },
  {
   "cell_type": "markdown",
   "id": "fa80ad9d",
   "metadata": {},
   "source": [
    "# Normalização para modelos como SVM"
   ]
  },
  {
   "cell_type": "code",
   "execution_count": 120,
   "id": "9672f812",
   "metadata": {},
   "outputs": [],
   "source": [
    "from sklearn.preprocessing import StandardScaler\n",
    "\n",
    "features_num = df.select_dtypes(include='number').drop(columns=['vote_average'])\n",
    "\n",
    "scaler = StandardScaler()\n",
    "scaled_array = scaler.fit_transform(features_num)\n",
    "\n",
    "for i, col in enumerate(features_num.columns):\n",
    "    df[col] = scaled_array[:, i]"
   ]
  },
  {
   "cell_type": "markdown",
   "id": "76b69829",
   "metadata": {},
   "source": [
    "# To CSV\n",
    "informações do dataset filtrado"
   ]
  },
  {
   "cell_type": "code",
   "execution_count": 121,
   "id": "1c53ea56",
   "metadata": {},
   "outputs": [
    {
     "name": "stdout",
     "output_type": "stream",
     "text": [
      "<class 'pandas.core.frame.DataFrame'>\n",
      "Index: 17330 entries, 0 to 722237\n",
      "Data columns (total 31 columns):\n",
      " #   Column                 Non-Null Count  Dtype  \n",
      "---  ------                 --------------  -----  \n",
      " 0   original_language      17330 non-null  object \n",
      " 1   popularity             17330 non-null  float64\n",
      " 2   vote_average           17330 non-null  float64\n",
      " 3   release_year           17330 non-null  float64\n",
      " 4   release_month          17330 non-null  float64\n",
      " 5   release_decade         17330 non-null  float64\n",
      " 6   is_holiday_release     17330 non-null  float64\n",
      " 7   20th Century Fox       17330 non-null  float64\n",
      " 8   Canal+                 17330 non-null  float64\n",
      " 9   Columbia Pictures      17330 non-null  float64\n",
      " 10  Goldwyn                17330 non-null  float64\n",
      " 11  Mayer                  17330 non-null  float64\n",
      " 12  Metro                  17330 non-null  float64\n",
      " 13  New Line Cinema        17330 non-null  float64\n",
      " 14  Outros                 17330 non-null  float64\n",
      " 15  Paramount              17330 non-null  float64\n",
      " 16  Universal Pictures     17330 non-null  float64\n",
      " 17  Warner Bros. Pictures  17330 non-null  float64\n",
      " 18  Action                 17330 non-null  float64\n",
      " 19  Adventure              17330 non-null  float64\n",
      " 20  Comedy                 17330 non-null  float64\n",
      " 21  Crime                  17330 non-null  float64\n",
      " 22  Drama                  17330 non-null  float64\n",
      " 23  Family                 17330 non-null  float64\n",
      " 24  Horror                 17330 non-null  float64\n",
      " 25  Outros                 17330 non-null  float64\n",
      " 26  Romance                17330 non-null  float64\n",
      " 27  Science Fiction        17330 non-null  float64\n",
      " 28  Thriller               17330 non-null  float64\n",
      " 29  budget_log             17330 non-null  float64\n",
      " 30  runtime_log            17330 non-null  float64\n",
      "dtypes: float64(30), object(1)\n",
      "memory usage: 4.2+ MB\n"
     ]
    }
   ],
   "source": [
    "df.info()"
   ]
  },
  {
   "cell_type": "code",
   "execution_count": 122,
   "id": "7941e1b7",
   "metadata": {},
   "outputs": [
    {
     "data": {
      "text/html": [
       "<div>\n",
       "<style scoped>\n",
       "    .dataframe tbody tr th:only-of-type {\n",
       "        vertical-align: middle;\n",
       "    }\n",
       "\n",
       "    .dataframe tbody tr th {\n",
       "        vertical-align: top;\n",
       "    }\n",
       "\n",
       "    .dataframe thead th {\n",
       "        text-align: right;\n",
       "    }\n",
       "</style>\n",
       "<table border=\"1\" class=\"dataframe\">\n",
       "  <thead>\n",
       "    <tr style=\"text-align: right;\">\n",
       "      <th></th>\n",
       "      <th>popularity</th>\n",
       "      <th>vote_average</th>\n",
       "      <th>release_year</th>\n",
       "      <th>release_month</th>\n",
       "      <th>release_decade</th>\n",
       "      <th>is_holiday_release</th>\n",
       "      <th>20th Century Fox</th>\n",
       "      <th>Canal+</th>\n",
       "      <th>Columbia Pictures</th>\n",
       "      <th>Goldwyn</th>\n",
       "      <th>...</th>\n",
       "      <th>Crime</th>\n",
       "      <th>Drama</th>\n",
       "      <th>Family</th>\n",
       "      <th>Horror</th>\n",
       "      <th>Outros</th>\n",
       "      <th>Romance</th>\n",
       "      <th>Science Fiction</th>\n",
       "      <th>Thriller</th>\n",
       "      <th>budget_log</th>\n",
       "      <th>runtime_log</th>\n",
       "    </tr>\n",
       "  </thead>\n",
       "  <tbody>\n",
       "    <tr>\n",
       "      <th>count</th>\n",
       "      <td>1.733000e+04</td>\n",
       "      <td>17330.000000</td>\n",
       "      <td>1.733000e+04</td>\n",
       "      <td>1.733000e+04</td>\n",
       "      <td>1.733000e+04</td>\n",
       "      <td>1.733000e+04</td>\n",
       "      <td>1.733000e+04</td>\n",
       "      <td>1.733000e+04</td>\n",
       "      <td>1.733000e+04</td>\n",
       "      <td>1.733000e+04</td>\n",
       "      <td>...</td>\n",
       "      <td>1.733000e+04</td>\n",
       "      <td>1.733000e+04</td>\n",
       "      <td>1.733000e+04</td>\n",
       "      <td>1.733000e+04</td>\n",
       "      <td>1.733000e+04</td>\n",
       "      <td>1.733000e+04</td>\n",
       "      <td>1.733000e+04</td>\n",
       "      <td>1.733000e+04</td>\n",
       "      <td>1.733000e+04</td>\n",
       "      <td>1.733000e+04</td>\n",
       "    </tr>\n",
       "    <tr>\n",
       "      <th>mean</th>\n",
       "      <td>-1.968035e-17</td>\n",
       "      <td>5.595537</td>\n",
       "      <td>-3.604785e-15</td>\n",
       "      <td>1.115220e-16</td>\n",
       "      <td>5.720423e-15</td>\n",
       "      <td>-5.781104e-17</td>\n",
       "      <td>-3.936071e-17</td>\n",
       "      <td>2.624047e-17</td>\n",
       "      <td>-7.872141e-17</td>\n",
       "      <td>-4.920088e-18</td>\n",
       "      <td>...</td>\n",
       "      <td>-1.476026e-17</td>\n",
       "      <td>2.706049e-17</td>\n",
       "      <td>2.952053e-17</td>\n",
       "      <td>-8.364150e-17</td>\n",
       "      <td>-8.077145e-17</td>\n",
       "      <td>8.036144e-17</td>\n",
       "      <td>3.936071e-17</td>\n",
       "      <td>4.920088e-17</td>\n",
       "      <td>-2.361642e-16</td>\n",
       "      <td>-2.820851e-16</td>\n",
       "    </tr>\n",
       "    <tr>\n",
       "      <th>std</th>\n",
       "      <td>1.000029e+00</td>\n",
       "      <td>2.148131</td>\n",
       "      <td>1.000029e+00</td>\n",
       "      <td>1.000029e+00</td>\n",
       "      <td>1.000029e+00</td>\n",
       "      <td>1.000029e+00</td>\n",
       "      <td>1.000029e+00</td>\n",
       "      <td>1.000029e+00</td>\n",
       "      <td>1.000029e+00</td>\n",
       "      <td>1.000029e+00</td>\n",
       "      <td>...</td>\n",
       "      <td>1.000029e+00</td>\n",
       "      <td>1.000029e+00</td>\n",
       "      <td>1.000029e+00</td>\n",
       "      <td>1.000029e+00</td>\n",
       "      <td>1.000029e+00</td>\n",
       "      <td>1.000029e+00</td>\n",
       "      <td>1.000029e+00</td>\n",
       "      <td>1.000029e+00</td>\n",
       "      <td>1.000029e+00</td>\n",
       "      <td>1.000029e+00</td>\n",
       "    </tr>\n",
       "    <tr>\n",
       "      <th>min</th>\n",
       "      <td>-1.401021e-01</td>\n",
       "      <td>0.000000</td>\n",
       "      <td>-4.968881e+00</td>\n",
       "      <td>-1.660868e+00</td>\n",
       "      <td>-4.868660e+00</td>\n",
       "      <td>-5.805930e-01</td>\n",
       "      <td>-1.730712e-01</td>\n",
       "      <td>-1.209835e-01</td>\n",
       "      <td>-1.691412e-01</td>\n",
       "      <td>-1.554707e-01</td>\n",
       "      <td>...</td>\n",
       "      <td>-3.813220e-01</td>\n",
       "      <td>-9.068034e-01</td>\n",
       "      <td>-2.885488e-01</td>\n",
       "      <td>-4.437408e-01</td>\n",
       "      <td>-6.873045e-01</td>\n",
       "      <td>-4.202266e-01</td>\n",
       "      <td>-3.263431e-01</td>\n",
       "      <td>-5.479691e-01</td>\n",
       "      <td>-4.384080e+00</td>\n",
       "      <td>-1.885347e+00</td>\n",
       "    </tr>\n",
       "    <tr>\n",
       "      <th>25%</th>\n",
       "      <td>-1.246123e-01</td>\n",
       "      <td>5.100000</td>\n",
       "      <td>-3.168615e-01</td>\n",
       "      <td>-7.999223e-01</td>\n",
       "      <td>-4.997295e-01</td>\n",
       "      <td>-5.805930e-01</td>\n",
       "      <td>-1.730712e-01</td>\n",
       "      <td>-1.209835e-01</td>\n",
       "      <td>-1.691412e-01</td>\n",
       "      <td>-1.554707e-01</td>\n",
       "      <td>...</td>\n",
       "      <td>-3.813220e-01</td>\n",
       "      <td>-9.068034e-01</td>\n",
       "      <td>-2.885488e-01</td>\n",
       "      <td>-4.437408e-01</td>\n",
       "      <td>-6.873045e-01</td>\n",
       "      <td>-4.202266e-01</td>\n",
       "      <td>-3.263431e-01</td>\n",
       "      <td>-5.479691e-01</td>\n",
       "      <td>-4.072321e-01</td>\n",
       "      <td>-6.810562e-01</td>\n",
       "    </tr>\n",
       "    <tr>\n",
       "      <th>50%</th>\n",
       "      <td>-8.766287e-02</td>\n",
       "      <td>6.100000</td>\n",
       "      <td>2.923315e-01</td>\n",
       "      <td>6.102295e-02</td>\n",
       "      <td>4.638680e-02</td>\n",
       "      <td>-5.805930e-01</td>\n",
       "      <td>-1.730712e-01</td>\n",
       "      <td>-1.209835e-01</td>\n",
       "      <td>-1.691412e-01</td>\n",
       "      <td>-1.554707e-01</td>\n",
       "      <td>...</td>\n",
       "      <td>-3.813220e-01</td>\n",
       "      <td>-9.068034e-01</td>\n",
       "      <td>-2.885488e-01</td>\n",
       "      <td>-4.437408e-01</td>\n",
       "      <td>-6.873045e-01</td>\n",
       "      <td>-4.202266e-01</td>\n",
       "      <td>-3.263431e-01</td>\n",
       "      <td>-5.479691e-01</td>\n",
       "      <td>2.153800e-01</td>\n",
       "      <td>-1.449157e-01</td>\n",
       "    </tr>\n",
       "    <tr>\n",
       "      <th>75%</th>\n",
       "      <td>-3.143198e-02</td>\n",
       "      <td>6.900000</td>\n",
       "      <td>6.799997e-01</td>\n",
       "      <td>9.219682e-01</td>\n",
       "      <td>5.925031e-01</td>\n",
       "      <td>1.722377e+00</td>\n",
       "      <td>-1.730712e-01</td>\n",
       "      <td>-1.209835e-01</td>\n",
       "      <td>-1.691412e-01</td>\n",
       "      <td>-1.554707e-01</td>\n",
       "      <td>...</td>\n",
       "      <td>-3.813220e-01</td>\n",
       "      <td>1.102775e+00</td>\n",
       "      <td>-2.885488e-01</td>\n",
       "      <td>-4.437408e-01</td>\n",
       "      <td>1.454959e+00</td>\n",
       "      <td>-4.202266e-01</td>\n",
       "      <td>-3.263431e-01</td>\n",
       "      <td>-5.479691e-01</td>\n",
       "      <td>6.810130e-01</td>\n",
       "      <td>5.671356e-01</td>\n",
       "    </tr>\n",
       "    <tr>\n",
       "      <th>max</th>\n",
       "      <td>6.114074e+01</td>\n",
       "      <td>10.000000</td>\n",
       "      <td>1.123049e+00</td>\n",
       "      <td>1.495932e+00</td>\n",
       "      <td>1.138619e+00</td>\n",
       "      <td>1.722377e+00</td>\n",
       "      <td>5.777969e+00</td>\n",
       "      <td>8.265591e+00</td>\n",
       "      <td>5.912221e+00</td>\n",
       "      <td>6.432079e+00</td>\n",
       "      <td>...</td>\n",
       "      <td>2.622455e+00</td>\n",
       "      <td>1.102775e+00</td>\n",
       "      <td>3.465618e+00</td>\n",
       "      <td>2.253568e+00</td>\n",
       "      <td>1.454959e+00</td>\n",
       "      <td>2.379668e+00</td>\n",
       "      <td>3.064260e+00</td>\n",
       "      <td>1.824921e+00</td>\n",
       "      <td>1.802970e+00</td>\n",
       "      <td>1.285735e+01</td>\n",
       "    </tr>\n",
       "  </tbody>\n",
       "</table>\n",
       "<p>8 rows × 30 columns</p>\n",
       "</div>"
      ],
      "text/plain": [
       "         popularity  vote_average  release_year  release_month  \\\n",
       "count  1.733000e+04  17330.000000  1.733000e+04   1.733000e+04   \n",
       "mean  -1.968035e-17      5.595537 -3.604785e-15   1.115220e-16   \n",
       "std    1.000029e+00      2.148131  1.000029e+00   1.000029e+00   \n",
       "min   -1.401021e-01      0.000000 -4.968881e+00  -1.660868e+00   \n",
       "25%   -1.246123e-01      5.100000 -3.168615e-01  -7.999223e-01   \n",
       "50%   -8.766287e-02      6.100000  2.923315e-01   6.102295e-02   \n",
       "75%   -3.143198e-02      6.900000  6.799997e-01   9.219682e-01   \n",
       "max    6.114074e+01     10.000000  1.123049e+00   1.495932e+00   \n",
       "\n",
       "       release_decade  is_holiday_release  20th Century Fox        Canal+  \\\n",
       "count    1.733000e+04        1.733000e+04      1.733000e+04  1.733000e+04   \n",
       "mean     5.720423e-15       -5.781104e-17     -3.936071e-17  2.624047e-17   \n",
       "std      1.000029e+00        1.000029e+00      1.000029e+00  1.000029e+00   \n",
       "min     -4.868660e+00       -5.805930e-01     -1.730712e-01 -1.209835e-01   \n",
       "25%     -4.997295e-01       -5.805930e-01     -1.730712e-01 -1.209835e-01   \n",
       "50%      4.638680e-02       -5.805930e-01     -1.730712e-01 -1.209835e-01   \n",
       "75%      5.925031e-01        1.722377e+00     -1.730712e-01 -1.209835e-01   \n",
       "max      1.138619e+00        1.722377e+00      5.777969e+00  8.265591e+00   \n",
       "\n",
       "       Columbia Pictures       Goldwyn  ...         Crime         Drama  \\\n",
       "count       1.733000e+04  1.733000e+04  ...  1.733000e+04  1.733000e+04   \n",
       "mean       -7.872141e-17 -4.920088e-18  ... -1.476026e-17  2.706049e-17   \n",
       "std         1.000029e+00  1.000029e+00  ...  1.000029e+00  1.000029e+00   \n",
       "min        -1.691412e-01 -1.554707e-01  ... -3.813220e-01 -9.068034e-01   \n",
       "25%        -1.691412e-01 -1.554707e-01  ... -3.813220e-01 -9.068034e-01   \n",
       "50%        -1.691412e-01 -1.554707e-01  ... -3.813220e-01 -9.068034e-01   \n",
       "75%        -1.691412e-01 -1.554707e-01  ... -3.813220e-01  1.102775e+00   \n",
       "max         5.912221e+00  6.432079e+00  ...  2.622455e+00  1.102775e+00   \n",
       "\n",
       "             Family        Horror        Outros       Romance  \\\n",
       "count  1.733000e+04  1.733000e+04  1.733000e+04  1.733000e+04   \n",
       "mean   2.952053e-17 -8.364150e-17 -8.077145e-17  8.036144e-17   \n",
       "std    1.000029e+00  1.000029e+00  1.000029e+00  1.000029e+00   \n",
       "min   -2.885488e-01 -4.437408e-01 -6.873045e-01 -4.202266e-01   \n",
       "25%   -2.885488e-01 -4.437408e-01 -6.873045e-01 -4.202266e-01   \n",
       "50%   -2.885488e-01 -4.437408e-01 -6.873045e-01 -4.202266e-01   \n",
       "75%   -2.885488e-01 -4.437408e-01  1.454959e+00 -4.202266e-01   \n",
       "max    3.465618e+00  2.253568e+00  1.454959e+00  2.379668e+00   \n",
       "\n",
       "       Science Fiction      Thriller    budget_log   runtime_log  \n",
       "count     1.733000e+04  1.733000e+04  1.733000e+04  1.733000e+04  \n",
       "mean      3.936071e-17  4.920088e-17 -2.361642e-16 -2.820851e-16  \n",
       "std       1.000029e+00  1.000029e+00  1.000029e+00  1.000029e+00  \n",
       "min      -3.263431e-01 -5.479691e-01 -4.384080e+00 -1.885347e+00  \n",
       "25%      -3.263431e-01 -5.479691e-01 -4.072321e-01 -6.810562e-01  \n",
       "50%      -3.263431e-01 -5.479691e-01  2.153800e-01 -1.449157e-01  \n",
       "75%      -3.263431e-01 -5.479691e-01  6.810130e-01  5.671356e-01  \n",
       "max       3.064260e+00  1.824921e+00  1.802970e+00  1.285735e+01  \n",
       "\n",
       "[8 rows x 30 columns]"
      ]
     },
     "execution_count": 122,
     "metadata": {},
     "output_type": "execute_result"
    }
   ],
   "source": [
    "df.describe()"
   ]
  },
  {
   "cell_type": "code",
   "execution_count": null,
   "id": "86eab485",
   "metadata": {},
   "outputs": [],
   "source": [
    "#df.to_csv('filmes_luan.csv', index=False)"
   ]
  }
 ],
 "metadata": {
  "kernelspec": {
   "display_name": ".venv",
   "language": "python",
   "name": "python3"
  },
  "language_info": {
   "codemirror_mode": {
    "name": "ipython",
    "version": 3
   },
   "file_extension": ".py",
   "mimetype": "text/x-python",
   "name": "python",
   "nbconvert_exporter": "python",
   "pygments_lexer": "ipython3",
   "version": "3.12.10"
  }
 },
 "nbformat": 4,
 "nbformat_minor": 5
}
