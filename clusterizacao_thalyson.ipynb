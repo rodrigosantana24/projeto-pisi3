{
 "cells": [
  {
   "cell_type": "code",
   "execution_count": 1,
   "id": "0e0e884c",
   "metadata": {},
   "outputs": [
    {
     "name": "stdout",
     "output_type": "stream",
     "text": [
      "<class 'pandas.core.frame.DataFrame'>\n",
      "RangeIndex: 722317 entries, 0 to 722316\n",
      "Data columns (total 20 columns):\n",
      " #   Column                Non-Null Count   Dtype  \n",
      "---  ------                --------------   -----  \n",
      " 0   id                    722317 non-null  int64  \n",
      " 1   title                 722311 non-null  object \n",
      " 2   genres                512000 non-null  object \n",
      " 3   original_language     722317 non-null  object \n",
      " 4   overview              604074 non-null  object \n",
      " 5   popularity            722317 non-null  float64\n",
      " 6   production_companies  337391 non-null  object \n",
      " 7   release_date          670768 non-null  object \n",
      " 8   budget                722317 non-null  float64\n",
      " 9   revenue               722317 non-null  float64\n",
      " 10  runtime               687982 non-null  float64\n",
      " 11  status                722317 non-null  object \n",
      " 12  tagline               108476 non-null  object \n",
      " 13  vote_average          722317 non-null  float64\n",
      " 14  vote_count            722317 non-null  float64\n",
      " 15  credits               497603 non-null  object \n",
      " 16  keywords              210639 non-null  object \n",
      " 17  poster_path           537824 non-null  object \n",
      " 18  backdrop_path         223211 non-null  object \n",
      " 19  recommendations       36016 non-null   object \n",
      "dtypes: float64(6), int64(1), object(13)\n",
      "memory usage: 110.2+ MB\n"
     ]
    }
   ],
   "source": [
    "\n",
    "import pandas as pd\n",
    "import numpy as np\n",
    "import matplotlib.pyplot as plt\n",
    "import seaborn as sns\n",
    "import missingno as msno\n",
    "\n",
    "df = pd.read_csv('movies.csv')\n",
    "df.shape\n",
    "df.info()\n",
    "     "
   ]
  },
  {
   "cell_type": "code",
   "execution_count": null,
   "id": "79c4103f",
   "metadata": {},
   "outputs": [],
   "source": [
    "# Colunas a remover\n",
    "colunas_inuteis = [\n",
    "    'id', 'title', 'overview', 'production_companies', 'status',\n",
    "    'tagline', 'credits', 'poster_path', 'backdrop_path', 'recommendations'\n",
    "]\n",
    "\n",
    "# Drop no DataFrame\n",
    "df_cluster = df.drop(columns=colunas_inuteis)"
   ]
  }
 ],
 "metadata": {
  "kernelspec": {
   "display_name": "Python 3",
   "language": "python",
   "name": "python3"
  },
  "language_info": {
   "codemirror_mode": {
    "name": "ipython",
    "version": 3
   },
   "file_extension": ".py",
   "mimetype": "text/x-python",
   "name": "python",
   "nbconvert_exporter": "python",
   "pygments_lexer": "ipython3",
   "version": "3.12.2"
  }
 },
 "nbformat": 4,
 "nbformat_minor": 5
}
