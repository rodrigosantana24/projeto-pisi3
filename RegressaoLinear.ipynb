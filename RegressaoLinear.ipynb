{
 "cells": [
  {
   "cell_type": "code",
   "execution_count": 3,
   "id": "5b18ceb1",
   "metadata": {},
   "outputs": [],
   "source": [
    "import pandas as pd\n",
    "import matplotlib.pyplot as plt\n",
    "from sklearn.model_selection import train_test_split\n",
    "from sklearn.linear_model import LinearRegression\n",
    "from sklearn.metrics import r2_score, mean_squared_error"
   ]
  },
  {
   "cell_type": "code",
   "execution_count": null,
   "id": "a5b4f2c6",
   "metadata": {},
   "outputs": [],
   "source": [
    "# 1. Carregar os dados a partir do arquivo CSV\n",
    "df = pd.read_csv('filmes_filtrados_sem_nulos.csv')\n",
    "\n",
    "# 2. Definir a variável independente (X) e a dependente (y)\n",
    "# Estamos tentando prever 'vote_average' com base na 'popularity'\n",
    "X = df[['popularity']]\n",
    "y = df['vote_average']\n",
    "\n",
    "# 3. Dividir os dados em conjuntos de treino e teste\n",
    "# 80% dos dados para treinar o modelo, 20% para testar sua eficácia\n",
    "X_train, X_test, y_train, y_test = train_test_split(X, y, test_size=0.2, random_state=42)\n",
    "\n",
    "# 4. Criar e treinar o modelo de regressão linear\n",
    "model = LinearRegression()\n",
    "model.fit(X_train, y_train)"
   ]
  },
  {
   "cell_type": "code",
   "execution_count": null,
   "id": "7c92585b",
   "metadata": {},
   "outputs": [],
   "source": [
    "# 5. Fazer previsões com o conjunto de teste\n",
    "y_pred = model.predict(X_test)\n",
    "\n",
    "# 6. Avaliar o modelo\n",
    "intercept = model.intercept_\n",
    "coefficient = model.coef_[0]\n",
    "r2 = r2_score(y_test, y_pred)\n",
    "mse = mean_squared_error(y_test, y_pred)\n",
    "\n",
    "print(f'Intercepto (b0): {intercept}')\n",
    "print(f'Coeficiente (b1) para Popularidade: {coefficient}')\n",
    "print(f'R² (R-quadrado): {r2}')\n",
    "print(f'Erro Quadrático Médio (MSE): {mse}')\n",
    "\n",
    "\n",
    "# 7. Plotar os resultados\n",
    "plt.figure(figsize=(10, 6))\n",
    "plt.scatter(X_test, y_test, color='blue', alpha=0.5, label='Dados Reais')\n",
    "plt.plot(X_test, y_pred, color='red', linewidth=2, label='Linha de Regressão')\n",
    "plt.title('Regressão Linear: Popularidade vs. Média de Votos')\n",
    "plt.xlabel('Popularidade')\n",
    "plt.ylabel('Média de Votos')\n",
    "plt.legend()\n",
    "plt.grid(True)\n",
    "# Salva o gráfico como um arquivo de imagem\n",
    "plt.savefig('regressao_linear_popularidade_votos.png')\n",
    "plt.show()"
   ]
  }
 ],
 "metadata": {
  "kernelspec": {
   "display_name": ".venv",
   "language": "python",
   "name": "python3"
  },
  "language_info": {
   "codemirror_mode": {
    "name": "ipython",
    "version": 3
   },
   "file_extension": ".py",
   "mimetype": "text/x-python",
   "name": "python",
   "nbconvert_exporter": "python",
   "pygments_lexer": "ipython3",
   "version": "3.13.0"
  }
 },
 "nbformat": 4,
 "nbformat_minor": 5
}
