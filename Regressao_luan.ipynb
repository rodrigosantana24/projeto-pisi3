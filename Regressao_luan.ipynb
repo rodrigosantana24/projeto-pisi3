{
 "cells": [
  {
   "cell_type": "markdown",
   "id": "395e1c82",
   "metadata": {},
   "source": [
    "# Importações"
   ]
  },
  {
   "cell_type": "code",
   "execution_count": 25,
   "id": "96524b12",
   "metadata": {},
   "outputs": [],
   "source": [
    "#!pip install scikit-learn pandas numpy matplotlib xgboost smogn imbalanced-learn scipy\n",
    "\n",
    "#Caso dê algum erro nas importacoes rodar os comandos abaixo:\n",
    "#!pip uninstall -y scikit-learn imbalanced-learn scipy\n",
    "#!pip install scikit-learn==1.3.2 scipy==1.11.4 imbalanced-learn==0.11.0"
   ]
  },
  {
   "cell_type": "code",
   "execution_count": 26,
   "id": "aae75188",
   "metadata": {},
   "outputs": [],
   "source": [
    "import pandas as pd  \n",
    "import numpy as np  \n",
    "import matplotlib.pyplot as plt\n",
    "\n",
    "# Pré-processamento e pipelines\n",
    "from sklearn.pipeline import Pipeline\n",
    "from sklearn.compose import ColumnTransformer\n",
    "from sklearn.preprocessing import OneHotEncoder, StandardScaler\n",
    "\n",
    "# Modelos de ML\n",
    "from sklearn.neighbors import KNeighborsRegressor\n",
    "from sklearn.svm import SVR\n",
    "from xgboost import XGBRegressor\n",
    "\n",
    "# Validação e busca de hiperparâmetros\n",
    "from sklearn.model_selection import train_test_split, KFold, GridSearchCV, RandomizedSearchCV\n",
    "from scipy.stats import randint, uniform, loguniform\n",
    "from scipy.stats.mstats import winsorize\n",
    "\n",
    "# Métricas\n",
    "from sklearn.metrics import mean_squared_error, r2_score, mean_absolute_percentage_error\n",
    "\n",
    "# SMOGN, SMOTE e SMOTEENN\n",
    "import smogn\n",
    "from imblearn.over_sampling import SMOTE\n",
    "from imblearn.combine import SMOTEENN"
   ]
  },
  {
   "cell_type": "markdown",
   "id": "e612b12a",
   "metadata": {},
   "source": [
    "# Carregando dataset"
   ]
  },
  {
   "cell_type": "code",
   "execution_count": 27,
   "id": "59710284",
   "metadata": {},
   "outputs": [],
   "source": [
    "df = pd.read_csv('filmes_luan.csv')"
   ]
  },
  {
   "cell_type": "markdown",
   "id": "a4a8550b",
   "metadata": {},
   "source": [
    "# Identificando e tratando outliers em variáveis numéricas do df"
   ]
  },
  {
   "cell_type": "code",
   "execution_count": 28,
   "id": "94708dea",
   "metadata": {},
   "outputs": [
    {
     "data": {
      "image/png": "[encoded data removed]",
      "text/plain": [
       "<Figure size 800x100 with 1 Axes>"
      ]
     },
     "metadata": {},
     "output_type": "display_data"
    }
   ],
   "source": [
    "numeric_cols = df[['popularity']].columns\n",
    "\n",
    "for col in numeric_cols:\n",
    "    plt.figure(figsize=(8, 1))\n",
    "    plt.boxplot(df[col], vert=False)\n",
    "    plt.title(f'Boxplot de {col}')\n",
    "    plt.show()"
   ]
  },
  {
   "cell_type": "markdown",
   "id": "ab0a5309",
   "metadata": {},
   "source": [
    "### Tratamento com Winsorization + LOG nos outliers\n",
    " - Substitui outliers extremos pelos percentis limite.\n",
    " - reduz o impacto de valores extremos sem truncar bruscamente como o CAP faz.\n",
    " - reduzindo o impacto desses valores sem removê-los do dataset."
   ]
  },
  {
   "cell_type": "code",
   "execution_count": 29,
   "id": "0488db95",
   "metadata": {},
   "outputs": [
    {
     "data": {
      "image/png": "[encoded data removed]",
      "text/plain": [
       "<Figure size 800x100 with 1 Axes>"
      ]
     },
     "metadata": {},
     "output_type": "display_data"
    }
   ],
   "source": [
    "df['popularity'] = np.log1p(df['popularity'])\n",
    "df['popularity'] = winsorize(df['popularity'], limits=[0.01, 0.01])\n",
    "\n",
    "plt.figure(figsize=(8, 1))\n",
    "plt.boxplot(df['popularity'], vert=False)\n",
    "plt.title('Boxplot de popularity (log + winsorize)')\n",
    "plt.show()"
   ]
  },
  {
   "cell_type": "markdown",
   "id": "5b78457c",
   "metadata": {},
   "source": [
    "# Treinamento\n",
    "- Modelo XGBRegressor\n",
    "- Modelo SVM"
   ]
  },
  {
   "cell_type": "markdown",
   "id": "3c00c529",
   "metadata": {},
   "source": [
    "### Definindo as colunas de features e o target"
   ]
  },
  {
   "cell_type": "code",
   "execution_count": 30,
   "id": "a4e14a27",
   "metadata": {},
   "outputs": [],
   "source": [
    "X = df.drop(columns=['vote_average'])\n",
    "y = df['vote_average']\n",
    "\n",
    "X_train, X_test, y_train, y_test = train_test_split(X, y, test_size=0.3, random_state=87)\n",
    "\n",
    "categorical_col = ['original_language']\n",
    "numerical_cols = [col for col in X_train.columns if col not in categorical_col]"
   ]
  },
  {
   "cell_type": "code",
   "execution_count": 31,
   "id": "bc4b7744",
   "metadata": {},
   "outputs": [],
   "source": [
    "ohe = OneHotEncoder(handle_unknown='ignore', sparse_output=False)\n",
    "X_cat_train = ohe.fit_transform(X_train[categorical_col])\n",
    "X_cat_test = ohe.transform(X_test[categorical_col])\n",
    "\n",
    "scaler = StandardScaler()\n",
    "X_num_train = scaler.fit_transform(X_train[numerical_cols])\n",
    "X_num_test = scaler.transform(X_test[numerical_cols])\n",
    "\n",
    "X_train_transf = np.concatenate([X_cat_train, X_num_train], axis=1)\n",
    "X_test_transf = np.concatenate([X_cat_test, X_num_test], axis=1)"
   ]
  },
  {
   "cell_type": "markdown",
   "id": "7c5cef16",
   "metadata": {},
   "source": [
    "# Aplicando SMOGN, SMOTE e SMOTEENN"
   ]
  },
  {
   "cell_type": "code",
   "execution_count": 32,
   "id": "a4b6bcff",
   "metadata": {},
   "outputs": [],
   "source": [
    "# Transformando o alvo contínuo em 5 bins para usar SMOTE e SMOTEENN (Necessário pois SMOTE e SMOTEENN não foi feito para regressão)\n",
    "y_train_binned = pd.qcut(y_train, q=5, labels=False)\n",
    "\n",
    "smote = SMOTE(random_state=42)\n",
    "X_smote, y_smote = smote.fit_resample(X_train_transf, y_train_binned)\n",
    "\n",
    "smoteenn = SMOTEENN(random_state=42)\n",
    "X_smoteenn, y_smoteenn = smoteenn.fit_resample(X_train_transf, y_train_binned)"
   ]
  },
  {
   "cell_type": "code",
   "execution_count": 33,
   "id": "18dcf1fb",
   "metadata": {},
   "outputs": [
    {
     "name": "stderr",
     "output_type": "stream",
     "text": [
      "dist_matrix: 100%|##########| 1935/1935 [35:53<00:00,  1.11s/it]\n",
      "synth_matrix: 100%|##########| 1935/1935 [00:06<00:00, 313.22it/s]\n",
      "r_index: 100%|##########| 173/173 [00:00<00:00, 350.54it/s]\n",
      "dist_matrix: 100%|##########| 664/664 [02:33<00:00,  4.32it/s]\n",
      "synth_matrix: 100%|##########| 664/664 [00:12<00:00, 52.17it/s]\n",
      "r_index: 100%|##########| 60/60 [00:00<00:00, 270.10it/s]\n"
     ]
    }
   ],
   "source": [
    "#Aplicando SMOGN (oversampling para regressão)\n",
    "X_smogn_df = pd.DataFrame(X_train_transf)\n",
    "X_smogn_df['vote_average'] = y_train.values\n",
    "\n",
    "X_smogn = smogn.smoter(\n",
    "    data=X_smogn_df,\n",
    "    y='vote_average',\n",
    "    k=3,\n",
    "    samp_method='balance'\n",
    ")\n",
    "y_smogn = X_smogn['vote_average']\n",
    "X_smogn = X_smogn.drop(columns=['vote_average'])"
   ]
  },
  {
   "cell_type": "markdown",
   "id": "4eb73d79",
   "metadata": {},
   "source": [
    "# Pipeline com XGBoost (RandomSearch)"
   ]
  },
  {
   "cell_type": "code",
   "execution_count": 34,
   "id": "0bdcc68c",
   "metadata": {},
   "outputs": [
    {
     "name": "stdout",
     "output_type": "stream",
     "text": [
      "Fitting 5 folds for each of 60 candidates, totalling 300 fits\n",
      "Melhores parâmetros: {'regressor__colsample_bytree': 0.7917342580817835, 'regressor__learning_rate': 0.11623601677251061, 'regressor__max_depth': 4, 'regressor__n_estimators': 124, 'regressor__subsample': 0.8149796080497678}\n",
      "Melhor R² (validação cruzada): 0.40386714905260906\n"
     ]
    }
   ],
   "source": [
    "preprocessor = ColumnTransformer([\n",
    "    ('cat', OneHotEncoder(handle_unknown='ignore'), categorical_col),\n",
    "    ('num', StandardScaler(), numerical_cols)\n",
    "])\n",
    "\n",
    "pipeline = Pipeline([\n",
    "    ('preprocess', preprocessor),\n",
    "    ('regressor', XGBRegressor(objective='reg:squarederror', random_state=42, n_jobs=-1))\n",
    "])\n",
    "\n",
    "param_dist = {\n",
    "    'regressor__n_estimators': randint(100, 300),\n",
    "    'regressor__max_depth': randint(3, 10),\n",
    "    'regressor__learning_rate': uniform(0.01, 0.3),\n",
    "    'regressor__subsample': uniform(0.7, 0.3),\n",
    "    'regressor__colsample_bytree': uniform(0.7, 0.3),\n",
    "}\n",
    "\n",
    "kf = KFold(n_splits=5, shuffle=True, random_state=87)\n",
    "\n",
    "xgb_rand = RandomizedSearchCV(\n",
    "    estimator=pipeline,\n",
    "    param_distributions=param_dist,\n",
    "    n_iter=60,\n",
    "    cv=kf,\n",
    "    scoring='r2',\n",
    "    random_state=87,\n",
    "    verbose=2,\n",
    "    n_jobs=-1\n",
    ")\n",
    "\n",
    "xgb_rand.fit(X_train, y_train)\n",
    "print(\"Melhores parâmetros:\", xgb_rand.best_params_)\n",
    "print(\"Melhor R² (validação cruzada):\", xgb_rand.best_score_)"
   ]
  },
  {
   "cell_type": "markdown",
   "id": "c8dcb0cf",
   "metadata": {},
   "source": [
    "# Pipeline com SVR (RandomSearch)"
   ]
  },
  {
   "cell_type": "code",
   "execution_count": 35,
   "id": "2f0de3ab",
   "metadata": {},
   "outputs": [
    {
     "name": "stdout",
     "output_type": "stream",
     "text": [
      "Fitting 5 folds for each of 10 candidates, totalling 50 fits\n",
      "Melhores parâmetros: {'regressor__C': 2.481040974867813, 'regressor__epsilon': 0.05680559213273095, 'regressor__gamma': 'scale', 'regressor__kernel': 'rbf'}\n",
      "Melhor R² (validação cruzada): 0.2583237814918549\n"
     ]
    }
   ],
   "source": [
    "pipeline = Pipeline([\n",
    "    ('preprocess', preprocessor),\n",
    "    ('regressor', SVR())\n",
    "])\n",
    "\n",
    "param_dist = {\n",
    "    'regressor__kernel': ['rbf', 'linear'],\n",
    "    'regressor__C': loguniform(1e-2, 1e2),\n",
    "    'regressor__epsilon': uniform(0.01, 0.3),\n",
    "    'regressor__gamma': ['scale', 'auto']\n",
    "}\n",
    "\n",
    "svm_rand = RandomizedSearchCV(\n",
    "    estimator=pipeline,\n",
    "    param_distributions=param_dist,\n",
    "    n_iter=10,\n",
    "    cv=kf,\n",
    "    scoring='r2',\n",
    "    random_state=42,\n",
    "    verbose=2,\n",
    "    n_jobs=-1\n",
    ")\n",
    "\n",
    "svm_rand.fit(X_train, y_train)\n",
    "print(\"Melhores parâmetros:\", svm_rand.best_params_)\n",
    "print(\"Melhor R² (validação cruzada):\", svm_rand.best_score_)"
   ]
  },
  {
   "cell_type": "markdown",
   "id": "c156ec76",
   "metadata": {},
   "source": [
    "# Avaliação dos modelos"
   ]
  },
  {
   "cell_type": "code",
   "execution_count": 36,
   "id": "6411bd49",
   "metadata": {},
   "outputs": [
    {
     "name": "stdout",
     "output_type": "stream",
     "text": [
      "                    Modelo        MSE      RMSE        R²\n",
      "2     XGBRegressor + SMOGN   3.096916  1.759806  0.332176\n",
      "5              SVR + SMOGN   3.778919  1.943944  0.185108\n",
      "0     XGBRegressor + SMOTE  16.565900  4.070123 -2.572295\n",
      "3              SVR + SMOTE  17.371902  4.167961 -2.746103\n",
      "1  XGBRegressor + SMOTEENN  17.950679  4.236824 -2.870911\n",
      "4           SVR + SMOTEENN  18.232393  4.269941 -2.931660\n"
     ]
    }
   ],
   "source": [
    "modelos_bal = {\n",
    "    'XGBRegressor + SMOTE': XGBRegressor(objective='reg:squarederror', random_state=42, n_jobs=-1),\n",
    "    'XGBRegressor + SMOTEENN': XGBRegressor(objective='reg:squarederror', random_state=42, n_jobs=-1),\n",
    "    'XGBRegressor + SMOGN': XGBRegressor(objective='reg:squarederror', random_state=42, n_jobs=-1),\n",
    "    'SVR + SMOTE': SVR(C=1.0, epsilon=0.1, kernel='rbf'),\n",
    "    'SVR + SMOTEENN': SVR(C=1.0, epsilon=0.1, kernel='rbf'),\n",
    "    'SVR + SMOGN': SVR(C=1.0, epsilon=0.1, kernel='rbf'),\n",
    "}\n",
    "\n",
    "resultados = []\n",
    "\n",
    "for nome, modelo in modelos_bal.items():\n",
    "    if 'SMOGN' in nome:\n",
    "        X_bal, y_bal = X_smogn, y_smogn\n",
    "    elif 'SMOTEENN' in nome:\n",
    "        X_bal, y_bal = X_smoteenn, y_smoteenn\n",
    "    else:\n",
    "        X_bal, y_bal = X_smote, y_smote\n",
    "\n",
    "    modelo.fit(X_bal, y_bal)\n",
    "    y_pred = modelo.predict(X_test_transf)\n",
    "\n",
    "    mse = mean_squared_error(y_test, y_pred)\n",
    "    rmse = np.sqrt(mse)\n",
    "    r2 = r2_score(y_test, y_pred)\n",
    "\n",
    "    resultados.append({'Modelo': nome, 'MSE': mse, 'RMSE': rmse, 'R²': r2})\n",
    "\n",
    "resultados_df = pd.DataFrame(resultados)\n",
    "print(resultados_df.sort_values(by='R²', ascending=False))"
   ]
  }
 ],
 "metadata": {
  "language_info": {
   "name": "python"
  }
 },
 "nbformat": 4,
 "nbformat_minor": 5
}
