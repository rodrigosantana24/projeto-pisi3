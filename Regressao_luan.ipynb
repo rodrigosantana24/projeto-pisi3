{
 "cells": [
  {
   "cell_type": "markdown",
   "id": "395e1c82",
   "metadata": {},
   "source": [
    "# Importações"
   ]
  },
  {
   "cell_type": "code",
   "execution_count": null,
   "id": "96524b12",
   "metadata": {},
   "outputs": [],
   "source": [
    "#!pip install scikit-learn pandas numpy matplotlib xgboost smogn imbalanced-learn scipy\n",
    "\n",
    "#Caso dê algum erro nas importacoes rodar os comandos abaixo:\n",
    "#!pip uninstall -y scikit-learn imbalanced-learn scipy\n",
    "#!pip install scikit-learn==1.3.2 scipy==1.11.4 imbalanced-learn==0.11.0"
   ]
  },
  {
   "cell_type": "code",
   "execution_count": null,
   "id": "aae75188",
   "metadata": {},
   "outputs": [],
   "source": [
    "import pandas as pd  \n",
    "import numpy as np  \n",
    "import matplotlib.pyplot as plt\n",
    "\n",
    "# Pré-processamento e pipelines\n",
    "from sklearn.pipeline import Pipeline\n",
    "from sklearn.compose import ColumnTransformer\n",
    "from sklearn.preprocessing import OneHotEncoder, StandardScaler\n",
    "\n",
    "# Modelos de ML\n",
    "from sklearn.neighbors import KNeighborsRegressor\n",
    "from sklearn.svm import SVR\n",
    "from xgboost import XGBRegressor\n",
    "\n",
    "# Validação e busca de hiperparâmetros\n",
    "from sklearn.model_selection import train_test_split, KFold, GridSearchCV, RandomizedSearchCV\n",
    "from scipy.stats import randint, uniform, loguniform\n",
    "from scipy.stats.mstats import winsorize\n",
    "\n",
    "# Métricas\n",
    "from sklearn.metrics import mean_squared_error, r2_score, mean_absolute_percentage_error\n",
    "\n",
    "# SMOGN, SMOTE e SMOTEENN\n",
    "import smogn\n",
    "from imblearn.over_sampling import SMOTE\n",
    "from imblearn.combine import SMOTEENN"
   ]
  },
  {
   "cell_type": "markdown",
   "id": "e612b12a",
   "metadata": {},
   "source": [
    "# Carregando dataset"
   ]
  },
  {
   "cell_type": "code",
   "execution_count": null,
   "id": "59710284",
   "metadata": {},
   "outputs": [],
   "source": [
    "df = pd.read_csv('filmes_luan.csv')"
   ]
  },
  {
   "cell_type": "markdown",
   "id": "a4a8550b",
   "metadata": {},
   "source": [
    "# Identificando e tratando outliers em variáveis numéricas do df"
   ]
  },
  {
   "cell_type": "code",
   "execution_count": null,
   "id": "94708dea",
   "metadata": {},
   "outputs": [],
   "source": [
    "numeric_cols = df[['popularity']].columns\n",
    "\n",
    "for col in numeric_cols:\n",
    "    plt.figure(figsize=(8, 1))\n",
    "    plt.boxplot(df[col], vert=False)\n",
    "    plt.title(f'Boxplot de {col}')\n",
    "    plt.show()"
   ]
  },
  {
   "cell_type": "markdown",
   "id": "ab0a5309",
   "metadata": {},
   "source": [
    "### Tratamento com Winsorization + LOG nos outliers\n",
    " - Substitui outliers extremos pelos percentis limite.\n",
    " - reduz o impacto de valores extremos sem truncar bruscamente como o CAP faz.\n",
    " - reduzindo o impacto desses valores sem removê-los do dataset."
   ]
  },
  {
   "cell_type": "code",
   "execution_count": null,
   "id": "0488db95",
   "metadata": {},
   "outputs": [],
   "source": [
    "df['popularity'] = np.log1p(df['popularity'])\n",
    "df['popularity'] = winsorize(df['popularity'], limits=[0.01, 0.01])\n",
    "\n",
    "plt.figure(figsize=(8, 1))\n",
    "plt.boxplot(df['popularity'], vert=False)\n",
    "plt.title('Boxplot de popularity (log + winsorize)')\n",
    "plt.show()"
   ]
  },
  {
   "cell_type": "markdown",
   "id": "5b78457c",
   "metadata": {},
   "source": [
    "# Treinamento\n",
    "- Modelo XGBRegressor\n",
    "- Modelo SVM"
   ]
  },
  {
   "cell_type": "markdown",
   "id": "3c00c529",
   "metadata": {},
   "source": [
    "### Definindo as colunas de features e o target"
   ]
  },
  {
   "cell_type": "code",
   "execution_count": null,
   "id": "a4e14a27",
   "metadata": {},
   "outputs": [],
   "source": [
    "X = df.drop(columns=['vote_average'])\n",
    "y = df['vote_average']\n",
    "\n",
    "X_train, X_test, y_train, y_test = train_test_split(X, y, test_size=0.3, random_state=87)\n",
    "\n",
    "categorical_col = ['original_language']\n",
    "numerical_cols = [col for col in X_train.columns if col not in categorical_col]"
   ]
  },
  {
   "cell_type": "code",
   "execution_count": null,
   "id": "bc4b7744",
   "metadata": {},
   "outputs": [],
   "source": [
    "ohe = OneHotEncoder(handle_unknown='ignore', sparse_output=False)\n",
    "X_cat_train = ohe.fit_transform(X_train[categorical_col])\n",
    "X_cat_test = ohe.transform(X_test[categorical_col])\n",
    "\n",
    "scaler = StandardScaler()\n",
    "X_num_train = scaler.fit_transform(X_train[numerical_cols])\n",
    "X_num_test = scaler.transform(X_test[numerical_cols])\n",
    "\n",
    "X_train_transf = np.concatenate([X_cat_train, X_num_train], axis=1)\n",
    "X_test_transf = np.concatenate([X_cat_test, X_num_test], axis=1)"
   ]
  },
  {
   "cell_type": "markdown",
   "id": "7c5cef16",
   "metadata": {},
   "source": [
    "# Aplicando SMOGN, SMOTE e SMOTEENN"
   ]
  },
  {
   "cell_type": "code",
   "execution_count": null,
   "id": "a4b6bcff",
   "metadata": {},
   "outputs": [],
   "source": [
    "# Transformando o alvo contínuo em 5 bins para usar SMOTE e SMOTEENN (Necessário pois SMOTE e SMOTEENN não foi feito para regressão)\n",
    "y_train_binned = pd.qcut(y_train, q=5, labels=False)\n",
    "\n",
    "smote = SMOTE(random_state=42)\n",
    "X_smote, y_smote = smote.fit_resample(X_train_transf, y_train_binned)\n",
    "\n",
    "smoteenn = SMOTEENN(random_state=42)\n",
    "X_smoteenn, y_smoteenn = smoteenn.fit_resample(X_train_transf, y_train_binned)"
   ]
  },
  {
   "cell_type": "code",
   "execution_count": null,
   "id": "18dcf1fb",
   "metadata": {},
   "outputs": [],
   "source": [
    "#Aplicando SMOGN (oversampling para regressão)\n",
    "X_smogn_df = pd.DataFrame(X_train_transf)\n",
    "X_smogn_df['vote_average'] = y_train.values\n",
    "\n",
    "X_smogn = smogn.smoter(\n",
    "    data=X_smogn_df,\n",
    "    y='vote_average',\n",
    "    k=3,\n",
    "    samp_method='balance'\n",
    ")\n",
    "y_smogn = X_smogn['vote_average']\n",
    "X_smogn = X_smogn.drop(columns=['vote_average'])"
   ]
  },
  {
   "cell_type": "markdown",
   "id": "4eb73d79",
   "metadata": {},
   "source": [
    "# Pipeline com XGBoost (RandomSearch)"
   ]
  },
  {
   "cell_type": "code",
   "execution_count": null,
   "id": "0bdcc68c",
   "metadata": {},
   "outputs": [],
   "source": [
    "preprocessor = ColumnTransformer([\n",
    "    ('cat', OneHotEncoder(handle_unknown='ignore'), categorical_col),\n",
    "    ('num', StandardScaler(), numerical_cols)\n",
    "])\n",
    "\n",
    "pipeline = Pipeline([\n",
    "    ('preprocess', preprocessor),\n",
    "    ('regressor', XGBRegressor(objective='reg:squarederror', random_state=42, n_jobs=-1))\n",
    "])\n",
    "\n",
    "param_dist = {\n",
    "    'regressor__n_estimators': randint(100, 300),\n",
    "    'regressor__max_depth': randint(3, 10),\n",
    "    'regressor__learning_rate': uniform(0.01, 0.3),\n",
    "    'regressor__subsample': uniform(0.7, 0.3),\n",
    "    'regressor__colsample_bytree': uniform(0.7, 0.3),\n",
    "}\n",
    "\n",
    "kf = KFold(n_splits=5, shuffle=True, random_state=87)\n",
    "\n",
    "xgb_rand = RandomizedSearchCV(\n",
    "    estimator=pipeline,\n",
    "    param_distributions=param_dist,\n",
    "    n_iter=60,\n",
    "    cv=kf,\n",
    "    scoring='r2',\n",
    "    random_state=87,\n",
    "    verbose=2,\n",
    "    n_jobs=-1\n",
    ")\n",
    "\n",
    "xgb_rand.fit(X_train, y_train)\n",
    "print(\"Melhores parâmetros:\", xgb_rand.best_params_)\n",
    "print(\"Melhor R² (validação cruzada):\", xgb_rand.best_score_)"
   ]
  }
 ],
 "metadata": {
  "language_info": {
   "name": "python"
  }
 },
 "nbformat": 4,
 "nbformat_minor": 5
}
