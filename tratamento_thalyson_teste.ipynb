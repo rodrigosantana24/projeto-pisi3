{
 "cells": [
  {
   "cell_type": "code",
   "execution_count": 12,
   "id": "38b52964",
   "metadata": {},
   "outputs": [],
   "source": [
    "import pandas as pd\n",
    "from sklearn.preprocessing import MultiLabelBinarizer\n",
    "from scipy.stats import zscore\n",
    "from collections import Counter\n",
    "import numpy as np"
   ]
  },
  {
   "cell_type": "code",
   "execution_count": 13,
   "id": "6a8a8d36",
   "metadata": {},
   "outputs": [],
   "source": [
    "df =  pd.read_csv(\"movies.csv\")\n"
   ]
  },
  {
   "cell_type": "code",
   "execution_count": 14,
   "id": "945d54e3",
   "metadata": {},
   "outputs": [
    {
     "data": {
      "text/plain": [
       "Index(['id', 'title', 'genres', 'original_language', 'overview', 'popularity',\n",
       "       'production_companies', 'release_date', 'budget', 'revenue', 'runtime',\n",
       "       'status', 'tagline', 'vote_average', 'vote_count', 'credits',\n",
       "       'keywords', 'poster_path', 'backdrop_path', 'recommendations'],\n",
       "      dtype='object')"
      ]
     },
     "metadata": {},
     "output_type": "display_data"
    }
   ],
   "source": [
    "display(df.columns)"
   ]
  },
  {
   "cell_type": "code",
   "execution_count": 15,
   "id": "e5d2f04d",
   "metadata": {},
   "outputs": [],
   "source": [
    "# Converter a coluna para datetime (se ainda não estiver)\n",
    "df['release_date'] = pd.to_datetime(df['release_date'], errors='coerce')\n",
    "\n",
    "# Criar as colunas release_year e release_month\n",
    "df['release_year'] = df['release_date'].dt.year\n",
    "df['release_month'] = df['release_date'].dt.month"
   ]
  },
  {
   "cell_type": "code",
   "execution_count": 16,
   "id": "de9886bd",
   "metadata": {},
   "outputs": [
    {
     "name": "stderr",
     "output_type": "stream",
     "text": [
      "c:\\Users\\thalyson\\AppData\\Local\\Programs\\Python\\Python312\\Lib\\site-packages\\pandas\\core\\arraylike.py:399: RuntimeWarning: invalid value encountered in log\n",
      "  result = getattr(ufunc, method)(*inputs, **kwargs)\n"
     ]
    }
   ],
   "source": [
    "# Substituir zeros por 1\n",
    "df['budget'] = df['budget'].replace(0, 1)\n",
    "df['revenue'] = df['revenue'].replace(0, 1)\n",
    "\n",
    "# Aplicar transformação logarítmica e criar colunas novas\n",
    "df['budget_log'] = np.log(df['budget'])\n",
    "df['revenue_log'] = np.log(df['revenue'])"
   ]
  },
  {
   "cell_type": "code",
   "execution_count": 17,
   "id": "b1fea82c",
   "metadata": {},
   "outputs": [
    {
     "data": {
      "text/plain": [
       "Index(['id', 'title', 'genres', 'original_language', 'overview', 'popularity',\n",
       "       'production_companies', 'release_date', 'budget', 'revenue', 'runtime',\n",
       "       'status', 'tagline', 'vote_average', 'vote_count', 'credits',\n",
       "       'keywords', 'poster_path', 'backdrop_path', 'recommendations',\n",
       "       'release_year', 'release_month', 'budget_log', 'revenue_log'],\n",
       "      dtype='object')"
      ]
     },
     "metadata": {},
     "output_type": "display_data"
    }
   ],
   "source": [
    "# --- 3. Tratar gêneros: separar por '-' e agrupar gêneros raros em 'Outros' ---\n",
    "df['genres'] = df['genres'].fillna('')  # preencher nulos com string vazia\n",
    "df['genres'] = df['genres'].apply(lambda x: x.split('-') if x else [])\n",
    "\n",
    "contagem = Counter([genero for sublist in df['genres'] for genero in sublist])\n",
    "generos_raros = [g for g, count in contagem.items() if count < 900]\n",
    "\n",
    "def substituir_raros(lista):\n",
    "    return [g if g not in generos_raros else 'Outros' for g in lista]\n",
    "\n",
    "df['genres'] = df['genres'].apply(substituir_raros)\n",
    "\n",
    "# --- 4. Transformar genres em dummies ---\n",
    "mlb = MultiLabelBinarizer()\n",
    "genres_dummies = mlb.fit_transform(df['genres'])\n",
    "df_genres = pd.DataFrame(genres_dummies, columns=mlb.classes_, index=df.index)\n",
    "\n",
    "\n",
    "display(df.columns)"
   ]
  },
  {
   "cell_type": "code",
   "execution_count": 18,
   "id": "48345aea",
   "metadata": {},
   "outputs": [],
   "source": [
    "colunas_uteis = ['genres',\n",
    "    'original_language',\n",
    "    'popularity',\n",
    "    'budget_log',\n",
    "    'revenue_log',\n",
    "    'runtime',\n",
    "    'vote_average',\n",
    "    'vote_count',\n",
    "    'release_year',\n",
    "    'release_month'\n",
    "]"
   ]
  }
 ],
 "metadata": {
  "kernelspec": {
   "display_name": "Python 3",
   "language": "python",
   "name": "python3"
  },
  "language_info": {
   "codemirror_mode": {
    "name": "ipython",
    "version": 3
   },
   "file_extension": ".py",
   "mimetype": "text/x-python",
   "name": "python",
   "nbconvert_exporter": "python",
   "pygments_lexer": "ipython3",
   "version": "3.12.2"
  }
 },
 "nbformat": 4,
 "nbformat_minor": 5
}
