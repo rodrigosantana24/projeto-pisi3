{
 "cells": [
  {
   "cell_type": "markdown",
   "id": "928ebbbb",
   "metadata": {},
   "source": [
    "# Importações"
   ]
  },
  {
   "cell_type": "code",
   "execution_count": 2,
   "id": "cd81e6ad",
   "metadata": {},
   "outputs": [],
   "source": [
    "#!pip install scikit-learn shap pandas numpy matplotlib xgboost seaborn "
   ]
  },
  {
   "cell_type": "code",
   "execution_count": 1,
   "id": "0b338c4e",
   "metadata": {},
   "outputs": [
    {
     "name": "stderr",
     "output_type": "stream",
     "text": [
      "c:\\Users\\hehe\\Documents\\GitHub\\projeto-pisi3\\.venv\\Lib\\site-packages\\tqdm\\auto.py:21: TqdmWarning: IProgress not found. Please update jupyter and ipywidgets. See https://ipywidgets.readthedocs.io/en/stable/user_install.html\n",
      "  from .autonotebook import tqdm as notebook_tqdm\n"
     ]
    }
   ],
   "source": [
    "import pickle\n",
    "\n",
    "import shap\n",
    "import matplotlib.pyplot as plt\n",
    "\n",
    "import pandas as pd \n",
    "import numpy as np  \n",
    "\n",
    "# Pré-processamento e pipelines\n",
    "from sklearn.preprocessing import MultiLabelBinarizer\n",
    "from sklearn.base import BaseEstimator, TransformerMixin\n",
    "from sklearn.pipeline import Pipeline\n",
    "from sklearn.compose import ColumnTransformer\n",
    "from sklearn.preprocessing import OneHotEncoder, StandardScaler, RobustScaler\n",
    "\n",
    "# Modelos de ML\n",
    "from sklearn.neighbors import KNeighborsRegressor\n",
    "from sklearn.svm import SVR\n",
    "from sklearn.ensemble import RandomForestRegressor\n",
    "from xgboost import XGBRegressor\n",
    "\n",
    "# Validação e busca de hiperparâmetros\n",
    "from sklearn.model_selection import train_test_split, KFold, GridSearchCV, RandomizedSearchCV\n",
    "from scipy.stats import randint, uniform, loguniform\n",
    "\n",
    "# Métricas\n",
    "from sklearn.metrics import mean_absolute_error, mean_squared_error, median_absolute_error, r2_score"
   ]
  },
  {
   "cell_type": "markdown",
   "id": "c4b6ee80",
   "metadata": {},
   "source": [
    "# Carregando dataset"
   ]
  },
  {
   "cell_type": "code",
   "execution_count": 2,
   "id": "e68a0c1f",
   "metadata": {},
   "outputs": [],
   "source": [
    "# Carregar o dataset\n",
    "df = pd.read_csv('filmes_filtrados.csv')"
   ]
  },
  {
   "cell_type": "markdown",
   "id": "5280c649",
   "metadata": {},
   "source": [
    "# Dividindo os dados\n",
    "- X_train, X_test, y_train, y_test"
   ]
  },
  {
   "cell_type": "code",
   "execution_count": 3,
   "id": "61874500",
   "metadata": {},
   "outputs": [],
   "source": [
    "numerical_cols = df[['popularity', 'budget', 'runtime']].columns\n",
    "categorical_col = ['original_language']\n",
    "date_column = 'release_date'\n",
    "\n",
    "X = df.drop(columns=['vote_average'])\n",
    "y = df['vote_average']\n",
    "\n",
    "# Dividindo o dataset em treino e teste\n",
    "X_train, X_test, y_train, y_test = train_test_split(X, y, test_size=0.2, random_state=87)"
   ]
  },
  {
   "cell_type": "markdown",
   "id": "bbbf3971",
   "metadata": {},
   "source": [
    "# Transformadores\n",
    "- MultiLabelBinarize -> Generos Cinematográficos e Produtora\n",
    "- Data -> Extrai o ano e o mês das datas\n",
    "- Outliers -> Cap, Log + Cap, Winsorizer\n",
    "- Agrupamento de categorias raras"
   ]
  },
  {
   "cell_type": "markdown",
   "id": "ff390a0e",
   "metadata": {},
   "source": [
    "## Colunas: Generos Cinematográficos e Produtora\n",
    "Aplicando MultiLabelBinarize com limites de 12 e 10, respectivamente"
   ]
  },
  {
   "cell_type": "code",
   "execution_count": 4,
   "id": "16fce408",
   "metadata": {},
   "outputs": [],
   "source": [
    "def process_multilabel_column(train_series, test_series, sep='-', top_n=20, outros=True, prefix=''):\n",
    "    # Extrair top N do treino\n",
    "    exploded = train_series.str.split(sep).explode().str.strip()\n",
    "    top = exploded.value_counts().nlargest(top_n).index\n",
    "\n",
    "    def filter_top(vals):\n",
    "        vals = [v.strip() for v in vals.split(sep)]\n",
    "        if outros:\n",
    "            return [v if v in top else 'Outros' for v in vals]\n",
    "        else:\n",
    "            return [v for v in vals if v in top]\n",
    "\n",
    "    # Aplicar transformação\n",
    "    train_processed = train_series.apply(filter_top)\n",
    "    test_processed = test_series.apply(filter_top)\n",
    "\n",
    "    mlb = MultiLabelBinarizer()\n",
    "    train_encoded = pd.DataFrame(\n",
    "        mlb.fit_transform(train_processed),\n",
    "        columns=[f'{prefix}_{cls}' for cls in mlb.classes_],\n",
    "        index=train_series.index\n",
    "    )\n",
    "    test_encoded = pd.DataFrame(\n",
    "        mlb.transform(test_processed),\n",
    "        columns=[f'{prefix}_{cls}' for cls in mlb.classes_],\n",
    "        index=test_series.index\n",
    "    )\n",
    "\n",
    "    return train_encoded, test_encoded, mlb\n"
   ]
  },
  {
   "cell_type": "markdown",
   "id": "884354ce",
   "metadata": {},
   "source": [
    "### Generos cinematográficos"
   ]
  },
  {
   "cell_type": "code",
   "execution_count": 5,
   "id": "3ca4948b",
   "metadata": {},
   "outputs": [
    {
     "name": "stdout",
     "output_type": "stream",
     "text": [
      "genres\n",
      "Drama              3878\n",
      "Comedy             2841\n",
      "Thriller           2261\n",
      "Action             2163\n",
      "Romance            1426\n",
      "Adventure          1396\n",
      "Crime              1323\n",
      "Horror             1316\n",
      "Science Fiction     996\n",
      "Fantasy             793\n",
      "Family              770\n",
      "Mystery             743\n",
      "History             439\n",
      "Animation           412\n",
      "War                 342\n",
      "Music               263\n",
      "Western             141\n",
      "Documentary         101\n",
      "TV Movie             65\n",
      "Name: count, dtype: int64\n",
      "19\n"
     ]
    }
   ],
   "source": [
    "teste = X_train['genres'].apply(lambda x: x.split('-')).copy()\n",
    "teste = teste.explode().reset_index(drop=True)\n",
    "genre_counts = teste.value_counts() # Apply value_counts directly to the Series\n",
    "print(genre_counts)\n",
    "print(len(genre_counts))"
   ]
  },
  {
   "cell_type": "code",
   "execution_count": 6,
   "id": "43dabd0b",
   "metadata": {},
   "outputs": [],
   "source": [
    "genres_train, genres_test, mlb_genres= process_multilabel_column(\n",
    "    X_train['genres'], X_test['genres'], sep='-', top_n=12, outros=True, prefix='genre'\n",
    ")\n",
    "\n",
    "# Substituir a coluna original\n",
    "X_train = X_train.drop(columns='genres').join(genres_train)\n",
    "X_test = X_test.drop(columns='genres').join(genres_test)"
   ]
  },
  {
   "cell_type": "markdown",
   "id": "1db7371a",
   "metadata": {},
   "source": [
    "#### Definindo Pickle"
   ]
  },
  {
   "cell_type": "code",
   "execution_count": null,
   "id": "f8105f6a",
   "metadata": {},
   "outputs": [],
   "source": [
    "#with open('mlb_genres.pkl', 'wb') as f:\n",
    "    #pickle.dump(mlb_genres, f)"
   ]
  },
  {
   "cell_type": "markdown",
   "id": "35013b6a",
   "metadata": {},
   "source": [
    "### Produtoras"
   ]
  },
  {
   "cell_type": "code",
   "execution_count": 8,
   "id": "6c97f164",
   "metadata": {},
   "outputs": [
    {
     "name": "stdout",
     "output_type": "stream",
     "text": [
      "production_companies\n",
      "Universal Pictures       516\n",
      "Warner Bros. Pictures    500\n",
      "20th Century Fox         376\n",
      "Columbia Pictures        371\n",
      "Paramount                371\n",
      "Goldwyn                  264\n",
      "Metro                    262\n",
      "Mayer                    252\n",
      "Name: count, dtype: int64\n",
      "9944\n"
     ]
    }
   ],
   "source": [
    "teste = X_train['production_companies'].apply(lambda x: x.split('-')).copy()\n",
    "teste = teste.explode().reset_index(drop=True)\n",
    "production_counts = teste.value_counts() # Apply value_counts directly to the Series\n",
    "print(production_counts[:8])\n",
    "print(len(production_counts))"
   ]
  },
  {
   "cell_type": "code",
   "execution_count": 9,
   "id": "ae0bd0ed",
   "metadata": {},
   "outputs": [],
   "source": [
    "production_train, production_test, mlb_production = process_multilabel_column(\n",
    "    X_train['production_companies'], X_test['production_companies'], sep='-', top_n=8, outros=True, prefix='production'\n",
    ")\n",
    "\n",
    "# Substituir a coluna original\n",
    "X_train = X_train.drop(columns='production_companies').join(production_train)\n",
    "X_test = X_test.drop(columns='production_companies').join(production_test)"
   ]
  },
  {
   "cell_type": "markdown",
   "id": "c41992cb",
   "metadata": {},
   "source": [
    "#### Definindo pickle "
   ]
  },
  {
   "cell_type": "code",
   "execution_count": null,
   "id": "ad000862",
   "metadata": {},
   "outputs": [],
   "source": [
    "#with open('mlb_production.pkl', 'wb') as f:\n",
    "    #pickle.dump(mlb_production, f)"
   ]
  },
  {
   "cell_type": "markdown",
   "id": "2b923114",
   "metadata": {},
   "source": [
    "## Colunas de data\n",
    "Transformer: Data para ano/mês"
   ]
  },
  {
   "cell_type": "code",
   "execution_count": 10,
   "id": "1a635f52",
   "metadata": {},
   "outputs": [],
   "source": [
    "class DateFeatureExtractor(BaseEstimator, TransformerMixin):\n",
    "    def __init__(self, date_column):\n",
    "        self.date_column = date_column\n",
    "\n",
    "    def fit(self, X, y=None):\n",
    "        return self\n",
    "\n",
    "    def transform(self, X):\n",
    "        X = X.copy()\n",
    "        X[self.date_column] = pd.to_datetime(X[self.date_column], errors='coerce')\n",
    "        X['year'] = X[self.date_column].dt.year\n",
    "        X['month'] = X[self.date_column].dt.month\n",
    "        return X.drop(columns=[self.date_column])"
   ]
  },
  {
   "cell_type": "markdown",
   "id": "2fd04912",
   "metadata": {},
   "source": [
    "## Outliers\n",
    "- CapTransformer: Cap\n",
    "- LogCapTransformer: Cap + Log\n",
    "- Winsorizer"
   ]
  },
  {
   "cell_type": "code",
   "execution_count": 11,
   "id": "259834ce",
   "metadata": {},
   "outputs": [],
   "source": [
    "class CapTransformer(BaseEstimator, TransformerMixin):\n",
    "    def __init__(self, columns):\n",
    "        self.columns = columns\n",
    "        self.bounds_ = {}\n",
    "\n",
    "    def fit(self, X, y=None):\n",
    "        X = X.copy()\n",
    "        for col in self.columns:\n",
    "            Q1 = X[col].quantile(0.25)\n",
    "            Q3 = X[col].quantile(0.75)\n",
    "            IQR = Q3 - Q1\n",
    "            lower = Q1 - 1.5 * IQR\n",
    "            upper = Q3 + 1.5 * IQR\n",
    "            self.bounds_[col] = (lower, upper)\n",
    "        return self\n",
    "\n",
    "    def transform(self, X):\n",
    "        X = X.copy()\n",
    "        for col in self.columns:\n",
    "            lower, upper = self.bounds_[col]\n",
    "            X[col] = X[col].clip(lower, upper)\n",
    "        return X\n"
   ]
  },
  {
   "cell_type": "code",
   "execution_count": 12,
   "id": "d768ea6e",
   "metadata": {},
   "outputs": [],
   "source": [
    "class LogCapTransformer(BaseEstimator, TransformerMixin):\n",
    "    def __init__(self, columns):\n",
    "        self.columns = columns\n",
    "        self.bounds_ = {}\n",
    "\n",
    "    def fit(self, X, y=None):\n",
    "        X = X.copy()\n",
    "        for col in self.columns:\n",
    "            Q1 = X[col].quantile(0.25)\n",
    "            Q3 = X[col].quantile(0.75)\n",
    "            IQR = Q3 - Q1\n",
    "            lower = Q1 - 1.5 * IQR\n",
    "            upper = Q3 + 1.5 * IQR\n",
    "            self.bounds_[col] = (lower, upper)\n",
    "        return self\n",
    "\n",
    "    def transform(self, X):\n",
    "        X = X.copy()\n",
    "        for col in self.columns:\n",
    "            lower, upper = self.bounds_[col]\n",
    "            X[col] = X[col].clip(lower, upper)\n",
    "            X[col] = np.log1p(X[col])\n",
    "        return X"
   ]
  },
  {
   "cell_type": "code",
   "execution_count": 13,
   "id": "864d2086",
   "metadata": {},
   "outputs": [],
   "source": [
    "class Winsorizer(BaseEstimator, TransformerMixin):\n",
    "    def __init__(self, columns, lower_percentile=0.05, upper_percentile=0.95):\n",
    "        self.columns = columns\n",
    "        self.lower_percentile = lower_percentile\n",
    "        self.upper_percentile = upper_percentile\n",
    "        self.bounds_ = {}\n",
    "\n",
    "    def fit(self, X, y=None):\n",
    "        X = X.copy()\n",
    "        for c in self.columns:\n",
    "            low = X[c].quantile(self.lower_percentile)\n",
    "            high = X[c].quantile(self.upper_percentile)\n",
    "            self.bounds_[c] = (low, high)\n",
    "        return self\n",
    "\n",
    "    def transform(self, X):\n",
    "        X = X.copy()\n",
    "        for c, (low, high) in self.bounds_.items():\n",
    "            X[c] = X[c].clip(low, high)\n",
    "        return X\n"
   ]
  },
  {
   "cell_type": "markdown",
   "id": "82f8c250",
   "metadata": {},
   "source": [
    "## Agrupar categorias raras\n",
    "- original_language"
   ]
  },
  {
   "cell_type": "code",
   "execution_count": 14,
   "id": "7f03aaee",
   "metadata": {},
   "outputs": [],
   "source": [
    "class RareCategoryGrouper(BaseEstimator, TransformerMixin):\n",
    "    def __init__(self, column, top_n=10, other_label='Other'):\n",
    "        self.column = column\n",
    "        self.top_n = top_n\n",
    "        self.other_label = other_label\n",
    "\n",
    "    def fit(self, X, y=None):\n",
    "        # armazena os top_n valores da coluna no treino\n",
    "        vc = X[self.column].value_counts()\n",
    "        self.top_ = vc.nlargest(self.top_n).index.tolist()\n",
    "        return self\n",
    "\n",
    "    def transform(self, X):\n",
    "        X = X.copy()\n",
    "        X[self.column] = X[self.column].where(\n",
    "            X[self.column].isin(self.top_),\n",
    "            other=self.other_label\n",
    "        )\n",
    "        return X\n"
   ]
  },
  {
   "cell_type": "markdown",
   "id": "c2c90794",
   "metadata": {},
   "source": [
    "# Treinamento\n",
    "- Modelo XGBRegressor\n",
    "- Modelo SVR\n",
    "- Modelo RandomForest"
   ]
  },
  {
   "cell_type": "markdown",
   "id": "3157e350",
   "metadata": {},
   "source": [
    "### Definindo Kf"
   ]
  },
  {
   "cell_type": "code",
   "execution_count": 15,
   "id": "7ff9ed3b",
   "metadata": {},
   "outputs": [],
   "source": [
    "# Definindo o KFold para o cross-validation\n",
    "kf = KFold(n_splits=5, shuffle=True, random_state=87)"
   ]
  },
  {
   "cell_type": "markdown",
   "id": "2a7321a7",
   "metadata": {},
   "source": [
    "### XGBRegressor"
   ]
  },
  {
   "cell_type": "code",
   "execution_count": 16,
   "id": "3d122d12",
   "metadata": {},
   "outputs": [
    {
     "name": "stdout",
     "output_type": "stream",
     "text": [
      "Fitting 5 folds for each of 30 candidates, totalling 150 fits\n",
      "Melhores parâmetros: {'regressor__colsample_bytree': np.float64(0.8696231377727208), 'regressor__learning_rate': np.float64(0.05992056035524427), 'regressor__max_depth': 5, 'regressor__n_estimators': 241, 'regressor__subsample': np.float64(0.8173221947525602)}\n",
      "Melhor R² (validação cruzada): 0.4861070269728551\n"
     ]
    }
   ],
   "source": [
    "# Cap de outliers + padronização\n",
    "num_pipeline = Pipeline([\n",
    "    ('cap', CapTransformer(columns=numerical_cols)),\n",
    "    ('scale', StandardScaler())\n",
    "])\n",
    "\n",
    "\n",
    "# OneHot para variáveis categóricas\n",
    "cat_pipeline = Pipeline([\n",
    "    ('rare', RareCategoryGrouper(column='original_language', top_n=10, other_label='Other')),\n",
    "    ('onehot', OneHotEncoder(handle_unknown='ignore', sparse_output=False))\n",
    "])\n",
    "\n",
    "# Pré-processador geral\n",
    "preprocessor = ColumnTransformer([\n",
    "    ('num', num_pipeline, numerical_cols),\n",
    "    ('cat', cat_pipeline, categorical_col)\n",
    "], remainder='passthrough')  # passa as colunas de ano/mês e binarizadas\n",
    "\n",
    "\n",
    "# Pipeline Completo\n",
    "pipeline = Pipeline([\n",
    "    ('date', DateFeatureExtractor(date_column=date_column)),  # extrai year e month\n",
    "    ('preprocess', preprocessor),\n",
    "    ('regressor', XGBRegressor(objective='reg:squarederror', random_state=87, n_jobs=-1))\n",
    "])\n",
    "\n",
    "# RandomizedSearch\n",
    "param_dist = {\n",
    "    'regressor__n_estimators': randint(100, 300),\n",
    "    'regressor__max_depth': randint(3, 10),\n",
    "    'regressor__learning_rate': uniform(0.01, 0.3),\n",
    "    'regressor__subsample': uniform(0.7, 0.3),\n",
    "    'regressor__colsample_bytree': uniform(0.7, 0.3),\n",
    "}\n",
    "\n",
    "kf = KFold(n_splits=5, shuffle=True, random_state=87)\n",
    "\n",
    "XGBRegressor_rand = RandomizedSearchCV(\n",
    "    estimator=pipeline,\n",
    "    param_distributions=param_dist,\n",
    "    n_iter=30,\n",
    "    cv=kf,\n",
    "    scoring='r2',\n",
    "    random_state=87,\n",
    "    verbose=2,\n",
    "    n_jobs=-1\n",
    ")\n",
    "\n",
    "# Treinamento e resultado\n",
    "XGBRegressor_rand.fit(X_train, y_train)\n",
    "\n",
    "print(\"Melhores parâmetros:\", XGBRegressor_rand.best_params_)\n",
    "print(\"Melhor R² (validação cruzada):\", XGBRegressor_rand.best_score_)\n"
   ]
  },
  {
   "cell_type": "markdown",
   "id": "ddf98090",
   "metadata": {},
   "source": [
    "### SVR"
   ]
  },
  {
   "cell_type": "code",
   "execution_count": 17,
   "id": "c7a90fd7",
   "metadata": {},
   "outputs": [
    {
     "name": "stdout",
     "output_type": "stream",
     "text": [
      "Fitting 5 folds for each of 20 candidates, totalling 100 fits\n",
      "Melhores parâmetros: {'regressor__C': np.float64(4.217516020234043), 'regressor__epsilon': np.float64(0.29647041307396826), 'regressor__gamma': 'auto', 'regressor__kernel': 'rbf'}\n",
      "Melhor R² (validação cruzada): 0.4395249234365182\n"
     ]
    }
   ],
   "source": [
    "# Pipeline para numéricas com cap e padronização\n",
    "num_pipeline = Pipeline([\n",
    "    ('cap', CapTransformer(columns=numerical_cols)),\n",
    "    ('scale', StandardScaler())\n",
    "])\n",
    "\n",
    "\n",
    "# Pipeline para categóricas com OneHot\n",
    "cat_pipeline = Pipeline([\n",
    "    ('rare', RareCategoryGrouper(column='original_language', top_n=10, other_label='Other')),\n",
    "    ('onehot', OneHotEncoder(handle_unknown='ignore', sparse_output=False))\n",
    "])\n",
    "\n",
    "# ColumnTransformer para combinar tudo\n",
    "preprocessor = ColumnTransformer([\n",
    "    ('num', num_pipeline, numerical_cols),\n",
    "    ('cat', cat_pipeline, categorical_col)\n",
    "], remainder='passthrough')  # mantém as colunas como 'year', 'month', e as multilabel binarizadas\n",
    "\n",
    "\n",
    "pipeline = Pipeline([\n",
    "    ('date', DateFeatureExtractor(date_column=date_column)),  # extrai 'year' e 'month'\n",
    "    ('preprocess', preprocessor),\n",
    "    ('regressor', SVR())\n",
    "])\n",
    "\n",
    "param_dist = {\n",
    "    'regressor__kernel': ['rbf', 'linear'],\n",
    "    'regressor__C': loguniform(1e-2, 1e2),\n",
    "    'regressor__epsilon': uniform(0.01, 0.3),\n",
    "    'regressor__gamma': ['scale', 'auto']\n",
    "}\n",
    "\n",
    "\n",
    "svm_rand = RandomizedSearchCV(\n",
    "    estimator=pipeline,\n",
    "    param_distributions=param_dist,\n",
    "    n_iter=20,  \n",
    "    cv=kf,\n",
    "    scoring='r2',\n",
    "    random_state=87,\n",
    "    verbose=2,\n",
    "    n_jobs=-1\n",
    ")\n",
    "\n",
    "svm_rand.fit(X_train, y_train)\n",
    "\n",
    "print(\"Melhores parâmetros:\", svm_rand.best_params_)\n",
    "print(\"Melhor R² (validação cruzada):\", svm_rand.best_score_)"
   ]
  },
  {
   "cell_type": "markdown",
   "id": "d790b277",
   "metadata": {},
   "source": [
    "### RandomForest"
   ]
  },
  {
   "cell_type": "code",
   "execution_count": 18,
   "id": "aeb5e5bc",
   "metadata": {},
   "outputs": [
    {
     "name": "stdout",
     "output_type": "stream",
     "text": [
      "Fitting 5 folds for each of 30 candidates, totalling 150 fits\n",
      "Melhores parâmetros RF: {'regressor__max_depth': 14, 'regressor__max_features': 'sqrt', 'regressor__min_samples_leaf': 1, 'regressor__min_samples_split': 5, 'regressor__n_estimators': 430}\n",
      "Melhor R² (CV) RF: 0.4632307992432885\n"
     ]
    }
   ],
   "source": [
    "num_pipeline = Pipeline([\n",
    "    ('cap', CapTransformer(columns=numerical_cols)),\n",
    "    ('scale', StandardScaler())\n",
    "])\n",
    "\n",
    "\n",
    "\n",
    "preprocessor = ColumnTransformer([\n",
    "    ('num', num_pipeline, numerical_cols),\n",
    "    ('cat', cat_pipeline, categorical_col)\n",
    "], remainder='passthrough')\n",
    "\n",
    "\n",
    "# --- Pipeline final com RandomForest ---\n",
    "pipeline_rf = Pipeline([\n",
    "    ('date', DateFeatureExtractor(date_column=date_column)),\n",
    "    ('preprocess', preprocessor),\n",
    "    ('regressor', RandomForestRegressor(random_state=87, n_jobs=-1))\n",
    "])\n",
    "\n",
    "\n",
    "# --- Espaço de busca para RandomizedSearchCV ---\n",
    "param_dist_rf = {\n",
    "    'regressor__n_estimators': randint(100, 500),\n",
    "    'regressor__max_depth': randint(3, 20),\n",
    "    'regressor__min_samples_split': randint(2, 10),\n",
    "    'regressor__min_samples_leaf': randint(1, 10),\n",
    "    'regressor__max_features': ['sqrt', 'log2', None]\n",
    "}\n",
    "\n",
    "rf_rand = RandomizedSearchCV(\n",
    "    estimator=pipeline_rf,\n",
    "    param_distributions=param_dist_rf,\n",
    "    n_iter=30,\n",
    "    cv=kf,\n",
    "    scoring='r2',\n",
    "    error_score='raise',     \n",
    "    random_state=87,\n",
    "    verbose=2,\n",
    "    n_jobs=-1\n",
    ")\n",
    "\n",
    "# --- Treino e outputs ---\n",
    "rf_rand.fit(X_train, y_train)\n",
    "\n",
    "print(\"Melhores parâmetros RF:\", rf_rand.best_params_)\n",
    "print(\"Melhor R² (CV) RF:\", rf_rand.best_score_)\n"
   ]
  },
  {
   "cell_type": "markdown",
   "id": "10026439",
   "metadata": {},
   "source": [
    "# Gerando modelos Treinados"
   ]
  },
  {
   "cell_type": "code",
   "execution_count": null,
   "id": "30a74fc0",
   "metadata": {},
   "outputs": [],
   "source": [
    "'''\n",
    "with open('xgb_pipeline.pkl', 'wb') as f:\n",
    "    pickle.dump(XGBRegressor_rand, f)\n",
    "\n",
    "with open('svr_pipeline.pkl', 'wb') as f:\n",
    "    pickle.dump(svm_rand, f)\n",
    "\n",
    "with open('rf_pipeline.pkl', 'wb') as f:\n",
    "    pickle.dump(rf_rand, f)\n",
    "'''"
   ]
  },
  {
   "cell_type": "markdown",
   "id": "b239bf00",
   "metadata": {},
   "source": [
    "# Avaliação dos modelos"
   ]
  },
  {
   "cell_type": "code",
   "execution_count": 19,
   "id": "4871d859",
   "metadata": {},
   "outputs": [],
   "source": [
    "def evaluate_model(model_name, model, X_test, y_test):\n",
    "    y_pred = model.predict(X_test)\n",
    "    return {\n",
    "        'Modelo': model_name,\n",
    "        'R²': r2_score(y_test, y_pred),\n",
    "        'MAE': mean_absolute_error(y_test, y_pred),\n",
    "        'RMSE': np.sqrt(mean_squared_error(y_test, y_pred)),\n",
    "        'MedAE': median_absolute_error(y_test, y_pred)\n",
    "    }\n"
   ]
  },
  {
   "cell_type": "code",
   "execution_count": 20,
   "id": "a26f8ddd",
   "metadata": {},
   "outputs": [
    {
     "name": "stdout",
     "output_type": "stream",
     "text": [
      "                  Modelo        R²       MAE      RMSE     MedAE\n",
      "0           XGBRegressor  0.509629  0.484806  0.639296  0.386420\n",
      "1                    SVR  0.450195  0.508508  0.676930  0.393708\n",
      "2  RandomForestRegressor  0.476488  0.502198  0.660546  0.415460\n"
     ]
    }
   ],
   "source": [
    "results = []\n",
    "\n",
    "results.append(evaluate_model(\"XGBRegressor\", XGBRegressor_rand.best_estimator_, X_test, y_test))\n",
    "results.append(evaluate_model(\"SVR\", svm_rand.best_estimator_, X_test, y_test))\n",
    "results.append(evaluate_model(\"RandomForestRegressor\", rf_rand.best_estimator_, X_test, y_test))\n",
    "\n",
    "results_df = pd.DataFrame(results)\n",
    "print(results_df)"
   ]
  },
  {
   "cell_type": "markdown",
   "id": "d906afdc",
   "metadata": {},
   "source": [
    "# Gráficos"
   ]
  },
  {
   "cell_type": "code",
   "execution_count": 21,
   "id": "7724adc9",
   "metadata": {},
   "outputs": [],
   "source": [
    "# Erro de importação do SHAP com o numpy \n",
    "\n",
    "#!pip uninstall numpy\n",
    "#!pip install numpy==1.22.4 "
   ]
  },
  {
   "cell_type": "code",
   "execution_count": 22,
   "id": "affcd140",
   "metadata": {},
   "outputs": [
    {
     "name": "stdout",
     "output_type": "stream",
     "text": [
      "                    feature  importance\n",
      "21             genre_Horror    0.103740\n",
      "18              genre_Drama    0.100253\n",
      "23             genre_Outros    0.086669\n",
      "2                   runtime    0.082980\n",
      "5      original_language_en    0.073261\n",
      "14             genre_Action    0.043799\n",
      "0                popularity    0.042659\n",
      "25    genre_Science Fiction    0.035877\n",
      "36                     year    0.031987\n",
      "3   original_language_Other    0.028082\n"
     ]
    },
    {
     "name": "stderr",
     "output_type": "stream",
     "text": [
      " 98%|===================| 8318/8472 [00:54<00:00]        "
     ]
    },
    {
     "data": {
      "image/png": "[encoded data removed]",
      "text/plain": [
       "<Figure size 800x950 with 2 Axes>"
      ]
     },
     "metadata": {},
     "output_type": "display_data"
    }
   ],
   "source": [
    "# Extrair o modelo XGBRegressor treinado do pipeline\n",
    "xgb_model = XGBRegressor_rand.best_estimator_.named_steps['regressor']\n",
    "\n",
    "# Extrair as features após o processamento\n",
    "# Precisamos transformar X_train para obter as features corretas\n",
    "X_train_transformed = XGBRegressor_rand.best_estimator_.named_steps['preprocess'].transform(\n",
    "    XGBRegressor_rand.best_estimator_.named_steps['date'].transform(X_train)\n",
    ")\n",
    "\n",
    "# Obter os nomes das features após o ColumnTransformer\n",
    "feature_names = []\n",
    "# num_pipeline features\n",
    "feature_names += list(numerical_cols)\n",
    "# cat_pipeline features\n",
    "cat_features = X_train[categorical_col[0]].unique()\n",
    "cat_feature_names = XGBRegressor_rand.best_estimator_.named_steps['preprocess'].named_transformers_['cat'].named_steps['onehot'].get_feature_names_out(categorical_col)\n",
    "feature_names += list(cat_feature_names)\n",
    "# remainder (multilabels, year, month)\n",
    "remainder = [col for col in X_train.columns if col not in numerical_cols and col not in categorical_col and col != date_column]\n",
    "feature_names += remainder + ['year', 'month']\n",
    "\n",
    "# Feature importances do XGBoost\n",
    "importances = xgb_model.feature_importances_\n",
    "\n",
    "# Exibir as 10 features mais importantes\n",
    "importances_df = pd.DataFrame({'feature': feature_names, 'importance': importances})\n",
    "print(importances_df.sort_values('importance', ascending=False).head(10))\n",
    "\n",
    "# SHAP\n",
    "explainer = shap.Explainer(xgb_model, X_train_transformed, feature_names=feature_names)\n",
    "shap_values = explainer(X_train_transformed)\n",
    "\n",
    "# Resumo SHAP\n",
    "shap.summary_plot(shap_values, features=X_train_transformed, feature_names=feature_names)"
   ]
  },
  {
   "cell_type": "code",
   "execution_count": 23,
   "id": "31776cf3",
   "metadata": {},
   "outputs": [
    {
     "data": {
      "text/html": [
       "<div>\n",
       "<style scoped>\n",
       "    .dataframe tbody tr th:only-of-type {\n",
       "        vertical-align: middle;\n",
       "    }\n",
       "\n",
       "    .dataframe tbody tr th {\n",
       "        vertical-align: top;\n",
       "    }\n",
       "\n",
       "    .dataframe thead th {\n",
       "        text-align: right;\n",
       "    }\n",
       "</style>\n",
       "<table border=\"1\" class=\"dataframe\">\n",
       "  <thead>\n",
       "    <tr style=\"text-align: right;\">\n",
       "      <th></th>\n",
       "      <th>feature</th>\n",
       "      <th>importance</th>\n",
       "    </tr>\n",
       "  </thead>\n",
       "  <tbody>\n",
       "    <tr>\n",
       "      <th>21</th>\n",
       "      <td>genre_Horror</td>\n",
       "      <td>0.103740</td>\n",
       "    </tr>\n",
       "    <tr>\n",
       "      <th>18</th>\n",
       "      <td>genre_Drama</td>\n",
       "      <td>0.100253</td>\n",
       "    </tr>\n",
       "    <tr>\n",
       "      <th>23</th>\n",
       "      <td>genre_Outros</td>\n",
       "      <td>0.086669</td>\n",
       "    </tr>\n",
       "    <tr>\n",
       "      <th>2</th>\n",
       "      <td>runtime</td>\n",
       "      <td>0.082980</td>\n",
       "    </tr>\n",
       "    <tr>\n",
       "      <th>5</th>\n",
       "      <td>original_language_en</td>\n",
       "      <td>0.073261</td>\n",
       "    </tr>\n",
       "    <tr>\n",
       "      <th>14</th>\n",
       "      <td>genre_Action</td>\n",
       "      <td>0.043799</td>\n",
       "    </tr>\n",
       "    <tr>\n",
       "      <th>0</th>\n",
       "      <td>popularity</td>\n",
       "      <td>0.042659</td>\n",
       "    </tr>\n",
       "    <tr>\n",
       "      <th>25</th>\n",
       "      <td>genre_Science Fiction</td>\n",
       "      <td>0.035877</td>\n",
       "    </tr>\n",
       "    <tr>\n",
       "      <th>36</th>\n",
       "      <td>year</td>\n",
       "      <td>0.031987</td>\n",
       "    </tr>\n",
       "    <tr>\n",
       "      <th>3</th>\n",
       "      <td>original_language_Other</td>\n",
       "      <td>0.028082</td>\n",
       "    </tr>\n",
       "    <tr>\n",
       "      <th>1</th>\n",
       "      <td>budget</td>\n",
       "      <td>0.023850</td>\n",
       "    </tr>\n",
       "    <tr>\n",
       "      <th>26</th>\n",
       "      <td>genre_Thriller</td>\n",
       "      <td>0.023699</td>\n",
       "    </tr>\n",
       "    <tr>\n",
       "      <th>19</th>\n",
       "      <td>genre_Family</td>\n",
       "      <td>0.019863</td>\n",
       "    </tr>\n",
       "    <tr>\n",
       "      <th>16</th>\n",
       "      <td>genre_Comedy</td>\n",
       "      <td>0.019112</td>\n",
       "    </tr>\n",
       "    <tr>\n",
       "      <th>15</th>\n",
       "      <td>genre_Adventure</td>\n",
       "      <td>0.018896</td>\n",
       "    </tr>\n",
       "    <tr>\n",
       "      <th>10</th>\n",
       "      <td>original_language_ja</td>\n",
       "      <td>0.018548</td>\n",
       "    </tr>\n",
       "    <tr>\n",
       "      <th>9</th>\n",
       "      <td>original_language_it</td>\n",
       "      <td>0.015666</td>\n",
       "    </tr>\n",
       "    <tr>\n",
       "      <th>17</th>\n",
       "      <td>genre_Crime</td>\n",
       "      <td>0.015451</td>\n",
       "    </tr>\n",
       "    <tr>\n",
       "      <th>34</th>\n",
       "      <td>production_Universal Pictures</td>\n",
       "      <td>0.015126</td>\n",
       "    </tr>\n",
       "    <tr>\n",
       "      <th>20</th>\n",
       "      <td>genre_Fantasy</td>\n",
       "      <td>0.015116</td>\n",
       "    </tr>\n",
       "    <tr>\n",
       "      <th>11</th>\n",
       "      <td>original_language_ko</td>\n",
       "      <td>0.014980</td>\n",
       "    </tr>\n",
       "    <tr>\n",
       "      <th>8</th>\n",
       "      <td>original_language_hi</td>\n",
       "      <td>0.014726</td>\n",
       "    </tr>\n",
       "    <tr>\n",
       "      <th>7</th>\n",
       "      <td>original_language_fr</td>\n",
       "      <td>0.014127</td>\n",
       "    </tr>\n",
       "    <tr>\n",
       "      <th>22</th>\n",
       "      <td>genre_Mystery</td>\n",
       "      <td>0.013153</td>\n",
       "    </tr>\n",
       "    <tr>\n",
       "      <th>37</th>\n",
       "      <td>month</td>\n",
       "      <td>0.012446</td>\n",
       "    </tr>\n",
       "    <tr>\n",
       "      <th>27</th>\n",
       "      <td>production_20th Century Fox</td>\n",
       "      <td>0.011545</td>\n",
       "    </tr>\n",
       "    <tr>\n",
       "      <th>30</th>\n",
       "      <td>production_Mayer</td>\n",
       "      <td>0.011276</td>\n",
       "    </tr>\n",
       "    <tr>\n",
       "      <th>32</th>\n",
       "      <td>production_Outros</td>\n",
       "      <td>0.011185</td>\n",
       "    </tr>\n",
       "    <tr>\n",
       "      <th>6</th>\n",
       "      <td>original_language_es</td>\n",
       "      <td>0.011173</td>\n",
       "    </tr>\n",
       "    <tr>\n",
       "      <th>12</th>\n",
       "      <td>original_language_ru</td>\n",
       "      <td>0.011020</td>\n",
       "    </tr>\n",
       "    <tr>\n",
       "      <th>33</th>\n",
       "      <td>production_Paramount</td>\n",
       "      <td>0.010950</td>\n",
       "    </tr>\n",
       "    <tr>\n",
       "      <th>24</th>\n",
       "      <td>genre_Romance</td>\n",
       "      <td>0.010465</td>\n",
       "    </tr>\n",
       "    <tr>\n",
       "      <th>28</th>\n",
       "      <td>production_Columbia Pictures</td>\n",
       "      <td>0.010127</td>\n",
       "    </tr>\n",
       "    <tr>\n",
       "      <th>35</th>\n",
       "      <td>production_Warner Bros. Pictures</td>\n",
       "      <td>0.009222</td>\n",
       "    </tr>\n",
       "    <tr>\n",
       "      <th>4</th>\n",
       "      <td>original_language_de</td>\n",
       "      <td>0.008895</td>\n",
       "    </tr>\n",
       "    <tr>\n",
       "      <th>29</th>\n",
       "      <td>production_Goldwyn</td>\n",
       "      <td>0.005505</td>\n",
       "    </tr>\n",
       "    <tr>\n",
       "      <th>13</th>\n",
       "      <td>original_language_zh</td>\n",
       "      <td>0.004570</td>\n",
       "    </tr>\n",
       "    <tr>\n",
       "      <th>31</th>\n",
       "      <td>production_Metro</td>\n",
       "      <td>0.000000</td>\n",
       "    </tr>\n",
       "  </tbody>\n",
       "</table>\n",
       "</div>"
      ],
      "text/plain": [
       "                             feature  importance\n",
       "21                      genre_Horror    0.103740\n",
       "18                       genre_Drama    0.100253\n",
       "23                      genre_Outros    0.086669\n",
       "2                            runtime    0.082980\n",
       "5               original_language_en    0.073261\n",
       "14                      genre_Action    0.043799\n",
       "0                         popularity    0.042659\n",
       "25             genre_Science Fiction    0.035877\n",
       "36                              year    0.031987\n",
       "3            original_language_Other    0.028082\n",
       "1                             budget    0.023850\n",
       "26                    genre_Thriller    0.023699\n",
       "19                      genre_Family    0.019863\n",
       "16                      genre_Comedy    0.019112\n",
       "15                   genre_Adventure    0.018896\n",
       "10              original_language_ja    0.018548\n",
       "9               original_language_it    0.015666\n",
       "17                       genre_Crime    0.015451\n",
       "34     production_Universal Pictures    0.015126\n",
       "20                     genre_Fantasy    0.015116\n",
       "11              original_language_ko    0.014980\n",
       "8               original_language_hi    0.014726\n",
       "7               original_language_fr    0.014127\n",
       "22                     genre_Mystery    0.013153\n",
       "37                             month    0.012446\n",
       "27       production_20th Century Fox    0.011545\n",
       "30                  production_Mayer    0.011276\n",
       "32                 production_Outros    0.011185\n",
       "6               original_language_es    0.011173\n",
       "12              original_language_ru    0.011020\n",
       "33              production_Paramount    0.010950\n",
       "24                     genre_Romance    0.010465\n",
       "28      production_Columbia Pictures    0.010127\n",
       "35  production_Warner Bros. Pictures    0.009222\n",
       "4               original_language_de    0.008895\n",
       "29                production_Goldwyn    0.005505\n",
       "13              original_language_zh    0.004570\n",
       "31                  production_Metro    0.000000"
      ]
     },
     "metadata": {},
     "output_type": "display_data"
    }
   ],
   "source": [
    "pd.set_option('display.max_rows', None)\n",
    "display(importances_df.sort_values('importance', ascending=False))\n",
    "pd.reset_option('display.max_rows')\n",
    "pd.reset_option('display.max_columns')"
   ]
  }
 ],
 "metadata": {
  "kernelspec": {
   "display_name": ".venv",
   "language": "python",
   "name": "python3"
  },
  "language_info": {
   "codemirror_mode": {
    "name": "ipython",
    "version": 3
   },
   "file_extension": ".py",
   "mimetype": "text/x-python",
   "name": "python",
   "nbconvert_exporter": "python",
   "pygments_lexer": "ipython3",
   "version": "3.13.5"
  }
 },
 "nbformat": 4,
 "nbformat_minor": 5
}
