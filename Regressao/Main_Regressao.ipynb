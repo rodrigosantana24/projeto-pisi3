{
 "cells": [
  {
   "cell_type": "markdown",
   "id": "928ebbbb",
   "metadata": {},
   "source": [
    "# Importações"
   ]
  },
  {
   "cell_type": "code",
   "execution_count": null,
   "id": "cd81e6ad",
   "metadata": {},
   "outputs": [],
   "source": [
    "#!pip install scikit-learn shap pandas numpy matplotlib xgboost seaborn "
   ]
  },
  {
   "cell_type": "code",
   "execution_count": 1,
   "id": "0b338c4e",
   "metadata": {},
   "outputs": [
    {
     "name": "stderr",
     "output_type": "stream",
     "text": [
      "c:\\Users\\oxi\\AppData\\Local\\Programs\\Python\\Python313\\Lib\\site-packages\\tqdm\\auto.py:21: TqdmWarning: IProgress not found. Please update jupyter and ipywidgets. See https://ipywidgets.readthedocs.io/en/stable/user_install.html\n",
      "  from .autonotebook import tqdm as notebook_tqdm\n"
     ]
    }
   ],
   "source": [
    "import pickle\n",
    "import joblib\n",
    "import shap\n",
    "import matplotlib.pyplot as plt\n",
    "import pandas as pd \n",
    "import numpy as np  \n",
    "import os\n",
    "import sys\n",
    "\n",
    "# Pré-processamento e pipelines\n",
    "from sklearn.pipeline import Pipeline\n",
    "from sklearn.compose import ColumnTransformer\n",
    "from sklearn.preprocessing import OneHotEncoder, StandardScaler\n",
    "from sklearn.impute import SimpleImputer\n",
    "\n",
    "# Modelos de ML\n",
    "from sklearn.svm import SVR\n",
    "from sklearn.ensemble import RandomForestRegressor\n",
    "from xgboost import XGBRegressor\n",
    "\n",
    "# Validação e busca de hiperparâmetros\n",
    "from sklearn.model_selection import train_test_split, KFold, RandomizedSearchCV\n",
    "from scipy.stats import randint, uniform, loguniform\n",
    "\n",
    "# Métricas\n",
    "from sklearn.metrics import mean_absolute_error, mean_squared_error, median_absolute_error, r2_score\n",
    "\n",
    "# Transformadores personalizados\n",
    "src_path = os.path.abspath(os.path.join(\"..\", \"Streamlit\", \"src\"))\n",
    "if src_path not in sys.path:\n",
    "    sys.path.append(src_path)\n",
    "\n",
    "from custom_transformers import (\n",
    "    DateFeatureExtractor,\n",
    "    CapTransformer,\n",
    "    RareCategoryGrouper,\n",
    "    TopNMultiLabelTransformer,\n",
    "    BudgetRuntimeRatioTransformer\n",
    ")"
   ]
  },
  {
   "cell_type": "markdown",
   "id": "c4b6ee80",
   "metadata": {},
   "source": [
    "# Carregando dataset"
   ]
  },
  {
   "cell_type": "code",
   "execution_count": 2,
   "id": "e68a0c1f",
   "metadata": {},
   "outputs": [],
   "source": [
    "df = pd.read_csv('../data/filmes_filtrados.csv')"
   ]
  },
  {
   "cell_type": "markdown",
   "id": "5280c649",
   "metadata": {},
   "source": [
    "# Dividindo os dados\n",
    "- X_train, X_test, y_train, y_test"
   ]
  },
  {
   "cell_type": "code",
   "execution_count": 3,
   "id": "61874500",
   "metadata": {},
   "outputs": [],
   "source": [
    "mean_impute_cols = ['popularity', 'budget', 'runtime', 'budget_runtime_ratio']\n",
    "mode_impute_cols = ['year', 'month']\n",
    "categorical_col = ['original_language']\n",
    "date_column = 'release_date'\n",
    "\n",
    "X = df.drop(columns=['vote_average'])\n",
    "y = df['vote_average']\n",
    "\n",
    "# Dividindo o dataset em treino e teste\n",
    "X_train, X_test, y_train, y_test = train_test_split(X, y, test_size=0.2, random_state=87)"
   ]
  },
  {
   "cell_type": "markdown",
   "id": "bbbf3971",
   "metadata": {},
   "source": [
    "# Transformadores\n",
    "- MultiLabelBinarize -> Generos Cinematográficos, Produtora e Atores\n",
    "- Data -> Extrai o ano e o mês das datas\n",
    "- Outliers -> Cap, Log + Cap, Winsorizer\n",
    "- Agrupamento de categorias raras -> original language\n",
    "- Criação da feature budget_runtime_ratio"
   ]
  },
  {
   "cell_type": "code",
   "execution_count": 4,
   "id": "50c127b2",
   "metadata": {},
   "outputs": [],
   "source": [
    "# Transformers personalizados por coluna\n",
    "credits_transformer = TopNMultiLabelTransformer(top_n=60, prefix='credits')\n",
    "genres_transformer = TopNMultiLabelTransformer(top_n=12, prefix='genre')\n",
    "prod_companies_transformer = TopNMultiLabelTransformer(top_n=60, prefix='prod_company')"
   ]
  },
  {
   "cell_type": "markdown",
   "id": "c2c90794",
   "metadata": {},
   "source": [
    "# Treinamento\n",
    "- Modelo XGBRegressor\n",
    "- Modelo SVR\n",
    "- Modelo RandomForest"
   ]
  },
  {
   "cell_type": "markdown",
   "id": "3157e350",
   "metadata": {},
   "source": [
    "### Definindo Kf"
   ]
  },
  {
   "cell_type": "code",
   "execution_count": 5,
   "id": "7ff9ed3b",
   "metadata": {},
   "outputs": [],
   "source": [
    "# Definindo o KFold para o cross-validation\n",
    "kf = KFold(n_splits=5, shuffle=True, random_state=87)"
   ]
  },
  {
   "cell_type": "markdown",
   "id": "2a7321a7",
   "metadata": {},
   "source": [
    "### XGBRegressor"
   ]
  },
  {
   "cell_type": "code",
   "execution_count": null,
   "id": "3d122d12",
   "metadata": {},
   "outputs": [
    {
     "name": "stdout",
     "output_type": "stream",
     "text": [
      "Fitting 5 folds for each of 30 candidates, totalling 150 fits\n",
      "Melhores parâmetros: {'regressor__colsample_bytree': np.float64(0.8696231377727208), 'regressor__learning_rate': np.float64(0.05992056035524427), 'regressor__max_depth': 5, 'regressor__n_estimators': 241, 'regressor__subsample': np.float64(0.8173221947525602)}\n",
      "Melhor R² (validação cruzada): 0.4910352281586327\n"
     ]
    },
    {
     "ename": "FileNotFoundError",
     "evalue": "[Errno 2] No such file or directory: 'Streamlit/models/best_model.pkl'",
     "output_type": "error",
     "traceback": [
      "\u001b[31m---------------------------------------------------------------------------\u001b[39m",
      "\u001b[31mFileNotFoundError\u001b[39m                         Traceback (most recent call last)",
      "\u001b[36mCell\u001b[39m\u001b[36m \u001b[39m\u001b[32mIn[6]\u001b[39m\u001b[32m, line 68\u001b[39m\n\u001b[32m     65\u001b[39m \u001b[38;5;28mprint\u001b[39m(\u001b[33m\"\u001b[39m\u001b[33mMelhor R² (validação cruzada):\u001b[39m\u001b[33m\"\u001b[39m, XGBRegressor_rand.best_score_)\n\u001b[32m     67\u001b[39m melhor_pipeline_final = XGBRegressor_rand.best_estimator_\n\u001b[32m---> \u001b[39m\u001b[32m68\u001b[39m \u001b[43mjoblib\u001b[49m\u001b[43m.\u001b[49m\u001b[43mdump\u001b[49m\u001b[43m(\u001b[49m\u001b[43mmelhor_pipeline_final\u001b[49m\u001b[43m,\u001b[49m\u001b[43m \u001b[49m\u001b[33;43m'\u001b[39;49m\u001b[33;43mStreamlit/models/best_model.pkl\u001b[39;49m\u001b[33;43m'\u001b[39;49m\u001b[43m)\u001b[49m\n",
      "\u001b[36mFile \u001b[39m\u001b[32mc:\\Users\\oxi\\AppData\\Local\\Programs\\Python\\Python313\\Lib\\site-packages\\joblib\\numpy_pickle.py:599\u001b[39m, in \u001b[36mdump\u001b[39m\u001b[34m(value, filename, compress, protocol)\u001b[39m\n\u001b[32m    597\u001b[39m         NumpyPickler(f, protocol=protocol).dump(value)\n\u001b[32m    598\u001b[39m \u001b[38;5;28;01melif\u001b[39;00m is_filename:\n\u001b[32m--> \u001b[39m\u001b[32m599\u001b[39m     \u001b[38;5;28;01mwith\u001b[39;00m \u001b[38;5;28;43mopen\u001b[39;49m\u001b[43m(\u001b[49m\u001b[43mfilename\u001b[49m\u001b[43m,\u001b[49m\u001b[43m \u001b[49m\u001b[33;43m\"\u001b[39;49m\u001b[33;43mwb\u001b[39;49m\u001b[33;43m\"\u001b[39;49m\u001b[43m)\u001b[49m \u001b[38;5;28;01mas\u001b[39;00m f:\n\u001b[32m    600\u001b[39m         NumpyPickler(f, protocol=protocol).dump(value)\n\u001b[32m    601\u001b[39m \u001b[38;5;28;01melse\u001b[39;00m:\n",
      "\u001b[31mFileNotFoundError\u001b[39m: [Errno 2] No such file or directory: 'Streamlit/models/best_model.pkl'"
     ]
    }
   ],
   "source": [
    "# Sub-pipelines de pré-processamento\n",
    "mean_numeric_pipeline = Pipeline([\n",
    "    ('imputer', SimpleImputer(strategy='mean')),\n",
    "    ('cap', CapTransformer(columns=mean_impute_cols)),\n",
    "    ('scale', StandardScaler())\n",
    "])\n",
    "\n",
    "mode_numeric_pipeline = Pipeline([\n",
    "    ('imputer', SimpleImputer(strategy='most_frequent')),\n",
    "    ('cap', CapTransformer(columns=mode_impute_cols)),\n",
    "    ('scale', StandardScaler())\n",
    "])\n",
    "\n",
    "cat_pipeline = Pipeline([\n",
    "    ('imputer', SimpleImputer(strategy='constant', fill_value='unknown')),\n",
    "    ('rare', RareCategoryGrouper(column='original_language', top_n=10, other_label='Other')),\n",
    "    ('onehot', OneHotEncoder(handle_unknown='ignore', sparse_output=False))\n",
    "])\n",
    "\n",
    "# Pré-processador principal\n",
    "preprocessor = ColumnTransformer([\n",
    "    ('mean_numeric', mean_numeric_pipeline, mean_impute_cols),\n",
    "    ('mode_numeric', mode_numeric_pipeline, mode_impute_cols),\n",
    "    ('categorical', cat_pipeline, categorical_col),\n",
    "    ('credits', credits_transformer, 'credits'),\n",
    "    ('genres', genres_transformer, 'genres'),\n",
    "    ('prod_companies', prod_companies_transformer, 'production_companies')\n",
    "], remainder='drop')\n",
    "\n",
    "# Pipeline final e completo\n",
    "pipeline = Pipeline([\n",
    "    ('budget_ratio', BudgetRuntimeRatioTransformer()),\n",
    "    ('date', DateFeatureExtractor(date_column=date_column)),\n",
    "    ('preprocess', preprocessor),\n",
    "    ('regressor', XGBRegressor(objective='reg:squarederror', random_state=87, n_jobs=-1))\n",
    "])\n",
    "\n",
    "pipeline.set_output(transform=\"pandas\")\n",
    "\n",
    "# Definição dos parâmetros para a busca\n",
    "param_dist = {\n",
    "    'regressor__n_estimators': randint(100, 300),\n",
    "    'regressor__max_depth': randint(3, 10),\n",
    "    'regressor__learning_rate': uniform(0.01, 0.3),\n",
    "    'regressor__subsample': uniform(0.7, 0.3),\n",
    "    'regressor__colsample_bytree': uniform(0.7, 0.3),\n",
    "}\n",
    "\n",
    "# Treinamento com RandomizedSearchCV\n",
    "XGBRegressor_rand = RandomizedSearchCV(\n",
    "    estimator=pipeline,\n",
    "    param_distributions=param_dist,\n",
    "    n_iter=30,\n",
    "    cv=kf,\n",
    "    scoring='r2',\n",
    "    random_state=87,\n",
    "    verbose=2,\n",
    "    n_jobs=-1\n",
    ")\n",
    "\n",
    "XGBRegressor_rand.fit(X_train, y_train)\n",
    "\n",
    "# Exibição e salvamento dos resultados\n",
    "print(\"Melhores parâmetros:\", XGBRegressor_rand.best_params_)\n",
    "print(\"Melhor R² (validação cruzada):\", XGBRegressor_rand.best_score_)"
   ]
  },
  {
   "cell_type": "markdown",
   "id": "ddf98090",
   "metadata": {},
   "source": [
    "### SVR"
   ]
  },
  {
   "cell_type": "code",
   "execution_count": null,
   "id": "c7a90fd7",
   "metadata": {},
   "outputs": [],
   "source": [
    "# --- 2. Definição dos Sub-pipelines de Pré-processamento ---\n",
    "mean_numeric_pipeline = Pipeline([\n",
    "    ('imputer', SimpleImputer(strategy='mean')),\n",
    "    ('cap', CapTransformer(columns=mean_impute_cols)),\n",
    "    ('scale', StandardScaler())\n",
    "])\n",
    "\n",
    "mode_numeric_pipeline = Pipeline([\n",
    "    ('imputer', SimpleImputer(strategy='most_frequent')),\n",
    "    ('cap', CapTransformer(columns=mode_impute_cols)),\n",
    "    ('scale', StandardScaler())\n",
    "])\n",
    "\n",
    "cat_pipeline = Pipeline([\n",
    "    ('imputer', SimpleImputer(strategy='constant', fill_value='unknown')),\n",
    "    ('rare', RareCategoryGrouper(column='original_language', top_n=10, other_label='Other')),\n",
    "    ('onehot', OneHotEncoder(handle_unknown='ignore', sparse_output=False))\n",
    "])\n",
    "\n",
    "# --- 3. Construção do Pré-processador Principal ---\n",
    "# Este preprocessor é reutilizado do setup do XGBoost\n",
    "preprocessor = ColumnTransformer([\n",
    "    ('mean_numeric', mean_numeric_pipeline, mean_impute_cols),\n",
    "    ('mode_numeric', mode_numeric_pipeline, mode_impute_cols),\n",
    "    ('categorical', cat_pipeline, categorical_col),\n",
    "    ('credits', credits_transformer, 'credits'),\n",
    "    ('genres', genres_transformer, 'genres'),\n",
    "    ('prod_companies', prod_companies_transformer, 'production_companies')\n",
    "], remainder='drop')\n",
    "\n",
    "\n",
    "# --- 4. Construção do Pipeline Final para o SVR ---\n",
    "pipeline_svr = Pipeline([\n",
    "    # As etapas iniciais são idênticas ao pipeline do XGBoost\n",
    "    ('budget_ratio', BudgetRuntimeRatioTransformer()),\n",
    "    ('date', DateFeatureExtractor(date_column=date_column)),\n",
    "    \n",
    "    # A etapa de pré-processamento reutiliza o mesmo preprocessor robusto\n",
    "    ('preprocess', preprocessor),\n",
    "    \n",
    "    # A única diferença é o estimador final\n",
    "    ('regressor', SVR())\n",
    "])\n",
    "\n",
    "pipeline_svr.set_output(transform=\"pandas\")\n",
    "\n",
    "\n",
    "# --- 5. Otimização e Treinamento do SVR ---\n",
    "# A distribuição de parâmetros e a busca continuam as mesmas\n",
    "param_dist_svr = {\n",
    "    'regressor__kernel': ['rbf', 'linear'],\n",
    "    'regressor__C': loguniform(1e-2, 1e2),\n",
    "    'regressor__epsilon': uniform(0.01, 0.3),\n",
    "    'regressor__gamma': ['scale', 'auto']\n",
    "}\n",
    "\n",
    "svm_rand = RandomizedSearchCV(\n",
    "    estimator=pipeline_svr,\n",
    "    param_distributions=param_dist_svr,\n",
    "    n_iter=20,\n",
    "    cv=kf,\n",
    "    scoring='r2',\n",
    "    random_state=87,\n",
    "    verbose=2,\n",
    "    n_jobs=-1\n",
    ")\n",
    "\n",
    "svm_rand.fit(X_train, y_train)\n",
    "\n",
    "# --- 6. Exibição e Salvamento dos Resultados ---\n",
    "print(\"Melhores parâmetros SVR:\", svm_rand.best_params_)\n",
    "print(\"Melhor R² (CV) SVR:\", svm_rand.best_score_)\n",
    "\n",
    "# Salve o melhor modelo SVR encontrado\n",
    "melhor_svr = svm_rand.best_estimator_\n",
    "joblib.dump(melhor_svr, 'seu_caminho/best_model_svr.pkl')"
   ]
  },
  {
   "cell_type": "markdown",
   "id": "d790b277",
   "metadata": {},
   "source": [
    "### RandomForest"
   ]
  },
  {
   "cell_type": "code",
   "execution_count": null,
   "id": "aeb5e5bc",
   "metadata": {},
   "outputs": [],
   "source": [
    "# --- 2. Definição dos Sub-pipelines de Pré-processamento ---\n",
    "mean_numeric_pipeline = Pipeline([\n",
    "    ('imputer', SimpleImputer(strategy='mean')),\n",
    "    ('cap', CapTransformer(columns=mean_impute_cols)),\n",
    "    ('scale', StandardScaler())\n",
    "])\n",
    "\n",
    "mode_numeric_pipeline = Pipeline([\n",
    "    ('imputer', SimpleImputer(strategy='most_frequent')),\n",
    "    ('cap', CapTransformer(columns=mode_impute_cols)),\n",
    "    ('scale', StandardScaler())\n",
    "])\n",
    "\n",
    "cat_pipeline = Pipeline([\n",
    "    ('imputer', SimpleImputer(strategy='constant', fill_value='unknown')),\n",
    "    ('rare', RareCategoryGrouper(column='original_language', top_n=10, other_label='Other')),\n",
    "    ('onehot', OneHotEncoder(handle_unknown='ignore', sparse_output=False))\n",
    "])\n",
    "\n",
    "# --- 3. Construção do Pré-processador Principal ---\n",
    "# Este preprocessor é reutilizado dos setups anteriores\n",
    "preprocessor = ColumnTransformer([\n",
    "    ('mean_numeric', mean_numeric_pipeline, mean_impute_cols),\n",
    "    ('mode_numeric', mode_numeric_pipeline, mode_impute_cols),\n",
    "    ('categorical', cat_pipeline, categorical_col),\n",
    "    ('credits', credits_transformer, 'credits'),\n",
    "    ('genres', genres_transformer, 'genres'),\n",
    "    ('prod_companies', prod_companies_transformer, 'production_companies')\n",
    "], remainder='drop')\n",
    "\n",
    "\n",
    "# --- 4. Construção do Pipeline Final para o Random Forest ---\n",
    "pipeline_rf = Pipeline([\n",
    "    # Etapas iniciais idênticas aos outros pipelines\n",
    "    ('budget_ratio', BudgetRuntimeRatioTransformer()),\n",
    "    ('date', DateFeatureExtractor(date_column=date_column)),\n",
    "    \n",
    "    # Reutiliza o mesmo preprocessor robusto\n",
    "    ('preprocess', preprocessor),\n",
    "    \n",
    "    # A única diferença é o estimador final\n",
    "    ('regressor', RandomForestRegressor(random_state=87, n_jobs=-1))\n",
    "])\n",
    "\n",
    "pipeline_rf.set_output(transform=\"pandas\")\n",
    "\n",
    "\n",
    "# --- 5. Otimização e Treinamento do Random Forest ---\n",
    "# A distribuição de parâmetros e a busca continuam as mesmas\n",
    "param_dist_rf = {\n",
    "    'regressor__n_estimators': randint(100, 500),\n",
    "    'regressor__max_depth': randint(3, 20),\n",
    "    'regressor__min_samples_split': randint(2, 10),\n",
    "    'regressor__min_samples_leaf': randint(1, 10),\n",
    "    'regressor__max_features': ['sqrt', 'log2', None]\n",
    "}\n",
    "\n",
    "rf_rand = RandomizedSearchCV(\n",
    "    estimator=pipeline_rf,\n",
    "    param_distributions=param_dist_rf,\n",
    "    n_iter=30,\n",
    "    cv=kf,\n",
    "    scoring='r2',\n",
    "    error_score='raise',\n",
    "    random_state=87,\n",
    "    verbose=2,\n",
    "    n_jobs=-1\n",
    ")\n",
    "\n",
    "rf_rand.fit(X_train, y_train)\n",
    "\n",
    "# --- 6. Exibição e Salvamento dos Resultados ---\n",
    "print(\"Melhores parâmetros RF:\", rf_rand.best_params_)\n",
    "print(\"Melhor R² (CV) RF:\", rf_rand.best_score_)\n",
    "\n",
    "# Salve o melhor modelo Random Forest encontrado\n",
    "melhor_rf = rf_rand.best_estimator_\n",
    "joblib.dump(melhor_rf, 'seu_caminho/best_model_rf.pkl')"
   ]
  },
  {
   "cell_type": "markdown",
   "id": "b239bf00",
   "metadata": {},
   "source": [
    "# Avaliação dos modelos"
   ]
  },
  {
   "cell_type": "code",
   "execution_count": 8,
   "id": "4871d859",
   "metadata": {},
   "outputs": [],
   "source": [
    "def evaluate_model(model_name, model, X_test, y_test):\n",
    "    y_pred = model.predict(X_test)\n",
    "    return {\n",
    "        'Modelo': model_name,\n",
    "        'R²': r2_score(y_test, y_pred),\n",
    "        'MAE': mean_absolute_error(y_test, y_pred),\n",
    "        'RMSE': np.sqrt(mean_squared_error(y_test, y_pred)),\n",
    "        'MedAE': median_absolute_error(y_test, y_pred)\n",
    "    }"
   ]
  },
  {
   "cell_type": "code",
   "execution_count": 9,
   "id": "3d67e2e8",
   "metadata": {},
   "outputs": [
    {
     "data": {
      "text/plain": [
       "{'Modelo': 'XGBRegressor',\n",
       " 'R²': 0.49586137081672366,\n",
       " 'MAE': 0.49254510745452607,\n",
       " 'RMSE': np.float64(0.6474811267522815),\n",
       " 'MedAE': 0.38919582366943395}"
      ]
     },
     "execution_count": 9,
     "metadata": {},
     "output_type": "execute_result"
    }
   ],
   "source": [
    "evaluate_model(\"XGBRegressor\", XGBRegressor_rand.best_estimator_, X_test, y_test)"
   ]
  },
  {
   "cell_type": "code",
   "execution_count": null,
   "id": "a26f8ddd",
   "metadata": {},
   "outputs": [],
   "source": [
    "results = []\n",
    "results.append(evaluate_model(\"XGBRegressor\", XGBRegressor_rand.best_estimator_, X_test, y_test))\n",
    "results.append(evaluate_model(\"RandomForestRegressor\", rf_rand.best_estimator_, X_test, y_test))\n",
    "results.append(evaluate_model(\"SVR\", svm_rand.best_estimator_, X_test, y_test))\n",
    "results_df = pd.DataFrame(results)\n",
    "print(results_df)"
   ]
  },
  {
   "cell_type": "markdown",
   "id": "f385692e",
   "metadata": {},
   "source": [
    "# Graficos"
   ]
  },
  {
   "cell_type": "markdown",
   "id": "5fdbaeb7",
   "metadata": {},
   "source": [
    "## Shap"
   ]
  },
  {
   "cell_type": "code",
   "execution_count": null,
   "id": "0302ee40",
   "metadata": {},
   "outputs": [],
   "source": [
    "# 1. Obter o melhor pipeline treinado\n",
    "best_pipeline = XGBRegressor_rand.best_estimator_\n",
    "\n",
    "# 2. Criar um pipeline APENAS com os passos de pré-processamento\n",
    "preprocessing_pipeline = Pipeline(best_pipeline.steps[:-1])\n",
    "X_train_transformed = preprocessing_pipeline.transform(X_train)\n",
    "\n",
    "\n",
    "# 3. Obter os nomes das features do ColumnTransformer (que é o passo 'preprocess')\n",
    "col_transformer = best_pipeline.named_steps['preprocess']\n",
    "feature_names = col_transformer.get_feature_names_out()\n",
    "\n",
    "# 4. Criar um DataFrame com os dados transformados para melhor visualização no SHAP\n",
    "X_train_transformed_df = pd.DataFrame(X_train_transformed, columns=feature_names)\n",
    "\n",
    "# 5. Extrair o modelo final e calcular os valores SHAP\n",
    "xgb_model = best_pipeline.named_steps['regressor']\n",
    "explainer = shap.TreeExplainer(xgb_model)\n",
    "shap_values = explainer(X_train_transformed_df) # A API moderna do SHAP usa o explainer como uma função\n",
    "print(\"Valores SHAP calculados com sucesso. Gerando gráficos...\")\n",
    "\n",
    "# 6. Gerar os gráficos\n",
    "plt.figure()\n",
    "plt.title(\"SHAP Summary Plot (Beeswarm)\")\n",
    "shap.summary_plot(shap_values, X_train_transformed_df, show=False)\n",
    "plt.tight_layout() \n",
    "plt.show()\n",
    "plt.figure()\n",
    "plt.title(\"Importância Média das Top 40 Features (SHAP Bar Plot)\")\n",
    "shap.summary_plot(shap_values, X_train_transformed_df, plot_type=\"bar\", show=False, max_display=40)\n",
    "plt.tight_layout()\n",
    "plt.show()"
   ]
  },
  {
   "cell_type": "markdown",
   "id": "35542d4b",
   "metadata": {},
   "source": [
    "## Importance"
   ]
  },
  {
   "cell_type": "code",
   "execution_count": null,
   "id": "fa1a3cc1",
   "metadata": {},
   "outputs": [],
   "source": [
    "feature_importance = np.abs(shap_values.values).mean(axis=0)\n",
    "importance_df = pd.DataFrame({\n",
    "    'Feature': feature_names,\n",
    "    'SHAP Importance': feature_importance\n",
    "})\n",
    "\n",
    "sorted_importance_df = importance_df.sort_values(\n",
    "    by='SHAP Importance', \n",
    "    ascending=False\n",
    ").reset_index(drop=True)\n",
    "\n",
    "print(\"Ranking de Importância das Features (baseado em SHAP):\")\n",
    "pd.set_option('display.max_rows', None)\n",
    "print(len(sorted_importance_df))\n",
    "display(sorted_importance_df) "
   ]
  },
  {
   "cell_type": "markdown",
   "id": "a56caccd",
   "metadata": {},
   "source": [
    "# Gerando Pickle"
   ]
  },
  {
   "cell_type": "code",
   "execution_count": 10,
   "id": "7717ac36",
   "metadata": {},
   "outputs": [],
   "source": [
    "melhor_pipeline_final = XGBRegressor_rand.best_estimator_\n",
    "nome_arquivo_modelo = 'best_model.pkl'"
   ]
  },
  {
   "cell_type": "code",
   "execution_count": 12,
   "id": "5affd052",
   "metadata": {},
   "outputs": [],
   "source": [
    "#joblib.dump(melhor_pipeline_final, nome_arquivo_modelo)"
   ]
  }
 ],
 "metadata": {
  "kernelspec": {
   "display_name": "Python 3",
   "language": "python",
   "name": "python3"
  },
  "language_info": {
   "codemirror_mode": {
    "name": "ipython",
    "version": 3
   },
   "file_extension": ".py",
   "mimetype": "text/x-python",
   "name": "python",
   "nbconvert_exporter": "python",
   "pygments_lexer": "ipython3",
   "version": "3.13.5"
  }
 },
 "nbformat": 4,
 "nbformat_minor": 5
}
