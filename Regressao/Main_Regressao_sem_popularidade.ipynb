{
 "cells": [
  {
   "cell_type": "markdown",
   "id": "928ebbbb",
   "metadata": {},
   "source": [
    "# Importações"
   ]
  },
  {
   "cell_type": "code",
   "execution_count": null,
   "id": "cd81e6ad",
   "metadata": {},
   "outputs": [],
   "source": [
    "#!pip install scikit-learn shap pandas numpy matplotlib xgboost seaborn "
   ]
  },
  {
   "cell_type": "code",
   "execution_count": null,
   "id": "0b338c4e",
   "metadata": {},
   "outputs": [],
   "source": [
    "import pickle\n",
    "import joblib\n",
    "import shap\n",
    "import matplotlib.pyplot as plt\n",
    "import pandas as pd \n",
    "import numpy as np  \n",
    "import os\n",
    "import sys\n",
    "\n",
    "# Pré-processamento e pipelines\n",
    "from sklearn.pipeline import Pipeline\n",
    "from sklearn.compose import ColumnTransformer\n",
    "from sklearn.preprocessing import OneHotEncoder, StandardScaler, MinMaxScaler\n",
    "from sklearn.impute import SimpleImputer\n",
    "\n",
    "# Modelos de ML\n",
    "from sklearn.svm import SVR\n",
    "from sklearn.ensemble import RandomForestRegressor\n",
    "from xgboost import XGBRegressor\n",
    "\n",
    "# Validação e busca de hiperparâmetros\n",
    "from sklearn.model_selection import train_test_split, KFold, RandomizedSearchCV\n",
    "from scipy.stats import randint, uniform, loguniform\n",
    "\n",
    "# Métricas\n",
    "from sklearn.metrics import mean_absolute_error, mean_squared_error, median_absolute_error, r2_score\n",
    "\n",
    "# Transformadores personalizados\n",
    "src_path = os.path.abspath(os.path.join(\"..\", \"Streamlit\", \"src\"))\n",
    "if src_path not in sys.path:\n",
    "    sys.path.append(src_path)\n",
    "\n",
    "from custom_transformers import (\n",
    "    DateFeatureExtractor,\n",
    "    CapTransformer,\n",
    "    RareCategoryGrouper,\n",
    "    TopNMultiLabelTransformer,\n",
    "    BudgetRuntimeRatioTransformer\n",
    ")"
   ]
  },
  {
   "cell_type": "markdown",
   "id": "c4b6ee80",
   "metadata": {},
   "source": [
    "# Carregando dataset"
   ]
  },
  {
   "cell_type": "code",
   "execution_count": null,
   "id": "e68a0c1f",
   "metadata": {},
   "outputs": [],
   "source": [
    "df = pd.read_csv('../data/filmes_filtrados.csv')\n",
    "df = df.drop(columns=['popularity'])"
   ]
  },
  {
   "cell_type": "markdown",
   "id": "5280c649",
   "metadata": {},
   "source": [
    "# Dividindo os dados\n",
    "- X_train, X_test, y_train, y_test"
   ]
  },
  {
   "cell_type": "code",
   "execution_count": null,
   "id": "61874500",
   "metadata": {},
   "outputs": [],
   "source": [
    "mean_impute_cols = ['budget', 'runtime', 'budget_runtime_ratio']\n",
    "mode_impute_cols = ['year', 'month']\n",
    "categorical_col = ['original_language']\n",
    "date_column = 'release_date'\n",
    "\n",
    "X = df.drop(columns=['vote_average'])\n",
    "y = df['vote_average']\n",
    "\n",
    "# Dividindo o dataset em treino e teste\n",
    "X_train, X_test, y_train, y_test = train_test_split(X, y, test_size=0.2, random_state=87)"
   ]
  },
  {
   "cell_type": "markdown",
   "id": "bbbf3971",
   "metadata": {},
   "source": [
    "# Transformadores\n",
    "- MultiLabelBinarize -> Generos Cinematográficos, Produtora e Atores\n",
    "- Data -> Extrai o ano e o mês das datas\n",
    "- Outliers -> Cap, Log + Cap, Winsorizer\n",
    "- Agrupamento de categorias raras -> original language\n",
    "- Criação da feature budget_runtime_ratio"
   ]
  },
  {
   "cell_type": "code",
   "execution_count": null,
   "id": "50c127b2",
   "metadata": {},
   "outputs": [],
   "source": [
    "# Transformers personalizados por coluna\n",
    "credits_transformer = TopNMultiLabelTransformer(top_n=60, prefix='credits')\n",
    "genres_transformer = TopNMultiLabelTransformer(top_n=12, prefix='genre')\n",
    "prod_companies_transformer = TopNMultiLabelTransformer(top_n=50, prefix='prod_company')"
   ]
  },
  {
   "cell_type": "markdown",
   "id": "c2c90794",
   "metadata": {},
   "source": [
    "# Treinamento\n",
    "- Modelo XGBRegressor\n",
    "- Modelo SVR\n",
    "- Modelo RandomForest"
   ]
  },
  {
   "cell_type": "markdown",
   "id": "3157e350",
   "metadata": {},
   "source": [
    "### Definindo Kf"
   ]
  },
  {
   "cell_type": "code",
   "execution_count": null,
   "id": "7ff9ed3b",
   "metadata": {},
   "outputs": [],
   "source": [
    "# Definindo o KFold para o cross-validation\n",
    "kf = KFold(n_splits=5, shuffle=True, random_state=87)"
   ]
  },
  {
   "cell_type": "markdown",
   "id": "2a7321a7",
   "metadata": {},
   "source": [
    "### XGBRegressor"
   ]
  },
  {
   "cell_type": "code",
   "execution_count": null,
   "id": "3d122d12",
   "metadata": {},
   "outputs": [],
   "source": [
    "# Sub-pipelines de pré-processamento\n",
    "mean_numeric_pipeline = Pipeline([\n",
    "    ('imputer', SimpleImputer(strategy='mean')),\n",
    "    ('cap', CapTransformer(columns=mean_impute_cols)),\n",
    "    ('scale', StandardScaler())\n",
    "])\n",
    "\n",
    "mode_numeric_pipeline = Pipeline([\n",
    "    ('imputer', SimpleImputer(strategy='most_frequent')),\n",
    "    ('cap', CapTransformer(columns=mode_impute_cols)),\n",
    "    ('scale', StandardScaler())\n",
    "])\n",
    "\n",
    "cat_pipeline = Pipeline([\n",
    "    ('imputer', SimpleImputer(strategy='most_frequent')),\n",
    "    ('rare', RareCategoryGrouper(column='original_language', top_n=10, other_label='Other')),\n",
    "    ('onehot', OneHotEncoder(handle_unknown='ignore', sparse_output=False))\n",
    "])\n",
    "\n",
    "# Pré-processador principal\n",
    "preprocessor = ColumnTransformer([\n",
    "    ('mean_numeric', mean_numeric_pipeline, mean_impute_cols),\n",
    "    ('mode_numeric', mode_numeric_pipeline, mode_impute_cols),\n",
    "    ('categorical', cat_pipeline, categorical_col),\n",
    "    ('credits', credits_transformer, 'credits'),\n",
    "    ('genres', genres_transformer, 'genres'),\n",
    "    ('prod_companies', prod_companies_transformer, 'production_companies')\n",
    "], remainder='drop')\n",
    "\n",
    "# Pipeline final e completo\n",
    "pipeline = Pipeline([\n",
    "    ('budget_ratio', BudgetRuntimeRatioTransformer()),\n",
    "    ('date', DateFeatureExtractor(date_column=date_column)),\n",
    "    ('preprocess', preprocessor),\n",
    "    ('regressor', XGBRegressor(objective='reg:squarederror', random_state=87, n_jobs=-1))\n",
    "])\n",
    "\n",
    "pipeline.set_output(transform=\"pandas\")\n",
    "\n",
    "# Definição dos parâmetros para a busca\n",
    "param_dist = {\n",
    "    'regressor__n_estimators': randint(100, 300),\n",
    "    'regressor__max_depth': randint(3, 10),\n",
    "    'regressor__learning_rate': uniform(0.01, 0.3),\n",
    "    'regressor__subsample': uniform(0.7, 0.3),\n",
    "    'regressor__colsample_bytree': uniform(0.7, 0.3),\n",
    "}\n",
    "\n",
    "# Treinamento com RandomizedSearchCV\n",
    "XGBRegressor_rand = RandomizedSearchCV(\n",
    "    estimator=pipeline,\n",
    "    param_distributions=param_dist,\n",
    "    n_iter=30,\n",
    "    cv=kf,\n",
    "    scoring='r2',\n",
    "    random_state=87,\n",
    "    verbose=2,\n",
    "    n_jobs=-1\n",
    ")\n",
    "\n",
    "XGBRegressor_rand.fit(X_train, y_train)\n",
    "\n",
    "# Exibição e salvamento dos resultados\n",
    "print(\"Melhores parâmetros:\", XGBRegressor_rand.best_params_)\n",
    "print(\"Melhor R² (validação cruzada):\", XGBRegressor_rand.best_score_)"
   ]
  },
  {
   "cell_type": "markdown",
   "id": "ddf98090",
   "metadata": {},
   "source": [
    "### SVR"
   ]
  },
  {
   "cell_type": "code",
   "execution_count": null,
   "id": "c7a90fd7",
   "metadata": {},
   "outputs": [],
   "source": [
    "# --- 2. Definição dos Sub-pipelines de Pré-processamento ---\n",
    "mean_numeric_pipeline = Pipeline([\n",
    "    ('imputer', SimpleImputer(strategy='mean')),\n",
    "    ('cap', CapTransformer(columns=mean_impute_cols)),\n",
    "    ('scale', StandardScaler())\n",
    "])\n",
    "\n",
    "mode_numeric_pipeline = Pipeline([\n",
    "    ('imputer', SimpleImputer(strategy='most_frequent')),\n",
    "    ('cap', CapTransformer(columns=mode_impute_cols)),\n",
    "    ('scale', StandardScaler())\n",
    "])\n",
    "\n",
    "cat_pipeline = Pipeline([\n",
    "    ('imputer', SimpleImputer(strategy='most_frequent')),\n",
    "    ('rare', RareCategoryGrouper(column='original_language', top_n=10, other_label='Other')),\n",
    "    ('onehot', OneHotEncoder(handle_unknown='ignore', sparse_output=False))\n",
    "])\n",
    "\n",
    "# --- 3. Construção do Pré-processador Principal ---\n",
    "# Este preprocessor é reutilizado do setup do XGBoost\n",
    "preprocessor = ColumnTransformer([\n",
    "    ('mean_numeric', mean_numeric_pipeline, mean_impute_cols),\n",
    "    ('mode_numeric', mode_numeric_pipeline, mode_impute_cols),\n",
    "    ('categorical', cat_pipeline, categorical_col),\n",
    "    ('credits', credits_transformer, 'credits'),\n",
    "    ('genres', genres_transformer, 'genres'),\n",
    "    ('prod_companies', prod_companies_transformer, 'production_companies')\n",
    "], remainder='drop')\n",
    "\n",
    "\n",
    "# --- 4. Construção do Pipeline Final para o SVR ---\n",
    "pipeline_svr = Pipeline([\n",
    "    # As etapas iniciais são idênticas ao pipeline do XGBoost\n",
    "    ('budget_ratio', BudgetRuntimeRatioTransformer()),\n",
    "    ('date', DateFeatureExtractor(date_column=date_column)),\n",
    "    \n",
    "    # A etapa de pré-processamento reutiliza o mesmo preprocessor robusto\n",
    "    ('preprocess', preprocessor),\n",
    "    \n",
    "    # A única diferença é o estimador final\n",
    "    ('regressor', SVR())\n",
    "])\n",
    "\n",
    "pipeline_svr.set_output(transform=\"pandas\")\n",
    "\n",
    "\n",
    "# --- 5. Otimização e Treinamento do SVR ---\n",
    "# A distribuição de parâmetros e a busca continuam as mesmas\n",
    "param_dist_svr = {\n",
    "    'regressor__kernel': ['rbf', 'linear'],\n",
    "    'regressor__C': loguniform(1e-2, 1e2),\n",
    "    'regressor__epsilon': uniform(0.01, 0.3),\n",
    "    'regressor__gamma': ['scale', 'auto']\n",
    "}\n",
    "\n",
    "svm_rand = RandomizedSearchCV(\n",
    "    estimator=pipeline_svr,\n",
    "    param_distributions=param_dist_svr,\n",
    "    n_iter=30,\n",
    "    cv=kf,\n",
    "    scoring='r2',\n",
    "    random_state=87,\n",
    "    verbose=2,\n",
    "    n_jobs=-1\n",
    ")\n",
    "\n",
    "svm_rand.fit(X_train, y_train)\n",
    "\n",
    "# --- 6. Exibição e Salvamento dos Resultados ---\n",
    "print(\"Melhores parâmetros SVR:\", svm_rand.best_params_)\n",
    "print(\"Melhor R² (CV) SVR:\", svm_rand.best_score_)"
   ]
  },
  {
   "cell_type": "markdown",
   "id": "d790b277",
   "metadata": {},
   "source": [
    "### RandomForest"
   ]
  },
  {
   "cell_type": "code",
   "execution_count": null,
   "id": "aeb5e5bc",
   "metadata": {},
   "outputs": [],
   "source": [
    "# --- 2. Definição dos Sub-pipelines de Pré-processamento ---\n",
    "mean_numeric_pipeline = Pipeline([\n",
    "    ('imputer', SimpleImputer(strategy='mean')),\n",
    "    ('cap', CapTransformer(columns=mean_impute_cols)),\n",
    "    ('scale', StandardScaler())\n",
    "])\n",
    "\n",
    "mode_numeric_pipeline = Pipeline([\n",
    "    ('imputer', SimpleImputer(strategy='most_frequent')),\n",
    "    ('cap', CapTransformer(columns=mode_impute_cols)),\n",
    "    ('scale', StandardScaler())\n",
    "])\n",
    "\n",
    "cat_pipeline = Pipeline([\n",
    "    ('imputer', SimpleImputer(strategy='most_frequent')),\n",
    "    ('rare', RareCategoryGrouper(column='original_language', top_n=10, other_label='Other')),\n",
    "    ('onehot', OneHotEncoder(handle_unknown='ignore', sparse_output=False))\n",
    "])\n",
    "\n",
    "# --- 3. Construção do Pré-processador Principal ---\n",
    "# Este preprocessor é reutilizado dos setups anteriores\n",
    "preprocessor = ColumnTransformer([\n",
    "    ('mean_numeric', mean_numeric_pipeline, mean_impute_cols),\n",
    "    ('mode_numeric', mode_numeric_pipeline, mode_impute_cols),\n",
    "    ('categorical', cat_pipeline, categorical_col),\n",
    "    ('credits', credits_transformer, 'credits'),\n",
    "    ('genres', genres_transformer, 'genres'),\n",
    "    ('prod_companies', prod_companies_transformer, 'production_companies')\n",
    "], remainder='drop')\n",
    "\n",
    "\n",
    "# --- 4. Construção do Pipeline Final para o Random Forest ---\n",
    "pipeline_rf = Pipeline([\n",
    "    # Etapas iniciais idênticas aos outros pipelines\n",
    "    ('budget_ratio', BudgetRuntimeRatioTransformer()),\n",
    "    ('date', DateFeatureExtractor(date_column=date_column)),\n",
    "    \n",
    "    # Reutiliza o mesmo preprocessor robusto\n",
    "    ('preprocess', preprocessor),\n",
    "    \n",
    "    # A única diferença é o estimador final\n",
    "    ('regressor', RandomForestRegressor(random_state=87, n_jobs=-1))\n",
    "])\n",
    "\n",
    "pipeline_rf.set_output(transform=\"pandas\")\n",
    "\n",
    "\n",
    "# --- 5. Otimização e Treinamento do Random Forest ---\n",
    "# A distribuição de parâmetros e a busca continuam as mesmas\n",
    "param_dist_rf = {\n",
    "    'regressor__n_estimators': randint(100, 500),\n",
    "    'regressor__max_depth': randint(3, 20),\n",
    "    'regressor__min_samples_split': randint(2, 10),\n",
    "    'regressor__min_samples_leaf': randint(1, 10),\n",
    "    'regressor__max_features': ['sqrt', 'log2', None]\n",
    "}\n",
    "\n",
    "rf_rand = RandomizedSearchCV(\n",
    "    estimator=pipeline_rf,\n",
    "    param_distributions=param_dist_rf,\n",
    "    n_iter=30,\n",
    "    cv=kf,\n",
    "    scoring='r2',\n",
    "    error_score='raise',\n",
    "    random_state=87,\n",
    "    verbose=2,\n",
    "    n_jobs=-1\n",
    ")\n",
    "\n",
    "rf_rand.fit(X_train, y_train)\n",
    "\n",
    "# --- 6. Exibição e Salvamento dos Resultados ---\n",
    "print(\"Melhores parâmetros RF:\", rf_rand.best_params_)\n",
    "print(\"Melhor R² (CV) RF:\", rf_rand.best_score_)"
   ]
  },
  {
   "cell_type": "markdown",
   "id": "b239bf00",
   "metadata": {},
   "source": [
    "# Avaliação dos modelos"
   ]
  },
  {
   "cell_type": "markdown",
   "id": "8eb135a9",
   "metadata": {},
   "source": [
    "## Treino"
   ]
  },
  {
   "cell_type": "code",
   "execution_count": null,
   "id": "f5f34039",
   "metadata": {},
   "outputs": [],
   "source": [
    "def evaluate_model_train(model_name, model, X_train, y_train):\n",
    "    y_pred_train = model.predict(X_train)\n",
    "    return {\n",
    "        'Modelo': model_name,\n",
    "        'R²': r2_score(y_train, y_pred_train),\n",
    "        'MAE': mean_absolute_error(y_train, y_pred_train),\n",
    "        'RMSE': np.sqrt(mean_squared_error(y_train, y_pred_train)),\n",
    "        'MedAE': median_absolute_error(y_train, y_pred_train)\n",
    "    }"
   ]
  },
  {
   "cell_type": "code",
   "execution_count": null,
   "id": "3c63cb9e",
   "metadata": {},
   "outputs": [],
   "source": [
    "evaluate_model_train(\"XGBRegressor\", XGBRegressor_rand.best_estimator_, X_train, y_train)"
   ]
  },
  {
   "cell_type": "code",
   "execution_count": null,
   "id": "fee75c93",
   "metadata": {},
   "outputs": [],
   "source": [
    "results_train = []\n",
    "results_train.append(evaluate_model_train(\"XGBRegressor\", XGBRegressor_rand.best_estimator_, X_train, y_train))\n",
    "results_train.append(evaluate_model_train(\"RandomForestRegressor\", rf_rand.best_estimator_, X_train, y_train))\n",
    "results_train.append(evaluate_model_train(\"SVR\", svm_rand.best_estimator_, X_train, y_train))\n",
    "results_df_train = pd.DataFrame(results_train)\n",
    "print(results_df_train)"
   ]
  },
  {
   "cell_type": "markdown",
   "id": "f5b1b2a7",
   "metadata": {},
   "source": [
    "## Teste"
   ]
  },
  {
   "cell_type": "code",
   "execution_count": null,
   "id": "4871d859",
   "metadata": {},
   "outputs": [],
   "source": [
    "def evaluate_model_test(model_name, model, X_test, y_test):\n",
    "    y_pred_test = model.predict(X_test)\n",
    "    return {\n",
    "        'Modelo': model_name,\n",
    "        'R²': r2_score(y_test, y_pred_test),\n",
    "        'MAE': mean_absolute_error(y_test, y_pred_test),\n",
    "        'RMSE': np.sqrt(mean_squared_error(y_test, y_pred_test)),\n",
    "        'MedAE': median_absolute_error(y_test, y_pred_test)\n",
    "    }"
   ]
  },
  {
   "cell_type": "code",
   "execution_count": null,
   "id": "51fa7a74",
   "metadata": {},
   "outputs": [],
   "source": [
    "evaluate_model_test(\"XGBRegressor\", XGBRegressor_rand.best_estimator_, X_test, y_test)"
   ]
  },
  {
   "cell_type": "code",
   "execution_count": null,
   "id": "a26f8ddd",
   "metadata": {},
   "outputs": [],
   "source": [
    "results_test = []\n",
    "results_test.append(evaluate_model_test(\"XGBRegressor\", XGBRegressor_rand.best_estimator_, X_test, y_test))\n",
    "results_test.append(evaluate_model_test(\"RandomForestRegressor\", rf_rand.best_estimator_, X_test, y_test))\n",
    "results_test.append(evaluate_model_test(\"SVR\", svm_rand.best_estimator_, X_test, y_test))\n",
    "results_df_test = pd.DataFrame(results_test)\n",
    "print(results_df_test)"
   ]
  },
  {
   "cell_type": "markdown",
   "id": "f385692e",
   "metadata": {},
   "source": [
    "# Graficos"
   ]
  },
  {
   "cell_type": "markdown",
   "id": "5fdbaeb7",
   "metadata": {},
   "source": [
    "## Shap"
   ]
  },
  {
   "cell_type": "markdown",
   "id": "a796c684",
   "metadata": {},
   "source": [
    "### Ingles"
   ]
  },
  {
   "cell_type": "code",
   "execution_count": null,
   "id": "0302ee40",
   "metadata": {},
   "outputs": [],
   "source": [
    "# 1. Obter o melhor pipeline treinado\n",
    "best_pipeline = XGBRegressor_rand.best_estimator_\n",
    "\n",
    "# 2. Criar um pipeline APENAS com os passos de pré-processamento\n",
    "preprocessing_pipeline = Pipeline(best_pipeline.steps[:-1])\n",
    "X_train_transformed = preprocessing_pipeline.transform(X_train)\n",
    "\n",
    "\n",
    "# 3. Obter os nomes das features do ColumnTransformer (que é o passo 'preprocess')\n",
    "col_transformer = best_pipeline.named_steps['preprocess']\n",
    "feature_names = col_transformer.get_feature_names_out()\n",
    "\n",
    "# 4. Criar um DataFrame com os dados transformados para melhor visualização no SHAP\n",
    "X_train_transformed_df = pd.DataFrame(X_train_transformed, columns=feature_names)\n",
    "\n",
    "# 5. Extrair o modelo final e calcular os valores SHAP\n",
    "xgb_model = best_pipeline.named_steps['regressor']\n",
    "explainer = shap.TreeExplainer(xgb_model)\n",
    "shap_values = explainer(X_train_transformed_df) # A API moderna do SHAP usa o explainer como uma função\n",
    "print(\"Valores SHAP calculados com sucesso. Gerando gráficos...\")\n",
    "\n",
    "# 6. Gerar os gráficos\n",
    "plt.figure()\n",
    "plt.title(\"SHAP Summary Plot (Beeswarm)\")\n",
    "shap.summary_plot(shap_values, X_train_transformed_df, show=False)\n",
    "plt.tight_layout() \n",
    "plt.show()\n",
    "plt.figure()\n",
    "plt.title(\"Importância Média das Top 40 Features (SHAP Bar Plot)\")\n",
    "shap.summary_plot(shap_values, X_train_transformed_df, plot_type=\"bar\", show=False, max_display=40)\n",
    "plt.tight_layout()\n",
    "plt.show()"
   ]
  },
  {
   "cell_type": "markdown",
   "id": "f0a1a96f",
   "metadata": {},
   "source": [
    "### Traduzido"
   ]
  },
  {
   "cell_type": "code",
   "execution_count": null,
   "id": "d17645e6",
   "metadata": {},
   "outputs": [],
   "source": [
    "# 1. Obter o melhor pipeline treinado\n",
    "best_pipeline = XGBRegressor_rand.best_estimator_\n",
    "\n",
    "# 2. Criar um pipeline APENAS com os passos de pré-processamento\n",
    "preprocessing_pipeline = Pipeline(best_pipeline.steps[:-1])\n",
    "X_train_transformed = preprocessing_pipeline.transform(X_train)\n",
    "\n",
    "# 3. Obter os nomes das features do ColumnTransformer (que é o passo 'preprocess')\n",
    "col_transformer = best_pipeline.named_steps['preprocess']\n",
    "feature_names = col_transformer.get_feature_names_out()\n",
    "\n",
    "# 4. Criar um DataFrame com os dados transformados para melhor visualização no SHAP\n",
    "X_train_transformed_df = pd.DataFrame(X_train_transformed, columns=feature_names)\n",
    "\n",
    "# 5. Extrair o modelo final e calcular os valores SHAP\n",
    "xgb_model = best_pipeline.named_steps['regressor']\n",
    "explainer = shap.TreeExplainer(xgb_model)\n",
    "shap_values = explainer(X_train_transformed_df)\n",
    "print(\"Valores SHAP calculados com sucesso.\")\n",
    "\n",
    "# -------------------------------------------------------------------------- #\n",
    "#                        ✨ INÍCIO DA MODIFICAÇÃO ✨                         #\n",
    "# -------------------------------------------------------------------------- #\n",
    "\n",
    "# 6. Criar o dicionário de tradução e preparar os nomes para o gráfico\n",
    "\n",
    "print(\"Traduzindo nomes das features para o português...\")\n",
    "\n",
    "# Dicionário para mapear os nomes originais para português (AJUSTADO PARA O NOVO GRÁFICO)\n",
    "mapa_traducao = {\n",
    "    'mean_numeric__runtime': 'Duração (Média)',\n",
    "    'mode_numeric__year': 'Ano de Lançamento (Moda)',\n",
    "    'genres__genre_Drama': 'Gênero: Drama',\n",
    "    'genres__genre_Outros': 'Gênero: Outros',\n",
    "    'genres__genre_Action': 'Gênero: Ação',\n",
    "    'genres__genre_Horror': 'Gênero: Terror',\n",
    "    'categorical__original_language_en': 'Idioma: Inglês',\n",
    "    'mean_numeric__budget_runtime_ratio': 'Orçamento / Duração (Média)',\n",
    "    'mean_numeric__budget': 'Orçamento (Média)',\n",
    "    'genres__genre_Science Fiction': 'Gênero: Ficção Científica',\n",
    "    'mode_numeric__month': 'Mês de Lançamento (Moda)',\n",
    "    'genres__genre_Adventure': 'Gênero: Aventura',\n",
    "    'genres__genre_Crime': 'Gênero: Crime',\n",
    "    'genres__genre_Comedy': 'Gênero: Comédia',\n",
    "    'genres__genre_Thriller': 'Gênero: Suspense',\n",
    "    'categorical__original_language_ja': 'Idioma: Japonês',\n",
    "    'categorical__original_language_Other': 'Idioma: Outro',\n",
    "    'genres__genre_Romance': 'Gênero: Romance',\n",
    "    'categorical__original_language_hi': 'Idioma: Hindi',\n",
    "    'genres__genre_Family': 'Gênero: Família'\n",
    "}\n",
    "\n",
    "\n",
    "# Renomeia as colunas do DataFrame para obter uma lista de nomes traduzidos\n",
    "X_train_transformed_df_traduzido = X_train_transformed_df.rename(columns=mapa_traducao)\n",
    "nomes_traduzidos = X_train_transformed_df_traduzido.columns.tolist()\n",
    "\n",
    "\n",
    "# -------------------------------------------------------------------------- #\n",
    "#                          ✨ FIM DA MODIFICAÇÃO ✨                           #\n",
    "# -------------------------------------------------------------------------- #\n",
    "\n",
    "# 7. Gerar os gráficos com os nomes traduzidos (MÉTODO CORRIGIDO)\n",
    "print(\"Gerando gráficos com nomes traduzidos...\")\n",
    "\n",
    "# --- Gráfico Beeswarm ---\n",
    "plt.figure()\n",
    "plt.title(\"SHAP Summary Plot (Beeswarm) - Traduzido\")\n",
    "shap.summary_plot(\n",
    "    shap_values,\n",
    "    features=X_train_transformed_df,   # Usa o DataFrame ORIGINAL para os valores\n",
    "    feature_names=nomes_traduzidos,     # Usa a lista de NOMES TRADUZIDOS para as etiquetas\n",
    "    show=False\n",
    ")\n",
    "plt.tight_layout() \n",
    "plt.show()\n",
    "\n",
    "# --- Gráfico de Barras (Bar Plot) ---\n",
    "plt.figure()\n",
    "plt.title(\"Importância Média das Top 40 Features (SHAP Bar Plot) - Traduzido\")\n",
    "shap.summary_plot(\n",
    "    shap_values,\n",
    "    features=X_train_transformed_df,   # Usa o DataFrame ORIGINAL para os valores\n",
    "    feature_names=nomes_traduzidos,     # Usa a lista de NOMES TRADUZIDOS para as etiquetas\n",
    "    plot_type=\"bar\",\n",
    "    show=False,\n",
    "    max_display=40\n",
    ")\n",
    "plt.tight_layout()\n",
    "plt.show()"
   ]
  },
  {
   "cell_type": "markdown",
   "id": "35542d4b",
   "metadata": {},
   "source": [
    "## Importance"
   ]
  },
  {
   "cell_type": "code",
   "execution_count": null,
   "id": "fa1a3cc1",
   "metadata": {},
   "outputs": [],
   "source": [
    "feature_importance = np.abs(shap_values.values).mean(axis=0)\n",
    "importance_df = pd.DataFrame({\n",
    "    'Feature': feature_names,\n",
    "    'SHAP Importance': feature_importance\n",
    "})\n",
    "\n",
    "sorted_importance_df = importance_df.sort_values(\n",
    "    by='SHAP Importance', \n",
    "    ascending=False\n",
    ").reset_index(drop=True)\n",
    "\n",
    "print(\"Ranking de Importância das Features (baseado em SHAP):\")\n",
    "pd.set_option('display.max_rows', None)\n",
    "print(len(sorted_importance_df))\n",
    "display(sorted_importance_df) "
   ]
  },
  {
   "cell_type": "markdown",
   "id": "a56caccd",
   "metadata": {},
   "source": [
    "# Gerando Pickle"
   ]
  },
  {
   "cell_type": "code",
   "execution_count": null,
   "id": "7717ac36",
   "metadata": {},
   "outputs": [],
   "source": [
    "melhor_pipeline_final = XGBRegressor_rand.best_estimator_\n",
    "nome_arquivo_modelo = 'best_model_sem_popularidade.pkl'"
   ]
  },
  {
   "cell_type": "code",
   "execution_count": null,
   "id": "5affd052",
   "metadata": {},
   "outputs": [],
   "source": [
    "#joblib.dump(melhor_pipeline_final, nome_arquivo_modelo)"
   ]
  }
 ],
 "metadata": {
  "kernelspec": {
   "display_name": "Python 3",
   "language": "python",
   "name": "python3"
  },
  "language_info": {
   "codemirror_mode": {
    "name": "ipython",
    "version": 3
   },
   "file_extension": ".py",
   "mimetype": "text/x-python",
   "name": "python",
   "nbconvert_exporter": "python",
   "pygments_lexer": "ipython3",
   "version": "3.13.5"
  }
 },
 "nbformat": 4,
 "nbformat_minor": 5
}
