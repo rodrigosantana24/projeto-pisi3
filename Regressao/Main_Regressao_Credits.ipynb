{
 "cells": [
  {
   "cell_type": "markdown",
   "id": "c4c7ac9f",
   "metadata": {},
   "source": [
    "## Importações"
   ]
  },
  {
   "cell_type": "code",
   "execution_count": 1,
   "id": "648d0c0f",
   "metadata": {},
   "outputs": [
    {
     "name": "stderr",
     "output_type": "stream",
     "text": [
      "c:\\temp\\ws-vscode\\DSI-PISI3\\projeto-pisi3\\.venv\\Lib\\site-packages\\tqdm\\auto.py:21: TqdmWarning: IProgress not found. Please update jupyter and ipywidgets. See https://ipywidgets.readthedocs.io/en/stable/user_install.html\n",
      "  from .autonotebook import tqdm as notebook_tqdm\n"
     ]
    }
   ],
   "source": [
    "import pandas as pd\n",
    "import numpy as np\n",
    "import pickle\n",
    "import matplotlib.pyplot as plt\n",
    "import shap\n",
    "import seaborn as sns\n",
    "\n",
    "# Pré-processamento e pipelines\n",
    "from transformers_credits import DateFeatureExtractor, CreditsCounter, MultiLabelProcessor, RareCategoryGrouper, CapTransformer\n",
    "from sklearn.compose import ColumnTransformer\n",
    "from sklearn.pipeline import Pipeline\n",
    "from sklearn.preprocessing import OneHotEncoder, StandardScaler\n",
    "\n",
    "# Modelos de Regressão\n",
    "from sklearn.ensemble import RandomForestRegressor\n",
    "from sklearn.svm import SVR\n",
    "from xgboost import XGBRegressor\n",
    "\n",
    "# Validação e busca de hiperparâmetros\n",
    "from sklearn.model_selection import train_test_split, KFold, RandomizedSearchCV\n",
    "from scipy.stats import randint, uniform, loguniform\n",
    "\n",
    "# Métricas\n",
    "from sklearn.metrics import r2_score, mean_absolute_error, mean_squared_error"
   ]
  },
  {
   "cell_type": "markdown",
   "id": "45f4aa79",
   "metadata": {},
   "source": [
    "## Carregando dataset"
   ]
  },
  {
   "cell_type": "code",
   "execution_count": 2,
   "id": "0e292798",
   "metadata": {},
   "outputs": [],
   "source": [
    "df = pd.read_csv('../data/filmes_filtrados_credits.csv')"
   ]
  },
  {
   "cell_type": "markdown",
   "id": "410129fb",
   "metadata": {},
   "source": [
    "## Dividindo os dados"
   ]
  },
  {
   "cell_type": "code",
   "execution_count": 3,
   "id": "864cb8c3",
   "metadata": {},
   "outputs": [],
   "source": [
    "# Definição das colunas por tipo\n",
    "TARGET = 'vote_average'\n",
    "DATE_COLUMN = 'release_date'\n",
    "CREDITS_COL = 'credits'\n",
    "MULTILABEL_COLS_CONFIG = {\n",
    "    'genres': {'sep': '-', 'top_n': 12, 'prefix': 'genre'},\n",
    "    'production_companies': {'sep': '-', 'top_n': 8, 'prefix': 'prod'}\n",
    "}\n",
    "NUMERICAL_COLS_RAW = ['popularity', 'budget', 'runtime'] # Colunas numéricas originais\n",
    "CATEGORICAL_COL = ['original_language']\n",
    "\n",
    "# Colunas que entrarão no modelo\n",
    "features = NUMERICAL_COLS_RAW + CATEGORICAL_COL + [DATE_COLUMN, CREDITS_COL] + list(MULTILABEL_COLS_CONFIG.keys())\n",
    "\n",
    "X = df[features]\n",
    "y = df[TARGET]\n",
    "\n",
    "# Divisão em treino e teste\n",
    "X_train, X_test, y_train, y_test = train_test_split(X, y, test_size=0.2, random_state=87)"
   ]
  },
  {
   "cell_type": "markdown",
   "id": "50000881",
   "metadata": {},
   "source": [
    "## Construção do Pipeline de Pré-processamento"
   ]
  },
  {
   "cell_type": "code",
   "execution_count": 4,
   "id": "2ae7ca52",
   "metadata": {},
   "outputs": [],
   "source": [
    "# O pipeline principal irá gerar novas colunas. Definimos os nomes aqui para o ColumnTransformer\n",
    "NUMERICAL_COLS_FINAL = NUMERICAL_COLS_RAW + ['credits_count']\n",
    "\n",
    "# Pipeline para colunas numéricas (Cap de outliers + Padronização)\n",
    "numeric_transformer = Pipeline(steps=[\n",
    "    ('cap', CapTransformer(columns=NUMERICAL_COLS_FINAL)),\n",
    "    ('scaler', StandardScaler())\n",
    "])\n",
    "\n",
    "# Pipeline para a coluna categórica (Agrupamento de raras + OneHot)\n",
    "categorical_transformer = Pipeline(steps=[\n",
    "    ('rare', RareCategoryGrouper(column='original_language', top_n=10)),\n",
    "    ('onehot', OneHotEncoder(handle_unknown='ignore', sparse_output=False))\n",
    "])\n",
    "\n",
    "# Pré-processador que aplica transformações específicas a cada tipo de coluna\n",
    "preprocessor = ColumnTransformer(\n",
    "    transformers=[\n",
    "        ('num', numeric_transformer, NUMERICAL_COLS_FINAL),\n",
    "        ('cat', categorical_transformer, CATEGORICAL_COL)\n",
    "    ],\n",
    "    remainder='passthrough' # Mantém as colunas processadas anteriormente (ano, mês, multilabel)\n",
    ")\n",
    "\n",
    "# Pipeline completo que encadeia todas as etapas de engenharia de features e pré-processamento\n",
    "features_pipeline = Pipeline(steps=[\n",
    "    ('credits_transform', CreditsCounter(credits_column=CREDITS_COL)),\n",
    "    ('date_transform', DateFeatureExtractor(date_column=DATE_COLUMN)),\n",
    "    ('multilabel_transform', MultiLabelProcessor(multilabel_cols_config=MULTILABEL_COLS_CONFIG)),\n",
    "    ('preprocess', preprocessor)\n",
    "])"
   ]
  },
  {
   "cell_type": "markdown",
   "id": "26865081",
   "metadata": {},
   "source": [
    "Célula 1: Definição do Pipeline e KFold\n"
   ]
  },
  {
   "cell_type": "code",
   "execution_count": 5,
   "id": "8656badd",
   "metadata": {},
   "outputs": [],
   "source": [
    "from sklearn.model_selection import KFold\n",
    "from sklearn.pipeline import Pipeline\n",
    "\n",
    "# Pipeline de pré-processamento (definido em células anteriores)\n",
    "# features_pipeline = Pipeline(...) \n",
    "\n",
    "# KFold para validação cruzada\n",
    "kf = KFold(n_splits=5, shuffle=True, random_state=87)\n",
    "\n",
    "# Dicionários para armazenar os resultados e os melhores modelos\n",
    "results = {}\n",
    "best_estimators = {}"
   ]
  },
  {
   "cell_type": "markdown",
   "id": "e60fa565",
   "metadata": {},
   "source": [
    "Célula 2: Treinamento do XGBoost\n"
   ]
  },
  {
   "cell_type": "code",
   "execution_count": 6,
   "id": "6dc12314",
   "metadata": {},
   "outputs": [
    {
     "name": "stdout",
     "output_type": "stream",
     "text": [
      "--- Treinando e otimizando XGBoost ---\n",
      "Fitting 5 folds for each of 25 candidates, totalling 125 fits\n",
      "Melhores parâmetros para XGBoost: {'regressor__colsample_bytree': np.float64(0.8696231377727208), 'regressor__learning_rate': np.float64(0.04328037357016285), 'regressor__max_depth': 5, 'regressor__n_estimators': 241, 'regressor__subsample': np.float64(0.8173221947525602)}\n",
      "\n",
      "Melhor R² (CV) para XGBoost: 0.4929762682543406\n"
     ]
    }
   ],
   "source": [
    "from sklearn.model_selection import RandomizedSearchCV\n",
    "from xgboost import XGBRegressor\n",
    "from scipy.stats import randint, uniform\n",
    "\n",
    "print(\"--- Treinando e otimizando XGBoost ---\")\n",
    "\n",
    "# Pipeline específico para o XGBoost\n",
    "xgb_pipeline = Pipeline(steps=[\n",
    "    ('features', features_pipeline),\n",
    "    ('regressor', XGBRegressor(objective='reg:squarederror', random_state=87, n_jobs=-1))\n",
    "])\n",
    "\n",
    "# Espaço de busca de hiperparâmetros para o XGBoost\n",
    "xgb_params = {\n",
    "    'regressor__n_estimators': randint(100, 300),\n",
    "    'regressor__max_depth': randint(3, 10),\n",
    "    'regressor__learning_rate': uniform(0.01, 0.2),\n",
    "    'regressor__subsample': uniform(0.7, 0.3),\n",
    "    'regressor__colsample_bytree': uniform(0.7, 0.3),\n",
    "}\n",
    "\n",
    "# Busca randomizada\n",
    "xgb_rand_search = RandomizedSearchCV(\n",
    "    estimator=xgb_pipeline,\n",
    "    param_distributions=xgb_params,\n",
    "    n_iter=25,\n",
    "    cv=kf,\n",
    "    scoring='r2',\n",
    "    random_state=87,\n",
    "    verbose=1,\n",
    "    n_jobs=-1\n",
    ")\n",
    "\n",
    "xgb_rand_search.fit(X_train, y_train)\n",
    "best_estimators['XGBoost'] = xgb_rand_search.best_estimator_\n",
    "\n",
    "print(f\"Melhores parâmetros para XGBoost: {xgb_rand_search.best_params_}\\n\")\n",
    "print(f\"Melhor R² (CV) para XGBoost: {xgb_rand_search.best_score_}\")"
   ]
  },
  {
   "cell_type": "markdown",
   "id": "f409a224",
   "metadata": {},
   "source": [
    "Célula 3: Treinamento do RandomForest\n"
   ]
  },
  {
   "cell_type": "code",
   "execution_count": 7,
   "id": "ab838883",
   "metadata": {},
   "outputs": [
    {
     "name": "stdout",
     "output_type": "stream",
     "text": [
      "--- Treinando e otimizando RandomForest ---\n",
      "Fitting 5 folds for each of 25 candidates, totalling 125 fits\n",
      "Melhores parâmetros para RandomForest: {'regressor__max_depth': 19, 'regressor__min_samples_leaf': 3, 'regressor__n_estimators': 354}\n",
      "\n",
      "Melhor R² (CV) para RandomForest: 0.46663531375549433\n"
     ]
    }
   ],
   "source": [
    "from sklearn.ensemble import RandomForestRegressor\n",
    "\n",
    "print(\"--- Treinando e otimizando RandomForest ---\")\n",
    "\n",
    "# Pipeline específico para o RandomForest\n",
    "rf_pipeline = Pipeline(steps=[\n",
    "    ('features', features_pipeline),\n",
    "    ('regressor', RandomForestRegressor(random_state=87, n_jobs=-1))\n",
    "])\n",
    "\n",
    "# Espaço de busca para o RandomForest\n",
    "rf_params = {\n",
    "    'regressor__n_estimators': randint(100, 500),\n",
    "    'regressor__max_depth': randint(5, 20),\n",
    "    'regressor__min_samples_leaf': randint(1, 10),\n",
    "}\n",
    "\n",
    "# Busca randomizada\n",
    "rf_rand_search = RandomizedSearchCV(\n",
    "    estimator=rf_pipeline,\n",
    "    param_distributions=rf_params,\n",
    "    n_iter=25,\n",
    "    cv=kf,\n",
    "    scoring='r2',\n",
    "    random_state=87,\n",
    "    verbose=1,\n",
    "    n_jobs=-1\n",
    ")\n",
    "\n",
    "rf_rand_search.fit(X_train, y_train)\n",
    "best_estimators['RandomForest'] = rf_rand_search.best_estimator_\n",
    "\n",
    "print(f\"Melhores parâmetros para RandomForest: {rf_rand_search.best_params_}\\n\")\n",
    "print(f\"Melhor R² (CV) para RandomForest: {rf_rand_search.best_score_}\")"
   ]
  },
  {
   "cell_type": "markdown",
   "id": "fcda4ab1",
   "metadata": {},
   "source": [
    "Célula 4: Treinamento do SVR\n"
   ]
  },
  {
   "cell_type": "code",
   "execution_count": 8,
   "id": "237eda86",
   "metadata": {},
   "outputs": [
    {
     "name": "stdout",
     "output_type": "stream",
     "text": [
      "--- Treinando e otimizando SVR ---\n",
      "Fitting 5 folds for each of 25 candidates, totalling 125 fits\n",
      "Melhores parâmetros para SVR: {'regressor__C': np.float64(1.1395264134607888), 'regressor__epsilon': np.float64(0.24739505322469346), 'regressor__gamma': 'auto'}\n",
      "\n",
      "Melhor R² (CV) para SVR: 0.442824040410271\n"
     ]
    }
   ],
   "source": [
    "from sklearn.svm import SVR\n",
    "from scipy.stats import loguniform\n",
    "\n",
    "print(\"--- Treinando e otimizando SVR ---\")\n",
    "\n",
    "# Pipeline específico para o SVR\n",
    "svr_pipeline = Pipeline(steps=[\n",
    "    ('features', features_pipeline),\n",
    "    ('regressor', SVR())\n",
    "])\n",
    "\n",
    "# Espaço de busca para o SVR\n",
    "svr_params = {\n",
    "    'regressor__C': loguniform(1e-1, 1e2),\n",
    "    'regressor__epsilon': uniform(0.01, 0.3),\n",
    "    'regressor__gamma': ['scale', 'auto']\n",
    "}\n",
    "\n",
    "# Busca randomizada\n",
    "svr_rand_search = RandomizedSearchCV(\n",
    "    estimator=svr_pipeline,\n",
    "    param_distributions=svr_params,\n",
    "    n_iter=25,\n",
    "    cv=kf,\n",
    "    scoring='r2',\n",
    "    random_state=87,\n",
    "    verbose=1,\n",
    "    n_jobs=-1\n",
    ")\n",
    "\n",
    "svr_rand_search.fit(X_train, y_train)\n",
    "best_estimators['SVR'] = svr_rand_search.best_estimator_\n",
    "\n",
    "print(f\"Melhores parâmetros para SVR: {svr_rand_search.best_params_}\\n\")\n",
    "print(f\"Melhor R² (CV) para SVR: {svr_rand_search.best_score_}\")"
   ]
  },
  {
   "cell_type": "markdown",
   "id": "21fe39c3",
   "metadata": {},
   "source": [
    "Célula 5: Avaliação Final dos Modelos\n"
   ]
  },
  {
   "cell_type": "code",
   "execution_count": 9,
   "id": "baf10eb5",
   "metadata": {},
   "outputs": [
    {
     "name": "stdout",
     "output_type": "stream",
     "text": [
      "\n",
      "--- Resultados Finais da Avaliação ---\n"
     ]
    },
    {
     "data": {
      "text/html": [
       "<div>\n",
       "<style scoped>\n",
       "    .dataframe tbody tr th:only-of-type {\n",
       "        vertical-align: middle;\n",
       "    }\n",
       "\n",
       "    .dataframe tbody tr th {\n",
       "        vertical-align: top;\n",
       "    }\n",
       "\n",
       "    .dataframe thead th {\n",
       "        text-align: right;\n",
       "    }\n",
       "</style>\n",
       "<table border=\"1\" class=\"dataframe\">\n",
       "  <thead>\n",
       "    <tr style=\"text-align: right;\">\n",
       "      <th></th>\n",
       "      <th>R² (CV)</th>\n",
       "      <th>R² (Teste)</th>\n",
       "      <th>MAE (Teste)</th>\n",
       "      <th>RMSE (Teste)</th>\n",
       "    </tr>\n",
       "  </thead>\n",
       "  <tbody>\n",
       "    <tr>\n",
       "      <th>XGBoost</th>\n",
       "      <td>0.492976</td>\n",
       "      <td>0.487283</td>\n",
       "      <td>0.498563</td>\n",
       "      <td>0.652966</td>\n",
       "    </tr>\n",
       "    <tr>\n",
       "      <th>RandomForest</th>\n",
       "      <td>0.466635</td>\n",
       "      <td>0.458910</td>\n",
       "      <td>0.512332</td>\n",
       "      <td>0.670791</td>\n",
       "    </tr>\n",
       "    <tr>\n",
       "      <th>SVR</th>\n",
       "      <td>0.442824</td>\n",
       "      <td>0.442009</td>\n",
       "      <td>0.515798</td>\n",
       "      <td>0.681186</td>\n",
       "    </tr>\n",
       "  </tbody>\n",
       "</table>\n",
       "</div>"
      ],
      "text/plain": [
       "               R² (CV)  R² (Teste)  MAE (Teste)  RMSE (Teste)\n",
       "XGBoost       0.492976    0.487283     0.498563      0.652966\n",
       "RandomForest  0.466635    0.458910     0.512332      0.670791\n",
       "SVR           0.442824    0.442009     0.515798      0.681186"
      ]
     },
     "metadata": {},
     "output_type": "display_data"
    }
   ],
   "source": [
    "from sklearn.metrics import r2_score, mean_absolute_error, mean_squared_error\n",
    "import pandas as pd\n",
    "import numpy as np\n",
    "\n",
    "def evaluate_model(model_name, estimator, X_test, y_test):\n",
    "    \"\"\"Função para avaliar um modelo e retornar um dicionário de métricas.\"\"\"\n",
    "    y_pred = estimator.predict(X_test)\n",
    "    return {\n",
    "        'R² (Teste)': r2_score(y_test, y_pred),\n",
    "        'MAE (Teste)': mean_absolute_error(y_test, y_pred),\n",
    "        'RMSE (Teste)': np.sqrt(mean_squared_error(y_test, y_pred)),\n",
    "    }\n",
    "\n",
    "# Avalia cada um dos melhores modelos\n",
    "results['XGBoost'] = evaluate_model('XGBoost', best_estimators['XGBoost'], X_test, y_test)\n",
    "results['RandomForest'] = evaluate_model('RandomForest', best_estimators['RandomForest'], X_test, y_test)\n",
    "results['SVR'] = evaluate_model('SVR', best_estimators['SVR'], X_test, y_test)\n",
    "\n",
    "# Adiciona a pontuação de validação cruzada para comparação\n",
    "results['XGBoost']['R² (CV)'] = xgb_rand_search.best_score_\n",
    "results['RandomForest']['R² (CV)'] = rf_rand_search.best_score_\n",
    "results['SVR']['R² (CV)'] = svr_rand_search.best_score_\n",
    "\n",
    "# Cria e exibe o DataFrame de resultados\n",
    "results_df = pd.DataFrame(results).T\n",
    "results_df = results_df[['R² (CV)', 'R² (Teste)', 'MAE (Teste)', 'RMSE (Teste)']] # Reordena colunas\n",
    "results_df = results_df.sort_values(by='R² (Teste)', ascending=False)\n",
    "\n",
    "print(\"\\n--- Resultados Finais da Avaliação ---\")\n",
    "display(results_df)"
   ]
  }
 ],
 "metadata": {
  "kernelspec": {
   "display_name": ".venv",
   "language": "python",
   "name": "python3"
  },
  "language_info": {
   "codemirror_mode": {
    "name": "ipython",
    "version": 3
   },
   "file_extension": ".py",
   "mimetype": "text/x-python",
   "name": "python",
   "nbconvert_exporter": "python",
   "pygments_lexer": "ipython3",
   "version": "3.13.0"
  }
 },
 "nbformat": 4,
 "nbformat_minor": 5
}
