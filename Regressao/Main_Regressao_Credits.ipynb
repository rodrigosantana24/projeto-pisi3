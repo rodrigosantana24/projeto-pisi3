{
 "cells": [
  {
   "cell_type": "markdown",
   "id": "cdb73808",
   "metadata": {},
   "source": [
    "## Importações"
   ]
  },
  {
   "cell_type": "code",
   "execution_count": 21,
   "id": "9dc044ad",
   "metadata": {},
   "outputs": [],
   "source": [
    "import pandas as pd\n",
    "import numpy as np"
   ]
  },
  {
   "cell_type": "markdown",
   "id": "255ef1de",
   "metadata": {},
   "source": [
    "#### Modelos"
   ]
  },
  {
   "cell_type": "code",
   "execution_count": 22,
   "id": "0a4e793a",
   "metadata": {},
   "outputs": [],
   "source": [
    "from xgboost import XGBRegressor\n",
    "from sklearn.svm import SVR \n",
    "from sklearn.ensemble import RandomForestRegressor "
   ]
  },
  {
   "cell_type": "markdown",
   "id": "3c2c8dcf",
   "metadata": {},
   "source": [
    "#### Métricas"
   ]
  },
  {
   "cell_type": "code",
   "execution_count": 23,
   "id": "5aaba4ab",
   "metadata": {},
   "outputs": [],
   "source": [
    "from sklearn.model_selection import train_test_split, KFold, cross_val_predict\n",
    "from sklearn.preprocessing import MultiLabelBinarizer, StandardScaler\n",
    "from sklearn.metrics import r2_score, mean_absolute_error, mean_squared_error, median_absolute_error"
   ]
  },
  {
   "cell_type": "markdown",
   "id": "90dafa37",
   "metadata": {},
   "source": [
    "## Carregando dataset com nova coluna 'credits' "
   ]
  },
  {
   "cell_type": "code",
   "execution_count": 24,
   "id": "ae7a461a",
   "metadata": {},
   "outputs": [],
   "source": [
    "def load_data(file_path):\n",
    "    return pd.read_csv(file_path)"
   ]
  },
  {
   "cell_type": "markdown",
   "id": "62a08714",
   "metadata": {},
   "source": [
    "## Dividindo os dados"
   ]
  },
  {
   "cell_type": "markdown",
   "id": "77e8c374",
   "metadata": {},
   "source": [
    "### Engenharia de features"
   ]
  },
  {
   "cell_type": "code",
   "execution_count": 25,
   "id": "71eb689b",
   "metadata": {},
   "outputs": [],
   "source": [
    "def feature_engineering(df):\n",
    "    df_copy = df.copy()\n",
    "    df_copy['credits_count'] = df_copy['credits'].astype(str).apply(lambda x: len(x.split('-')))\n",
    "    df_copy['release_date'] = pd.to_datetime(df_copy['release_date'], errors='coerce') \n",
    "    df_copy['year'] = df_copy['release_date'].dt.year\n",
    "    df_copy['month'] = df_copy['release_date'].dt.month\n",
    "    df_copy = df_copy.drop(columns=['credits', 'release_date'])   \n",
    "    return df_copy"
   ]
  },
  {
   "cell_type": "markdown",
   "id": "dd1f548a",
   "metadata": {},
   "source": [
    "### Lidando com outliers"
   ]
  },
  {
   "cell_type": "code",
   "execution_count": 26,
   "id": "0c81288b",
   "metadata": {},
   "outputs": [],
   "source": [
    "def handle_outliers(X_train, X_test, numeric_cols, lower_percentile=0.01, upper_percentile=0.99):\n",
    "    X_train_copy, X_test_copy = X_train.copy(), X_test.copy()\n",
    "    for col in numeric_cols:\n",
    "        if col in X_train_copy.columns and pd.api.types.is_numeric_dtype(X_train_copy[col]):\n",
    "            lower = X_train_copy[col].quantile(lower_percentile)\n",
    "            upper = X_train_copy[col].quantile(upper_percentile)\n",
    "            X_train_copy[col] = X_train_copy[col].clip(lower, upper)\n",
    "            X_test_copy[col] = X_test_copy[col].clip(lower, upper)\n",
    "    return X_train_copy, X_test_copy"
   ]
  },
  {
   "cell_type": "markdown",
   "id": "8a8641a4",
   "metadata": {},
   "source": [
    "### Agrupando categorias de colunas "
   ]
  },
  {
   "cell_type": "code",
   "execution_count": 27,
   "id": "a9f55b05",
   "metadata": {},
   "outputs": [],
   "source": [
    "def group_rare_categories(series_train, series_test, min_count_threshold=50, replacement_label='Other'):\n",
    "    counts = series_train.value_counts()\n",
    "    rare_categories = counts[counts < min_count_threshold].index\n",
    "    series_train_processed = series_train.replace(rare_categories, replacement_label)\n",
    "    series_test_processed = series_test.replace(rare_categories, replacement_label)\n",
    "    return series_train_processed, series_test_processed\n",
    "\n",
    "def process_multilabel_column(train_series, test_series, sep='-', top_n=12, prefix='feature'):\n",
    "    exploded_train = train_series.astype(str).str.split(sep).explode().str.strip()\n",
    "    top_categories = exploded_train.value_counts().nlargest(top_n).index.tolist()\n",
    "\n",
    "    def filter_and_process(vals_series):\n",
    "        filtered_lists = []\n",
    "        for val_str in vals_series.astype(str).str.split(sep):\n",
    "            filtered_list = [v.strip() for v in val_str if v.strip() in top_categories]\n",
    "            if not filtered_list:\n",
    "                filtered_list = ['Other']\n",
    "            filtered_lists.append(filtered_list)\n",
    "        return filtered_lists\n",
    "\n",
    "    train_filtered = filter_and_process(train_series)\n",
    "    test_filtered = filter_and_process(test_series)\n",
    "    mlb = MultiLabelBinarizer()\n",
    "    train_enc = pd.DataFrame(mlb.fit_transform(train_filtered), columns=[f\"{prefix}_{cls}\" for cls in mlb.classes_], index=train_series.index)\n",
    "    test_enc = pd.DataFrame(mlb.transform(test_filtered), columns=[f\"{prefix}_{cls}\" for cls in mlb.classes_], index=test_series.index)\n",
    "    return train_enc, test_enc"
   ]
  },
  {
   "cell_type": "markdown",
   "id": "213ce88d",
   "metadata": {},
   "source": [
    "### Pipeline para carregar, processar e dividir os dados\n"
   ]
  },
  {
   "cell_type": "code",
   "execution_count": 28,
   "id": "13862b54",
   "metadata": {},
   "outputs": [],
   "source": [
    "def prepare_data(file_path, target_col='vote_average', test_size=0.2, random_state=87):\n",
    "    print(\"Iniciando preparação dos dados...\")\n",
    "\n",
    "    df = load_data('../data/filmes_filtrados_credits.csv')\n",
    "    df = feature_engineering(df)\n",
    "\n",
    "    X = df.drop(columns=[target_col])\n",
    "    y = df[target_col]\n",
    "    X_train, X_test, y_train, y_test = train_test_split(X, y, test_size=test_size, random_state=random_state)\n",
    "\n",
    "    numeric_cols = ['budget', 'runtime', 'credits_count', 'year', 'month']\n",
    "    X_train, X_test = handle_outliers(X_train, X_test, numeric_cols)\n",
    "\n",
    "    X_train['original_language'], X_test['original_language'] = group_rare_categories(\n",
    "        X_train['original_language'], X_test['original_language'], min_count_threshold=50\n",
    "    )\n",
    "    X_train = pd.get_dummies(X_train, columns=['original_language'], drop_first=True)\n",
    "    X_test = pd.get_dummies(X_test, columns=['original_language'], drop_first=True)\n",
    "\n",
    "    genres_train_enc, genres_test_enc = process_multilabel_column(X_train['genres'], X_test['genres'], sep='-', top_n=12, prefix='genre')\n",
    "    X_train = X_train.drop(columns=['genres']).join(genres_train_enc)\n",
    "    X_test = X_test.drop(columns=['genres']).join(genres_test_enc)\n",
    "\n",
    "    prod_train_enc, prod_test_enc = process_multilabel_column(X_train['production_companies'], X_test['production_companies'], sep='-', top_n=8, prefix='production')\n",
    "    X_train = X_train.drop(columns=['production_companies']).join(prod_train_enc)\n",
    "    X_test = X_test.drop(columns=['production_companies']).join(prod_test_enc)\n",
    "    \n",
    "    if 'title' in X_train.columns:\n",
    "        X_train = X_train.drop(columns=['title'])\n",
    "        X_test = X_test.drop(columns=['title'])\n",
    "\n",
    "    X_train, X_test = X_train.align(X_test, join='left', axis=1, fill_value=0)\n",
    "    \n",
    "    print(\"Preparação dos dados concluída.\")\n",
    "    return X_train, X_test, y_train, y_test"
   ]
  },
  {
   "cell_type": "markdown",
   "id": "15e06b14",
   "metadata": {},
   "source": [
    "## Treinamento e Avaliação dos Modelos de  Regressão"
   ]
  },
  {
   "cell_type": "code",
   "execution_count": null,
   "id": "894114b9",
   "metadata": {},
   "outputs": [],
   "source": [
    "def train_and_evaluate_model(model, X_train, y_train, X_test, y_test, kf_splits=5, random_state=87):\n",
    "    kf = KFold(n_splits=kf_splits, shuffle=True, random_state=random_state)\n",
    "    print(f\"\\n===== Avaliando o Modelo: {model.__class__.__name__} =====\")\n",
    "\n",
    "    model.fit(X_train, y_train)\n",
    "\n",
    "    y_test_pred = model.predict(X_test)\n",
    "\n",
    "    metrics = {\n",
    "        'R2': r2_score(y_test, y_test_pred),\n",
    "        'MAE': mean_absolute_error(y_test, y_test_pred),\n",
    "        'RMSE': np.sqrt(mean_squared_error(y_test, y_test_pred)),\n",
    "        'MedAE': median_absolute_error(y_test, y_test_pred) \n",
    "    }\n",
    "    \n",
    "    metrics_df = pd.DataFrame(metrics, index=['Value']).T\n",
    "    print(metrics_df)\n",
    "    \n",
    "    return model, metrics_df"
   ]
  },
  {
   "cell_type": "markdown",
   "id": "88d70cec",
   "metadata": {},
   "source": [
    "## Pipeline de execução dos modelos de regressão\n",
    "- Modelo XGBRegressor\n",
    "- Modelo RandomForest\n",
    "- Modelo SVR"
   ]
  },
  {
   "cell_type": "code",
   "execution_count": 31,
   "id": "94a1ea02",
   "metadata": {},
   "outputs": [
    {
     "name": "stdout",
     "output_type": "stream",
     "text": [
      "Iniciando preparação dos dados...\n",
      "Preparação dos dados concluída.\n",
      "\n",
      "===== Avaliando o Modelo: RandomForestRegressor =====\n",
      "               Value\n",
      "R2_test     0.462249\n",
      "MAE_test    0.511350\n",
      "RMSE_test   0.668717\n",
      "MedAE_test  0.408640\n",
      "\n",
      "===== Avaliando o Modelo: SVR =====\n",
      "               Value\n",
      "R2_test     0.391390\n",
      "MAE_test    0.547204\n",
      "RMSE_test   0.711413\n",
      "MedAE_test  0.443293\n",
      "\n",
      "===== Avaliando o Modelo: XGBRegressor =====\n",
      "               Value\n",
      "R2_test     0.452009\n",
      "MAE_test    0.514377\n",
      "RMSE_test   0.675054\n",
      "MedAE_test  0.411738\n"
     ]
    }
   ],
   "source": [
    "# --- Pipeline Principal de Execução (Avaliando Múltiplos Modelos) ---\n",
    "if __name__ == \"__main__\":\n",
    "    # Configurações\n",
    "    FILE_PATH = '../data/filmes_filtrados_credits.csv'\n",
    "    RANDOM_SEED = 87\n",
    "    TEST_SIZE = 0.2\n",
    "\n",
    "    # 1. Preparar os dados (isso é feito apenas uma vez)\n",
    "    X_train, X_test, y_train, y_test = prepare_data(\n",
    "        file_path=FILE_PATH, \n",
    "        target_col='vote_average', \n",
    "        test_size=TEST_SIZE, \n",
    "        random_state=RANDOM_SEED\n",
    "    )\n",
    "\n",
    "    # 2. Padronizar os dados (necessário para o SVR)\n",
    "    scaler = StandardScaler()\n",
    "    X_train_scaled = scaler.fit_transform(X_train)\n",
    "    X_test_scaled = scaler.transform(X_test) \n",
    "    \n",
    "    # --- Avaliando o RandomForestRegressor ---\n",
    "    rf_model = RandomForestRegressor(n_estimators=100, random_state=RANDOM_SEED, n_jobs=-1)\n",
    "    train_and_evaluate_model(\n",
    "        model=rf_model,\n",
    "        X_train=X_train,\n",
    "        y_train=y_train,\n",
    "        X_test=X_test,\n",
    "        y_test=y_test,\n",
    "        random_state=RANDOM_SEED\n",
    "    )\n",
    "\n",
    "    # --- Avaliando o Support Vector Regressor (SVR) ---\n",
    "    svr_model = SVR(kernel='rbf', C=1.0, epsilon=0.1) \n",
    "    train_and_evaluate_model(\n",
    "        model=svr_model,\n",
    "        X_train=X_train_scaled, # Usando dados padronizados\n",
    "        y_train=y_train,\n",
    "        X_test=X_test_scaled, # Usando dados padronizados\n",
    "        y_test=y_test,\n",
    "        random_state=RANDOM_SEED\n",
    "    )\n",
    "\n",
    "    # --- Avaliando o XGBoost Regressor ---\n",
    "    xgboost_model = XGBRegressor(random_state=RANDOM_SEED, n_estimators=100)\n",
    "    train_and_evaluate_model(\n",
    "        model=xgboost_model,\n",
    "        X_train=X_train,\n",
    "        y_train=y_train,\n",
    "        X_test=X_test,\n",
    "        y_test=y_test,\n",
    "        random_state=RANDOM_SEED\n",
    "    )"
   ]
  }
 ],
 "metadata": {
  "kernelspec": {
   "display_name": ".venv",
   "language": "python",
   "name": "python3"
  },
  "language_info": {
   "codemirror_mode": {
    "name": "ipython",
    "version": 3
   },
   "file_extension": ".py",
   "mimetype": "text/x-python",
   "name": "python",
   "nbconvert_exporter": "python",
   "pygments_lexer": "ipython3",
   "version": "3.13.0"
  }
 },
 "nbformat": 4,
 "nbformat_minor": 5
}
