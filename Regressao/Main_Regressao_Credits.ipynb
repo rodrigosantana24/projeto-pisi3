{
 "cells": [
  {
   "cell_type": "markdown",
   "id": "cdb73808",
   "metadata": {},
   "source": [
    "## Importações"
   ]
  },
  {
   "cell_type": "code",
   "execution_count": 2,
   "id": "9dc044ad",
   "metadata": {},
   "outputs": [],
   "source": [
    "import pandas as pd\n",
    "import numpy as np"
   ]
  },
  {
   "cell_type": "markdown",
   "id": "255ef1de",
   "metadata": {},
   "source": [
    "#### Modelos"
   ]
  },
  {
   "cell_type": "code",
   "execution_count": 3,
   "id": "0a4e793a",
   "metadata": {},
   "outputs": [],
   "source": [
    "from xgboost import XGBRegressor\n",
    "from sklearn.svm import SVR \n",
    "from sklearn.ensemble import RandomForestRegressor "
   ]
  },
  {
   "cell_type": "markdown",
   "id": "3c2c8dcf",
   "metadata": {},
   "source": [
    "#### Métricas"
   ]
  },
  {
   "cell_type": "code",
   "execution_count": 4,
   "id": "5aaba4ab",
   "metadata": {},
   "outputs": [],
   "source": [
    "from sklearn.model_selection import train_test_split, KFold, cross_val_predict\n",
    "from sklearn.preprocessing import MultiLabelBinarizer, StandardScaler\n",
    "from sklearn.metrics import r2_score, mean_absolute_error, mean_squared_error, median_absolute_error"
   ]
  },
  {
   "cell_type": "markdown",
   "id": "90dafa37",
   "metadata": {},
   "source": [
    "## Carregando dataset nova coluna 'credits' "
   ]
  },
  {
   "cell_type": "code",
   "execution_count": 5,
   "id": "ae7a461a",
   "metadata": {},
   "outputs": [],
   "source": [
    "df = pd.read_csv('../data/filmes_filtrados_credits.csv')"
   ]
  }
 ],
 "metadata": {
  "kernelspec": {
   "display_name": ".venv",
   "language": "python",
   "name": "python3"
  },
  "language_info": {
   "codemirror_mode": {
    "name": "ipython",
    "version": 3
   },
   "file_extension": ".py",
   "mimetype": "text/x-python",
   "name": "python",
   "nbconvert_exporter": "python",
   "pygments_lexer": "ipython3",
   "version": "3.13.0"
  }
 },
 "nbformat": 4,
 "nbformat_minor": 5
}
