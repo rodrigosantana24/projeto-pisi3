{
 "cells": [
  {
   "cell_type": "markdown",
   "id": "cdb73808",
   "metadata": {},
   "source": [
    "## Importações"
   ]
  },
  {
   "cell_type": "code",
   "execution_count": 2,
   "id": "9dc044ad",
   "metadata": {},
   "outputs": [
    {
     "name": "stderr",
     "output_type": "stream",
     "text": [
      "c:\\temp\\ws-vscode\\DSI-PISI3\\projeto-pisi3\\.venv\\Lib\\site-packages\\tqdm\\auto.py:21: TqdmWarning: IProgress not found. Please update jupyter and ipywidgets. See https://ipywidgets.readthedocs.io/en/stable/user_install.html\n",
      "  from .autonotebook import tqdm as notebook_tqdm\n"
     ]
    }
   ],
   "source": [
    "import pandas as pd\n",
    "import numpy as np\n",
    "import pickle\n",
    "import matplotlib.pyplot as plt\n",
    "import shap\n",
    "\n",
    "# Pré-processamento e pipelines\n",
    "from transformers_credits import DateFeatureExtractor, CreditsCounter, MultiLabelProcessor, RareCategoryGrouper \n",
    "from sklearn.compose import ColumnTransformer\n",
    "from sklearn.pipeline import Pipeline\n",
    "from sklearn.preprocessing import MultiLabelBinarizer, OneHotEncoder, StandardScaler\n",
    "\n",
    "# Modelos de Regressão\n",
    "from sklearn.ensemble import RandomForestRegressor\n",
    "from sklearn.svm import SVR\n",
    "from xgboost import XGBRegressor\n",
    "\n",
    "# Validação e busca de hiperparâmetros\n",
    "from sklearn.model_selection import train_test_split, KFold, RandomizedSearchCV\n",
    "from scipy.stats import randint, uniform, loguniform\n",
    "\n",
    "# Métricas\n",
    "from sklearn.metrics import r2_score, mean_absolute_error, mean_squared_error, median_absolute_error"
   ]
  },
  {
   "cell_type": "markdown",
   "id": "90dafa37",
   "metadata": {},
   "source": [
    "## Carregando dataset "
   ]
  },
  {
   "cell_type": "code",
   "execution_count": 3,
   "id": "ae7a461a",
   "metadata": {},
   "outputs": [],
   "source": [
    "df = pd.read_csv('../data/filmes_filtrados_credits.csv')"
   ]
  },
  {
   "cell_type": "markdown",
   "id": "62a08714",
   "metadata": {},
   "source": [
    "## Dividindo os dados"
   ]
  },
  {
   "cell_type": "code",
   "execution_count": 4,
   "id": "71eb689b",
   "metadata": {},
   "outputs": [],
   "source": [
    "TARGET = 'vote_average'\n",
    "NUMERICAL_COLS = ['popularity', 'budget', 'runtime', 'credits_count'] \n",
    "CATEGORICAL_COL = ['original_language']\n",
    "DATE_COLUMN = 'release_date'\n",
    "MULTILABEL_COLS = ['genres', 'production_companies']\n",
    "CREDITS_COL = 'credits'\n",
    "\n",
    "features = ['popularity', 'budget', 'runtime', 'original_language', 'release_date', 'genres', 'production_companies', CREDITS_COL]\n",
    "X = df[features]\n",
    "y = df[TARGET]\n",
    "\n",
    "X_train, X_test, y_train, y_test = train_test_split(X, y, test_size=0.2, random_state=87)"
   ]
  },
  {
   "cell_type": "markdown",
   "id": "3ff3364b",
   "metadata": {},
   "source": [
    "## Construção do Pipeline"
   ]
  },
  {
   "cell_type": "code",
   "execution_count": 5,
   "id": "113016de",
   "metadata": {},
   "outputs": [],
   "source": [
    "# Configuração para o processador de múltiplos rótulos\n",
    "multilabel_config = {\n",
    "    'genres': {'sep': '-', 'top_n': 12, 'prefix': 'genre'},\n",
    "    'production_companies': {'sep': '-', 'top_n': 8, 'prefix': 'prod'}\n",
    "}\n",
    "\n",
    "# Pipeline para colunas numéricas (sem tratamento de outliers aqui, será feito no pipeline principal)\n",
    "numeric_transformer = Pipeline(steps=[\n",
    "    ('scaler', StandardScaler())\n",
    "])\n",
    "\n",
    "# Pipeline para a coluna categórica\n",
    "categorical_transformer = Pipeline(steps=[\n",
    "    ('rare', RareCategoryGrouper(column='original_language', top_n=10)),\n",
    "    ('onehot', OneHotEncoder(handle_unknown='ignore', sparse_output=False))\n",
    "])\n",
    "\n",
    "# Pré-processador principal com ColumnTransformer\n",
    "# Nota: 'remainder' passará as colunas não especificadas (que serão as processadas pelas etapas anteriores do pipeline)\n",
    "preprocessor = ColumnTransformer(\n",
    "    transformers=[\n",
    "        ('num', numeric_transformer, NUMERICAL_COLS),\n",
    "        ('cat', categorical_transformer, CATEGORICAL_COL)\n",
    "    ],\n",
    "    remainder='passthrough' # Mantém as colunas processadas anteriormente (ano, mês, multilabel)\n",
    ")\n",
    "\n",
    "# Pipeline final\n",
    "full_pipeline = Pipeline(steps=[\n",
    "    ('credits_transform', CreditsCounter(credits_column=CREDITS_COL)),\n",
    "    ('date_transform', DateFeatureExtractor(date_column=DATE_COLUMN)),\n",
    "    ('multilabel_transform', MultiLabelProcessor(multilabel_cols_config=multilabel_config)),\n",
    "    ('preprocess', preprocessor)\n",
    "])"
   ]
  },
  {
   "cell_type": "markdown",
   "id": "dd1f548a",
   "metadata": {},
   "source": [
    "## Definição dos Modelos e Espaço de Busca"
   ]
  },
  {
   "cell_type": "code",
   "execution_count": 6,
   "id": "0c81288b",
   "metadata": {},
   "outputs": [],
   "source": [
    "kf = KFold(n_splits=5, shuffle=True, random_state=87)\n",
    "\n",
    "models_to_tune = {\n",
    "    \"XGBoost\": {\n",
    "        \"model\": XGBRegressor(objective='reg:squarederror', random_state=87, n_jobs=-1),\n",
    "        \"params\": {\n",
    "            'regressor__n_estimators': randint(100, 300),\n",
    "            'regressor__max_depth': randint(3, 10),\n",
    "            'regressor__learning_rate': uniform(0.01, 0.2),\n",
    "            'regressor__subsample': uniform(0.7, 0.3),\n",
    "            'regressor__colsample_bytree': uniform(0.7, 0.3),\n",
    "        }\n",
    "    },\n",
    "    \"RandomForest\": {\n",
    "        \"model\": RandomForestRegressor(random_state=87, n_jobs=-1),\n",
    "        \"params\": {\n",
    "            'regressor__n_estimators': randint(100, 500),\n",
    "            'regressor__max_depth': randint(5, 20),\n",
    "            'regressor__min_samples_leaf': randint(1, 10),\n",
    "        }\n",
    "    },\n",
    "    \"SVR\": {\n",
    "        \"model\": SVR(),\n",
    "        \"params\": {\n",
    "            'regressor__C': loguniform(1e-1, 1e2),\n",
    "            'regressor__epsilon': uniform(0.01, 0.3),\n",
    "            'regressor__gamma': ['scale', 'auto']\n",
    "        }\n",
    "    }\n",
    "}"
   ]
  },
  {
   "cell_type": "markdown",
   "id": "8a8641a4",
   "metadata": {},
   "source": [
    "## Treinamento, Otimização e Avaliação\n"
   ]
  },
  {
   "cell_type": "code",
   "execution_count": 7,
   "id": "a9f55b05",
   "metadata": {},
   "outputs": [
    {
     "name": "stdout",
     "output_type": "stream",
     "text": [
      "--- Treinando e otimizando XGBoost ---\n",
      "Fitting 5 folds for each of 25 candidates, totalling 125 fits\n",
      "Melhores parâmetros para XGBoost: {'regressor__colsample_bytree': np.float64(0.8696231377727208), 'regressor__learning_rate': np.float64(0.04328037357016285), 'regressor__max_depth': 5, 'regressor__n_estimators': 241, 'regressor__subsample': np.float64(0.8173221947525602)}\n",
      "\n",
      "--- Treinando e otimizando RandomForest ---\n",
      "Fitting 5 folds for each of 25 candidates, totalling 125 fits\n",
      "Melhores parâmetros para RandomForest: {'regressor__max_depth': 19, 'regressor__min_samples_leaf': 3, 'regressor__n_estimators': 354}\n",
      "\n",
      "--- Treinando e otimizando SVR ---\n",
      "Fitting 5 folds for each of 25 candidates, totalling 125 fits\n",
      "Melhores parâmetros para SVR: {'regressor__C': np.float64(3.9457066086519057), 'regressor__epsilon': np.float64(0.22353628374033715), 'regressor__gamma': 'auto'}\n",
      "\n",
      "\n",
      "--- Resultados Finais da Avaliação ---\n",
      "              Melhor R² (CV)  R² (Teste)  MAE (Teste)  RMSE (Teste)\n",
      "XGBoost             0.495168    0.494695     0.493853      0.648230\n",
      "RandomForest        0.469858    0.462547     0.509714      0.668532\n",
      "SVR                 0.366430    0.398232     0.538640      0.707403\n"
     ]
    }
   ],
   "source": [
    "results = {}\n",
    "best_estimators = {}\n",
    "\n",
    "for name, config in models_to_tune.items():\n",
    "    print(f\"--- Treinando e otimizando {name} ---\")\n",
    "    \n",
    "    # Cria um pipeline específico para cada modelo\n",
    "    model_pipeline = Pipeline(steps=[\n",
    "        ('features', full_pipeline),\n",
    "        ('regressor', config['model'])\n",
    "    ])   \n",
    "    rand_search = RandomizedSearchCV(\n",
    "        estimator=model_pipeline,\n",
    "        param_distributions=config['params'],\n",
    "        n_iter=25, \n",
    "        cv=kf,\n",
    "        scoring='r2',\n",
    "        random_state=87,\n",
    "        verbose=1,\n",
    "        n_jobs=-1\n",
    "    )\n",
    "    \n",
    "    rand_search.fit(X_train, y_train)\n",
    "    \n",
    "    best_estimator = rand_search.best_estimator_\n",
    "    best_estimators[name] = best_estimator\n",
    "    \n",
    "    # Avaliação com os dados de teste\n",
    "    y_pred = best_estimator.predict(X_test)\n",
    "    \n",
    "    metrics = {\n",
    "        'Melhor R² (CV)': rand_search.best_score_,\n",
    "        'R² (Teste)': r2_score(y_test, y_pred),\n",
    "        'MAE (Teste)': mean_absolute_error(y_test, y_pred),\n",
    "        'RMSE (Teste)': np.sqrt(mean_squared_error(y_test, y_pred)),\n",
    "    }\n",
    "    \n",
    "    results[name] = metrics\n",
    "    print(f\"Melhores parâmetros para {name}: {rand_search.best_params_}\\n\")\n",
    "\n",
    "# Exibir resultados\n",
    "results_df = pd.DataFrame(results).T\n",
    "print(\"\\n--- Resultados Finais da Avaliação ---\")\n",
    "print(results_df)"
   ]
  },
  {
   "cell_type": "markdown",
   "id": "3a9e4658",
   "metadata": {},
   "source": [
    "## Análise de Features com SHAP"
   ]
  },
  {
   "cell_type": "code",
   "execution_count": 1,
   "id": "38790399",
   "metadata": {},
   "outputs": [
    {
     "ename": "NameError",
     "evalue": "name 'results_df' is not defined",
     "output_type": "error",
     "traceback": [
      "\u001b[31m---------------------------------------------------------------------------\u001b[39m",
      "\u001b[31mNameError\u001b[39m                                 Traceback (most recent call last)",
      "\u001b[36mCell\u001b[39m\u001b[36m \u001b[39m\u001b[32mIn[1]\u001b[39m\u001b[32m, line 2\u001b[39m\n\u001b[32m      1\u001b[39m \u001b[38;5;66;03m# Supondo que o XGBoost seja o melhor modelo, vamos analisá-lo com SHAP\u001b[39;00m\n\u001b[32m----> \u001b[39m\u001b[32m2\u001b[39m best_model_name = \u001b[43mresults_df\u001b[49m[\u001b[33m'\u001b[39m\u001b[33mR² (Teste)\u001b[39m\u001b[33m'\u001b[39m].idxmax()\n\u001b[32m      3\u001b[39m final_model_pipeline = best_estimators[best_model_name]\n\u001b[32m      5\u001b[39m \u001b[38;5;28mprint\u001b[39m(\u001b[33mf\u001b[39m\u001b[33m\"\u001b[39m\u001b[38;5;130;01m\\n\u001b[39;00m\u001b[33m--- Analisando o melhor modelo (\u001b[39m\u001b[38;5;132;01m{\u001b[39;00mbest_model_name\u001b[38;5;132;01m}\u001b[39;00m\u001b[33m) com SHAP ---\u001b[39m\u001b[33m\"\u001b[39m)\n",
      "\u001b[31mNameError\u001b[39m: name 'results_df' is not defined"
     ]
    }
   ],
   "source": [
    "# Supondo que o XGBoost seja o melhor modelo, vamos analisá-lo com SHAP\n",
    "best_model_name = results_df['R² (Teste)'].idxmax()\n",
    "final_model_pipeline = best_estimators[best_model_name]\n",
    "\n",
    "print(f\"\\n--- Analisando o melhor modelo ({best_model_name}) com SHAP ---\")\n",
    "\n",
    "# Passo 1: Extrair o pipeline de features que já foi treinado\n",
    "features_pipeline = final_model_pipeline.named_steps['features']\n",
    "\n",
    "# Passo 2: Obter os nomes das features do pipeline já treinado\n",
    "feature_names = features_pipeline.get_feature_names_out(X_train.columns)\n",
    "\n",
    "# Passo 3: Transformar os dados de teste e criar um DataFrame com os nomes corretos\n",
    "# (Boa prática para garantir que o SHAP associe os valores corretamente)\n",
    "X_test_transformed = features_pipeline.transform(X_test)\n",
    "X_test_transformed_df = pd.DataFrame(X_test_transformed, columns=feature_names, index=X_test.index)\n",
    "\n",
    "# Passo 4: Criar o explainer SHAP\n",
    "# Passamos apenas o modelo; o SHAP infere os nomes a partir do DataFrame\n",
    "explainer = shap.Explainer(final_model_pipeline.named_steps['regressor'])\n",
    "\n",
    "# Passo 5: Calcular os valores SHAP usando o DataFrame transformado\n",
    "shap_values = explainer(X_test_transformed_df)\n",
    "\n",
    "# Passo 6: Plotar os gráficos de resumo\n",
    "print(\"\\nGráfico de Importância das Features (média do impacto):\")\n",
    "plt.title(f\"Importância das Features (SHAP) para o modelo {best_model_name}\")\n",
    "# A versão \"bar plot\" não precisa do argumento feature_names\n",
    "shap.summary_plot(shap_values, plot_type=\"bar\", max_display=15)\n",
    "plt.show()\n",
    "\n",
    "print(\"\\nGráfico de Resumo (impacto e direção de cada feature):\")\n",
    "# Este gráfico usa o DataFrame para exibir os valores corretamente na legenda de cores\n",
    "shap.summary_plot(shap_values, X_test_transformed_df, max_display=15)\n",
    "plt.show()"
   ]
  }
 ],
 "metadata": {
  "kernelspec": {
   "display_name": ".venv",
   "language": "python",
   "name": "python3"
  },
  "language_info": {
   "codemirror_mode": {
    "name": "ipython",
    "version": 3
   },
   "file_extension": ".py",
   "mimetype": "text/x-python",
   "name": "python",
   "nbconvert_exporter": "python",
   "pygments_lexer": "ipython3",
   "version": "3.13.0"
  }
 },
 "nbformat": 4,
 "nbformat_minor": 5
}
