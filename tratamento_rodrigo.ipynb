{
 "cells": [
  {
   "cell_type": "markdown",
   "id": "94b19ac0",
   "metadata": {},
   "source": [
    "---"
   ]
  },
  {
   "cell_type": "markdown",
   "id": "c054d4f9",
   "metadata": {},
   "source": [
    "## 1. Filtrando e tratando os dados"
   ]
  },
  {
   "cell_type": "markdown",
   "id": "6411f715",
   "metadata": {},
   "source": [
    "---"
   ]
  },
  {
   "cell_type": "code",
   "execution_count": null,
   "id": "d75f3e2a",
   "metadata": {},
   "outputs": [
    {
     "name": "stdout",
     "output_type": "stream",
     "text": [
      "Arquivo 'movies.csv' carregado com 722317 linhas.\n"
     ]
    }
   ],
   "source": [
    "import pandas as pd\n",
    "\n",
    "df = pd.read_csv('movies.csv')\n",
    "print(f\"Arquivo 'movies.csv' carregado com {len(df)} linhas.\")"
   ]
  },
  {
   "cell_type": "code",
   "execution_count": 24,
   "id": "edc9c47d",
   "metadata": {},
   "outputs": [],
   "source": [
    "# Processando a coluna 'release_date'\n",
    "df['release_date'] = pd.to_datetime(df['release_date'], errors='coerce')\n",
    "df['release_year'] = df['release_date'].dt.year\n",
    "df['release_month'] = df['release_date'].dt.month\n",
    "df['release_day_of_week'] = df['release_date'].dt.dayofweek"
   ]
  },
  {
   "cell_type": "code",
   "execution_count": 25,
   "id": "e75e461e",
   "metadata": {},
   "outputs": [],
   "source": [
    "# Processando a coluna 'genres'\n",
    "df['genres'] = df['genres'].fillna('')\n",
    "genres_dummies = df['genres'].str.get_dummies(sep='-').add_prefix('genre_')\n",
    "df = pd.concat([df, genres_dummies], axis=1)\n",
    "df = df.drop('genres', axis=1)"
   ]
  },
  {
   "cell_type": "code",
   "execution_count": 26,
   "id": "33ee35e7",
   "metadata": {},
   "outputs": [
    {
     "name": "stdout",
     "output_type": "stream",
     "text": [
      "Linhas antes da limpeza de orçamento: 722317\n",
      "Linhas após a limpeza (dataset final): 11277\n",
      "Total de 711040 linhas foram removidas.\n",
      "\n",
      "Visualização das primeiras 5 linhas do DataFrame final e limpo:\n",
      "       id       budget       revenue  release_year  genre_Action\n",
      "0  615656  129000000.0  3.520565e+08        2023.0             1\n",
      "1  758323   18000000.0  6.567582e+07        2023.0             0\n",
      "2  533535  200000000.0  1.326387e+09        2024.0             1\n",
      "3  667538  200000000.0  4.070455e+08        2023.0             1\n",
      "4  693134  190000000.0  6.838137e+08        2024.0             0\n"
     ]
    }
   ],
   "source": [
    "# Limpeza de dados numéricos ('budget' e 'revenue')\n",
    "linhas_antes_da_limpeza = len(df)\n",
    "df = df[(df['budget'] > 0) & (df['revenue'] > 0)]\n",
    "\n",
    "print(f\"Linhas antes da limpeza de orçamento: {linhas_antes_da_limpeza}\")\n",
    "print(f\"Linhas após a limpeza (dataset final): {len(df)}\")\n",
    "print(f\"Total de {linhas_antes_da_limpeza - len(df)} linhas foram removidas.\")\n",
    "print(\"\\nVisualização das primeiras 5 linhas do DataFrame final e limpo:\")\n",
    "print(df[['id', 'budget', 'revenue', 'release_year', 'genre_Action']].head())"
   ]
  },
  {
   "cell_type": "code",
   "execution_count": 27,
   "id": "22a7e677",
   "metadata": {},
   "outputs": [],
   "source": [
    "df.to_csv('filmes_tratado.csv', index=False, encoding='utf-8-sig')"
   ]
  },
  {
   "cell_type": "markdown",
   "id": "9fff46cf",
   "metadata": {},
   "source": [
    "---"
   ]
  },
  {
   "cell_type": "markdown",
   "id": "5a1b7a63",
   "metadata": {},
   "source": [
    "## 2. Adicionando novas Features"
   ]
  },
  {
   "cell_type": "markdown",
   "id": "9f48ed88",
   "metadata": {},
   "source": [
    "---"
   ]
  },
  {
   "cell_type": "code",
   "execution_count": 28,
   "id": "e6f313e7",
   "metadata": {},
   "outputs": [],
   "source": [
    "import pandas as pd\n",
    "import numpy as np\n",
    "import ast\n",
    "from collections import Counter\n",
    "\n",
    "df = pd.read_csv('filmes_tratado.csv')"
   ]
  },
  {
   "cell_type": "markdown",
   "id": "2a6fabe1",
   "metadata": {},
   "source": [
    "### Tratamento"
   ]
  },
  {
   "cell_type": "code",
   "execution_count": 29,
   "id": "2965f738",
   "metadata": {},
   "outputs": [
    {
     "name": "stdout",
     "output_type": "stream",
     "text": [
      "Processando colunas complexas (keywords, production_companies)...\n"
     ]
    }
   ],
   "source": [
    "# Substituir orçamentos implausivelmente baixos por NaN e Preencher NaNs de orçamento com a mediana\n",
    "df['budget'] = df['budget'].replace(0, np.nan)\n",
    "df['budget'] = df['budget'].fillna(df['budget'].median())\n",
    "\n",
    "def safe_literal_eval(val):\n",
    "    try:\n",
    "        if isinstance(val, str):\n",
    "            return ast.literal_eval(val)\n",
    "    except (ValueError, SyntaxError):\n",
    "        return []\n",
    "    return []\n",
    "\n",
    "print(\"Processando colunas complexas (keywords, production_companies)...\")\n",
    "df['keywords_list'] = df['keywords'].apply(safe_literal_eval)\n",
    "df['companies_list'] = df['production_companies'].apply(safe_literal_eval)"
   ]
  },
  {
   "cell_type": "markdown",
   "id": "77e5fa91",
   "metadata": {},
   "source": [
    "### Criando Features"
   ]
  },
  {
   "cell_type": "code",
   "execution_count": 30,
   "id": "f1b242f5",
   "metadata": {},
   "outputs": [
    {
     "name": "stdout",
     "output_type": "stream",
     "text": [
      "Criando features para top keywords e estúdios...\n"
     ]
    }
   ],
   "source": [
    "# a. Features baseadas em contagem\n",
    "df['num_keywords'] = df['keywords_list'].apply(len)\n",
    "df['num_companies'] = df['companies_list'].apply(len)\n",
    "df['has_tagline'] = df['tagline'].notna().astype(int)\n",
    "df['overview_length'] = df['overview'].astype(str).str.len()\n",
    "\n",
    "# Features para Identificar keywords e estúdios mais influentes\n",
    "all_keywords = [item['name'] for sublist in df['keywords_list'] for item in sublist]\n",
    "top_keywords = [item[0] for item in Counter(all_keywords).most_common(30)] # Top 30 keywords\n",
    "\n",
    "all_companies = [item['name'] for sublist in df['companies_list'] for item in sublist]\n",
    "top_companies = [item[0] for item in Counter(all_companies).most_common(20)] # Top 20 estúdios\n",
    "\n",
    "print(\"Criando features para top keywords e estúdios...\")\n",
    "for keyword in top_keywords:\n",
    "    df[f'keyword_{keyword.replace(\" \", \"_\")}'] = df['keywords'].str.contains(f\"'{keyword}'\", regex=False, na=False)\n",
    "\n",
    "for company in top_companies:\n",
    "    df[f'company_{company.replace(\" \", \"_\")}'] = df['production_companies'].str.contains(f\"'{company}'\", regex=False, na=False)"
   ]
  },
  {
   "cell_type": "markdown",
   "id": "9e7f9f27",
   "metadata": {},
   "source": [
    "### Seleção e Salvamento"
   ]
  },
  {
   "cell_type": "code",
   "execution_count": 31,
   "id": "4fd83c33",
   "metadata": {},
   "outputs": [],
   "source": [
    "features_to_keep = [\n",
    "    'popularity', 'budget', 'runtime', 'vote_count', 'vote_average', # Incluindo o alvo\n",
    "    'release_year', 'release_month', 'release_day_of_week'\n",
    "]\n",
    "\n",
    "genre_cols = [col for col in df.columns if col.startswith('genre_')]\n",
    "features_to_keep.extend(genre_cols)\n",
    "\n",
    "new_feature_cols = [\n",
    "    'num_keywords', 'num_companies', 'has_tagline', 'overview_length'\n",
    "]\n",
    "features_to_keep.extend(new_feature_cols)\n",
    "\n",
    "top_keyword_cols = [col for col in df.columns if col.startswith('keyword_')]\n",
    "features_to_keep.extend(top_keyword_cols)\n",
    "\n",
    "top_company_cols = [col for col in df.columns if col.startswith('company_')]\n",
    "features_to_keep.extend(top_company_cols)\n",
    "\n",
    "df_tratado = df[list(set(features_to_keep))].copy() \n",
    "df_tratado.replace([np.inf, -np.inf], np.nan, inplace=True)\n",
    "df_tratado.fillna(0, inplace=True)"
   ]
  },
  {
   "cell_type": "code",
   "execution_count": 32,
   "id": "4c85d47e",
   "metadata": {},
   "outputs": [
    {
     "name": "stdout",
     "output_type": "stream",
     "text": [
      "\n",
      "Tratamento concluído!\n",
      "O arquivo 'filmes_tratado_novas_features.csv' foi criado com sucesso.\n"
     ]
    }
   ],
   "source": [
    "output_filename = 'filmes_tratado_novas_features.csv'\n",
    "df_tratado.to_csv(output_filename, index=False)\n",
    "\n",
    "print(f\"\\nTratamento concluído!\")\n",
    "print(f\"O arquivo '{output_filename}' foi criado com sucesso.\")"
   ]
  }
 ],
 "metadata": {
  "kernelspec": {
   "display_name": ".venv",
   "language": "python",
   "name": "python3"
  },
  "language_info": {
   "codemirror_mode": {
    "name": "ipython",
    "version": 3
   },
   "file_extension": ".py",
   "mimetype": "text/x-python",
   "name": "python",
   "nbconvert_exporter": "python",
   "pygments_lexer": "ipython3",
   "version": "3.13.0"
  }
 },
 "nbformat": 4,
 "nbformat_minor": 5
}
