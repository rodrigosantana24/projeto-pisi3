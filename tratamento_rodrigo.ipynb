{
 "cells": [
  {
   "cell_type": "markdown",
   "id": "5a1b7a63",
   "metadata": {},
   "source": [
    "TRATAMENTO DE DADOS POR DATA"
   ]
  },
  {
   "cell_type": "code",
   "execution_count": null,
   "id": "dd403cbb",
   "metadata": {},
   "outputs": [
    {
     "name": "stdout",
     "output_type": "stream",
     "text": [
      "Visualização do DataFrame após o tratamento da data:\n",
      "       id release_date  release_year  release_month  release_day_of_week\n",
      "0  615656   2023-08-02        2023.0            8.0                  2.0\n",
      "1  758323   2023-04-05        2023.0            4.0                  2.0\n",
      "2  533535   2024-07-24        2024.0            7.0                  2.0\n",
      "3  667538   2023-06-06        2023.0            6.0                  1.0\n",
      "4  693134   2024-02-27        2024.0            2.0                  1.0\n",
      "\n",
      "Número de datas inválidas ou faltantes: 51549\n"
     ]
    }
   ],
   "source": [
    "#Tratamento de Data\n",
    "import pandas as pd\n",
    "\n",
    "df = pd.read_csv('movies.csv', \n",
    "                parse_dates=['release_date'], \n",
    "                dayfirst=False, \n",
    "                na_values=['', 'NA', 'NaN'], \n",
    "                dtype={'id': 'Int64'})\n",
    "\n",
    "\n",
    "# Extrai ano, mês e dia da semana da data de lançamento\n",
    "df['release_year']        = df['release_date'].dt.year\n",
    "df['release_month']       = df['release_date'].dt.month\n",
    "df['release_day_of_week'] = df['release_date'].dt.dayofweek  # Segunda=0, Domingo=6\n",
    "\n",
    "\n",
    "\n",
    "# Verificação do Resultado\n",
    "print(\"Visualização do DataFrame após o tratamento da data:\")\n",
    "print(df[['id', 'release_date', 'release_year', 'release_month', 'release_day_of_week']].head())\n",
    "\n",
    "print(f\"\\nNúmero de datas inválidas ou faltantes: {df['release_date'].isnull().sum()}\")"
   ]
  },
  {
   "cell_type": "code",
   "execution_count": null,
   "id": "f8490e83",
   "metadata": {},
   "outputs": [],
   "source": []
  }
 ],
 "metadata": {
  "kernelspec": {
   "display_name": ".venv",
   "language": "python",
   "name": "python3"
  },
  "language_info": {
   "codemirror_mode": {
    "name": "ipython",
    "version": 3
   },
   "file_extension": ".py",
   "mimetype": "text/x-python",
   "name": "python",
   "nbconvert_exporter": "python",
   "pygments_lexer": "ipython3",
   "version": "3.13.0"
  }
 },
 "nbformat": 4,
 "nbformat_minor": 5
}
