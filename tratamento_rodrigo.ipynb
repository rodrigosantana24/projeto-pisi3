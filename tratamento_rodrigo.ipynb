{
 "cells": [
  {
   "cell_type": "markdown",
   "id": "c054d4f9",
   "metadata": {},
   "source": [
    "## 1. Filtrando e tratando os dados"
   ]
  },
  {
   "cell_type": "code",
   "execution_count": null,
   "id": "e3f056c7",
   "metadata": {},
   "outputs": [],
   "source": [
    "# Vou refatorar esta parte. Enquanto isso, é necessário utilizar o arquivo filmes_tratado.csv"
   ]
  },
  {
   "cell_type": "markdown",
   "id": "5a1b7a63",
   "metadata": {},
   "source": [
    "## 2. Adicionando novas Features"
   ]
  },
  {
   "cell_type": "code",
   "execution_count": 61,
   "id": "e6f313e7",
   "metadata": {},
   "outputs": [],
   "source": [
    "import pandas as pd\n",
    "import numpy as np\n",
    "import ast\n",
    "\n",
    "df = pd.read_csv('filmes_rodrigo.csv')"
   ]
  },
  {
   "cell_type": "markdown",
   "id": "2a6fabe1",
   "metadata": {},
   "source": [
    "### Tratamento"
   ]
  },
  {
   "cell_type": "code",
   "execution_count": 62,
   "id": "2965f738",
   "metadata": {},
   "outputs": [],
   "source": [
    "# Substituir orçamentos e receitas implausivelmente baixos por NaN\n",
    "df['budget'] = df['budget'].replace(0, np.nan)\n",
    "df['revenue'] = df['revenue'].replace(0, np.nan)\n",
    "\n",
    "# Preencher os valores ausentes com a mediana \n",
    "df['budget'] = df['budget'].fillna(df['budget'].median())\n",
    "df['revenue'] = df['revenue'].fillna(df['revenue'].median())\n",
    "\n",
    "# Converter strings de listas/json em objetos \n",
    "def safe_literal_eval(val):\n",
    "    try:\n",
    "        if isinstance(val, str):\n",
    "            return ast.literal_eval(val)\n",
    "    except (ValueError, SyntaxError):\n",
    "        return []\n",
    "    return []\n",
    "\n",
    "df['production_companies'] = df['production_companies'].apply(safe_literal_eval)\n",
    "df['keywords'] = df['keywords'].apply(safe_literal_eval)"
   ]
  },
  {
   "cell_type": "markdown",
   "id": "77e5fa91",
   "metadata": {},
   "source": [
    "### Criando Features"
   ]
  },
  {
   "cell_type": "code",
   "execution_count": null,
   "id": "f1b242f5",
   "metadata": {},
   "outputs": [],
   "source": [
    "df['profit'] = df['revenue'] - df['budget']\n",
    "df['roi'] = (df['profit']) / (df['budget'].replace(0, 1))\n",
    "df['num_production_companies'] = df['production_companies'].apply(len)\n",
    "df['num_keywords'] = df['keywords'].apply(len)\n",
    "df['has_tagline'] = df['tagline'].notna().astype(int)\n",
    "df['overview_length'] = df['overview'].astype(str).str.len()"
   ]
  },
  {
   "cell_type": "markdown",
   "id": "9e7f9f27",
   "metadata": {},
   "source": [
    "### Seleção e Salvamento"
   ]
  },
  {
   "cell_type": "code",
   "execution_count": null,
   "id": "4fd83c33",
   "metadata": {},
   "outputs": [
    {
     "name": "stdout",
     "output_type": "stream",
     "text": [
      "\n",
      "Tratamento concluído!\n",
      "O arquivo 'filmes_tratado.csv' foi criado com sucesso e está pronto para ser usado no modelo.\n"
     ]
    }
   ],
   "source": [
    "# Selecionar apenas as colunas que usaremos no modelo, incluindo a variável alvo\n",
    "features_to_keep = [\n",
    "    'popularity', 'budget', 'revenue', 'runtime', 'vote_count', 'vote_average',\n",
    "    'release_year', 'release_month', 'release_day_of_week',\n",
    "    'profit', 'roi', 'num_production_companies', 'num_keywords',\n",
    "    'has_tagline', 'overview_length'\n",
    "]\n",
    "genre_cols = [col for col in df.columns if col.startswith('genre_')]\n",
    "features_to_keep.extend(genre_cols)\n",
    "\n",
    "# Criar o DataFrame final com apenas as colunas selecionadas\n",
    "df_tratado = df[features_to_keep].copy()\n",
    "\n",
    "# Lidar com possíveis valores infinitos e NaNs restantes\n",
    "df_tratado.replace([np.inf, -np.inf], np.nan, inplace=True)\n",
    "df_tratado.fillna(0, inplace=True)\n",
    "\n",
    "output_filename = 'filmes_tratado.csv'\n",
    "df_tratado.to_csv(output_filename, index=False)\n",
    "print(f\"\\nTratamento concluído!\")\n",
    "print(f\"O arquivo '{output_filename}' foi criado com sucesso e está pronto para ser usado no modelo Random Forest.\")"
   ]
  }
 ],
 "metadata": {
  "kernelspec": {
   "display_name": ".venv",
   "language": "python",
   "name": "python3"
  },
  "language_info": {
   "codemirror_mode": {
    "name": "ipython",
    "version": 3
   },
   "file_extension": ".py",
   "mimetype": "text/x-python",
   "name": "python",
   "nbconvert_exporter": "python",
   "pygments_lexer": "ipython3",
   "version": "3.13.0"
  }
 },
 "nbformat": 4,
 "nbformat_minor": 5
}
