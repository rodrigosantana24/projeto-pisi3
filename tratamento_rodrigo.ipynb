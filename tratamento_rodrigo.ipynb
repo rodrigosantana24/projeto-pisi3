{
 "cells": [
  {
   "cell_type": "markdown",
   "id": "5a1b7a63",
   "metadata": {},
   "source": [
    "1. TRATAMENTO DE DADOS POR DATA"
   ]
  },
  {
   "cell_type": "code",
   "execution_count": null,
   "id": "dd403cbb",
   "metadata": {},
   "outputs": [
    {
     "name": "stdout",
     "output_type": "stream",
     "text": [
      "Visualização do DataFrame após o tratamento da data:\n",
      "       id release_date  release_year  release_month  release_day_of_week\n",
      "0  615656   2023-08-02        2023.0            8.0                  2.0\n",
      "1  758323   2023-04-05        2023.0            4.0                  2.0\n",
      "2  533535   2024-07-24        2024.0            7.0                  2.0\n",
      "3  667538   2023-06-06        2023.0            6.0                  1.0\n",
      "4  693134   2024-02-27        2024.0            2.0                  1.0\n",
      "\n",
      "Número de datas inválidas ou faltantes: 51549\n"
     ]
    }
   ],
   "source": [
    "import pandas as pd\n",
    "\n",
    "df = pd.read_csv('movies.csv', \n",
    "    parse_dates=['release_date'], \n",
    "    dayfirst=False, \n",
    "    na_values=['', 'NA', 'NaN'], \n",
    "    dtype={'id': 'Int64'})\n",
    "\n",
    "\n",
    "# Extrai ano, mês e dia da semana da data de lançamento\n",
    "df['release_year']        = df['release_date'].dt.year\n",
    "df['release_month']       = df['release_date'].dt.month\n",
    "df['release_day_of_week'] = df['release_date'].dt.dayofweek  # Segunda=0, Domingo=6\n",
    "\n",
    "print(\"Visualização do DataFrame após o tratamento da data:\")\n",
    "print(df[['id', 'release_date', 'release_year', 'release_month', 'release_day_of_week']].head())\n",
    "print(f\"\\nNúmero de datas inválidas ou faltantes: {df['release_date'].isnull().sum()}\")"
   ]
  },
  {
   "cell_type": "markdown",
   "id": "146a433a",
   "metadata": {},
   "source": [
    "2. TRATAMENTO DE DADOS CATEGÓRICOS COM MÚLTIPLOS VALORES (genres)"
   ]
  },
  {
   "cell_type": "code",
   "execution_count": null,
   "id": "a93b1a5d",
   "metadata": {},
   "outputs": [
    {
     "name": "stdout",
     "output_type": "stream",
     "text": [
      "Colunas de gênero após melhorias:\n",
      "['genre_Action', 'genre_Adventure', 'genre_Animation', 'genre_Comedy', 'genre_Crime', 'genre_Documentary', 'genre_Drama', 'genre_Family', 'genre_Fantasy', 'genre_History', 'genre_Horror', 'genre_Music', 'genre_Mystery', 'genre_Romance', 'genre_Science_Fiction', 'genre_TV_Movie', 'genre_Thriller', 'genre_War', 'genre_Western', 'genre_Other']\n",
      "\n",
      "Exemplo de linhas (ID + primeiras 9 colunas de gênero):\n",
      "       id  genre_Action  genre_Adventure  genre_Animation  genre_Comedy  \\\n",
      "0  615656             1                0                0             0   \n",
      "1  758323             0                0                0             0   \n",
      "2  533535             1                0                0             1   \n",
      "3  667538             1                1                0             0   \n",
      "4  693134             0                1                0             0   \n",
      "\n",
      "   genre_Crime  genre_Documentary  genre_Drama  genre_Family  genre_Fantasy  \n",
      "0            0                  0            0             0              0  \n",
      "1            0                  0            0             0              0  \n",
      "2            0                  0            0             0              0  \n",
      "3            0                  0            0             0              0  \n",
      "4            0                  0            0             0              0  \n"
     ]
    }
   ],
   "source": [
    "import pandas as pd\n",
    "\n",
    "df = pd.read_csv('movies.csv')\n",
    "\n",
    "# Tratamento n° 1\n",
    "df['release_date'] = pd.to_datetime(df['release_date'], errors='coerce')\n",
    "df['release_year'] = df['release_date'].dt.year.astype('Int64')\n",
    "df['release_month'] = df['release_date'].dt.month.astype('Int64')\n",
    "df['release_day_of_week'] = df['release_date'].dt.dayofweek.astype('Int64')\n",
    "\n",
    "# Tratamento n° 2\n",
    "df['genres'] = (\n",
    "    df['genres']\n",
    "    .fillna('')  \n",
    "    .str.replace(r'[\\|,]', '-', regex=True)  \n",
    "    .str.split('-')                          \n",
    "    .apply(lambda lst: [g.strip() for g in lst if g.strip() != '']) \n",
    "    .str.join('-')                          \n",
    ")\n",
    "\n",
    "genres_dummies = df['genres'].str.get_dummies(sep='-')\n",
    "genres_dummies.columns = [\n",
    "    f\"genre_{col.strip().replace(' ', '_')}\" for col in genres_dummies.columns\n",
    "]\n",
    "\n",
    "# Agrupar gêneros raros em 'genre_Other'\n",
    "threshold = 1000  # mínimo de ocorrências para manter como coluna própria\n",
    "freq = genres_dummies.sum()\n",
    "common = freq[freq >= threshold].index.tolist()\n",
    "rare   = freq[freq <  threshold].index.tolist()\n",
    "\n",
    "genres_dummies['genre_Other'] = genres_dummies[rare].sum(axis=1)\n",
    "genres_dummies = genres_dummies[common + ['genre_Other']]\n",
    "\n",
    "df = pd.concat([df, genres_dummies], axis=1)\n",
    "df.drop(columns=['genres'], inplace=True)\n",
    "\n",
    "print(\"Colunas de gênero após melhorias:\")\n",
    "print(genres_dummies.columns.tolist())\n",
    "print(\"\\nExemplo de linhas (ID + primeiras 9 colunas de gênero):\")\n",
    "print(df[['id'] + genres_dummies.columns.tolist()[:9]].head())\n"
   ]
  },
  {
   "cell_type": "markdown",
   "id": "335e6823",
   "metadata": {},
   "source": [
    "3. TRATAMENTO DE DADOS NUMÉRICOS ('budget', 'revenue')"
   ]
  },
  {
   "cell_type": "code",
   "execution_count": null,
   "id": "cc3156b9",
   "metadata": {},
   "outputs": [
    {
     "name": "stdout",
     "output_type": "stream",
     "text": [
      "Linhas antes da limpeza de orçamento/arrecadação: 722317\n",
      "Linhas após a limpeza (dataset final): 11277\n",
      "Total de 711040 linhas foram removidas.\n",
      "       id       budget       revenue  release_year  genre_Action\n",
      "0  615656  129000000.0  3.520565e+08        2023.0             1\n",
      "1  758323   18000000.0  6.567582e+07        2023.0             0\n",
      "2  533535  200000000.0  1.326387e+09        2024.0             1\n",
      "3  667538  200000000.0  4.070455e+08        2023.0             1\n",
      "4  693134  190000000.0  6.838137e+08        2024.0             0\n"
     ]
    }
   ],
   "source": [
    "import pandas as pd\n",
    "\n",
    "df = pd.read_csv('movies.csv')\n",
    "\n",
    "# Tratamento n° 1\n",
    "df['release_date'] = pd.to_datetime(df['release_date'], errors='coerce')\n",
    "df['release_year'] = df['release_date'].dt.year\n",
    "df['release_month'] = df['release_date'].dt.month\n",
    "df['release_day_of_week'] = df['release_date'].dt.dayofweek\n",
    "\n",
    "# Tratamento n° 2\n",
    "df['genres'] = df['genres'].fillna('')\n",
    "genres_dummies = df['genres'].str.get_dummies(sep='-').add_prefix('genre_')\n",
    "df = pd.concat([df, genres_dummies], axis=1)\n",
    "df = df.drop('genres', axis=1)\n",
    "\n",
    "# Tratamento n° 3 \n",
    "linhas_antes_da_limpeza = len(df)\n",
    "# Manter apenas as linhas onde o orçamento E a arrecadação são maiores que zero.\n",
    "df = df[(df['budget'] > 0) & (df['revenue'] > 0)]\n",
    "\n",
    "print(f\"Linhas antes da limpeza de orçamento/arrecadação: {linhas_antes_da_limpeza}\")\n",
    "print(f\"Linhas após a limpeza (dataset final): {len(df)}\")\n",
    "print(f\"Total de {linhas_antes_da_limpeza - len(df)} linhas foram removidas.\")\n",
    "print(df[['id', 'budget', 'revenue', 'release_year', 'genre_Action']].head()) # genre_Action é um exemplo de gênero tratado"
   ]
  }
 ],
 "metadata": {
  "kernelspec": {
   "display_name": ".venv",
   "language": "python",
   "name": "python3"
  },
  "language_info": {
   "codemirror_mode": {
    "name": "ipython",
    "version": 3
   },
   "file_extension": ".py",
   "mimetype": "text/x-python",
   "name": "python",
   "nbconvert_exporter": "python",
   "pygments_lexer": "ipython3",
   "version": "3.13.0"
  }
 },
 "nbformat": 4,
 "nbformat_minor": 5
}
