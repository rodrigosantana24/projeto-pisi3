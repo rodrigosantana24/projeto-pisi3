{
 "cells": [
  {
   "cell_type": "code",
   "execution_count": 1,
   "id": "5a0642bf",
   "metadata": {},
   "outputs": [],
   "source": [
    "import pandas as pd"
   ]
  },
  {
   "cell_type": "code",
   "execution_count": 2,
   "id": "853c4d13",
   "metadata": {},
   "outputs": [],
   "source": [
    "df =  pd.read_csv(\"movies.csv\")"
   ]
  },
  {
   "cell_type": "code",
   "execution_count": 3,
   "id": "26b97f4c",
   "metadata": {},
   "outputs": [
    {
     "data": {
      "text/plain": [
       "(722317, 20)"
      ]
     },
     "execution_count": 3,
     "metadata": {},
     "output_type": "execute_result"
    }
   ],
   "source": [
    "df.shape"
   ]
  },
  {
   "cell_type": "code",
   "execution_count": 4,
   "id": "3e57a7f2",
   "metadata": {},
   "outputs": [
    {
     "data": {
      "text/plain": [
       "(722317, 12)"
      ]
     },
     "execution_count": 4,
     "metadata": {},
     "output_type": "execute_result"
    }
   ],
   "source": [
    "colunas_indesejadas = [\n",
    "    'overview',\n",
    "    'production_companies',\n",
    "    'tagline',\n",
    "    'credits',\n",
    "    'keywords',\n",
    "    'poster_path',\n",
    "    'backdrop_path',\n",
    "    'recommendations',\n",
    "]\n",
    "# dropping unnecesary title \n",
    "df = df.drop(colunas_indesejadas, axis=1)\n",
    "\n",
    "\n",
    "df.shape"
   ]
  },
  {
   "cell_type": "code",
   "execution_count": 5,
   "id": "770d9c38",
   "metadata": {},
   "outputs": [
    {
     "data": {
      "text/plain": [
       "id                        0\n",
       "title                     6\n",
       "genres               210317\n",
       "original_language         0\n",
       "popularity                0\n",
       "release_date          51549\n",
       "budget                    0\n",
       "revenue                   0\n",
       "runtime               34335\n",
       "status                    0\n",
       "vote_average              0\n",
       "vote_count                0\n",
       "dtype: int64"
      ]
     },
     "execution_count": 5,
     "metadata": {},
     "output_type": "execute_result"
    }
   ],
   "source": [
    "# Are there any missing values?\n",
    "df.isnull().sum()"
   ]
  },
  {
   "cell_type": "code",
   "execution_count": 6,
   "id": "5423289c",
   "metadata": {},
   "outputs": [
    {
     "name": "stdout",
     "output_type": "stream",
     "text": [
      "62\n",
      "0\n"
     ]
    }
   ],
   "source": [
    "# Existem valores duplicados?\n",
    "print(df.duplicated().sum())\n",
    "\n",
    "# Removendo os valores duplicados\n",
    "df.drop_duplicates(inplace=True)\n",
    "\n",
    "# Existem valores duplicados?\n",
    "print(df.duplicated().sum())"
   ]
  },
  {
   "cell_type": "code",
   "execution_count": 7,
   "id": "bab8a202",
   "metadata": {},
   "outputs": [
    {
     "name": "stdout",
     "output_type": "stream",
     "text": [
      "62097\n",
      "0\n"
     ]
    },
    {
     "data": {
      "text/plain": [
       "(660158, 12)"
      ]
     },
     "execution_count": 7,
     "metadata": {},
     "output_type": "execute_result"
    }
   ],
   "source": [
    "# Verifica quantos filmes duplicados existem considerando 'title' e 'release_date'\n",
    "print(df[['title','release_date']].duplicated().sum())\n",
    "\n",
    "# Remove os filmes duplicados com base em 'title' e 'release_date'\n",
    "df.drop_duplicates(subset=['title','release_date'], inplace=True)\n",
    "\n",
    "# Verifica novamente se ainda existem duplicatas\n",
    "print(df[['title','release_date']].duplicated().sum())\n",
    "\n",
    "df.shape"
   ]
  },
  {
   "cell_type": "code",
   "execution_count": 8,
   "id": "8961c1b9",
   "metadata": {},
   "outputs": [
    {
     "data": {
      "text/plain": [
       "(655495, 12)"
      ]
     },
     "execution_count": 8,
     "metadata": {},
     "output_type": "execute_result"
    }
   ],
   "source": [
    "# Filtra apenas os filmes com status 'Released'\n",
    "df = df[df['status'] == 'Released']\n",
    "\n",
    "# Exibe o novo formato do dataframe após o filtro\n",
    "df.shape"
   ]
  },
  {
   "cell_type": "code",
   "execution_count": 9,
   "id": "524d8e63",
   "metadata": {},
   "outputs": [
    {
     "name": "stdout",
     "output_type": "stream",
     "text": [
      "<class 'pandas.core.frame.DataFrame'>\n",
      "RangeIndex: 67745 entries, 0 to 67744\n",
      "Data columns (total 12 columns):\n",
      " #   Column             Non-Null Count  Dtype  \n",
      "---  ------             --------------  -----  \n",
      " 0   id                 67745 non-null  int64  \n",
      " 1   title              67745 non-null  object \n",
      " 2   genres             67050 non-null  object \n",
      " 3   original_language  67745 non-null  object \n",
      " 4   popularity         67745 non-null  float64\n",
      " 5   release_date       67736 non-null  object \n",
      " 6   budget             67745 non-null  float64\n",
      " 7   revenue            67745 non-null  float64\n",
      " 8   runtime            67726 non-null  float64\n",
      " 9   status             67745 non-null  object \n",
      " 10  vote_average       67745 non-null  float64\n",
      " 11  vote_count         67745 non-null  float64\n",
      "dtypes: float64(6), int64(1), object(5)\n",
      "memory usage: 6.2+ MB\n"
     ]
    },
    {
     "data": {
      "text/plain": [
       "(67745, 12)"
      ]
     },
     "execution_count": 9,
     "metadata": {},
     "output_type": "execute_result"
    }
   ],
   "source": [
    "# Filtrando apenas os filmes com pelo menos 10 votos\n",
    "df1 = df[df.vote_count >= 10].reset_index(drop=True)\n",
    "# Exibe informações sobre o novo DataFrame filtrado\n",
    "df1.info()\n",
    "# Exibe o formato do DataFrame filtrado\n",
    "df1.shape"
   ]
  },
  {
   "cell_type": "code",
   "execution_count": 10,
   "id": "5e904b5c",
   "metadata": {},
   "outputs": [
    {
     "data": {
      "text/plain": [
       "id                     0\n",
       "title                  0\n",
       "genres               695\n",
       "original_language      0\n",
       "popularity             0\n",
       "release_date           9\n",
       "budget                 0\n",
       "revenue                0\n",
       "runtime               19\n",
       "status                 0\n",
       "vote_average           0\n",
       "vote_count             0\n",
       "dtype: int64"
      ]
     },
     "execution_count": 10,
     "metadata": {},
     "output_type": "execute_result"
    }
   ],
   "source": [
    "# Verifica a quantidade de valores ausentes (NaN) em cada coluna do DataFrame df1\n",
    "df1.isnull().sum()"
   ]
  },
  {
   "cell_type": "code",
   "execution_count": 11,
   "id": "20a5d32f",
   "metadata": {},
   "outputs": [
    {
     "data": {
      "text/plain": [
       "id                   0\n",
       "title                0\n",
       "genres               0\n",
       "original_language    0\n",
       "popularity           0\n",
       "release_date         0\n",
       "budget               0\n",
       "revenue              0\n",
       "runtime              0\n",
       "status               0\n",
       "vote_average         0\n",
       "vote_count           0\n",
       "dtype: int64"
      ]
     },
     "execution_count": 11,
     "metadata": {},
     "output_type": "execute_result"
    }
   ],
   "source": [
    "# Remove linhas com valores ausentes nas colunas 'genres', 'release_date' e 'runtime'\n",
    "df1.dropna(subset=['genres','release_date','runtime'], how='any', inplace=True)\n",
    "\n",
    "# Verifica novamente a quantidade de valores ausentes em cada coluna\n",
    "df1.isnull().sum()"
   ]
  },
  {
   "cell_type": "code",
   "execution_count": 12,
   "id": "619b5b85",
   "metadata": {},
   "outputs": [
    {
     "data": {
      "text/plain": [
       "(8581, 12)"
      ]
     },
     "execution_count": 12,
     "metadata": {},
     "output_type": "execute_result"
    }
   ],
   "source": [
    "# Remover linhas onde budget ou revenue são 0\n",
    "df1 = df1[(df1['budget'] != 0) & (df1['revenue'] != 0)]\n",
    "df1.shape"
   ]
  },
  {
   "cell_type": "code",
   "execution_count": 13,
   "id": "d65d98eb",
   "metadata": {},
   "outputs": [
    {
     "name": "stdout",
     "output_type": "stream",
     "text": [
      "<class 'pandas.core.frame.DataFrame'>\n",
      "Index: 8581 entries, 0 to 67707\n",
      "Data columns (total 12 columns):\n",
      " #   Column             Non-Null Count  Dtype  \n",
      "---  ------             --------------  -----  \n",
      " 0   id                 8581 non-null   int64  \n",
      " 1   title              8581 non-null   object \n",
      " 2   genres             8581 non-null   object \n",
      " 3   original_language  8581 non-null   object \n",
      " 4   popularity         8581 non-null   float64\n",
      " 5   release_date       8581 non-null   object \n",
      " 6   budget             8581 non-null   float64\n",
      " 7   revenue            8581 non-null   float64\n",
      " 8   runtime            8581 non-null   float64\n",
      " 9   status             8581 non-null   object \n",
      " 10  vote_average       8581 non-null   float64\n",
      " 11  vote_count         8581 non-null   float64\n",
      "dtypes: float64(6), int64(1), object(5)\n",
      "memory usage: 871.5+ KB\n"
     ]
    }
   ],
   "source": [
    "df1.info()"
   ]
  },
  {
   "cell_type": "code",
   "execution_count": 14,
   "id": "bc60441a",
   "metadata": {},
   "outputs": [
    {
     "data": {
      "text/plain": [
       "(8581, 12)"
      ]
     },
     "execution_count": 14,
     "metadata": {},
     "output_type": "execute_result"
    }
   ],
   "source": [
    "df1.shape"
   ]
  },
  {
   "cell_type": "code",
   "execution_count": null,
   "id": "5e96263c",
   "metadata": {},
   "outputs": [],
   "source": [
    "#df1.to_csv('filmes_filtrados.csv', index=False)"
   ]
  }
 ],
 "metadata": {
  "kernelspec": {
   "display_name": ".venv",
   "language": "python",
   "name": "python3"
  },
  "language_info": {
   "codemirror_mode": {
    "name": "ipython",
    "version": 3
   },
   "file_extension": ".py",
   "mimetype": "text/x-python",
   "name": "python",
   "nbconvert_exporter": "python",
   "pygments_lexer": "ipython3",
   "version": "3.13.3"
  }
 },
 "nbformat": 4,
 "nbformat_minor": 5
}
