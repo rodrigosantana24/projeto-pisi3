{
 "cells": [
  {
   "cell_type": "markdown",
   "id": "42460047",
   "metadata": {},
   "source": [
    "# Importações "
   ]
  },
  {
   "cell_type": "code",
   "execution_count": 408,
   "id": "18baa7d6",
   "metadata": {},
   "outputs": [],
   "source": [
    "#pip install pandas matplotlib scikit-learn"
   ]
  },
  {
   "cell_type": "code",
   "execution_count": 409,
   "id": "042014d8",
   "metadata": {},
   "outputs": [],
   "source": [
    "import pandas as pd\n",
    "from sklearn.preprocessing import MultiLabelBinarizer\n",
    "from scipy.stats import zscore\n",
    "from collections import Counter\n",
    "import numpy as np"
   ]
  },
  {
   "cell_type": "code",
   "execution_count": 410,
   "id": "a6179909",
   "metadata": {},
   "outputs": [],
   "source": [
    "file_path = r'C:\\Users\\Thalyson\\Desktop\\movies.csv'\n",
    "df =  pd.read_csv(file_path)"
   ]
  },
  {
   "cell_type": "markdown",
   "id": "482bcea3",
   "metadata": {},
   "source": [
    "# Filtros"
   ]
  },
  {
   "cell_type": "markdown",
   "id": "569a9c8d",
   "metadata": {},
   "source": [
    "## Filmes ja lançados (status = Released)\n",
    "Filmes que ainda não foram lançados não possuem dados importantes para a análise"
   ]
  },
  {
   "cell_type": "code",
   "execution_count": 411,
   "id": "9d1674cb",
   "metadata": {},
   "outputs": [
    {
     "name": "stdout",
     "output_type": "stream",
     "text": [
      "Registros perdidos com o filtro: 5223\n"
     ]
    }
   ],
   "source": [
    "registros_antes = len(df)\n",
    "df = df[df['status'] == 'Released']\n",
    "registros_depois = len(df)\n",
    "print(f\"Registros perdidos com o filtro: {registros_antes - registros_depois}\")"
   ]
  },
  {
   "cell_type": "markdown",
   "id": "effc53df",
   "metadata": {},
   "source": [
    "## Registros duplicados\n",
    "Não faz sentido ter o mesmo filme mais de uma vez"
   ]
  },
  {
   "cell_type": "code",
   "execution_count": 412,
   "id": "983a537f",
   "metadata": {},
   "outputs": [
    {
     "name": "stdout",
     "output_type": "stream",
     "text": [
      "Registros perdidos com o filtro: 0\n"
     ]
    }
   ],
   "source": [
    "registros_antes = len(df)\n",
    "df = df.drop_duplicates()\n",
    "registros_depois = len(df)\n",
    "print(f\"Registros perdidos com o filtro: {registros_antes - registros_depois}\")"
   ]
  },
  {
   "cell_type": "markdown",
   "id": "f9153898",
   "metadata": {},
   "source": [
    "### Duplicados por titulo e data de lançamento"
   ]
  },
  {
   "cell_type": "code",
   "execution_count": 413,
   "id": "ef760b1d",
   "metadata": {},
   "outputs": [
    {
     "data": {
      "text/html": [
       "<div>\n",
       "<style scoped>\n",
       "    .dataframe tbody tr th:only-of-type {\n",
       "        vertical-align: middle;\n",
       "    }\n",
       "\n",
       "    .dataframe tbody tr th {\n",
       "        vertical-align: top;\n",
       "    }\n",
       "\n",
       "    .dataframe thead th {\n",
       "        text-align: right;\n",
       "    }\n",
       "</style>\n",
       "<table border=\"1\" class=\"dataframe\">\n",
       "  <thead>\n",
       "    <tr style=\"text-align: right;\">\n",
       "      <th></th>\n",
       "      <th>id</th>\n",
       "      <th>title</th>\n",
       "      <th>genres</th>\n",
       "      <th>original_language</th>\n",
       "      <th>overview</th>\n",
       "      <th>popularity</th>\n",
       "      <th>production_companies</th>\n",
       "      <th>release_date</th>\n",
       "      <th>budget</th>\n",
       "      <th>revenue</th>\n",
       "      <th>runtime</th>\n",
       "      <th>status</th>\n",
       "      <th>tagline</th>\n",
       "      <th>vote_average</th>\n",
       "      <th>vote_count</th>\n",
       "      <th>credits</th>\n",
       "      <th>keywords</th>\n",
       "      <th>poster_path</th>\n",
       "      <th>backdrop_path</th>\n",
       "      <th>recommendations</th>\n",
       "    </tr>\n",
       "  </thead>\n",
       "  <tbody>\n",
       "    <tr>\n",
       "      <th>126</th>\n",
       "      <td>785521</td>\n",
       "      <td>Battle: Freestyle</td>\n",
       "      <td>Romance-Drama</td>\n",
       "      <td>no</td>\n",
       "      <td>Amalie and Mikael lead their street dance team...</td>\n",
       "      <td>333.723</td>\n",
       "      <td>Friland Produksjon AS</td>\n",
       "      <td>2022-04-01</td>\n",
       "      <td>0.0</td>\n",
       "      <td>0.0</td>\n",
       "      <td>88.0</td>\n",
       "      <td>Released</td>\n",
       "      <td>NaN</td>\n",
       "      <td>5.1</td>\n",
       "      <td>28.0</td>\n",
       "      <td>Lisa Teige-Fabian Svegaard Tapia-Ellen Dorrit ...</td>\n",
       "      <td>paris france-based on novel or book-norway-dan...</td>\n",
       "      <td>/6D6QumiHEhnpZG12Ibjy2BxA6n4.jpg</td>\n",
       "      <td>/8WpRRiz3qQqzBiifCTm1dW0b6bs.jpg</td>\n",
       "      <td>818750-790525-800407-739993-946726-682344-9532...</td>\n",
       "    </tr>\n",
       "    <tr>\n",
       "      <th>198</th>\n",
       "      <td>785521</td>\n",
       "      <td>Battle: Freestyle</td>\n",
       "      <td>Romance-Drama</td>\n",
       "      <td>no</td>\n",
       "      <td>Amalie and Mikael lead their street dance team...</td>\n",
       "      <td>238.540</td>\n",
       "      <td>Friland Produksjon AS</td>\n",
       "      <td>2022-04-01</td>\n",
       "      <td>0.0</td>\n",
       "      <td>0.0</td>\n",
       "      <td>88.0</td>\n",
       "      <td>Released</td>\n",
       "      <td>NaN</td>\n",
       "      <td>5.1</td>\n",
       "      <td>30.0</td>\n",
       "      <td>Lisa Teige-Fabian Svegaard Tapia-Ellen Dorrit ...</td>\n",
       "      <td>paris france-based on novel or book-norway-dan...</td>\n",
       "      <td>/6D6QumiHEhnpZG12Ibjy2BxA6n4.jpg</td>\n",
       "      <td>/8WpRRiz3qQqzBiifCTm1dW0b6bs.jpg</td>\n",
       "      <td>818750-790525-800407-739993-946726-682344-9532...</td>\n",
       "    </tr>\n",
       "    <tr>\n",
       "      <th>234</th>\n",
       "      <td>785521</td>\n",
       "      <td>Battle: Freestyle</td>\n",
       "      <td>Romance-Drama</td>\n",
       "      <td>no</td>\n",
       "      <td>Amalie and Mikael lead their street dance team...</td>\n",
       "      <td>210.928</td>\n",
       "      <td>Friland Produksjon AS</td>\n",
       "      <td>2022-04-01</td>\n",
       "      <td>0.0</td>\n",
       "      <td>0.0</td>\n",
       "      <td>88.0</td>\n",
       "      <td>Released</td>\n",
       "      <td>NaN</td>\n",
       "      <td>5.1</td>\n",
       "      <td>30.0</td>\n",
       "      <td>Lisa Teige-Fabian Svegaard Tapia-Ellen Dorrit ...</td>\n",
       "      <td>paris france-based on novel or book-norway-dan...</td>\n",
       "      <td>/6D6QumiHEhnpZG12Ibjy2BxA6n4.jpg</td>\n",
       "      <td>/8WpRRiz3qQqzBiifCTm1dW0b6bs.jpg</td>\n",
       "      <td>818750-790525-800407-739993-946726-682344-9532...</td>\n",
       "    </tr>\n",
       "    <tr>\n",
       "      <th>13</th>\n",
       "      <td>956101</td>\n",
       "      <td>The Eighth Clause</td>\n",
       "      <td>Thriller</td>\n",
       "      <td>la</td>\n",
       "      <td>Kat and Borja appear to be a perfect couple bu...</td>\n",
       "      <td>2259.303</td>\n",
       "      <td>SDB Films-El Hombre Orquesta</td>\n",
       "      <td>2022-04-29</td>\n",
       "      <td>0.0</td>\n",
       "      <td>0.0</td>\n",
       "      <td>0.0</td>\n",
       "      <td>Released</td>\n",
       "      <td>NaN</td>\n",
       "      <td>4.6</td>\n",
       "      <td>10.0</td>\n",
       "      <td>Maite Perroni-Manuel Vega-Óscar Jaenada-Jessic...</td>\n",
       "      <td>NaN</td>\n",
       "      <td>/8tc8eMFAX2SDC1TRu987qFQy8Cl.jpg</td>\n",
       "      <td>/kLnqNE9Af5QHyvUxw8cDGhF1ilv.jpg</td>\n",
       "      <td>NaN</td>\n",
       "    </tr>\n",
       "    <tr>\n",
       "      <th>15815</th>\n",
       "      <td>841524</td>\n",
       "      <td>The Eighth Clause</td>\n",
       "      <td>Drama-Thriller</td>\n",
       "      <td>es</td>\n",
       "      <td>Kat and Borja appear to be a perfect couple bu...</td>\n",
       "      <td>10.293</td>\n",
       "      <td>SDB Films-El Hombre Orquesta-Expansión Films E...</td>\n",
       "      <td>2022-04-29</td>\n",
       "      <td>0.0</td>\n",
       "      <td>0.0</td>\n",
       "      <td>80.0</td>\n",
       "      <td>Released</td>\n",
       "      <td>NaN</td>\n",
       "      <td>4.2</td>\n",
       "      <td>6.0</td>\n",
       "      <td>Maite Perroni-Manuel Vega-Óscar Jaenada-Jessic...</td>\n",
       "      <td>NaN</td>\n",
       "      <td>/5CbVMeLvaGn87gx05waiIJ0JySr.jpg</td>\n",
       "      <td>/uA0nUh1JerC4TkNiTzwS4B5kjTN.jpg</td>\n",
       "      <td>769636-346651-324542-343674-227970</td>\n",
       "    </tr>\n",
       "  </tbody>\n",
       "</table>\n",
       "</div>"
      ],
      "text/plain": [
       "           id              title          genres original_language  \\\n",
       "126    785521  Battle: Freestyle   Romance-Drama                no   \n",
       "198    785521  Battle: Freestyle   Romance-Drama                no   \n",
       "234    785521  Battle: Freestyle   Romance-Drama                no   \n",
       "13     956101  The Eighth Clause        Thriller                la   \n",
       "15815  841524  The Eighth Clause  Drama-Thriller                es   \n",
       "\n",
       "                                                overview  popularity  \\\n",
       "126    Amalie and Mikael lead their street dance team...     333.723   \n",
       "198    Amalie and Mikael lead their street dance team...     238.540   \n",
       "234    Amalie and Mikael lead their street dance team...     210.928   \n",
       "13     Kat and Borja appear to be a perfect couple bu...    2259.303   \n",
       "15815  Kat and Borja appear to be a perfect couple bu...      10.293   \n",
       "\n",
       "                                    production_companies release_date  budget  \\\n",
       "126                                Friland Produksjon AS   2022-04-01     0.0   \n",
       "198                                Friland Produksjon AS   2022-04-01     0.0   \n",
       "234                                Friland Produksjon AS   2022-04-01     0.0   \n",
       "13                          SDB Films-El Hombre Orquesta   2022-04-29     0.0   \n",
       "15815  SDB Films-El Hombre Orquesta-Expansión Films E...   2022-04-29     0.0   \n",
       "\n",
       "       revenue  runtime    status tagline  vote_average  vote_count  \\\n",
       "126        0.0     88.0  Released     NaN           5.1        28.0   \n",
       "198        0.0     88.0  Released     NaN           5.1        30.0   \n",
       "234        0.0     88.0  Released     NaN           5.1        30.0   \n",
       "13         0.0      0.0  Released     NaN           4.6        10.0   \n",
       "15815      0.0     80.0  Released     NaN           4.2         6.0   \n",
       "\n",
       "                                                 credits  \\\n",
       "126    Lisa Teige-Fabian Svegaard Tapia-Ellen Dorrit ...   \n",
       "198    Lisa Teige-Fabian Svegaard Tapia-Ellen Dorrit ...   \n",
       "234    Lisa Teige-Fabian Svegaard Tapia-Ellen Dorrit ...   \n",
       "13     Maite Perroni-Manuel Vega-Óscar Jaenada-Jessic...   \n",
       "15815  Maite Perroni-Manuel Vega-Óscar Jaenada-Jessic...   \n",
       "\n",
       "                                                keywords  \\\n",
       "126    paris france-based on novel or book-norway-dan...   \n",
       "198    paris france-based on novel or book-norway-dan...   \n",
       "234    paris france-based on novel or book-norway-dan...   \n",
       "13                                                   NaN   \n",
       "15815                                                NaN   \n",
       "\n",
       "                            poster_path                     backdrop_path  \\\n",
       "126    /6D6QumiHEhnpZG12Ibjy2BxA6n4.jpg  /8WpRRiz3qQqzBiifCTm1dW0b6bs.jpg   \n",
       "198    /6D6QumiHEhnpZG12Ibjy2BxA6n4.jpg  /8WpRRiz3qQqzBiifCTm1dW0b6bs.jpg   \n",
       "234    /6D6QumiHEhnpZG12Ibjy2BxA6n4.jpg  /8WpRRiz3qQqzBiifCTm1dW0b6bs.jpg   \n",
       "13     /8tc8eMFAX2SDC1TRu987qFQy8Cl.jpg  /kLnqNE9Af5QHyvUxw8cDGhF1ilv.jpg   \n",
       "15815  /5CbVMeLvaGn87gx05waiIJ0JySr.jpg  /uA0nUh1JerC4TkNiTzwS4B5kjTN.jpg   \n",
       "\n",
       "                                         recommendations  \n",
       "126    818750-790525-800407-739993-946726-682344-9532...  \n",
       "198    818750-790525-800407-739993-946726-682344-9532...  \n",
       "234    818750-790525-800407-739993-946726-682344-9532...  \n",
       "13                                                   NaN  \n",
       "15815                 769636-346651-324542-343674-227970  "
      ]
     },
     "execution_count": 413,
     "metadata": {},
     "output_type": "execute_result"
    }
   ],
   "source": [
    "duplicados = df[df.duplicated(subset=['title', 'release_date'], keep=False)]\n",
    "exemplo = df[df['title'].isin(['The Eighth Clause', 'Battle: Freestyle'])].sort_values(by='title')\n",
    "exemplo.head(10)"
   ]
  },
  {
   "cell_type": "code",
   "execution_count": 414,
   "id": "e49b1e89",
   "metadata": {},
   "outputs": [
    {
     "name": "stdout",
     "output_type": "stream",
     "text": [
      "Registros perdidos com o filtro: 61422\n"
     ]
    }
   ],
   "source": [
    "registros_antes = len(df)\n",
    "df = df.drop_duplicates(subset=['title', 'release_date'])\n",
    "registros_depois = len(df)\n",
    "print(f\"Registros perdidos com o filtro: {registros_antes - registros_depois}\")"
   ]
  },
  {
   "cell_type": "code",
   "execution_count": 415,
   "id": "95084153",
   "metadata": {},
   "outputs": [
    {
     "data": {
      "text/html": [
       "<div>\n",
       "<style scoped>\n",
       "    .dataframe tbody tr th:only-of-type {\n",
       "        vertical-align: middle;\n",
       "    }\n",
       "\n",
       "    .dataframe tbody tr th {\n",
       "        vertical-align: top;\n",
       "    }\n",
       "\n",
       "    .dataframe thead th {\n",
       "        text-align: right;\n",
       "    }\n",
       "</style>\n",
       "<table border=\"1\" class=\"dataframe\">\n",
       "  <thead>\n",
       "    <tr style=\"text-align: right;\">\n",
       "      <th></th>\n",
       "      <th>id</th>\n",
       "      <th>title</th>\n",
       "      <th>genres</th>\n",
       "      <th>original_language</th>\n",
       "      <th>overview</th>\n",
       "      <th>popularity</th>\n",
       "      <th>production_companies</th>\n",
       "      <th>release_date</th>\n",
       "      <th>budget</th>\n",
       "      <th>revenue</th>\n",
       "      <th>runtime</th>\n",
       "      <th>status</th>\n",
       "      <th>tagline</th>\n",
       "      <th>vote_average</th>\n",
       "      <th>vote_count</th>\n",
       "      <th>credits</th>\n",
       "      <th>keywords</th>\n",
       "      <th>poster_path</th>\n",
       "      <th>backdrop_path</th>\n",
       "      <th>recommendations</th>\n",
       "    </tr>\n",
       "  </thead>\n",
       "  <tbody>\n",
       "    <tr>\n",
       "      <th>126</th>\n",
       "      <td>785521</td>\n",
       "      <td>Battle: Freestyle</td>\n",
       "      <td>Romance-Drama</td>\n",
       "      <td>no</td>\n",
       "      <td>Amalie and Mikael lead their street dance team...</td>\n",
       "      <td>333.723</td>\n",
       "      <td>Friland Produksjon AS</td>\n",
       "      <td>2022-04-01</td>\n",
       "      <td>0.0</td>\n",
       "      <td>0.0</td>\n",
       "      <td>88.0</td>\n",
       "      <td>Released</td>\n",
       "      <td>NaN</td>\n",
       "      <td>5.1</td>\n",
       "      <td>28.0</td>\n",
       "      <td>Lisa Teige-Fabian Svegaard Tapia-Ellen Dorrit ...</td>\n",
       "      <td>paris france-based on novel or book-norway-dan...</td>\n",
       "      <td>/6D6QumiHEhnpZG12Ibjy2BxA6n4.jpg</td>\n",
       "      <td>/8WpRRiz3qQqzBiifCTm1dW0b6bs.jpg</td>\n",
       "      <td>818750-790525-800407-739993-946726-682344-9532...</td>\n",
       "    </tr>\n",
       "    <tr>\n",
       "      <th>13</th>\n",
       "      <td>956101</td>\n",
       "      <td>The Eighth Clause</td>\n",
       "      <td>Thriller</td>\n",
       "      <td>la</td>\n",
       "      <td>Kat and Borja appear to be a perfect couple bu...</td>\n",
       "      <td>2259.303</td>\n",
       "      <td>SDB Films-El Hombre Orquesta</td>\n",
       "      <td>2022-04-29</td>\n",
       "      <td>0.0</td>\n",
       "      <td>0.0</td>\n",
       "      <td>0.0</td>\n",
       "      <td>Released</td>\n",
       "      <td>NaN</td>\n",
       "      <td>4.6</td>\n",
       "      <td>10.0</td>\n",
       "      <td>Maite Perroni-Manuel Vega-Óscar Jaenada-Jessic...</td>\n",
       "      <td>NaN</td>\n",
       "      <td>/8tc8eMFAX2SDC1TRu987qFQy8Cl.jpg</td>\n",
       "      <td>/kLnqNE9Af5QHyvUxw8cDGhF1ilv.jpg</td>\n",
       "      <td>NaN</td>\n",
       "    </tr>\n",
       "  </tbody>\n",
       "</table>\n",
       "</div>"
      ],
      "text/plain": [
       "         id              title         genres original_language  \\\n",
       "126  785521  Battle: Freestyle  Romance-Drama                no   \n",
       "13   956101  The Eighth Clause       Thriller                la   \n",
       "\n",
       "                                              overview  popularity  \\\n",
       "126  Amalie and Mikael lead their street dance team...     333.723   \n",
       "13   Kat and Borja appear to be a perfect couple bu...    2259.303   \n",
       "\n",
       "             production_companies release_date  budget  revenue  runtime  \\\n",
       "126         Friland Produksjon AS   2022-04-01     0.0      0.0     88.0   \n",
       "13   SDB Films-El Hombre Orquesta   2022-04-29     0.0      0.0      0.0   \n",
       "\n",
       "       status tagline  vote_average  vote_count  \\\n",
       "126  Released     NaN           5.1        28.0   \n",
       "13   Released     NaN           4.6        10.0   \n",
       "\n",
       "                                               credits  \\\n",
       "126  Lisa Teige-Fabian Svegaard Tapia-Ellen Dorrit ...   \n",
       "13   Maite Perroni-Manuel Vega-Óscar Jaenada-Jessic...   \n",
       "\n",
       "                                              keywords  \\\n",
       "126  paris france-based on novel or book-norway-dan...   \n",
       "13                                                 NaN   \n",
       "\n",
       "                          poster_path                     backdrop_path  \\\n",
       "126  /6D6QumiHEhnpZG12Ibjy2BxA6n4.jpg  /8WpRRiz3qQqzBiifCTm1dW0b6bs.jpg   \n",
       "13   /8tc8eMFAX2SDC1TRu987qFQy8Cl.jpg  /kLnqNE9Af5QHyvUxw8cDGhF1ilv.jpg   \n",
       "\n",
       "                                       recommendations  \n",
       "126  818750-790525-800407-739993-946726-682344-9532...  \n",
       "13                                                 NaN  "
      ]
     },
     "execution_count": 415,
     "metadata": {},
     "output_type": "execute_result"
    }
   ],
   "source": [
    "exemplo = df[df['title'].isin(['The Eighth Clause', 'Battle: Freestyle'])].sort_values(by='title')\n",
    "exemplo.head()"
   ]
  },
  {
   "cell_type": "markdown",
   "id": "648c9126",
   "metadata": {},
   "source": [
    "## Budget > 0\n",
    "Filmes com budget igual a 0 ou negativo, representam inconssitência com as informações, trazendo erros para a analise"
   ]
  },
  {
   "cell_type": "code",
   "execution_count": 416,
   "id": "8e6b4bf8",
   "metadata": {},
   "outputs": [
    {
     "name": "stdout",
     "output_type": "stream",
     "text": [
      "Registros perdidos com o filtro: 622512\n"
     ]
    }
   ],
   "source": [
    "registros_antes = len(df)\n",
    "df = df[df['budget'] > 0]\n",
    "registros_depois = len(df)\n",
    "print(f\"Registros perdidos com o filtro: {registros_antes - registros_depois}\")\n"
   ]
  },
  {
   "cell_type": "markdown",
   "id": "d3c05d65",
   "metadata": {},
   "source": [
    "## Runtime > 70\n",
    "Filmes com runtime menores que 70 não são considerados longa-metragem, que é nosso foco"
   ]
  },
  {
   "cell_type": "code",
   "execution_count": 417,
   "id": "b3beb595",
   "metadata": {},
   "outputs": [
    {
     "name": "stdout",
     "output_type": "stream",
     "text": [
      "Registros perdidos com o filtro: 12383\n"
     ]
    }
   ],
   "source": [
    "registros_antes = len(df)\n",
    "df = df[df['runtime'] > 70]\n",
    "registros_depois = len(df)\n",
    "print(f\"Registros perdidos com o filtro: {registros_antes - registros_depois}\")"
   ]
  },
  {
   "cell_type": "markdown",
   "id": "8d6f2be8",
   "metadata": {},
   "source": [
    "## Vote_count > 30\n",
    "Filmes com poucos votos, podem levantar erros estatisticos sobre a analise dos filmes, pois o target 'vote_average' poderá ficar enviesado"
   ]
  },
  {
   "cell_type": "code",
   "execution_count": 418,
   "id": "617754be",
   "metadata": {},
   "outputs": [
    {
     "name": "stdout",
     "output_type": "stream",
     "text": [
      "Registros perdidos com o filtro: 9956\n"
     ]
    }
   ],
   "source": [
    "registros_antes = len(df)\n",
    "df = df[df['vote_count'] > 30]\n",
    "registros_depois = len(df)\n",
    "print(f\"Registros perdidos com o filtro: {registros_antes - registros_depois}\")"
   ]
  },
  {
   "cell_type": "markdown",
   "id": "c4f3e852",
   "metadata": {},
   "source": [
    "## Removendo colunas que não serão utilizadas na análise\n",
    "- Title -> não usaremos processamento textual\n",
    "- Overview -> não usaremos processamento textual\n",
    "- Production Companies -> Vale com o One Hot Encoding? \n",
    "- Revenue -> Vazamento de dados.\n",
    "- Status -> registro unico agr, ent inutil\n",
    "- Tagline -> não usaremos processamento textual e 85% dos registros são NaN\n",
    "- vote_avarege -> TARGET \n",
    "- vote_count -> vazamento de dados.\n",
    "- Credits -> Vale com o One Hot Encoding?\n",
    "- Keywords -> não usaremos processamento textual e 71% dos registros são NaN\n",
    "- Poster_path e Backdrop_path -> não faz sentido para a análise\n",
    "- Recommendations -> não faz sentido para a análise, 95% dos valores são NaN, vazamento de dados"
   ]
  },
  {
   "cell_type": "code",
   "execution_count": 419,
   "id": "b1778c42",
   "metadata": {},
   "outputs": [
    {
     "name": "stdout",
     "output_type": "stream",
     "text": [
      "Colunas que serão utilizadas na análise:\n",
      "Index(['genres', 'original_language', 'popularity', 'production_companies',\n",
      "       'release_date', 'budget', 'runtime', 'vote_average', 'vote_count'],\n",
      "      dtype='object')\n"
     ]
    }
   ],
   "source": [
    "df = df.drop(columns=[\n",
    "    'id','title', 'overview', 'revenue', 'status', 'tagline', \n",
    "    'poster_path', 'backdrop_path', 'recommendations', 'keywords',\n",
    "    'credits'\n",
    "])\n",
    "\n",
    "# Colunas que serão utilizadas na análise\n",
    "print(\"Colunas que serão utilizadas na análise:\")\n",
    "print(df.columns)"
   ]
  },
  {
   "cell_type": "markdown",
   "id": "30bc7ad6",
   "metadata": {},
   "source": [
    "## Limpando todos os valores nulos"
   ]
  },
  {
   "cell_type": "code",
   "execution_count": 420,
   "id": "dfe5abce",
   "metadata": {},
   "outputs": [
    {
     "name": "stdout",
     "output_type": "stream",
     "text": [
      "Registros perdidos com o filtro: 231\n"
     ]
    }
   ],
   "source": [
    "registros_antes = len(df)\n",
    "df = df.dropna()\n",
    "registros_depois = len(df)\n",
    "print(f\"Registros perdidos com o filtro: {registros_antes - registros_depois}\")"
   ]
  },
  {
   "cell_type": "markdown",
   "id": "0e141adc",
   "metadata": {},
   "source": [
    "# Ajustando colunas "
   ]
  },
  {
   "cell_type": "code",
   "execution_count": 421,
   "id": "d53a61a2",
   "metadata": {},
   "outputs": [],
   "source": [
    "def multi_hot_top_n(df, col, top_n=19):\n",
    "    # Flatten todas as listas para contar os mais frequentes\n",
    "    all_values = [item for sublist in df[col] for item in sublist]\n",
    "    top = pd.Series(all_values).value_counts().nlargest(top_n).index.tolist()\n",
    "\n",
    "    # Substitui os que não estão no top por 'Outros'\n",
    "    def filter_top(vals):\n",
    "        return [v.strip() if v.strip() in top else 'Outros' for v in vals]\n",
    "\n",
    "    filtered = df[col].apply(filter_top)\n",
    "\n",
    "    mlb = MultiLabelBinarizer()\n",
    "    result = pd.DataFrame(mlb.fit_transform(filtered), columns=mlb.classes_, index=df.index)\n",
    "\n",
    "    return result"
   ]
  },
  {
   "cell_type": "markdown",
   "id": "325262f0",
   "metadata": {},
   "source": [
    "## Data de lançamento\n",
    "- Transformando em duas colunas, uma responsável pelo ano de lançamento e outra pelo mês de lançamento"
   ]
  },
  {
   "cell_type": "code",
   "execution_count": 422,
   "id": "6ce494f1",
   "metadata": {},
   "outputs": [],
   "source": [
    "# Tratando a data\n",
    "df['release_date'] = pd.to_datetime(df['release_date'], errors='coerce')\n",
    "df['release_year'] = df['release_date'].dt.year\n",
    "df['release_month'] = df['release_date'].dt.month\n",
    "df.drop(columns=['release_date'], inplace=True)"
   ]
  },
  {
   "cell_type": "markdown",
   "id": "38e779f7",
   "metadata": {},
   "source": [
    "## Generos cinematográficos "
   ]
  },
  {
   "cell_type": "code",
   "execution_count": 423,
   "id": "1eef31b6",
   "metadata": {},
   "outputs": [
    {
     "name": "stdout",
     "output_type": "stream",
     "text": [
      "Drama              4833\n",
      "Comedy             3574\n",
      "Thriller           2799\n",
      "Action             2720\n",
      "Outros             2215\n",
      "Romance            1783\n",
      "Adventure          1734\n",
      "Horror             1632\n",
      "Crime              1630\n",
      "Science Fiction    1254\n",
      "Fantasy            1022\n",
      "Family              967\n",
      "Mystery             920\n",
      "dtype: int64\n",
      "\n",
      "Total de gêneros únicos: 13\n"
     ]
    }
   ],
   "source": [
    "df['genres'] = df['genres'].apply(lambda x: x.split('-'))\n",
    "contagem = Counter([genero for sublist in df['genres'] for genero in sublist])\n",
    "\n",
    "generos_raros = [g for g, count in contagem.items() if count < 900]\n",
    "\n",
    "def substituir_raros(lista):\n",
    "    return [g if g not in generos_raros else 'Outros' for g in lista]\n",
    "\n",
    "df['genres'] = df['genres'].apply(substituir_raros)\n",
    "\n",
    "# Reconta os gêneros agora que os raros foram substituídos por \"Outros\"\n",
    "contagem_atualizada = Counter([genero for lista in df['genres'] for genero in lista])\n",
    "\n",
    "# Converte para Series para ordenar e visualizar melhor\n",
    "genero_series = pd.Series(contagem_atualizada).sort_values(ascending=False)\n",
    "\n",
    "# Exibe o resultado\n",
    "print(genero_series)\n",
    "print(f\"\\nTotal de gêneros únicos: {len(genero_series)}\")\n",
    "# SMOTE?\n",
    "# SMOTE-EEN?"
   ]
  },
  {
   "cell_type": "code",
   "execution_count": 424,
   "id": "175b8b2c",
   "metadata": {},
   "outputs": [],
   "source": [
    "genres_encoded = multi_hot_top_n(df, 'genres', top_n=19)"
   ]
  },
  {
   "cell_type": "code",
   "execution_count": 425,
   "id": "7588b068",
   "metadata": {},
   "outputs": [],
   "source": [
    "df= pd.concat([df.drop(['genres'], axis=1),\n",
    "                genres_encoded], axis=1)"
   ]
  },
  {
   "cell_type": "markdown",
   "id": "d43be3cd",
   "metadata": {},
   "source": [
    "## Ajustando coluna da production_companies"
   ]
  },
  {
   "cell_type": "code",
   "execution_count": 426,
   "id": "72a051a7",
   "metadata": {},
   "outputs": [
    {
     "name": "stdout",
     "output_type": "stream",
     "text": [
      "production_companies\n",
      "Warner Bros. Pictures        629\n",
      "Universal Pictures           621\n",
      "20th Century Fox             469\n",
      "Columbia Pictures            466\n",
      "Paramount                    454\n",
      "Goldwyn                      336\n",
      "Metro                        333\n",
      "Mayer                        323\n",
      "New Line Cinema              245\n",
      "Canal+                       232\n",
      "Walt Disney Pictures         204\n",
      "United Artists               172\n",
      "Lionsgate                    165\n",
      "Miramax                      164\n",
      "Touchstone Pictures          160\n",
      "StudioCanal                  142\n",
      "TriStar Pictures             127\n",
      "Relativity Media             126\n",
      "DreamWorks Pictures          119\n",
      "Village Roadshow Pictures    104\n",
      "Name: count, dtype: int64\n",
      "11602\n"
     ]
    }
   ],
   "source": [
    "teste = df['production_companies'].apply(lambda x: x.split('-')).copy()\n",
    "teste = teste.explode().reset_index(drop=True)\n",
    "production_companies_counts = teste.value_counts() # Apply value_counts directly to the Series\n",
    "print(production_companies_counts.head(20))\n",
    "print(len(production_companies_counts))"
   ]
  },
  {
   "cell_type": "code",
   "execution_count": 427,
   "id": "8b65921f",
   "metadata": {},
   "outputs": [],
   "source": [
    "companies_encoded = multi_hot_top_n(df, 'production_companies', top_n=10)"
   ]
  },
  {
   "cell_type": "code",
   "execution_count": 428,
   "id": "ea2e7c04",
   "metadata": {},
   "outputs": [],
   "source": [
    "df= pd.concat([df.drop(['production_companies'], axis=1),\n",
    "                companies_encoded], axis=1)"
   ]
  },
  {
   "cell_type": "markdown",
   "id": "43d6caf3",
   "metadata": {},
   "source": [
    "## Transformando gêneros em variáveis numéricas e adicionando zscore "
   ]
  },
  {
   "cell_type": "code",
   "execution_count": 429,
   "id": "28899233",
   "metadata": {},
   "outputs": [
    {
     "data": {
      "text/plain": [
       "Index(['original_language', 'popularity', 'budget', 'runtime', 'vote_average',\n",
       "       'vote_count', 'release_year', 'release_month', 'Action', 'Adventure',\n",
       "       'Comedy', 'Crime', 'Drama', 'Family', 'Fantasy', 'Horror', 'Mystery',\n",
       "       'Outros', 'Romance', 'Science Fiction', 'Thriller'],\n",
       "      dtype='object')"
      ]
     },
     "metadata": {},
     "output_type": "display_data"
    }
   ],
   "source": [
    "# 1. Remover colunas indesejadas\n",
    "colunas_ruins = ['-', 'a', 'e', 'i', 'n', 'o', 'r', 's', 't']\n",
    "df = df.drop(columns=colunas_ruins, errors='ignore')\n",
    "\n",
    "# 2. Remover colunas duplicadas (ex: duas \"Outros\")\n",
    "df = df.loc[:, ~df.columns.duplicated()]\n",
    "\n",
    "# 3. Definir colunas numéricas (incluindo gêneros one-hot)\n",
    "features_numericas = [\n",
    "    'popularity', 'budget', 'runtime', 'vote_average'\n",
    "]\n",
    "\n",
    "df['budget'] = df['budget'].apply(lambda x: np.log1p(x))\n",
    "df['vote_count'] = np.log1p(df['vote_count'])\n",
    "display(df.columns)\n",
    "\n",
    "# 4. Aplicar z-score e filtrar outliers\n",
    "df_z = df[features_numericas].apply(zscore)\n",
    "df = df[(df_z.abs() < 3).all(axis=1)]\n",
    "\n",
    "\n"
   ]
  },
  {
   "cell_type": "code",
   "execution_count": 430,
   "id": "d079bb8b",
   "metadata": {},
   "outputs": [
    {
     "name": "stdout",
     "output_type": "stream",
     "text": [
      "Index(['popularity', 'budget', 'runtime', 'vote_average', 'vote_count',\n",
      "       'release_year', 'release_month', 'Action', 'Adventure', 'Comedy',\n",
      "       'Crime', 'Drama', 'Family', 'Fantasy', 'Horror', 'Mystery', 'Outros',\n",
      "       'Romance', 'Science Fiction', 'Thriller', 'continent_Africa',\n",
      "       'continent_America_do_Norte', 'continent_Asia', 'continent_Europa',\n",
      "       'continent_Outros'],\n",
      "      dtype='object')\n"
     ]
    }
   ],
   "source": [
    "idioma_para_continente = {\n",
    "    # América do Norte\n",
    "    'en': 'America_do_Norte',\n",
    "\n",
    "    # Ásia\n",
    "    'ko': 'Asia',\n",
    "    'cn': 'Asia', # Chinês (Simplificado/Mandarin)\n",
    "    'hi': 'Asia', # Hindi\n",
    "    'ja': 'Asia', # Japonês\n",
    "    'zh': 'Asia', # Chinês (Genérico/Variedades)\n",
    "    'te': 'Asia', # Telugu\n",
    "    'ar': 'Asia', # Árabe (Também África)\n",
    "    'ml': 'Asia', # Malayalam\n",
    "    'kn': 'Asia', # Kannada\n",
    "    'ta': 'Asia', # Tamil\n",
    "    'km': 'Asia', # Khmer\n",
    "    'he': 'Asia', # Hebraico\n",
    "    'bn': 'Asia', # Bengali\n",
    "    'ms': 'Asia', # Malaio\n",
    "    'bo': 'Asia', # Tibetano\n",
    "    'kk': 'Asia', # Cazaque (Também Europa)\n",
    "    'ka': 'Asia', # Georgiano (Também Europa)\n",
    "    'ku': 'Asia', # Curdo (Também Europa)\n",
    "    'ur': 'Asia', # Urdu\n",
    "    'ps': 'Asia', # Pashto\n",
    "    'mr': 'Asia', # Marathi\n",
    "    'lo': 'Asia', # Laosiano\n",
    "    'ne': 'Asia', # Nepalês\n",
    "\n",
    "\n",
    "    # Europa\n",
    "    'es': 'Europa', # Espanhol (Também Américas)\n",
    "    'no': 'Europa', # Norueguês\n",
    "    'fi': 'Europa', # Finlandês\n",
    "    'ru': 'Europa', # Russo (Também Ásia)\n",
    "    'uk': 'Europa', # Ucraniano\n",
    "    'nl': 'Europa', # Holandês\n",
    "    'it': 'Europa', # Italiano\n",
    "    'fr': 'Europa', # Francês (Também Américas, África)\n",
    "    'pl': 'Europa', # Polonês\n",
    "    'pt': 'Europa', # Português (Também Américas, África)\n",
    "    'de': 'Europa', # Alemão\n",
    "    'ro': 'Europa', # Romeno\n",
    "    'sr': 'Europa', # Sérvio\n",
    "    'sv': 'Europa', # Sueco\n",
    "    'gl': 'Europa', # Galego\n",
    "    'tr': 'Europa', # Turco (Também Ásia)\n",
    "    'cs': 'Europa', # Tcheco\n",
    "    'el': 'Europa', # Grego\n",
    "    'ga': 'Europa', # Irlandês\n",
    "    'mk': 'Europa', # Macedônio\n",
    "    'sh': 'Europa', # Sérvio-Croata\n",
    "    'hu': 'Europa', # Húngaro\n",
    "    'eu': 'Europa', # Basco\n",
    "    'lv': 'Europa', # Letão\n",
    "    'sk': 'Europa', # Eslovaco\n",
    "    'et': 'Europa', # Estoniano\n",
    "    'hy': 'Europa', # Armênio (Também Ásia)\n",
    "    'sq': 'Europa', # Albanês\n",
    "    'se': 'Europa', # Sami Setentrional\n",
    "    'sl': 'Europa', # Esloveno\n",
    "    'cy': 'Europa', # Galês\n",
    "    'lt': 'Europa', # Lituano\n",
    "    'hr': 'Europa', # Croata\n",
    "    'bg': 'Europa', # Búlgaro\n",
    "    'yi': 'Europa', # Iídiche\n",
    "    'eo': 'Europa', # Esperanto\n",
    "    'nb': 'Europa', # Bokmål Norueguês\n",
    "\n",
    "\n",
    "    # África\n",
    "    'sw': 'Africa', # Suaíli\n",
    "    'af': 'Africa', # Africâner\n",
    "    'am': 'Africa', # Amárico\n",
    "    'zu': 'Africa', # Zulu\n",
    "    'xh': 'Africa', # Xhosa\n",
    "    'wo': 'Africa', # Uolofe\n",
    "    'bm': 'Africa', # Bambara\n",
    "\n",
    "\n",
    "    # América do Sul\n",
    "    'qu': 'America_do_Sul', # Quechua\n",
    "    'ay': 'America_do_Sul', # Aimará\n",
    "\n",
    "\n",
    "    # Oceania\n",
    "    'mi': 'Oceania', # Maori\n",
    "\n",
    "\n",
    "    # Outros / Desconhecido / Códigos Especiais\n",
    "    'id': 'Asia',   # Indonésio (Geralmente Ásia, mas para simplificar, pode agrupar)\n",
    "    'is': 'Europa',   # Islandês (Europa, mas pode ser um grupo separado se for muito raro)\n",
    "    'tl': 'Asia',   # Tagalo (Filipino) (Ásia, mas pode agrupar)\n",
    "    'dz': 'Asia',   # Dzongkha (Ásia, Butão)\n",
    "    'xx': 'Outros',   # Sem linguagem / Linguagem desconhecida (Código especial)\n",
    "    'la': 'Outros',   # Latim (Histórico)\n",
    "    'vi': 'Asia',   # Vietnamita (Ásia, mas pode agrupar)\n",
    "    'bs': 'Europa',   # Bósnio (Europa, mas pode agrupar)\n",
    "    'iu': 'America_do_Norte',   # Inuktitut (América do Norte, Ártico)\n",
    "    'pa': 'Asia',   # Punjabi (Ásia, mas pode agrupar)\n",
    "    'th': 'Asia', # Tailandês (Ásia, mas para manter consistência com Ásia acima)\n",
    "\n",
    "    # Adicionar os idiomas restantes que não foram listados explicitamente acima\n",
    "    # ...\n",
    "}\n",
    "\n",
    "df['continent'] = df['original_language'].map(idioma_para_continente)\n",
    "df['continent'] = df['continent'].fillna('Outros')\n",
    "continent_encoded = pd.get_dummies(df['continent'], prefix='continent')\n",
    "\n",
    "df = pd.concat([df.drop(columns=['continent', 'original_language'], errors='ignore'), continent_encoded], axis=1)\n",
    "\n",
    "# Adicione ao features_numericas:\n",
    "features_numericas += [col for col in continent_encoded.columns if col not in features_numericas]\n",
    "print(df.columns)"
   ]
  },
  {
   "cell_type": "markdown",
   "id": "552a1f8c",
   "metadata": {},
   "source": [
    "## Escala Logaritmica no budget"
   ]
  },
  {
   "cell_type": "code",
   "execution_count": 431,
   "id": "f87b7b60",
   "metadata": {},
   "outputs": [
    {
     "name": "stdout",
     "output_type": "stream",
     "text": [
      "Amostras antes: 10231 - Amostras depois: 8666\n"
     ]
    }
   ],
   "source": [
    "def remove_outliers_iqr(df, columns):\n",
    "    df_clean = df.copy()\n",
    "    for col in columns:\n",
    "        Q1 = df_clean[col].quantile(0.25)\n",
    "        Q3 = df_clean[col].quantile(0.75)\n",
    "        IQR = Q3 - Q1\n",
    "        lower_bound = Q1 - 1.5 * IQR\n",
    "        upper_bound = Q3 + 1.5 * IQR\n",
    "        df_clean = df_clean[(df_clean[col] >= lower_bound) & (df_clean[col] <= upper_bound)]\n",
    "    return df_clean\n",
    "\n",
    "cont_cols = ['popularity', 'budget', 'runtime', 'vote_average', 'vote_count']\n",
    "\n",
    "df_clean = remove_outliers_iqr(df, cont_cols)\n",
    "print(f\"Amostras antes: {len(df)} - Amostras depois: {len(df_clean)}\")"
   ]
  },
  {
   "cell_type": "code",
   "execution_count": 434,
   "id": "7a584bc0",
   "metadata": {},
   "outputs": [
    {
     "name": "stdout",
     "output_type": "stream",
     "text": [
      "Número de componentes PCA escolhidos: 5\n",
      "Silhouette Score médio com PCA: 0.234\n"
     ]
    },
    {
     "data": {
      "image/png": "[encoded data removed]",
      "text/plain": [
       "<Figure size 1000x600 with 1 Axes>"
      ]
     },
     "metadata": {},
     "output_type": "display_data"
    },
    {
     "name": "stdout",
     "output_type": "stream",
     "text": [
      "Index(['popularity', 'budget', 'runtime', 'vote_average', 'vote_count',\n",
      "       'release_year', 'release_month', 'Action', 'Adventure', 'Comedy',\n",
      "       'Crime', 'Drama', 'Family', 'Fantasy', 'Horror', 'Mystery', 'Outros',\n",
      "       'Romance', 'Science Fiction', 'Thriller', 'continent_Africa',\n",
      "       'continent_America_do_Norte', 'continent_Asia', 'continent_Europa',\n",
      "       'continent_Outros'],\n",
      "      dtype='object')\n"
     ]
    }
   ],
   "source": [
    "import numpy as np\n",
    "import pandas as pd\n",
    "import matplotlib.pyplot as plt\n",
    "import matplotlib.cm as cm\n",
    "from sklearn.preprocessing import StandardScaler\n",
    "from sklearn.decomposition import PCA\n",
    "from sklearn.cluster import KMeans\n",
    "from sklearn.metrics import silhouette_samples, silhouette_score\n",
    "\n",
    "# 1. Seleção das colunas\n",
    "features = [\n",
    "    'popularity', 'budget', 'runtime', 'vote_average', 'vote_count',\n",
    "]\n",
    "X = df[features].copy()\n",
    "\n",
    "# 2. Escalonamento\n",
    "scaler = StandardScaler()\n",
    "X_scaled = scaler.fit_transform(X)\n",
    "\n",
    "# 3. PCA (explicando 95% da variância)\n",
    "pca = PCA(n_components=0.95, random_state=42)\n",
    "X_pca = pca.fit_transform(X_scaled)\n",
    "print(f\"Número de componentes PCA escolhidos: {X_pca.shape[1]}\")\n",
    "\n",
    "# 4. KMeans com K=4 (pode testar outros valores também)\n",
    "n_clusters = 4\n",
    "kmeans = KMeans(n_clusters=n_clusters, random_state=42, n_init=100)\n",
    "cluster_labels = kmeans.fit_predict(X_pca)\n",
    "\n",
    "# 5. Silhouette Score\n",
    "silhouette_avg = silhouette_score(X_pca, cluster_labels)\n",
    "print(f\"Silhouette Score médio com PCA: {silhouette_avg:.3f}\")\n",
    "\n",
    "# 6. Gráfico de silhueta\n",
    "sample_silhouette_values = silhouette_samples(X_pca, cluster_labels)\n",
    "\n",
    "fig, ax1 = plt.subplots(figsize=(10, 6))\n",
    "ax1.set_xlim([-0.1, 1])\n",
    "ax1.set_ylim([0, len(X_pca) + (n_clusters + 1) * 10])\n",
    "\n",
    "y_lower = 10\n",
    "for i in range(n_clusters):\n",
    "    ith_cluster_silhouette_values = sample_silhouette_values[cluster_labels == i]\n",
    "    ith_cluster_silhouette_values.sort()\n",
    "\n",
    "    size_cluster_i = ith_cluster_silhouette_values.shape[0]\n",
    "    y_upper = y_lower + size_cluster_i\n",
    "\n",
    "    color = cm.nipy_spectral(float(i) / n_clusters)\n",
    "    ax1.fill_betweenx(\n",
    "        np.arange(y_lower, y_upper),\n",
    "        0,\n",
    "        ith_cluster_silhouette_values,\n",
    "        facecolor=color,\n",
    "        edgecolor=color,\n",
    "        alpha=0.7\n",
    "    )\n",
    "\n",
    "    ax1.text(-0.05, y_lower + 0.5 * size_cluster_i, str(i))\n",
    "    y_lower = y_upper + 10\n",
    "\n",
    "ax1.set_title(\"Gráfico de Silhueta com PCA + KMeans\")\n",
    "ax1.set_xlabel(\"Coeficiente de Silhueta\")\n",
    "ax1.set_ylabel(\"Clusters\")\n",
    "ax1.axvline(x=silhouette_avg, color=\"red\", linestyle=\"--\")\n",
    "ax1.set_yticks([])\n",
    "ax1.set_xticks(np.arange(-0.1, 1.1, 0.2))\n",
    "\n",
    "plt.show()\n",
    "\n",
    "print(df.columns)"
   ]
  },
  {
   "cell_type": "code",
   "execution_count": null,
   "id": "91ed87d2",
   "metadata": {},
   "outputs": [
    {
     "name": "stdout",
     "output_type": "stream",
     "text": [
      "K=2: Silhouette = 0.264\n",
      "K=3: Silhouette = 0.262\n",
      "K=4: Silhouette = 0.233\n",
      "K=5: Silhouette = 0.229\n",
      "K=6: Silhouette = 0.229\n",
      "K=7: Silhouette = 0.215\n",
      "K=8: Silhouette = 0.218\n",
      "K=9: Silhouette = 0.206\n",
      "K=10: Silhouette = 0.196\n",
      "K=11: Silhouette = 0.195\n",
      "K=12: Silhouette = 0.192\n",
      "K=13: Silhouette = 0.190\n",
      "K=14: Silhouette = 0.192\n",
      "K=15: Silhouette = 0.190\n"
     ]
    },
    {
     "data": {
      "image/png": "[encoded data removed]",
      "text/plain": [
       "<Figure size 640x480 with 1 Axes>"
      ]
     },
     "metadata": {},
     "output_type": "display_data"
    }
   ],
   "source": [
    "import matplotlib.pyplot as plt\n",
    "from sklearn.cluster import KMeans\n",
    "from sklearn.metrics import silhouette_score\n",
    "\n",
    "sil_scores = []\n",
    "K_range = range(2, 16)\n",
    "\n",
    "for k in K_range:\n",
    "    kmeans = KMeans(n_clusters=k, random_state=42, n_init=100)\n",
    "    labels = kmeans.fit_predict(X_scaled)\n",
    "    score = silhouette_score(X_scaled, labels)\n",
    "    sil_scores.append(score)\n",
    "    print(f\"K={k}: Silhouette = {score:.3f}\")\n",
    "\n",
    "plt.plot(K_range, sil_scores, marker='o')\n",
    "plt.xlabel(\"Número de Clusters (K)\")\n",
    "plt.ylabel(\"Silhouette Score\")\n",
    "plt.title(\"Escolha do melhor K\")\n",
    "plt.show()\n"
   ]
  }
 ],
 "metadata": {
  "kernelspec": {
   "display_name": "Python 3",
   "language": "python",
   "name": "python3"
  },
  "language_info": {
   "codemirror_mode": {
    "name": "ipython",
    "version": 3
   },
   "file_extension": ".py",
   "mimetype": "text/x-python",
   "name": "python",
   "nbconvert_exporter": "python",
   "pygments_lexer": "ipython3",
   "version": "3.12.2"
  }
 },
 "nbformat": 4,
 "nbformat_minor": 5
}
