{
 "cells": [
  {
   "cell_type": "code",
   "execution_count": 2,
   "id": "1fba99bf",
   "metadata": {},
   "outputs": [],
   "source": [
    "#!pip install scikit-learn\n",
    "#!pip install pandas\n",
    "#!pip install numpy\n",
    "#!pip install shap"
   ]
  },
  {
   "cell_type": "code",
   "execution_count": 2,
   "id": "242a1dd6",
   "metadata": {},
   "outputs": [
    {
     "name": "stderr",
     "output_type": "stream",
     "text": [
      "c:\\Users\\hihi\\Documents\\GitHub\\projeto-pisi3\\.venv\\Lib\\site-packages\\tqdm\\auto.py:21: TqdmWarning: IProgress not found. Please update jupyter and ipywidgets. See https://ipywidgets.readthedocs.io/en/stable/user_install.html\n",
      "  from .autonotebook import tqdm as notebook_tqdm\n"
     ]
    }
   ],
   "source": [
    "import shap\n",
    "\n",
    "import pandas as pd  \n",
    "import numpy as np  \n",
    "\n",
    "# Pré-processamento e pipelines\n",
    "from sklearn.pipeline import Pipeline\n",
    "from sklearn.compose import ColumnTransformer\n",
    "from sklearn.preprocessing import OneHotEncoder, StandardScaler\n",
    "\n",
    "# Modelos de ML\n",
    "from sklearn.neighbors import KNeighborsRegressor\n",
    "from sklearn.svm import SVR\n",
    "\n",
    "# Validação e busca de hiperparâmetros\n",
    "from sklearn.model_selection import train_test_split, KFold, GridSearchCV, cross_val_score\n",
    "\n",
    "# Métricas\n",
    "from sklearn.metrics import mean_squared_error, r2_score"
   ]
  },
  {
   "cell_type": "markdown",
   "id": "b0fc490d",
   "metadata": {},
   "source": [
    "## Carregando o DataSet e tratando as colunas para melhor uso nos modelos\n",
    "- **Conversão da coluna `genres` em lista:** Separou os gêneros em uma lista para permitir a análise individual de cada gênero, facilitando a aplicação de técnicas como one-hot encoding.\n",
    "- **Conversão da data de lançamento:** A coluna `release_date` foi convertida para o formato datetime, permitindo a extração de informações temporais relevantes como ano e mês de lançamento, que podem influenciar o desempenho do filme.\n",
    "- **Explosão da coluna de gêneros:** Cada filme passou a ocupar uma linha para cada gênero associado, enriquecendo a granularidade dos dados e permitindo que modelos captem relações entre gêneros e receita.\n",
    "- **Remoção de colunas desnecessárias:** Foram excluídas colunas como `id`, `title`, `status`, `release_date` e `genres` para evitar ruído e focar apenas nas variáveis relevantes para a modelagem.\n",
    "- **Criação de novas features:** Foram criadas as colunas `release_year` e `release_month`, que podem capturar padrões sazonais ou tendências ao longo do tempo.\n",
    "\n",
    "Essas transformações tornam o dataset mais adequado para algoritmos de ML, facilitando a codificação de variáveis categóricas, normalização de dados e extração de padrões relevantes para previsão de receita."
   ]
  },
  {
   "cell_type": "code",
   "execution_count": 3,
   "id": "048f3d77",
   "metadata": {},
   "outputs": [
    {
     "data": {
      "text/html": [
       "<div>\n",
       "<style scoped>\n",
       "    .dataframe tbody tr th:only-of-type {\n",
       "        vertical-align: middle;\n",
       "    }\n",
       "\n",
       "    .dataframe tbody tr th {\n",
       "        vertical-align: top;\n",
       "    }\n",
       "\n",
       "    .dataframe thead th {\n",
       "        text-align: right;\n",
       "    }\n",
       "</style>\n",
       "<table border=\"1\" class=\"dataframe\">\n",
       "  <thead>\n",
       "    <tr style=\"text-align: right;\">\n",
       "      <th></th>\n",
       "      <th>original_language</th>\n",
       "      <th>popularity</th>\n",
       "      <th>budget</th>\n",
       "      <th>revenue</th>\n",
       "      <th>runtime</th>\n",
       "      <th>vote_average</th>\n",
       "      <th>vote_count</th>\n",
       "      <th>genres_names</th>\n",
       "      <th>release_year</th>\n",
       "      <th>release_month</th>\n",
       "    </tr>\n",
       "  </thead>\n",
       "  <tbody>\n",
       "    <tr>\n",
       "      <th>0</th>\n",
       "      <td>en</td>\n",
       "      <td>8763.998</td>\n",
       "      <td>129000000.0</td>\n",
       "      <td>352056482.0</td>\n",
       "      <td>116.0</td>\n",
       "      <td>7.079</td>\n",
       "      <td>1365.0</td>\n",
       "      <td>Action</td>\n",
       "      <td>2023</td>\n",
       "      <td>8</td>\n",
       "    </tr>\n",
       "    <tr>\n",
       "      <th>1</th>\n",
       "      <td>en</td>\n",
       "      <td>8763.998</td>\n",
       "      <td>129000000.0</td>\n",
       "      <td>352056482.0</td>\n",
       "      <td>116.0</td>\n",
       "      <td>7.079</td>\n",
       "      <td>1365.0</td>\n",
       "      <td>Science Fiction</td>\n",
       "      <td>2023</td>\n",
       "      <td>8</td>\n",
       "    </tr>\n",
       "    <tr>\n",
       "      <th>2</th>\n",
       "      <td>en</td>\n",
       "      <td>8763.998</td>\n",
       "      <td>129000000.0</td>\n",
       "      <td>352056482.0</td>\n",
       "      <td>116.0</td>\n",
       "      <td>7.079</td>\n",
       "      <td>1365.0</td>\n",
       "      <td>Horror</td>\n",
       "      <td>2023</td>\n",
       "      <td>8</td>\n",
       "    </tr>\n",
       "    <tr>\n",
       "      <th>3</th>\n",
       "      <td>en</td>\n",
       "      <td>5953.227</td>\n",
       "      <td>18000000.0</td>\n",
       "      <td>65675816.0</td>\n",
       "      <td>103.0</td>\n",
       "      <td>7.433</td>\n",
       "      <td>545.0</td>\n",
       "      <td>Horror</td>\n",
       "      <td>2023</td>\n",
       "      <td>4</td>\n",
       "    </tr>\n",
       "    <tr>\n",
       "      <th>4</th>\n",
       "      <td>en</td>\n",
       "      <td>5953.227</td>\n",
       "      <td>18000000.0</td>\n",
       "      <td>65675816.0</td>\n",
       "      <td>103.0</td>\n",
       "      <td>7.433</td>\n",
       "      <td>545.0</td>\n",
       "      <td>Mystery</td>\n",
       "      <td>2023</td>\n",
       "      <td>4</td>\n",
       "    </tr>\n",
       "  </tbody>\n",
       "</table>\n",
       "</div>"
      ],
      "text/plain": [
       "  original_language  popularity       budget      revenue  runtime  \\\n",
       "0                en    8763.998  129000000.0  352056482.0    116.0   \n",
       "1                en    8763.998  129000000.0  352056482.0    116.0   \n",
       "2                en    8763.998  129000000.0  352056482.0    116.0   \n",
       "3                en    5953.227   18000000.0   65675816.0    103.0   \n",
       "4                en    5953.227   18000000.0   65675816.0    103.0   \n",
       "\n",
       "   vote_average  vote_count     genres_names  release_year  release_month  \n",
       "0         7.079      1365.0           Action          2023              8  \n",
       "1         7.079      1365.0  Science Fiction          2023              8  \n",
       "2         7.079      1365.0           Horror          2023              8  \n",
       "3         7.433       545.0           Horror          2023              4  \n",
       "4         7.433       545.0          Mystery          2023              4  "
      ]
     },
     "execution_count": 3,
     "metadata": {},
     "output_type": "execute_result"
    }
   ],
   "source": [
    "# Carregar o dataset\n",
    "df = pd.read_csv('filmes_filtrados_sem_nulos.csv')\n",
    "\n",
    "# Converter a coluna 'genres' para uma lista de gêneros\n",
    "df['genres_names'] = df['genres'].apply(lambda x: x.split('-'))\n",
    "\n",
    "# Tratando a data\n",
    "df['release_date'] = pd.to_datetime(df['release_date'], errors='coerce')\n",
    "df['release_year'] = df['release_date'].dt.year\n",
    "df['release_month'] = df['release_date'].dt.month\n",
    "\n",
    "# Explodindo a coluna 'genres_names' para que cada gênero fique em uma linha separada\n",
    "df = df.explode('genres_names').reset_index(drop=True)\n",
    "\n",
    "# Retirando colunas desnecessárias para a análise\n",
    "df = df.drop(columns=['id', 'title', 'status', 'release_date', 'genres'])\n",
    "df.head()\n"
   ]
  },
  {
   "cell_type": "code",
   "execution_count": 4,
   "id": "ba252b98",
   "metadata": {},
   "outputs": [],
   "source": [
    "# Definindo as colunas de features e o target\n",
    "features = ['original_language', 'popularity', 'budget', 'runtime', 'vote_average', 'vote_count', 'genres_names','release_year', 'release_month']\n",
    "features_nominais = ['genres_names', 'original_language']\n",
    "X = df[features]\n",
    "y = df['revenue']\n",
    "# Dividindo o dataset em treino e teste\n",
    "X_train, X_test, y_train, y_test = train_test_split(X, y, test_size=0.3, random_state=87)\n",
    "\n",
    "# Definindo o KFold para o cross-validation\n",
    "kf = KFold(n_splits=5, shuffle=True, random_state=87)"
   ]
  },
  {
   "cell_type": "code",
   "execution_count": 5,
   "id": "bbcaaaa4",
   "metadata": {},
   "outputs": [
    {
     "name": "stdout",
     "output_type": "stream",
     "text": [
      "Melhores parâmetros: {'regressor__n_neighbors': 5, 'regressor__weights': 'distance'}\n",
      "Melhor score (neg MSE): -7029817677680000.0\n"
     ]
    }
   ],
   "source": [
    "# Pipeline para colunas nominais com StandardScaler\n",
    "preprocessor_std = ColumnTransformer(\n",
    "    transformers=[\n",
    "        ('cat', OneHotEncoder(handle_unknown='ignore'), features_nominais),\n",
    "        ('num', StandardScaler(), [col for col in features if col not in features_nominais])\n",
    "    ]\n",
    ")\n",
    "\n",
    "pipeline_std = Pipeline([\n",
    "    ('preprocess', preprocessor_std),\n",
    "    ('regressor', KNeighborsRegressor())\n",
    "])\n",
    "\n",
    "# Parâmetros para GridSearchCV\n",
    "param_grid = {\n",
    "    'regressor__n_neighbors': [3, 5, 7, 9],\n",
    "    'regressor__weights': ['uniform', 'distance']\n",
    "}\n",
    "\n",
    "grid = GridSearchCV(\n",
    "    pipeline_std,\n",
    "    param_grid,\n",
    "    cv=kf,\n",
    "    scoring='neg_mean_squared_error',\n",
    "    n_jobs=-1\n",
    ")\n",
    "\n",
    "grid.fit(X_train, y_train)\n",
    "\n",
    "print(\"Melhores parâmetros:\", grid.best_params_)\n",
    "print(\"Melhor score (neg MSE):\", grid.best_score_)\n"
   ]
  },
  {
   "cell_type": "code",
   "execution_count": 6,
   "id": "22ae5469",
   "metadata": {},
   "outputs": [
    {
     "name": "stdout",
     "output_type": "stream",
     "text": [
      "Melhor parâmetro C: {'regressor__C': 100}\n",
      "Melhor score (neg MSE): -3.704826748368972e+16\n"
     ]
    }
   ],
   "source": [
    "# Pipeline para colunas nominais com StandardScaler e SVM + GridSearchCV para o parâmetro C\n",
    "preprocessor_standard = ColumnTransformer(\n",
    "    transformers=[\n",
    "        ('cat', OneHotEncoder(handle_unknown='ignore'), features_nominais),\n",
    "        ('num', StandardScaler(), [col for col in features if col not in features_nominais])\n",
    "    ]\n",
    ")\n",
    "\n",
    "pipeline_svm = Pipeline([\n",
    "    ('preprocess', preprocessor_standard),\n",
    "    ('regressor', SVR())\n",
    "])\n",
    "\n",
    "# Parâmetros para GridSearchCV (analisando o parâmetro C)\n",
    "param_grid_svm = {\n",
    "    'regressor__C': [0.1, 1, 10, 100]\n",
    "}\n",
    "\n",
    "grid_svm = GridSearchCV(\n",
    "    pipeline_svm,\n",
    "    param_grid_svm,\n",
    "    cv=kf,\n",
    "    scoring='neg_mean_squared_error',\n",
    "    n_jobs=-1\n",
    ")\n",
    "\n",
    "grid_svm.fit(X_train, y_train)\n",
    "\n",
    "print(\"Melhor parâmetro C:\", grid_svm.best_params_)\n",
    "print(\"Melhor score (neg MSE):\", grid_svm.best_score_)"
   ]
  },
  {
   "cell_type": "markdown",
   "id": "71f04808",
   "metadata": {},
   "source": [
    "# Usando de Log nas Features \"budget\" e \"revenue\": \n",
    "O uso da transformação logarítmica nas variáveis \"budget\" e \"revenue\" é uma prática comum em problemas de regressão envolvendo valores financeiros, pois esses dados costumam apresentar grande dispersão e distribuição assimétrica (com muitos valores extremos). Ao aplicar o log, reduzimos o impacto de outliers, aproximamos a distribuição dos dados de uma normal e facilitamos o aprendizado dos modelos de machine learning. Isso pode resultar em previsões mais estáveis e métricas de avaliação mais realistas, além de melhorar a capacidade do modelo de capturar relações proporcionais entre as variáveis."
   ]
  },
  {
   "cell_type": "code",
   "execution_count": 12,
   "id": "41507beb",
   "metadata": {},
   "outputs": [],
   "source": [
    "# Criar uma cópia do dataframe\n",
    "df_log = df.copy()\n",
    "\n",
    "# Aplicar log1p para lidar com valores zero\n",
    "df_log['budget'] = np.log1p(df_log['budget'])\n",
    "\n",
    "# X e y\n",
    "X_log = df_log[features]\n",
    "y = df['revenue'] \n",
    "\n",
    "# Dividir em treino e teste\n",
    "X_train_log, X_test_log, y_train, y_test = train_test_split(X_log, y, test_size=0.3, random_state=87)\n",
    "\n",
    "# Log1p apenas no y_train\n",
    "y_train_log = np.log1p(y_train)"
   ]
  },
  {
   "cell_type": "code",
   "execution_count": 13,
   "id": "fccb4b3b",
   "metadata": {},
   "outputs": [
    {
     "name": "stdout",
     "output_type": "stream",
     "text": [
      "Melhor parâmetro C (log): {'regressor__C': 10}\n",
      "Melhor score (neg MSE, log): -1.9027965957147643\n"
     ]
    }
   ],
   "source": [
    "# Pipeline para colunas nominais com StandardScaler e SVM + GridSearchCV para o parâmetro C, usando dados com log\n",
    "pipeline_svm_log = Pipeline([\n",
    "    ('preprocess', preprocessor_standard),\n",
    "    ('regressor', SVR())\n",
    "])\n",
    "\n",
    "param_grid_svm_log = {\n",
    "    'regressor__C': [0.1, 1, 10, 100]\n",
    "}\n",
    "\n",
    "grid_svm_log = GridSearchCV(\n",
    "    pipeline_svm_log,\n",
    "    param_grid_svm_log,\n",
    "    cv=kf,\n",
    "    scoring='neg_mean_squared_error',\n",
    "    n_jobs=-1\n",
    ")\n",
    "\n",
    "grid_svm_log.fit(X_train_log, y_train_log)\n",
    "\n",
    "print(\"Melhor parâmetro C (log):\", grid_svm_log.best_params_)\n",
    "print(\"Melhor score (neg MSE, log):\", grid_svm_log.best_score_)\n"
   ]
  },
  {
   "cell_type": "code",
   "execution_count": 17,
   "id": "baf58316",
   "metadata": {},
   "outputs": [
    {
     "name": "stdout",
     "output_type": "stream",
     "text": [
      "Melhores parâmetros (KNN log): {'regressor__n_neighbors': 9, 'regressor__weights': 'distance'}\n",
      "Melhor score (neg MSE, KNN log): -2.3056250963677756\n"
     ]
    }
   ],
   "source": [
    "# Pipeline para colunas nominais com StandardScaler e KNN, usando dados com log\n",
    "pipeline_knn_log = Pipeline([\n",
    "    ('preprocess', preprocessor_standard),\n",
    "    ('regressor', KNeighborsRegressor())\n",
    "])\n",
    "\n",
    "param_grid_knn_log = {\n",
    "    'regressor__n_neighbors': [3, 5, 7, 9],\n",
    "    'regressor__weights': ['uniform', 'distance']\n",
    "}\n",
    "\n",
    "grid_knn_log = GridSearchCV(\n",
    "    pipeline_knn_log,\n",
    "    param_grid_knn_log,\n",
    "    cv=kf,\n",
    "    scoring='neg_mean_squared_error',\n",
    "    n_jobs=-1\n",
    ")\n",
    "\n",
    "grid_knn_log.fit(X_train_log, y_train_log)\n",
    "\n",
    "print(\"Melhores parâmetros (KNN log):\", grid_knn_log.best_params_)\n",
    "print(\"Melhor score (neg MSE, KNN log):\", grid_knn_log.best_score_)"
   ]
  },
  {
   "cell_type": "code",
   "execution_count": 18,
   "id": "19c6d30a",
   "metadata": {},
   "outputs": [
    {
     "name": "stdout",
     "output_type": "stream",
     "text": [
      "                         Modelo           MSE        R²\n",
      "0          KNN (StandardScaler)  7.062214e+15  0.797642\n",
      "1          SVM (StandardScaler)  3.941641e+16 -0.129421\n",
      "2  SVM (StandardScaler com log)  7.976347e+15  0.771449\n",
      "3  KNN (StandardScaler com log)  1.041102e+16  0.701687\n"
     ]
    }
   ],
   "source": [
    "modelos = {\n",
    "    'KNN (StandardScaler)': grid,\n",
    "    'SVM (StandardScaler)': grid_svm,\n",
    "    'SVM (StandardScaler com log)': grid_svm_log,\n",
    "    'KNN (StandardScaler com log)': grid_knn_log,\n",
    "}\n",
    "\n",
    "resultados = []\n",
    "\n",
    "for nome, modelo in modelos.items():\n",
    "    if 'com log' in nome:\n",
    "        y_pred_log = modelo.predict(X_test_log)\n",
    "        y_pred = np.expm1(y_pred_log)\n",
    "        mse = mean_squared_error(y_test, y_pred)\n",
    "        r2 = r2_score(y_test, y_pred)\n",
    "    else:\n",
    "        y_pred = modelo.predict(X_test)\n",
    "        mse = mean_squared_error(y_test, y_pred)\n",
    "        r2 = r2_score(y_test, y_pred)\n",
    "    resultados.append({'Modelo': nome, 'MSE': mse, 'R²': r2})\n",
    "\n",
    "resultados_df = pd.DataFrame(resultados)\n",
    "print(resultados_df)\n"
   ]
  },
  {
   "cell_type": "code",
   "execution_count": null,
   "id": "2ee06ce0",
   "metadata": {},
   "outputs": [],
   "source": [
    "# KNN sem log\n",
    "# Define a prediction function for the transformed data\n",
    "def knn_predict(data):\n",
    "    return grid.best_estimator_.named_steps['regressor'].predict(data)\n",
    "\n",
    "# Get the transformed test data\n",
    "X_test_trans = grid.best_estimator_.named_steps['preprocess'].transform(X_test)\n",
    "\n",
    "# Use KernelExplainer for KNN\n",
    "explainer_knn = shap.KernelExplainer(knn_predict, X_test_trans[:10])  # Use a sample for background\n",
    "\n",
    "# Compute SHAP values for a subset (for speed)\n",
    "shap_values_knn = explainer_knn.shap_values(X_test_trans[:10])\n",
    "\n",
    "# Get feature names after preprocessing (for OneHotEncoder, etc.)\n",
    "feature_names = grid.best_estimator_.named_steps['preprocess'].get_feature_names_out()\n",
    "\n",
    "print(\"SHAP summary plot para KNN (StandardScaler):\")\n",
    "# O X_test_trans é uma matriz esparsa (sparse matrix), mas o SHAP aceita tanto dense quanto sparse.\n",
    "# Para garantir que todas as colunas sejam usadas e nomeadas corretamente:\n",
    "shap.summary_plot(shap_values_knn, features=X_test_trans, feature_names=feature_names)"
   ]
  }
 ],
 "metadata": {
  "kernelspec": {
   "display_name": ".venv",
   "language": "python",
   "name": "python3"
  },
  "language_info": {
   "codemirror_mode": {
    "name": "ipython",
    "version": 3
   },
   "file_extension": ".py",
   "mimetype": "text/x-python",
   "name": "python",
   "nbconvert_exporter": "python",
   "pygments_lexer": "ipython3",
   "version": "3.13.3"
  }
 },
 "nbformat": 4,
 "nbformat_minor": 5
}
