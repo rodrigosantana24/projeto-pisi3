{
 "cells": [
  {
   "cell_type": "code",
   "execution_count": 1,
   "id": "1fba99bf",
   "metadata": {},
   "outputs": [],
   "source": [
    "#!pip install scikit-learn\n",
    "#!pip install pandas\n",
    "#!pip install numpy"
   ]
  },
  {
   "cell_type": "code",
   "execution_count": null,
   "id": "242a1dd6",
   "metadata": {},
   "outputs": [],
   "source": [
    "import pandas as pd  \n",
    "\n",
    "# Divisão de dados\n",
    "from sklearn.model_selection import train_test_split"
   ]
  },
  {
   "cell_type": "markdown",
   "id": "b0fc490d",
   "metadata": {},
   "source": [
    "## Carregando o DataSet e tratando as colunas para melhor uso nos modelos\n",
    "- **Conversão da coluna `genres` em lista:** Separou os gêneros em uma lista para permitir a análise individual de cada gênero, facilitando a aplicação de técnicas como one-hot encoding.\n",
    "- **Conversão da data de lançamento:** A coluna `release_date` foi convertida para o formato datetime, permitindo a extração de informações temporais relevantes como ano e mês de lançamento, que podem influenciar o desempenho do filme.\n",
    "- **Explosão da coluna de gêneros:** Cada filme passou a ocupar uma linha para cada gênero associado, enriquecendo a granularidade dos dados e permitindo que modelos captem relações entre gêneros e receita.\n",
    "- **Remoção de colunas desnecessárias:** Foram excluídas colunas como `id`, `title`, `status`, `release_date` e `genres` para evitar ruído e focar apenas nas variáveis relevantes para a modelagem.\n",
    "- **Criação de novas features:** Foram criadas as colunas `release_year` e `release_month`, que podem capturar padrões sazonais ou tendências ao longo do tempo.\n",
    "\n",
    "Essas transformações tornam o dataset mais adequado para algoritmos de ML, facilitando a codificação de variáveis categóricas, normalização de dados e extração de padrões relevantes para previsão de receita."
   ]
  },
  {
   "cell_type": "code",
   "execution_count": 3,
   "id": "048f3d77",
   "metadata": {},
   "outputs": [
    {
     "data": {
      "text/html": [
       "<div>\n",
       "<style scoped>\n",
       "    .dataframe tbody tr th:only-of-type {\n",
       "        vertical-align: middle;\n",
       "    }\n",
       "\n",
       "    .dataframe tbody tr th {\n",
       "        vertical-align: top;\n",
       "    }\n",
       "\n",
       "    .dataframe thead th {\n",
       "        text-align: right;\n",
       "    }\n",
       "</style>\n",
       "<table border=\"1\" class=\"dataframe\">\n",
       "  <thead>\n",
       "    <tr style=\"text-align: right;\">\n",
       "      <th></th>\n",
       "      <th>original_language</th>\n",
       "      <th>popularity</th>\n",
       "      <th>budget</th>\n",
       "      <th>revenue</th>\n",
       "      <th>runtime</th>\n",
       "      <th>vote_average</th>\n",
       "      <th>vote_count</th>\n",
       "      <th>genres_names</th>\n",
       "      <th>release_year</th>\n",
       "      <th>release_month</th>\n",
       "    </tr>\n",
       "  </thead>\n",
       "  <tbody>\n",
       "    <tr>\n",
       "      <th>0</th>\n",
       "      <td>en</td>\n",
       "      <td>8763.998</td>\n",
       "      <td>129000000.0</td>\n",
       "      <td>352056482.0</td>\n",
       "      <td>116.0</td>\n",
       "      <td>7.079</td>\n",
       "      <td>1365.0</td>\n",
       "      <td>Action</td>\n",
       "      <td>2023</td>\n",
       "      <td>8</td>\n",
       "    </tr>\n",
       "    <tr>\n",
       "      <th>1</th>\n",
       "      <td>en</td>\n",
       "      <td>8763.998</td>\n",
       "      <td>129000000.0</td>\n",
       "      <td>352056482.0</td>\n",
       "      <td>116.0</td>\n",
       "      <td>7.079</td>\n",
       "      <td>1365.0</td>\n",
       "      <td>Science Fiction</td>\n",
       "      <td>2023</td>\n",
       "      <td>8</td>\n",
       "    </tr>\n",
       "    <tr>\n",
       "      <th>2</th>\n",
       "      <td>en</td>\n",
       "      <td>8763.998</td>\n",
       "      <td>129000000.0</td>\n",
       "      <td>352056482.0</td>\n",
       "      <td>116.0</td>\n",
       "      <td>7.079</td>\n",
       "      <td>1365.0</td>\n",
       "      <td>Horror</td>\n",
       "      <td>2023</td>\n",
       "      <td>8</td>\n",
       "    </tr>\n",
       "    <tr>\n",
       "      <th>3</th>\n",
       "      <td>en</td>\n",
       "      <td>5953.227</td>\n",
       "      <td>18000000.0</td>\n",
       "      <td>65675816.0</td>\n",
       "      <td>103.0</td>\n",
       "      <td>7.433</td>\n",
       "      <td>545.0</td>\n",
       "      <td>Horror</td>\n",
       "      <td>2023</td>\n",
       "      <td>4</td>\n",
       "    </tr>\n",
       "    <tr>\n",
       "      <th>4</th>\n",
       "      <td>en</td>\n",
       "      <td>5953.227</td>\n",
       "      <td>18000000.0</td>\n",
       "      <td>65675816.0</td>\n",
       "      <td>103.0</td>\n",
       "      <td>7.433</td>\n",
       "      <td>545.0</td>\n",
       "      <td>Mystery</td>\n",
       "      <td>2023</td>\n",
       "      <td>4</td>\n",
       "    </tr>\n",
       "  </tbody>\n",
       "</table>\n",
       "</div>"
      ],
      "text/plain": [
       "  original_language  popularity       budget      revenue  runtime  \\\n",
       "0                en    8763.998  129000000.0  352056482.0    116.0   \n",
       "1                en    8763.998  129000000.0  352056482.0    116.0   \n",
       "2                en    8763.998  129000000.0  352056482.0    116.0   \n",
       "3                en    5953.227   18000000.0   65675816.0    103.0   \n",
       "4                en    5953.227   18000000.0   65675816.0    103.0   \n",
       "\n",
       "   vote_average  vote_count     genres_names  release_year  release_month  \n",
       "0         7.079      1365.0           Action          2023              8  \n",
       "1         7.079      1365.0  Science Fiction          2023              8  \n",
       "2         7.079      1365.0           Horror          2023              8  \n",
       "3         7.433       545.0           Horror          2023              4  \n",
       "4         7.433       545.0          Mystery          2023              4  "
      ]
     },
     "execution_count": 3,
     "metadata": {},
     "output_type": "execute_result"
    }
   ],
   "source": [
    "# Carregar o dataset\n",
    "df = pd.read_csv('filmes_filtrados_sem_nulos.csv')\n",
    "\n",
    "# Converter a coluna 'genres' para uma lista de gêneros\n",
    "df['genres_names'] = df['genres'].apply(lambda x: x.split('-'))\n",
    "\n",
    "# Tratando a data\n",
    "df['release_date'] = pd.to_datetime(df['release_date'], errors='coerce')\n",
    "df['release_year'] = df['release_date'].dt.year\n",
    "df['release_month'] = df['release_date'].dt.month\n",
    "\n",
    "# Explodindo a coluna 'genres_names' para que cada gênero fique em uma linha separada\n",
    "df = df.explode('genres_names').reset_index(drop=True)\n",
    "\n",
    "# Retirando colunas desnecessárias para a análise\n",
    "df = df.drop(columns=['id', 'title', 'status', 'release_date', 'genres'])\n",
    "df.head()\n"
   ]
  },
  {
   "cell_type": "code",
   "execution_count": 4,
   "id": "ba252b98",
   "metadata": {},
   "outputs": [
    {
     "ename": "NameError",
     "evalue": "name 'train_test_split' is not defined",
     "output_type": "error",
     "traceback": [
      "\u001b[31m---------------------------------------------------------------------------\u001b[39m",
      "\u001b[31mNameError\u001b[39m                                 Traceback (most recent call last)",
      "\u001b[36mCell\u001b[39m\u001b[36m \u001b[39m\u001b[32mIn[4]\u001b[39m\u001b[32m, line 7\u001b[39m\n\u001b[32m      5\u001b[39m y = df[\u001b[33m'\u001b[39m\u001b[33mrevenue\u001b[39m\u001b[33m'\u001b[39m]\n\u001b[32m      6\u001b[39m \u001b[38;5;66;03m# Dividindo o dataset em treino e teste\u001b[39;00m\n\u001b[32m----> \u001b[39m\u001b[32m7\u001b[39m X_train, X_test, y_train, y_test = \u001b[43mtrain_test_split\u001b[49m(X, y, test_size=\u001b[32m0.3\u001b[39m, random_state=\u001b[32m87\u001b[39m)\n",
      "\u001b[31mNameError\u001b[39m: name 'train_test_split' is not defined"
     ]
    }
   ],
   "source": [
    "# Definindo as colunas de features e o target\n",
    "features = ['original_language', 'popularity', 'budget', 'runtime', 'vote_average', 'vote_count', 'genres_names','release_year', 'release_month']\n",
    "features_nominais = ['genres_names', 'original_language']\n",
    "X = df[features]\n",
    "y = df['revenue']\n",
    "# Dividindo o dataset em treino e teste\n",
    "X_train, X_test, y_train, y_test = train_test_split(X, y, test_size=0.3, random_state=87)"
   ]
  }
 ],
 "metadata": {
  "kernelspec": {
   "display_name": ".venv",
   "language": "python",
   "name": "python3"
  },
  "language_info": {
   "codemirror_mode": {
    "name": "ipython",
    "version": 3
   },
   "file_extension": ".py",
   "mimetype": "text/x-python",
   "name": "python",
   "nbconvert_exporter": "python",
   "pygments_lexer": "ipython3",
   "version": "3.13.3"
  }
 },
 "nbformat": 4,
 "nbformat_minor": 5
}
